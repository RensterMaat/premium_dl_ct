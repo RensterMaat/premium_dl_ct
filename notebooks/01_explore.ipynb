{
 "cells": [
  {
   "cell_type": "code",
   "execution_count": 33,
   "metadata": {},
   "outputs": [
    {
     "ename": "RuntimeError",
     "evalue": "applying transform <monai.transforms.io.dictionary.LoadImaged object at 0x000001F1D343B9A0>",
     "output_type": "error",
     "traceback": [
      "\u001b[1;31m---------------------------------------------------------------------------\u001b[0m",
      "\u001b[1;31mFileNotFoundError\u001b[0m                         Traceback (most recent call last)",
      "File \u001b[1;32mc:\\Users\\user\\anaconda3\\envs\\rob\\lib\\site-packages\\nibabel\\loadsave.py:90\u001b[0m, in \u001b[0;36mload\u001b[1;34m(filename, **kwargs)\u001b[0m\n\u001b[0;32m     89\u001b[0m \u001b[39mtry\u001b[39;00m:\n\u001b[1;32m---> 90\u001b[0m     stat_result \u001b[39m=\u001b[39m os\u001b[39m.\u001b[39;49mstat(filename)\n\u001b[0;32m     91\u001b[0m \u001b[39mexcept\u001b[39;00m \u001b[39mOSError\u001b[39;00m:\n",
      "\u001b[1;31mFileNotFoundError\u001b[0m: [WinError 3] The system cannot find the path specified: 'D:\\\\premium_data\\\\amphia\\\\scans\\\\split_segmentatio.nii.gz'",
      "\nDuring handling of the above exception, another exception occurred:\n",
      "\u001b[1;31mFileNotFoundError\u001b[0m                         Traceback (most recent call last)",
      "File \u001b[1;32mc:\\Users\\user\\anaconda3\\envs\\rob\\lib\\site-packages\\monai\\transforms\\transform.py:91\u001b[0m, in \u001b[0;36mapply_transform\u001b[1;34m(transform, data, map_items, unpack_items, log_stats)\u001b[0m\n\u001b[0;32m     90\u001b[0m         \u001b[39mreturn\u001b[39;00m [_apply_transform(transform, item, unpack_items) \u001b[39mfor\u001b[39;00m item \u001b[39min\u001b[39;00m data]\n\u001b[1;32m---> 91\u001b[0m     \u001b[39mreturn\u001b[39;00m _apply_transform(transform, data, unpack_items)\n\u001b[0;32m     92\u001b[0m \u001b[39mexcept\u001b[39;00m \u001b[39mException\u001b[39;00m \u001b[39mas\u001b[39;00m e:\n\u001b[0;32m     93\u001b[0m     \u001b[39m# if in debug mode, don't swallow exception so that the breakpoint\u001b[39;00m\n\u001b[0;32m     94\u001b[0m     \u001b[39m# appears where the exception was raised.\u001b[39;00m\n",
      "File \u001b[1;32mc:\\Users\\user\\anaconda3\\envs\\rob\\lib\\site-packages\\monai\\transforms\\transform.py:55\u001b[0m, in \u001b[0;36m_apply_transform\u001b[1;34m(transform, parameters, unpack_parameters)\u001b[0m\n\u001b[0;32m     53\u001b[0m     \u001b[39mreturn\u001b[39;00m transform(\u001b[39m*\u001b[39mparameters)\n\u001b[1;32m---> 55\u001b[0m \u001b[39mreturn\u001b[39;00m transform(parameters)\n",
      "File \u001b[1;32mc:\\Users\\user\\anaconda3\\envs\\rob\\lib\\site-packages\\monai\\transforms\\io\\dictionary.py:154\u001b[0m, in \u001b[0;36mLoadImaged.__call__\u001b[1;34m(self, data, reader)\u001b[0m\n\u001b[0;32m    153\u001b[0m \u001b[39mfor\u001b[39;00m key, meta_key, meta_key_postfix \u001b[39min\u001b[39;00m \u001b[39mself\u001b[39m\u001b[39m.\u001b[39mkey_iterator(d, \u001b[39mself\u001b[39m\u001b[39m.\u001b[39mmeta_keys, \u001b[39mself\u001b[39m\u001b[39m.\u001b[39mmeta_key_postfix):\n\u001b[1;32m--> 154\u001b[0m     data \u001b[39m=\u001b[39m \u001b[39mself\u001b[39;49m\u001b[39m.\u001b[39;49m_loader(d[key], reader)\n\u001b[0;32m    155\u001b[0m     \u001b[39mif\u001b[39;00m \u001b[39mself\u001b[39m\u001b[39m.\u001b[39m_loader\u001b[39m.\u001b[39mimage_only:\n",
      "File \u001b[1;32mc:\\Users\\user\\anaconda3\\envs\\rob\\lib\\site-packages\\monai\\transforms\\io\\array.py:239\u001b[0m, in \u001b[0;36mLoadImage.__call__\u001b[1;34m(self, filename, reader)\u001b[0m\n\u001b[0;32m    238\u001b[0m \u001b[39mif\u001b[39;00m reader\u001b[39m.\u001b[39mverify_suffix(filename):\n\u001b[1;32m--> 239\u001b[0m     img \u001b[39m=\u001b[39m reader\u001b[39m.\u001b[39;49mread(filename)\n\u001b[0;32m    240\u001b[0m     \u001b[39mbreak\u001b[39;00m\n",
      "File \u001b[1;32mc:\\Users\\user\\anaconda3\\envs\\rob\\lib\\site-packages\\monai\\data\\image_reader.py:921\u001b[0m, in \u001b[0;36mNibabelReader.read\u001b[1;34m(self, data, **kwargs)\u001b[0m\n\u001b[0;32m    920\u001b[0m \u001b[39mfor\u001b[39;00m name \u001b[39min\u001b[39;00m filenames:\n\u001b[1;32m--> 921\u001b[0m     img \u001b[39m=\u001b[39m nib\u001b[39m.\u001b[39mload(name, \u001b[39m*\u001b[39m\u001b[39m*\u001b[39mkwargs_)\n\u001b[0;32m    922\u001b[0m     img \u001b[39m=\u001b[39m correct_nifti_header_if_necessary(img)\n",
      "File \u001b[1;32mc:\\Users\\user\\anaconda3\\envs\\rob\\lib\\site-packages\\nibabel\\loadsave.py:92\u001b[0m, in \u001b[0;36mload\u001b[1;34m(filename, **kwargs)\u001b[0m\n\u001b[0;32m     91\u001b[0m \u001b[39mexcept\u001b[39;00m \u001b[39mOSError\u001b[39;00m:\n\u001b[1;32m---> 92\u001b[0m     \u001b[39mraise\u001b[39;00m \u001b[39mFileNotFoundError\u001b[39;00m(\u001b[39mf\u001b[39m\u001b[39m\"\u001b[39m\u001b[39mNo such file or no access: \u001b[39m\u001b[39m'\u001b[39m\u001b[39m{\u001b[39;00mfilename\u001b[39m}\u001b[39;00m\u001b[39m'\u001b[39m\u001b[39m\"\u001b[39m)\n\u001b[0;32m     93\u001b[0m \u001b[39mif\u001b[39;00m stat_result\u001b[39m.\u001b[39mst_size \u001b[39m<\u001b[39m\u001b[39m=\u001b[39m \u001b[39m0\u001b[39m:\n",
      "\u001b[1;31mFileNotFoundError\u001b[0m: No such file or no access: 'D:\\premium_data\\amphia\\scans\\split_segmentatio.nii.gz'",
      "\nThe above exception was the direct cause of the following exception:\n",
      "\u001b[1;31mRuntimeError\u001b[0m                              Traceback (most recent call last)",
      "Cell \u001b[1;32mIn [33], line 49\u001b[0m\n\u001b[0;32m     44\u001b[0m     scan_name \u001b[39m=\u001b[39m segmention_path\u001b[39m.\u001b[39mname\u001b[39m.\u001b[39msplit(\u001b[39m\"\u001b[39m\u001b[39m.\u001b[39m\u001b[39m\"\u001b[39m)[\u001b[39m0\u001b[39m][:\u001b[39m-\u001b[39m\u001b[39m2\u001b[39m] \u001b[39m+\u001b[39m \u001b[39m\"\u001b[39m\u001b[39m.nii.gz\u001b[39m\u001b[39m\"\u001b[39m\n\u001b[0;32m     46\u001b[0m     \u001b[39mreturn\u001b[39;00m scan_folder \u001b[39m/\u001b[39m scan_name\n\u001b[1;32m---> 49\u001b[0m extract_3d_roi(\n\u001b[0;32m     50\u001b[0m     \u001b[39mr\u001b[39;49m\u001b[39m\"\u001b[39;49m\u001b[39mD:\u001b[39;49m\u001b[39m\\\u001b[39;49m\u001b[39mpremium_data\u001b[39;49m\u001b[39m\\\u001b[39;49m\u001b[39mamphia\u001b[39;49m\u001b[39m\\\u001b[39;49m\u001b[39mmonotherapy\u001b[39;49m\u001b[39m\\\u001b[39;49m\u001b[39msplit_segmentations\u001b[39;49m\u001b[39m\"\u001b[39;49m,\n\u001b[0;32m     51\u001b[0m     \u001b[39mr\u001b[39;49m\u001b[39m\"\u001b[39;49m\u001b[39mC:\u001b[39;49m\u001b[39m\\\u001b[39;49m\u001b[39mUsers\u001b[39;49m\u001b[39m\\\u001b[39;49m\u001b[39muser\u001b[39;49m\u001b[39m\\\u001b[39;49m\u001b[39mdata\u001b[39;49m\u001b[39m\\\u001b[39;49m\u001b[39mdl_radiomics\u001b[39;49m\u001b[39m\\\u001b[39;49m\u001b[39mpreprocessed_3d\u001b[39;49m\u001b[39m\"\u001b[39;49m,\n\u001b[0;32m     52\u001b[0m )\n",
      "Cell \u001b[1;32mIn [33], line 35\u001b[0m, in \u001b[0;36mextract_3d_roi\u001b[1;34m(segmentation_path, destination_path, eventual_roi_size, save_size)\u001b[0m\n\u001b[0;32m     32\u001b[0m scan_path \u001b[39m=\u001b[39m find_corresponding_scan(segmentation_path)\n\u001b[0;32m     33\u001b[0m data \u001b[39m=\u001b[39m {\u001b[39m\"\u001b[39m\u001b[39mimg\u001b[39m\u001b[39m\"\u001b[39m: \u001b[39mstr\u001b[39m(scan_path), \u001b[39m\"\u001b[39m\u001b[39mseg\u001b[39m\u001b[39m\"\u001b[39m: \u001b[39mstr\u001b[39m(segmentation_path)}\n\u001b[1;32m---> 35\u001b[0m pipeline(data)\n",
      "File \u001b[1;32mc:\\Users\\user\\anaconda3\\envs\\rob\\lib\\site-packages\\monai\\transforms\\compose.py:174\u001b[0m, in \u001b[0;36mCompose.__call__\u001b[1;34m(self, input_)\u001b[0m\n\u001b[0;32m    172\u001b[0m \u001b[39mdef\u001b[39;00m \u001b[39m__call__\u001b[39m(\u001b[39mself\u001b[39m, input_):\n\u001b[0;32m    173\u001b[0m     \u001b[39mfor\u001b[39;00m _transform \u001b[39min\u001b[39;00m \u001b[39mself\u001b[39m\u001b[39m.\u001b[39mtransforms:\n\u001b[1;32m--> 174\u001b[0m         input_ \u001b[39m=\u001b[39m apply_transform(_transform, input_, \u001b[39mself\u001b[39;49m\u001b[39m.\u001b[39;49mmap_items, \u001b[39mself\u001b[39;49m\u001b[39m.\u001b[39;49munpack_items, \u001b[39mself\u001b[39;49m\u001b[39m.\u001b[39;49mlog_stats)\n\u001b[0;32m    175\u001b[0m     \u001b[39mreturn\u001b[39;00m input_\n",
      "File \u001b[1;32mc:\\Users\\user\\anaconda3\\envs\\rob\\lib\\site-packages\\monai\\transforms\\transform.py:118\u001b[0m, in \u001b[0;36mapply_transform\u001b[1;34m(transform, data, map_items, unpack_items, log_stats)\u001b[0m\n\u001b[0;32m    116\u001b[0m     \u001b[39melse\u001b[39;00m:\n\u001b[0;32m    117\u001b[0m         _log_stats(data\u001b[39m=\u001b[39mdata)\n\u001b[1;32m--> 118\u001b[0m \u001b[39mraise\u001b[39;00m \u001b[39mRuntimeError\u001b[39;00m(\u001b[39mf\u001b[39m\u001b[39m\"\u001b[39m\u001b[39mapplying transform \u001b[39m\u001b[39m{\u001b[39;00mtransform\u001b[39m}\u001b[39;00m\u001b[39m\"\u001b[39m) \u001b[39mfrom\u001b[39;00m \u001b[39me\u001b[39;00m\n",
      "\u001b[1;31mRuntimeError\u001b[0m: applying transform <monai.transforms.io.dictionary.LoadImaged object at 0x000001F1D343B9A0>"
     ]
    }
   ],
   "source": [
    "import numpy as np\n",
    "from pathlib import Path\n",
    "\n",
    "from monai.transforms import (\n",
    "    Compose,\n",
    "    LoadImaged,\n",
    "    AddChanneld,\n",
    "    Resized,\n",
    "    ScaleIntensityRanged,\n",
    ")\n",
    "\n",
    "def extract_3d_roi(\n",
    "    segmentation_path, destination_path, eventual_roi_size=100, save_size=96\n",
    "):\n",
    "    pipeline = Compose(\n",
    "        [\n",
    "            LoadImaged(keys=[\"img\", \"seg\"]),\n",
    "            AddChanneld(keys=[\"img\", \"seg\"]),\n",
    "            FindCentroid(),\n",
    "            GetFixedROISize(eventual_roi_size),\n",
    "            Pad(),\n",
    "            CropToROI(),\n",
    "            Resized(keys=[\"img\"], spatial_size=[int(save_size * np.sqrt(2))] * 3),\n",
    "            ScaleIntensityRanged(\n",
    "                keys=[\"img\"], a_min=-1024, a_max=3000, b_min=0, b_max=1, clip=True\n",
    "            ),\n",
    "            Save(output_dir=destination_path),\n",
    "        ]\n",
    "    )\n",
    "\n",
    "    segmentation_path = Path(segmentation_path)\n",
    "    scan_path = find_corresponding_scan(segmentation_path)\n",
    "    data = {\"img\": str(scan_path), \"seg\": str(segmentation_path)}\n",
    "\n",
    "    pipeline(data)\n",
    "\n",
    "\n",
    "def preprocess_dir(segmentation_dir, destination_dir):\n",
    "    pass\n",
    "\n",
    "\n",
    "def find_corresponding_scan(segmention_path):\n",
    "    scan_folder = segmention_path.parent.parent / \"scans\"\n",
    "    scan_name = segmention_path.name.split(\".\")[0][:-2] + \".nii.gz\"\n",
    "\n",
    "    return scan_folder / scan_name\n",
    "\n",
    "\n",
    "extract_3d_roi(\n",
    "    r\"D:\\premium_data\\amphia\\monotherapy\\split_segmentations\",\n",
    "    r\"C:\\Users\\user\\data\\dl_radiomics\\preprocessed_3d\",\n",
    ")\n"
   ]
  },
  {
   "cell_type": "code",
   "execution_count": 1,
   "metadata": {},
   "outputs": [],
   "source": [
    "\n",
    "r = Path(r'D:/premium_data/')\n",
    "centers = [\n",
    "    'amphia',\n",
    "    'isala',\n",
    "    'lumc',\n",
    "    'maxima',\n",
    "    'mst',\n",
    "    'radboud',\n",
    "    'umcu',\n",
    "    'vumc',\n",
    "    'zuyderland'\n",
    "]\n",
    "\n",
    "path = r / centers[0] / 'monotherapy' / 'split_segmentations'\n",
    "segmentation = list(path.iterdir())[0]"
   ]
  },
  {
   "cell_type": "code",
   "execution_count": 2,
   "metadata": {},
   "outputs": [],
   "source": [
    "# https://github.com/Project-MONAI/tutorials/blob/main/modules/3d_image_transforms.ipynb\n",
    "\n",
    "\n",
    "def extract_3d_roi(scan_path, segmentation_path, destination_path, roi_size):\n",
    "    pass\n",
    "\n",
    "\n",
    "def preprocess_dir(scan_dir, segmentation_dir, destination_dir):\n",
    "    pass\n",
    "\n",
    "\n",
    "def find_corresponding_scan(segmention_path):\n",
    "    scan_folder = segmentation.parent.parent / 'scans'\n",
    "    scan_name = segmentation.name.split('.')[0][:-2] + '.nii.gz'\n",
    "\n",
    "    return scan_folder / scan_name"
   ]
  },
  {
   "cell_type": "code",
   "execution_count": 3,
   "metadata": {},
   "outputs": [],
   "source": [
    "scan = find_corresponding_scan(segmentation)"
   ]
  },
  {
   "cell_type": "code",
   "execution_count": 31,
   "metadata": {},
   "outputs": [
    {
     "name": "stderr",
     "output_type": "stream",
     "text": [
      "c:\\Users\\user\\anaconda3\\envs\\rob\\lib\\site-packages\\monai\\utils\\deprecate_utils.py:107: FutureWarning: <class 'monai.transforms.utility.array.AddChannel'>: Class `AddChannel` has been deprecated since version 0.8. please use MetaTensor data type and monai.transforms.EnsureChannelFirst instead.\n",
      "  warn_deprecated(obj, msg, warning_category)\n"
     ]
    },
    {
     "name": "stdout",
     "output_type": "stream",
     "text": [
      "2022-10-25 13:19:58,379 INFO image_writer.py:193 - writing: C:\\Users\\user\\data\\dl_radiomics\\preprocessed_3d\\PREM_AM_001_0.nii.gz\n"
     ]
    }
   ],
   "source": [
    "import numpy as np\n",
    "from monai.transforms import (\n",
    "    Compose,\n",
    "    LoadImaged,\n",
    "    Transform,\n",
    "    SpatialCrop,\n",
    "    BorderPad,\n",
    "    AddChanneld,\n",
    "    Resized,\n",
    "    ScaleIntensityRanged,\n",
    "    SaveImage\n",
    ")\n",
    "\n",
    "class FindCentroid(Transform):\n",
    "    def __call__(self, data):\n",
    "        seg = data['seg']\n",
    "        centroid = [int(np.mean(coor)) for coor in np.where(seg)][1:]\n",
    "        data['centroid'] = centroid\n",
    "        return data\n",
    "\n",
    "class GetFixedROISize(Transform):\n",
    "    def __init__(self, eventual_size=100):\n",
    "        super().__init__()\n",
    "        self.size = eventual_size * np.sqrt(2)\n",
    "\n",
    "    def __call__(self, data):\n",
    "        assert (data['img'].affine == data['seg'].affine).all()\n",
    "\n",
    "        roi_size = (self.size / data['img'].affine.diag()[:-1]).int()\n",
    "        data['roi_size'] = np.array(roi_size)\n",
    "\n",
    "        return data\n",
    "\n",
    "class Pad(Transform):\n",
    "    def __call__(self, data):\n",
    "        border_size = (np.ceil(data['roi_size'] / 2)).astype(int).tolist()\n",
    "        padder = BorderPad(border_size, value=-1024)\n",
    "        data['img'] = padder(data['img'])\n",
    "        data['centroid'] += np.array(border_size)\n",
    "        return data\n",
    "\n",
    "class CropToROI(Transform):\n",
    "    def __call__(self, data):\n",
    "        cropper = SpatialCrop(\n",
    "            roi_center=data['centroid'],\n",
    "            roi_size=data['roi_size']\n",
    "        )\n",
    "        data['img'] = cropper(data['img'])\n",
    "        data['img'].meta['spatial_shape'] = np.array(data['img'].shape[1:])\n",
    "        data['img'].meta['affine'] = data['img'].meta['affine'] * np.eye(4)\n",
    "        return data\n",
    "\n",
    "class Save(Transform):\n",
    "    def __init__(self, output_dir):\n",
    "        super().__init__()\n",
    "        self.output_dir = output_dir\n",
    "\n",
    "    def __call__(self, data):\n",
    "        postfix = Path(data['seg'].meta['filename_or_obj']).name.split('.')[0][-1:]\n",
    "        saver = SaveImage(\n",
    "            output_dir=self.output_dir,\n",
    "            output_postfix=postfix,\n",
    "            separate_folder=False\n",
    "        )\n",
    "        saver(data['img'])\n",
    "\n",
    "        return data\n",
    "\n",
    "\n",
    "data = {'img':str(scan), 'seg':str(segmentation)}\n",
    "\n",
    "eventual_roi_size = 100\n",
    "save_size = 96\n",
    "\n",
    "preprocess = Compose([\n",
    "    LoadImaged(keys=['img','seg']),\n",
    "    AddChanneld(keys=['img','seg']),\n",
    "    FindCentroid(),\n",
    "    GetFixedROISize(eventual_roi_size),\n",
    "    Pad(),\n",
    "    CropToROI(),\n",
    "    Resized(keys=['img'], spatial_size=[int(save_size*np.sqrt(2))]*3),\n",
    "    ScaleIntensityRanged(keys=['img'], a_min=-1024, a_max=3000, b_min=0, b_max=1, clip=True),\n",
    "    Save(output_dir = r'C:\\Users\\user\\data\\dl_radiomics\\preprocessed_3d')\n",
    "])\n",
    "\n",
    "output = preprocess(data)\n",
    "\n",
    "\n",
    "\n",
    "    "
   ]
  },
  {
   "cell_type": "code",
   "execution_count": 27,
   "metadata": {},
   "outputs": [
    {
     "data": {
      "text/plain": [
       "{'sizeof_hdr': array(348),\n",
       " 'extents': array(0),\n",
       " 'session_error': array(0, dtype=int16),\n",
       " 'dim_info': array(0, dtype=uint8),\n",
       " 'dim': array([  3, 512, 512, 263,   1,   1,   1,   1], dtype=int16),\n",
       " 'intent_p1': array(0., dtype=float32),\n",
       " 'intent_p2': array(0., dtype=float32),\n",
       " 'intent_p3': array(0., dtype=float32),\n",
       " 'intent_code': array(0, dtype=int16),\n",
       " 'datatype': array(4, dtype=int16),\n",
       " 'bitpix': array(16, dtype=int16),\n",
       " 'slice_start': array(0, dtype=int16),\n",
       " 'pixdim': array([1.       , 0.7324219, 0.7324219, 3.       , 1.       , 1.       ,\n",
       "        1.       , 1.       ], dtype=float32),\n",
       " 'vox_offset': array(0., dtype=float32),\n",
       " 'scl_slope': array(nan, dtype=float32),\n",
       " 'scl_inter': array(nan, dtype=float32),\n",
       " 'slice_end': array(0, dtype=int16),\n",
       " 'slice_code': array(0, dtype=uint8),\n",
       " 'xyzt_units': array(0, dtype=uint8),\n",
       " 'cal_max': array(0., dtype=float32),\n",
       " 'cal_min': array(0., dtype=float32),\n",
       " 'slice_duration': array(0., dtype=float32),\n",
       " 'toffset': array(0., dtype=float32),\n",
       " 'glmax': array(0),\n",
       " 'glmin': array(0),\n",
       " 'qform_code': array(0, dtype=int16),\n",
       " 'sform_code': array(2, dtype=int16),\n",
       " 'quatern_b': array(0., dtype=float32),\n",
       " 'quatern_c': array(0., dtype=float32),\n",
       " 'quatern_d': array(0., dtype=float32),\n",
       " 'qoffset_x': array(0., dtype=float32),\n",
       " 'qoffset_y': array(0., dtype=float32),\n",
       " 'qoffset_z': array(0., dtype=float32),\n",
       " 'srow_x': array([0.7324219, 0.       , 0.       , 0.       ], dtype=float32),\n",
       " 'srow_y': array([0.       , 0.7324219, 0.       , 0.       ], dtype=float32),\n",
       " 'srow_z': array([0., 0., 3., 0.], dtype=float32),\n",
       " affine: tensor([[  1.4725,   0.0000,   0.0000,   6.2294],\n",
       "         [  0.0000,   1.4725,   0.0000, 253.0556],\n",
       "         [  0.0000,   0.0000,   1.4688, 272.2344],\n",
       "         [  0.0000,   0.0000,   0.0000,   1.0000]], dtype=torch.float64),\n",
       " original_affine: array([[0.73242188, 0.        , 0.        , 0.        ],\n",
       "        [0.        , 0.73242188, 0.        , 0.        ],\n",
       "        [0.        , 0.        , 3.        , 0.        ],\n",
       "        [0.        , 0.        , 0.        , 1.        ]]),\n",
       " 'as_closest_canonical': False,\n",
       " spatial_shape: array([512, 512, 263], dtype=int16),\n",
       " space: RAS,\n",
       " original_channel_dim: 'no_channel',\n",
       " 'filename_or_obj': 'D:\\\\premium_data\\\\amphia\\\\monotherapy\\\\scans\\\\PREM_AM_001.nii.gz'}"
      ]
     },
     "execution_count": 27,
     "metadata": {},
     "output_type": "execute_result"
    }
   ],
   "source": [
    "output['img'].meta"
   ]
  },
  {
   "cell_type": "code",
   "execution_count": 24,
   "metadata": {},
   "outputs": [
    {
     "data": {
      "text/plain": [
       "array([96, 96, 96])"
      ]
     },
     "execution_count": 24,
     "metadata": {},
     "output_type": "execute_result"
    }
   ],
   "source": []
  },
  {
   "cell_type": "code",
   "execution_count": 6,
   "metadata": {},
   "outputs": [
    {
     "ename": "RuntimeError",
     "evalue": "The size of tensor a (6) must match the size of tensor b (3) at non-singleton dimension 0",
     "output_type": "error",
     "traceback": [
      "\u001b[1;31m---------------------------------------------------------------------------\u001b[0m",
      "\u001b[1;31mRuntimeError\u001b[0m                              Traceback (most recent call last)",
      "Cell \u001b[1;32mIn [6], line 1\u001b[0m\n\u001b[1;32m----> 1\u001b[0m CropToROI()(output)\n",
      "Cell \u001b[1;32mIn [5], line 44\u001b[0m, in \u001b[0;36mCropToROI.__call__\u001b[1;34m(self, data)\u001b[0m\n\u001b[0;32m     43\u001b[0m \u001b[39mdef\u001b[39;00m \u001b[39m__call__\u001b[39m(\u001b[39mself\u001b[39m, data):\n\u001b[1;32m---> 44\u001b[0m     cropper \u001b[39m=\u001b[39m SpatialCrop(\n\u001b[0;32m     45\u001b[0m         roi_center\u001b[39m=\u001b[39;49mdata[\u001b[39m'\u001b[39;49m\u001b[39mcentroid\u001b[39;49m\u001b[39m'\u001b[39;49m],\n\u001b[0;32m     46\u001b[0m         roi_size\u001b[39m=\u001b[39;49mdata[\u001b[39m'\u001b[39;49m\u001b[39mroi_size\u001b[39;49m\u001b[39m'\u001b[39;49m]\n\u001b[0;32m     47\u001b[0m     )\n\u001b[0;32m     48\u001b[0m     data[\u001b[39m'\u001b[39m\u001b[39mimg\u001b[39m\u001b[39m'\u001b[39m] \u001b[39m=\u001b[39m cropper(data[\u001b[39m'\u001b[39m\u001b[39mimg\u001b[39m\u001b[39m'\u001b[39m])\n\u001b[0;32m     49\u001b[0m     \u001b[39mreturn\u001b[39;00m data\n",
      "File \u001b[1;32mc:\\Users\\user\\anaconda3\\envs\\rob\\lib\\site-packages\\monai\\transforms\\croppad\\array.py:497\u001b[0m, in \u001b[0;36mSpatialCrop.__init__\u001b[1;34m(self, roi_center, roi_size, roi_start, roi_end, roi_slices)\u001b[0m\n\u001b[0;32m    479\u001b[0m \u001b[39mdef\u001b[39;00m \u001b[39m__init__\u001b[39m(\n\u001b[0;32m    480\u001b[0m     \u001b[39mself\u001b[39m,\n\u001b[0;32m    481\u001b[0m     roi_center: Union[Sequence[\u001b[39mint\u001b[39m], NdarrayOrTensor, \u001b[39mNone\u001b[39;00m] \u001b[39m=\u001b[39m \u001b[39mNone\u001b[39;00m,\n\u001b[1;32m   (...)\u001b[0m\n\u001b[0;32m    485\u001b[0m     roi_slices: Optional[Sequence[\u001b[39mslice\u001b[39m]] \u001b[39m=\u001b[39m \u001b[39mNone\u001b[39;00m,\n\u001b[0;32m    486\u001b[0m ) \u001b[39m-\u001b[39m\u001b[39m>\u001b[39m \u001b[39mNone\u001b[39;00m:\n\u001b[0;32m    487\u001b[0m     \u001b[39m\"\"\"\u001b[39;00m\n\u001b[0;32m    488\u001b[0m \u001b[39m    Args:\u001b[39;00m\n\u001b[0;32m    489\u001b[0m \u001b[39m        roi_center: voxel coordinates for center of the crop ROI.\u001b[39;00m\n\u001b[1;32m   (...)\u001b[0m\n\u001b[0;32m    495\u001b[0m \u001b[39m        roi_slices: list of slices for each of the spatial dimensions.\u001b[39;00m\n\u001b[0;32m    496\u001b[0m \u001b[39m    \"\"\"\u001b[39;00m\n\u001b[1;32m--> 497\u001b[0m     \u001b[39mself\u001b[39m\u001b[39m.\u001b[39mslices \u001b[39m=\u001b[39m \u001b[39mself\u001b[39;49m\u001b[39m.\u001b[39;49mcompute_slices(\n\u001b[0;32m    498\u001b[0m         roi_center\u001b[39m=\u001b[39;49mroi_center, roi_size\u001b[39m=\u001b[39;49mroi_size, roi_start\u001b[39m=\u001b[39;49mroi_start, roi_end\u001b[39m=\u001b[39;49mroi_end, roi_slices\u001b[39m=\u001b[39;49mroi_slices\n\u001b[0;32m    499\u001b[0m     )\n",
      "File \u001b[1;32mc:\\Users\\user\\anaconda3\\envs\\rob\\lib\\site-packages\\monai\\transforms\\croppad\\array.py:409\u001b[0m, in \u001b[0;36mCrop.compute_slices\u001b[1;34m(roi_center, roi_size, roi_start, roi_end, roi_slices)\u001b[0m\n\u001b[0;32m    403\u001b[0m     _zeros \u001b[39m=\u001b[39m torch\u001b[39m.\u001b[39mzeros_like(roi_center_t)\n\u001b[0;32m    404\u001b[0m     half \u001b[39m=\u001b[39m (\n\u001b[0;32m    405\u001b[0m         torch\u001b[39m.\u001b[39mdivide(roi_size_t, \u001b[39m2\u001b[39m, rounding_mode\u001b[39m=\u001b[39m\u001b[39m\"\u001b[39m\u001b[39mfloor\u001b[39m\u001b[39m\"\u001b[39m)\n\u001b[0;32m    406\u001b[0m         \u001b[39mif\u001b[39;00m pytorch_after(\u001b[39m1\u001b[39m, \u001b[39m8\u001b[39m)\n\u001b[0;32m    407\u001b[0m         \u001b[39melse\u001b[39;00m torch\u001b[39m.\u001b[39mfloor_divide(roi_size_t, \u001b[39m2\u001b[39m)\n\u001b[0;32m    408\u001b[0m     )\n\u001b[1;32m--> 409\u001b[0m     roi_start_t \u001b[39m=\u001b[39m torch\u001b[39m.\u001b[39mmaximum(roi_center_t \u001b[39m-\u001b[39;49m half, _zeros)\n\u001b[0;32m    410\u001b[0m     roi_end_t \u001b[39m=\u001b[39m torch\u001b[39m.\u001b[39mmaximum(roi_start_t \u001b[39m+\u001b[39m roi_size_t, roi_start_t)\n\u001b[0;32m    411\u001b[0m \u001b[39melse\u001b[39;00m:\n",
      "\u001b[1;31mRuntimeError\u001b[0m: The size of tensor a (6) must match the size of tensor b (3) at non-singleton dimension 0"
     ]
    }
   ],
   "source": [
    "CropToROI()(output)"
   ]
  },
  {
   "cell_type": "code",
   "execution_count": 203,
   "metadata": {},
   "outputs": [
    {
     "data": {
      "text/plain": [
       "(1, 193, 167, 47)"
      ]
     },
     "execution_count": 203,
     "metadata": {},
     "output_type": "execute_result"
    }
   ],
   "source": [
    "output['img'].shape"
   ]
  },
  {
   "cell_type": "code",
   "execution_count": 206,
   "metadata": {},
   "outputs": [
    {
     "data": {
      "text/plain": [
       "(1, 96, 96, 96)"
      ]
     },
     "execution_count": 206,
     "metadata": {},
     "output_type": "execute_result"
    }
   ],
   "source": [
    "output['img'].shape"
   ]
  },
  {
   "cell_type": "code",
   "execution_count": 208,
   "metadata": {},
   "outputs": [],
   "source": [
    "output['centroid'] += [5,5,5]"
   ]
  },
  {
   "cell_type": "code",
   "execution_count": 184,
   "metadata": {},
   "outputs": [
    {
     "data": {
      "text/plain": [
       "(array([3.80351e+05, 4.92497e+05, 9.08200e+03, 1.28800e+03, 7.34000e+02,\n",
       "        4.20000e+02, 2.14000e+02, 9.10000e+01, 3.70000e+01, 2.20000e+01]),\n",
       " array([0.20902362, 0.24758668, 0.28614974, 0.32471281, 0.36327589,\n",
       "        0.40183896, 0.440402  , 0.47896507, 0.51752812, 0.55609119,\n",
       "        0.59465426]),\n",
       " <BarContainer object of 10 artists>)"
      ]
     },
     "execution_count": 184,
     "metadata": {},
     "output_type": "execute_result"
    },
    {
     "data": {
      "image/png": "[encoded data removed]",
      "text/plain": [
       "<Figure size 640x480 with 1 Axes>"
      ]
     },
     "metadata": {},
     "output_type": "display_data"
    }
   ],
   "source": [
    "import matplotlib.pyplot as plt\n",
    "\n",
    "plt.hist(output['img'].flatten())"
   ]
  },
  {
   "cell_type": "code",
   "execution_count": 179,
   "metadata": {},
   "outputs": [
    {
     "name": "stdout",
     "output_type": "stream",
     "text": [
      "Collecting matplotlibNote: you may need to restart the kernel to use updated packages.\n",
      "\n",
      "  Downloading matplotlib-3.6.1-cp310-cp310-win_amd64.whl (7.2 MB)\n",
      "     ---------------------------------------- 7.2/7.2 MB 32.9 MB/s eta 0:00:00\n",
      "Requirement already satisfied: numpy>=1.19 in c:\\users\\user\\anaconda3\\envs\\rob\\lib\\site-packages (from matplotlib) (1.23.4)\n",
      "Collecting cycler>=0.10\n",
      "  Downloading cycler-0.11.0-py3-none-any.whl (6.4 kB)\n",
      "Requirement already satisfied: python-dateutil>=2.7 in c:\\users\\user\\anaconda3\\envs\\rob\\lib\\site-packages (from matplotlib) (2.8.2)\n",
      "Collecting fonttools>=4.22.0\n",
      "  Downloading fonttools-4.38.0-py3-none-any.whl (965 kB)\n",
      "     ------------------------------------- 965.4/965.4 kB 15.4 MB/s eta 0:00:00\n",
      "Collecting pillow>=6.2.0\n",
      "  Downloading Pillow-9.2.0-cp310-cp310-win_amd64.whl (3.3 MB)\n",
      "     ---------------------------------------- 3.3/3.3 MB 23.3 MB/s eta 0:00:00\n",
      "Requirement already satisfied: pyparsing>=2.2.1 in c:\\users\\user\\anaconda3\\envs\\rob\\lib\\site-packages (from matplotlib) (3.0.9)\n",
      "Requirement already satisfied: packaging>=20.0 in c:\\users\\user\\anaconda3\\envs\\rob\\lib\\site-packages (from matplotlib) (21.3)\n",
      "Collecting kiwisolver>=1.0.1\n",
      "  Downloading kiwisolver-1.4.4-cp310-cp310-win_amd64.whl (55 kB)\n",
      "     ---------------------------------------- 55.3/55.3 kB 1.5 MB/s eta 0:00:00\n",
      "Collecting contourpy>=1.0.1\n",
      "  Downloading contourpy-1.0.5-cp310-cp310-win_amd64.whl (164 kB)\n",
      "     -------------------------------------- 164.1/164.1 kB 3.3 MB/s eta 0:00:00\n",
      "Requirement already satisfied: six>=1.5 in c:\\users\\user\\anaconda3\\envs\\rob\\lib\\site-packages (from python-dateutil>=2.7->matplotlib) (1.16.0)\n",
      "Installing collected packages: pillow, kiwisolver, fonttools, cycler, contourpy, matplotlib\n",
      "Successfully installed contourpy-1.0.5 cycler-0.11.0 fonttools-4.38.0 kiwisolver-1.4.4 matplotlib-3.6.1 pillow-9.2.0\n"
     ]
    }
   ],
   "source": [
    "pip install matplotlib"
   ]
  },
  {
   "cell_type": "code",
   "execution_count": 111,
   "metadata": {},
   "outputs": [
    {
     "data": {
      "text/plain": [
       "(512, 512, 263)"
      ]
     },
     "execution_count": 111,
     "metadata": {},
     "output_type": "execute_result"
    }
   ],
   "source": [
    "output['img'].shape"
   ]
  },
  {
   "cell_type": "code",
   "execution_count": 101,
   "metadata": {},
   "outputs": [
    {
     "data": {
      "text/plain": [
       "array([705, 705, 310])"
      ]
     },
     "execution_count": 101,
     "metadata": {},
     "output_type": "execute_result"
    }
   ],
   "source": [
    "new_size"
   ]
  },
  {
   "cell_type": "code",
   "execution_count": 92,
   "metadata": {},
   "outputs": [
    {
     "data": {
      "text/plain": [
       "array([193, 193,  47])"
      ]
     },
     "execution_count": 92,
     "metadata": {},
     "output_type": "execute_result"
    }
   ],
   "source": []
  },
  {
   "cell_type": "code",
   "execution_count": null,
   "metadata": {},
   "outputs": [],
   "source": []
  }
 ],
 "metadata": {
  "kernelspec": {
   "display_name": "Python 3.10.6 ('rob')",
   "language": "python",
   "name": "python3"
  },
  "language_info": {
   "codemirror_mode": {
    "name": "ipython",
    "version": 3
   },
   "file_extension": ".py",
   "mimetype": "text/x-python",
   "name": "python",
   "nbconvert_exporter": "python",
   "pygments_lexer": "ipython3",
   "version": "3.10.6"
  },
  "orig_nbformat": 4,
  "vscode": {
   "interpreter": {
    "hash": "4ca38a36c27a6fda9f36158854ae787c0f5f98b555e1563ed4f17965dab62153"
   }
  }
 },
 "nbformat": 4,
 "nbformat_minor": 2
}
