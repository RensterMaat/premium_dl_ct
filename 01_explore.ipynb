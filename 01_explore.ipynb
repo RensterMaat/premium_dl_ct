{
 "cells": [
  {
   "cell_type": "code",
   "execution_count": 1,
   "metadata": {},
   "outputs": [],
   "source": [
    "from monai.transforms import LoadImaged, EnsureChannelFirstd, Compose\n",
    "from src.transforms import (\n",
    "    FindCentroid,\n",
    "    GetFixedROISize,\n",
    "    CropToCentroidWithSize,\n",
    "    PadForCrop,\n",
    "    Save,\n",
    "    OrthogonalSlices,\n",
    "    CropToROI,\n",
    "    GetZoomedROI,\n",
    "    PadForZoom,\n",
    ")\n",
    "from pathlib import Path\n",
    "\n",
    "def find_corresponding_scan(segmention_path):\n",
    "    scan_folder = Path(segmention_path).parent.parent / \"scans\"\n",
    "    scan_name = Path(segmention_path).name.split(\".\")[0][:-2] + \".nii.gz\"\n",
    "\n",
    "    return scan_folder / scan_name\n",
    "\n",
    "pipeline = Compose([\n",
    "    LoadImaged(keys=[\"img\", \"seg\"]),\n",
    "    EnsureChannelFirstd(keys=[\"img\", \"seg\"]),\n",
    "])\n",
    "\n",
    "\n",
    "segmentation_path = r'D:\\premium_data\\lumc\\monotherapy\\split_segmentations\\PREM_LU_009_0.nii.gz'\n",
    "scan_path = find_corresponding_scan(segmentation_path)\n",
    "data = {'img':scan_path, 'seg':segmentation_path}\n",
    "\n",
    "output = pipeline(data)\n"
   ]
  },
  {
   "cell_type": "code",
   "execution_count": 5,
   "metadata": {},
   "outputs": [],
   "source": [
    "select = Compose(\n",
    "    [\n",
    "        FindCentroid(),\n",
    "        GetFixedROISize(10),\n",
    "        PadForCrop(),\n",
    "        CropToCentroidWithSize(),\n",
    "    ]\n",
    ")\n",
    "\n",
    "roi = select(output)"
   ]
  },
  {
   "cell_type": "code",
   "execution_count": 6,
   "metadata": {},
   "outputs": [
    {
     "data": {
      "text/plain": [
       "array([222, 269, 522])"
      ]
     },
     "execution_count": 6,
     "metadata": {},
     "output_type": "execute_result"
    }
   ],
   "source": [
    "roi['centroid']"
   ]
  },
  {
   "cell_type": "code",
   "execution_count": 1,
   "metadata": {},
   "outputs": [
    {
     "name": "stdout",
     "output_type": "stream",
     "text": [
      "2022-10-31 11:29:11,681 - Failed to detect the name of this notebook, you can set it manually with the WANDB_NOTEBOOK_NAME environment variable to enable code saving.\n"
     ]
    },
    {
     "name": "stderr",
     "output_type": "stream",
     "text": [
      "\u001b[34m\u001b[1mwandb\u001b[0m: Currently logged in as: \u001b[33mrenstermaat\u001b[0m. Use \u001b[1m`wandb login --relogin`\u001b[0m to force relogin\n"
     ]
    },
    {
     "data": {
      "text/html": [
       "Tracking run with wandb version 0.13.4"
      ],
      "text/plain": [
       "<IPython.core.display.HTML object>"
      ]
     },
     "metadata": {},
     "output_type": "display_data"
    },
    {
     "data": {
      "text/html": [
       "Run data is saved locally in <code>c:\\Users\\user\\repos\\premium_dl_ct\\wandb\\run-20221031_112913-19o8yws9</code>"
      ],
      "text/plain": [
       "<IPython.core.display.HTML object>"
      ]
     },
     "metadata": {},
     "output_type": "display_data"
    },
    {
     "data": {
      "text/html": [
       "Syncing run <strong><a href=\"https://wandb.ai/renstermaat/uncategorized/runs/19o8yws9\" target=\"_blank\">terrifying-disguise-14</a></strong> to <a href=\"https://wandb.ai/renstermaat/uncategorized\" target=\"_blank\">Weights & Biases</a> (<a href=\"https://wandb.me/run\" target=\"_blank\">docs</a>)<br/>"
      ],
      "text/plain": [
       "<IPython.core.display.HTML object>"
      ]
     },
     "metadata": {},
     "output_type": "display_data"
    },
    {
     "name": "stderr",
     "output_type": "stream",
     "text": [
      "Columns (28,33,186,190,236,248,252,371,376,433,470,480,525,532,535,543,544,546,549,551,552,553,573,574,575,576,581,585,655,706,752,761) have mixed types.Specify dtype option on import or set low_memory=False.\n",
      "Global seed set to 0\n"
     ]
    },
    {
     "name": "stdout",
     "output_type": "stream",
     "text": [
      "2022-10-31 11:29:14,633 - Global seed set to 0\n"
     ]
    },
    {
     "name": "stderr",
     "output_type": "stream",
     "text": [
      "GPU available: True, used: True\n"
     ]
    },
    {
     "name": "stdout",
     "output_type": "stream",
     "text": [
      "2022-10-31 11:29:14,680 - GPU available: True, used: True\n"
     ]
    },
    {
     "name": "stderr",
     "output_type": "stream",
     "text": [
      "TPU available: None, using: 0 TPU cores\n"
     ]
    },
    {
     "name": "stdout",
     "output_type": "stream",
     "text": [
      "2022-10-31 11:29:14,682 - TPU available: None, using: 0 TPU cores\n"
     ]
    },
    {
     "name": "stderr",
     "output_type": "stream",
     "text": [
      "Loading dataset: 100%|██████████| 405/405 [00:00<00:00, 404450.74it/s]\n",
      "Loading dataset: 100%|██████████| 136/136 [00:00<?, ?it/s]\n",
      "Loading dataset: 100%|██████████| 168/168 [00:00<00:00, 167812.12it/s]"
     ]
    },
    {
     "name": "stdout",
     "output_type": "stream",
     "text": [
      "2022-10-31 11:29:14,760 - LOCAL_RANK: 0 - CUDA_VISIBLE_DEVICES: [0]\n"
     ]
    },
    {
     "name": "stderr",
     "output_type": "stream",
     "text": [
      "\n",
      "\n",
      "  | Name              | Type        | Params\n",
      "--------------------------------------------------\n",
      "0 | model             | DenseNet121 | 11.2 M\n",
      "1 | train_auc         | BinaryAUROC | 0     \n",
      "2 | val_auc           | BinaryAUROC | 0     \n",
      "3 | train_patient_auc | BinaryAUROC | 0     \n",
      "4 | val_patient_auc   | BinaryAUROC | 0     \n",
      "--------------------------------------------------\n",
      "11.2 M    Trainable params\n",
      "0         Non-trainable params\n",
      "11.2 M    Total params\n",
      "44.975    Total estimated model params size (MB)\n"
     ]
    },
    {
     "name": "stdout",
     "output_type": "stream",
     "text": [
      "2022-10-31 11:29:16,382 - \n",
      "  | Name              | Type        | Params\n",
      "--------------------------------------------------\n",
      "0 | model             | DenseNet121 | 11.2 M\n",
      "1 | train_auc         | BinaryAUROC | 0     \n",
      "2 | val_auc           | BinaryAUROC | 0     \n",
      "3 | train_patient_auc | BinaryAUROC | 0     \n",
      "4 | val_patient_auc   | BinaryAUROC | 0     \n",
      "--------------------------------------------------\n",
      "11.2 M    Trainable params\n",
      "0         Non-trainable params\n",
      "11.2 M    Total params\n",
      "44.975    Total estimated model params size (MB)\n",
      "Validation sanity check:  50%|█████     | 1/2 [00:02<00:02,  2.14s/it]"
     ]
    },
    {
     "name": "stderr",
     "output_type": "stream",
     "text": [
      "No negative samples in targets, false positive value should be meaningless. Returning zero tensor in false positive score\n"
     ]
    },
    {
     "name": "stdout",
     "output_type": "stream",
     "text": [
      "Epoch 0:  71%|███████▏  | 40/56 [00:38<00:15,  1.04it/s, loss=0.648, v_num=yws9, valid_loss=0.688, valid_auc=0.525, valid_patient_auc=0.450]"
     ]
    }
   ],
   "source": [
    "import wandb\n",
    "from pytorch_lightning.loggers import WandbLogger\n",
    "from pytorch_lightning import Trainer, seed_everything\n",
    "from src.model import Model\n",
    "from src.data import DataModule\n",
    "\n",
    "wandb.init()\n",
    "\n",
    "wandb.config.aggregation_function = 'max'\n",
    "wandb.config.method = 'crop'\n",
    "wandb.config.dim = 3\n",
    "wandb.config.size = 128\n",
    "wandb.config.roi_size= 10\n",
    "wandb.config.test_center = 'amphia'\n",
    "wandb.config.lesion_target = 'lung'\n",
    "wandb.config.max_batch_size = 8\n",
    "wandb.config.seed = 0\n",
    "wandb.config.max_epochs = 10\n",
    "\n",
    "dm = DataModule(\n",
    "    r\"C:\\Users\\user\\data\\dl_radiomics\",\n",
    "    r\"C:\\Users\\user\\data\\tables\\lesion_followup_curated_v4.csv\",\n",
    "    wandb.config\n",
    ")\n",
    "\n",
    "model = Model(wandb.config)\n",
    "\n",
    "seed_everything(wandb.config.seed)\n",
    "\n",
    "logger = WandbLogger(\n",
    "    name=\"hello_3\",\n",
    "    project=\"project_skeleton_on_lung_lesions\",\n",
    ")\n",
    "\n",
    "trainer = Trainer(\n",
    "    max_epochs=wandb.config.max_epochs, gpus=1, deterministic=True, fast_dev_run=False, logger=logger\n",
    ")\n",
    "\n",
    "trainer.fit(model, dm)"
   ]
  },
  {
   "cell_type": "code",
   "execution_count": null,
   "metadata": {},
   "outputs": [],
   "source": []
  }
 ],
 "metadata": {
  "kernelspec": {
   "display_name": "Python 3.9.1 ('conda-env')",
   "language": "python",
   "name": "python3"
  },
  "language_info": {
   "codemirror_mode": {
    "name": "ipython",
    "version": 3
   },
   "file_extension": ".py",
   "mimetype": "text/x-python",
   "name": "python",
   "nbconvert_exporter": "python",
   "pygments_lexer": "ipython3",
   "version": "3.9.1"
  },
  "orig_nbformat": 4,
  "vscode": {
   "interpreter": {
    "hash": "e155a5961ac9a2794d65e1939d0561747c6abc873218f9a8bb36a41ee161e8f8"
   }
  }
 },
 "nbformat": 4,
 "nbformat_minor": 2
}
