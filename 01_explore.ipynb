{
 "cells": [
  {
   "cell_type": "code",
   "execution_count": 1,
   "metadata": {},
   "outputs": [
    {
     "name": "stderr",
     "output_type": "stream",
     "text": [
      "Loading dataset: 100%|██████████| 41/41 [00:04<00:00,  9.99it/s]\n",
      "Loading dataset: 100%|██████████| 124/124 [00:11<00:00, 10.41it/s]\n",
      "Loading dataset: 100%|██████████| 56/56 [00:05<00:00, 10.18it/s]\n"
     ]
    }
   ],
   "source": [
    "from src.data import DataModule\n",
    "\n",
    "dm = DataModule(\n",
    "    r\"C:\\Users\\user\\data\\dl_radiomics\\preprocessed_3d\",\n",
    "    r\"C:\\Users\\user\\data\\tables\\lesion_followup_curated_v4.csv\",\n",
    "    \"lung\",\n",
    "    \"mst\",\n",
    ")\n",
    "dm.setup()"
   ]
  },
  {
   "cell_type": "code",
   "execution_count": 2,
   "metadata": {},
   "outputs": [],
   "source": [
    "dl = dm.train_dataloader()"
   ]
  },
  {
   "cell_type": "code",
   "execution_count": 3,
   "metadata": {},
   "outputs": [],
   "source": [
    "x = next(iter(dl))"
   ]
  },
  {
   "cell_type": "code",
   "execution_count": 5,
   "metadata": {},
   "outputs": [
    {
     "data": {
      "text/plain": [
       "['PREM_AM_115',\n",
       " 'PREM_AM_115',\n",
       " 'PREM_AM_118',\n",
       " 'PREM_ZU_001',\n",
       " 'PREM_ZU_004',\n",
       " 'PREM_ZU_004',\n",
       " 'PREM_ZU_008',\n",
       " 'PREM_ZU_008',\n",
       " 'PREM_ZU_012',\n",
       " 'PREM_ZU_012',\n",
       " 'PREM_ZU_017',\n",
       " 'PREM_ZU_018',\n",
       " 'PREM_ZU_018',\n",
       " 'PREM_ZU_019',\n",
       " 'PREM_ZU_019',\n",
       " 'PREM_ZU_020']"
      ]
     },
     "execution_count": 5,
     "metadata": {},
     "output_type": "execute_result"
    }
   ],
   "source": [
    "x ['patient']"
   ]
  },
  {
   "cell_type": "code",
   "execution_count": 80,
   "metadata": {},
   "outputs": [
    {
     "name": "stdout",
     "output_type": "stream",
     "text": [
      "['PREM_MS_011', 'PREM_MS_011', 'PREM_MS_011', 'PREM_MS_011', 'PREM_MS_011', 'PREM_MS_031', 'PREM_MS_031', 'PREM_MS_031', 'PREM_MS_031', 'PREM_MS_038', 'PREM_MS_038', 'PREM_MS_038', 'PREM_MS_038']\n",
      "['PREM_MS_060', 'PREM_MS_060', 'PREM_MS_060', 'PREM_MS_060', 'PREM_MS_060', 'PREM_MS_082', 'PREM_MS_082', 'PREM_MS_082', 'PREM_MS_082', 'PREM_MS_082', 'PREM_MS_083', 'PREM_MS_103', 'PREM_MS_103', 'PREM_MS_103', 'PREM_MS_103', 'PREM_MS_103']\n",
      "['PREM_MS_120', 'PREM_MS_125', 'PREM_MS_160', 'PREM_MS_160', 'PREM_MS_160', 'PREM_MS_160', 'PREM_MS_160', 'PREM_MS_172', 'PREM_MS_172', 'PREM_MS_172', 'PREM_MS_172', 'PREM_MS_195', 'PREM_MS_195', 'PREM_MS_195', 'PREM_MS_195']\n",
      "['PREM_MS_234', 'PREM_MS_234', 'PREM_MS_236', 'PREM_MS_236', 'PREM_MS_236', 'PREM_MS_236', 'PREM_MS_236', 'PREM_MS_237', 'PREM_MS_237', 'PREM_MS_237', 'PREM_MS_237', 'PREM_MS_237']\n"
     ]
    }
   ],
   "source": [
    "for x in iter(dl):\n",
    "    print(x['patient'])"
   ]
  },
  {
   "cell_type": "code",
   "execution_count": 73,
   "metadata": {},
   "outputs": [
    {
     "data": {
      "text/plain": [
       "['PREM_MS_011',\n",
       " 'PREM_MS_011',\n",
       " 'PREM_MS_011',\n",
       " 'PREM_MS_011',\n",
       " 'PREM_MS_011',\n",
       " 'PREM_MS_031',\n",
       " 'PREM_MS_031',\n",
       " 'PREM_MS_031',\n",
       " 'PREM_MS_031',\n",
       " 'PREM_MS_038',\n",
       " 'PREM_MS_038',\n",
       " 'PREM_MS_038',\n",
       " 'PREM_MS_038']"
      ]
     },
     "execution_count": 73,
     "metadata": {},
     "output_type": "execute_result"
    }
   ],
   "source": [
    "x['patient']"
   ]
  },
  {
   "cell_type": "code",
   "execution_count": null,
   "metadata": {},
   "outputs": [],
   "source": []
  }
 ],
 "metadata": {
  "kernelspec": {
   "display_name": "Python 3.9.1 ('conda-env')",
   "language": "python",
   "name": "python3"
  },
  "language_info": {
   "codemirror_mode": {
    "name": "ipython",
    "version": 3
   },
   "file_extension": ".py",
   "mimetype": "text/x-python",
   "name": "python",
   "nbconvert_exporter": "python",
   "pygments_lexer": "ipython3",
   "version": "3.9.1"
  },
  "orig_nbformat": 4,
  "vscode": {
   "interpreter": {
    "hash": "e155a5961ac9a2794d65e1939d0561747c6abc873218f9a8bb36a41ee161e8f8"
   }
  }
 },
 "nbformat": 4,
 "nbformat_minor": 2
}
