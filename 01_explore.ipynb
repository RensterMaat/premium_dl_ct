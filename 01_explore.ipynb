{
 "cells": [
  {
   "cell_type": "code",
   "execution_count": 1,
   "metadata": {},
   "outputs": [
    {
     "name": "stdout",
     "output_type": "stream",
     "text": [
      "2023-01-10 15:46:52,407 - Failed to detect the name of this notebook, you can set it manually with the WANDB_NOTEBOOK_NAME environment variable to enable code saving.\n"
     ]
    },
    {
     "name": "stderr",
     "output_type": "stream",
     "text": [
      "\u001b[34m\u001b[1mwandb\u001b[0m: Currently logged in as: \u001b[33mrenstermaat\u001b[0m (\u001b[33mpremium\u001b[0m). Use \u001b[1m`wandb login --relogin`\u001b[0m to force relogin\n"
     ]
    },
    {
     "data": {
      "application/vnd.jupyter.widget-view+json": {
       "model_id": "dd40ed95a5a64070a368715fb8141a11",
       "version_major": 2,
       "version_minor": 0
      },
      "text/plain": [
       "VBox(children=(Label(value='Waiting for wandb.init()...\\r'), FloatProgress(value=0.01666967135000353, max=1.0)…"
      ]
     },
     "metadata": {},
     "output_type": "display_data"
    },
    {
     "data": {
      "text/html": [
       "wandb version 0.13.7 is available!  To upgrade, please run:\n",
       " $ pip install wandb --upgrade"
      ],
      "text/plain": [
       "<IPython.core.display.HTML object>"
      ]
     },
     "metadata": {},
     "output_type": "display_data"
    },
    {
     "data": {
      "text/html": [
       "Tracking run with wandb version 0.13.6"
      ],
      "text/plain": [
       "<IPython.core.display.HTML object>"
      ]
     },
     "metadata": {},
     "output_type": "display_data"
    },
    {
     "data": {
      "text/html": [
       "Run data is saved locally in <code>/home/rens/repos/premium_dl_ct/wandb/run-20230110_154653-1txwywv7</code>"
      ],
      "text/plain": [
       "<IPython.core.display.HTML object>"
      ]
     },
     "metadata": {},
     "output_type": "display_data"
    },
    {
     "data": {
      "text/html": [
       "Syncing run <strong><a href=\"https://wandb.ai/premium/premium_dl_ct/runs/1txwywv7\" target=\"_blank\">magic-rain-17</a></strong> to <a href=\"https://wandb.ai/premium/premium_dl_ct\" target=\"_blank\">Weights & Biases</a> (<a href=\"https://wandb.me/run\" target=\"_blank\">docs</a>)<br/>"
      ],
      "text/plain": [
       "<IPython.core.display.HTML object>"
      ]
     },
     "metadata": {},
     "output_type": "display_data"
    },
    {
     "name": "stderr",
     "output_type": "stream",
     "text": [
      "Global seed set to 0\n"
     ]
    }
   ],
   "source": [
    "import wandb\n",
    "from pytorch_lightning.loggers import WandbLogger\n",
    "from pytorch_lightning import Trainer, seed_everything\n",
    "from src.data import DataModule\n",
    "from pytorch_lightning.callbacks import ModelCheckpoint, EarlyStopping\n",
    "from src.config import radiomics_folder, lesion_level_labels_csv\n",
    "\n",
    "wandb.init()\n",
    "wandb.config.aggregation_function = \"min\"\n",
    "wandb.config.roi_size = 150\n",
    "wandb.config.optimizer = \"adamw\"\n",
    "wandb.config.weight_decay = 0.00001\n",
    "wandb.config.model = \"SEResNet50\"\n",
    "wandb.config.dropout = 0.07292136035956572\n",
    "wandb.config.momentum = 0\n",
    "wandb.config.pretrained = False\n",
    "wandb.config.learning_rate_max = 0.000023059510738335888\n",
    "wandb.config.sampler = \"stratified\"\n",
    "wandb.config.dim = 2\n",
    "wandb.config.roi_selection_method = \"crop\"\n",
    "# wandb.config.dim = 2\n",
    "wandb.config.size = 128 if wandb.config.dim == 3 else 256\n",
    "wandb.config.test_center = None  # \"amphia\"\n",
    "wandb.config.lesion_target = \"lesion_response\"\n",
    "wandb.config.patient_target = \"response\"\n",
    "wandb.config.max_batch_size = 8 if wandb.config.dim == 3 else 64\n",
    "wandb.config.seed = 0\n",
    "wandb.config.max_epochs = 100\n",
    "wandb.config.patience = 10\n",
    "wandb.config.lr_min = 1e-7\n",
    "wandb.config.T_0 = 10\n",
    "\n",
    "seed_everything(wandb.config.seed)\n",
    "\n",
    "dm = DataModule(\n",
    "    radiomics_folder,\n",
    "    lesion_level_labels_csv,\n",
    "    wandb.config,\n",
    ")\n"
   ]
  },
  {
   "cell_type": "code",
   "execution_count": 2,
   "metadata": {},
   "outputs": [],
   "source": [
    "dm.setup()\n",
    "\n",
    "train = dm.train_data\n",
    "val = dm.val_data"
   ]
  },
  {
   "cell_type": "code",
   "execution_count": 34,
   "metadata": {},
   "outputs": [],
   "source": [
    "import numpy as np\n",
    "\n",
    "labels = np.array([x['label'] for x in val])\n",
    "batch_size = 63\n",
    "\n",
    "last_batch_size = len(labels) % batch_size\n",
    "\n",
    "if last_batch_size > 0:\n",
    "    last_batch = list(range(len(labels)))[-last_batch_size:]\n",
    "    labels_of_ordinary_batches = labels[:-last_batch_size]\n",
    "else:\n",
    "    last_batch = []\n",
    "    labels_of_ordinary_batches = labels\n",
    "\n",
    "positives = np.where(labels_of_ordinary_batches == 1)[0]\n",
    "negatives = np.where(labels_of_ordinary_batches == 0)[0]\n",
    "nans = np.where(np.isnan(labels_of_ordinary_batches))[0]\n",
    "\n",
    "ordinary_batches = np.concatenate([positives, negatives, nans]).reshape(batch_size, -1).transpose().tolist()\n",
    "\n"
   ]
  },
  {
   "cell_type": "code",
   "execution_count": 35,
   "metadata": {},
   "outputs": [
    {
     "data": {
      "text/plain": [
       "[[1,\n",
       "  20,\n",
       "  43,\n",
       "  56,\n",
       "  74,\n",
       "  83,\n",
       "  106,\n",
       "  160,\n",
       "  175,\n",
       "  185,\n",
       "  201,\n",
       "  226,\n",
       "  249,\n",
       "  277,\n",
       "  357,\n",
       "  373,\n",
       "  401,\n",
       "  434,\n",
       "  452,\n",
       "  464,\n",
       "  480,\n",
       "  508,\n",
       "  518,\n",
       "  542,\n",
       "  554,\n",
       "  563,\n",
       "  24,\n",
       "  49,\n",
       "  84,\n",
       "  108,\n",
       "  123,\n",
       "  133,\n",
       "  151,\n",
       "  184,\n",
       "  214,\n",
       "  232,\n",
       "  242,\n",
       "  263,\n",
       "  291,\n",
       "  378,\n",
       "  403,\n",
       "  417,\n",
       "  429,\n",
       "  461,\n",
       "  483,\n",
       "  494,\n",
       "  532,\n",
       "  564,\n",
       "  40,\n",
       "  93,\n",
       "  141,\n",
       "  191,\n",
       "  253,\n",
       "  295,\n",
       "  304,\n",
       "  313,\n",
       "  322,\n",
       "  331,\n",
       "  340,\n",
       "  349,\n",
       "  384,\n",
       "  393,\n",
       "  501],\n",
       " [2,\n",
       "  22,\n",
       "  44,\n",
       "  57,\n",
       "  75,\n",
       "  89,\n",
       "  107,\n",
       "  161,\n",
       "  176,\n",
       "  186,\n",
       "  203,\n",
       "  227,\n",
       "  250,\n",
       "  278,\n",
       "  358,\n",
       "  374,\n",
       "  406,\n",
       "  435,\n",
       "  453,\n",
       "  465,\n",
       "  487,\n",
       "  509,\n",
       "  528,\n",
       "  544,\n",
       "  555,\n",
       "  0,\n",
       "  25,\n",
       "  51,\n",
       "  85,\n",
       "  109,\n",
       "  124,\n",
       "  134,\n",
       "  153,\n",
       "  204,\n",
       "  219,\n",
       "  233,\n",
       "  247,\n",
       "  264,\n",
       "  292,\n",
       "  379,\n",
       "  404,\n",
       "  418,\n",
       "  440,\n",
       "  463,\n",
       "  484,\n",
       "  495,\n",
       "  533,\n",
       "  565,\n",
       "  41,\n",
       "  94,\n",
       "  142,\n",
       "  192,\n",
       "  254,\n",
       "  296,\n",
       "  305,\n",
       "  314,\n",
       "  323,\n",
       "  332,\n",
       "  341,\n",
       "  350,\n",
       "  385,\n",
       "  430,\n",
       "  502],\n",
       " [11,\n",
       "  28,\n",
       "  45,\n",
       "  63,\n",
       "  76,\n",
       "  95,\n",
       "  112,\n",
       "  162,\n",
       "  177,\n",
       "  187,\n",
       "  209,\n",
       "  229,\n",
       "  262,\n",
       "  279,\n",
       "  359,\n",
       "  375,\n",
       "  407,\n",
       "  436,\n",
       "  454,\n",
       "  472,\n",
       "  488,\n",
       "  511,\n",
       "  529,\n",
       "  545,\n",
       "  556,\n",
       "  3,\n",
       "  26,\n",
       "  54,\n",
       "  86,\n",
       "  110,\n",
       "  125,\n",
       "  135,\n",
       "  156,\n",
       "  205,\n",
       "  220,\n",
       "  234,\n",
       "  248,\n",
       "  275,\n",
       "  360,\n",
       "  380,\n",
       "  405,\n",
       "  419,\n",
       "  441,\n",
       "  466,\n",
       "  485,\n",
       "  506,\n",
       "  534,\n",
       "  566,\n",
       "  42,\n",
       "  113,\n",
       "  143,\n",
       "  193,\n",
       "  255,\n",
       "  297,\n",
       "  306,\n",
       "  315,\n",
       "  324,\n",
       "  333,\n",
       "  342,\n",
       "  351,\n",
       "  386,\n",
       "  431,\n",
       "  503],\n",
       " [12,\n",
       "  29,\n",
       "  46,\n",
       "  66,\n",
       "  77,\n",
       "  96,\n",
       "  132,\n",
       "  164,\n",
       "  178,\n",
       "  188,\n",
       "  213,\n",
       "  230,\n",
       "  265,\n",
       "  280,\n",
       "  363,\n",
       "  376,\n",
       "  408,\n",
       "  437,\n",
       "  455,\n",
       "  473,\n",
       "  496,\n",
       "  512,\n",
       "  530,\n",
       "  547,\n",
       "  557,\n",
       "  9,\n",
       "  27,\n",
       "  58,\n",
       "  87,\n",
       "  111,\n",
       "  126,\n",
       "  137,\n",
       "  158,\n",
       "  206,\n",
       "  221,\n",
       "  235,\n",
       "  256,\n",
       "  281,\n",
       "  361,\n",
       "  381,\n",
       "  409,\n",
       "  421,\n",
       "  442,\n",
       "  467,\n",
       "  486,\n",
       "  507,\n",
       "  535,\n",
       "  4,\n",
       "  60,\n",
       "  114,\n",
       "  144,\n",
       "  194,\n",
       "  266,\n",
       "  298,\n",
       "  307,\n",
       "  316,\n",
       "  325,\n",
       "  334,\n",
       "  343,\n",
       "  352,\n",
       "  387,\n",
       "  432,\n",
       "  504],\n",
       " [13,\n",
       "  33,\n",
       "  47,\n",
       "  68,\n",
       "  78,\n",
       "  100,\n",
       "  152,\n",
       "  165,\n",
       "  179,\n",
       "  189,\n",
       "  215,\n",
       "  241,\n",
       "  271,\n",
       "  285,\n",
       "  368,\n",
       "  383,\n",
       "  410,\n",
       "  443,\n",
       "  456,\n",
       "  474,\n",
       "  497,\n",
       "  513,\n",
       "  531,\n",
       "  548,\n",
       "  558,\n",
       "  10,\n",
       "  30,\n",
       "  59,\n",
       "  88,\n",
       "  118,\n",
       "  127,\n",
       "  138,\n",
       "  169,\n",
       "  207,\n",
       "  222,\n",
       "  236,\n",
       "  257,\n",
       "  282,\n",
       "  364,\n",
       "  382,\n",
       "  411,\n",
       "  422,\n",
       "  448,\n",
       "  468,\n",
       "  489,\n",
       "  510,\n",
       "  536,\n",
       "  5,\n",
       "  61,\n",
       "  115,\n",
       "  145,\n",
       "  195,\n",
       "  267,\n",
       "  299,\n",
       "  308,\n",
       "  317,\n",
       "  326,\n",
       "  335,\n",
       "  344,\n",
       "  353,\n",
       "  388,\n",
       "  433,\n",
       "  522],\n",
       " [14,\n",
       "  36,\n",
       "  50,\n",
       "  70,\n",
       "  79,\n",
       "  101,\n",
       "  154,\n",
       "  166,\n",
       "  180,\n",
       "  197,\n",
       "  216,\n",
       "  243,\n",
       "  272,\n",
       "  286,\n",
       "  369,\n",
       "  397,\n",
       "  412,\n",
       "  444,\n",
       "  458,\n",
       "  475,\n",
       "  498,\n",
       "  514,\n",
       "  537,\n",
       "  549,\n",
       "  559,\n",
       "  15,\n",
       "  31,\n",
       "  64,\n",
       "  97,\n",
       "  119,\n",
       "  128,\n",
       "  139,\n",
       "  170,\n",
       "  208,\n",
       "  224,\n",
       "  237,\n",
       "  258,\n",
       "  283,\n",
       "  365,\n",
       "  394,\n",
       "  413,\n",
       "  423,\n",
       "  449,\n",
       "  469,\n",
       "  490,\n",
       "  519,\n",
       "  541,\n",
       "  6,\n",
       "  62,\n",
       "  116,\n",
       "  146,\n",
       "  196,\n",
       "  268,\n",
       "  300,\n",
       "  309,\n",
       "  318,\n",
       "  327,\n",
       "  336,\n",
       "  345,\n",
       "  354,\n",
       "  389,\n",
       "  438,\n",
       "  523],\n",
       " [16,\n",
       "  37,\n",
       "  52,\n",
       "  71,\n",
       "  80,\n",
       "  103,\n",
       "  155,\n",
       "  167,\n",
       "  181,\n",
       "  198,\n",
       "  217,\n",
       "  244,\n",
       "  273,\n",
       "  287,\n",
       "  370,\n",
       "  398,\n",
       "  420,\n",
       "  445,\n",
       "  459,\n",
       "  476,\n",
       "  499,\n",
       "  515,\n",
       "  538,\n",
       "  551,\n",
       "  560,\n",
       "  18,\n",
       "  32,\n",
       "  65,\n",
       "  98,\n",
       "  120,\n",
       "  129,\n",
       "  148,\n",
       "  171,\n",
       "  210,\n",
       "  225,\n",
       "  238,\n",
       "  259,\n",
       "  284,\n",
       "  366,\n",
       "  395,\n",
       "  414,\n",
       "  424,\n",
       "  450,\n",
       "  478,\n",
       "  491,\n",
       "  520,\n",
       "  543,\n",
       "  7,\n",
       "  90,\n",
       "  117,\n",
       "  147,\n",
       "  202,\n",
       "  269,\n",
       "  301,\n",
       "  310,\n",
       "  319,\n",
       "  328,\n",
       "  337,\n",
       "  346,\n",
       "  355,\n",
       "  390,\n",
       "  439,\n",
       "  524],\n",
       " [17,\n",
       "  38,\n",
       "  53,\n",
       "  72,\n",
       "  81,\n",
       "  104,\n",
       "  157,\n",
       "  168,\n",
       "  182,\n",
       "  199,\n",
       "  218,\n",
       "  245,\n",
       "  274,\n",
       "  289,\n",
       "  371,\n",
       "  399,\n",
       "  426,\n",
       "  446,\n",
       "  460,\n",
       "  477,\n",
       "  500,\n",
       "  516,\n",
       "  539,\n",
       "  552,\n",
       "  561,\n",
       "  21,\n",
       "  34,\n",
       "  67,\n",
       "  99,\n",
       "  121,\n",
       "  130,\n",
       "  149,\n",
       "  172,\n",
       "  211,\n",
       "  228,\n",
       "  239,\n",
       "  260,\n",
       "  288,\n",
       "  367,\n",
       "  396,\n",
       "  415,\n",
       "  425,\n",
       "  451,\n",
       "  481,\n",
       "  492,\n",
       "  521,\n",
       "  546,\n",
       "  8,\n",
       "  91,\n",
       "  136,\n",
       "  163,\n",
       "  251,\n",
       "  270,\n",
       "  302,\n",
       "  311,\n",
       "  320,\n",
       "  329,\n",
       "  338,\n",
       "  347,\n",
       "  356,\n",
       "  391,\n",
       "  470,\n",
       "  525],\n",
       " [19,\n",
       "  39,\n",
       "  55,\n",
       "  73,\n",
       "  82,\n",
       "  105,\n",
       "  159,\n",
       "  174,\n",
       "  183,\n",
       "  200,\n",
       "  223,\n",
       "  246,\n",
       "  276,\n",
       "  293,\n",
       "  372,\n",
       "  400,\n",
       "  427,\n",
       "  447,\n",
       "  462,\n",
       "  479,\n",
       "  505,\n",
       "  517,\n",
       "  540,\n",
       "  553,\n",
       "  562,\n",
       "  23,\n",
       "  48,\n",
       "  69,\n",
       "  102,\n",
       "  122,\n",
       "  131,\n",
       "  150,\n",
       "  173,\n",
       "  212,\n",
       "  231,\n",
       "  240,\n",
       "  261,\n",
       "  290,\n",
       "  377,\n",
       "  402,\n",
       "  416,\n",
       "  428,\n",
       "  457,\n",
       "  482,\n",
       "  493,\n",
       "  527,\n",
       "  550,\n",
       "  35,\n",
       "  92,\n",
       "  140,\n",
       "  190,\n",
       "  252,\n",
       "  294,\n",
       "  303,\n",
       "  312,\n",
       "  321,\n",
       "  330,\n",
       "  339,\n",
       "  348,\n",
       "  362,\n",
       "  392,\n",
       "  471,\n",
       "  526]]"
      ]
     },
     "execution_count": 35,
     "metadata": {},
     "output_type": "execute_result"
    }
   ],
   "source": [
    "ordinary_batches"
   ]
  },
  {
   "cell_type": "code",
   "execution_count": 29,
   "metadata": {},
   "outputs": [
    {
     "data": {
      "text/plain": [
       "[567, 568, 569, 570, 571, 572, 573, 574, 575]"
      ]
     },
     "execution_count": 29,
     "metadata": {},
     "output_type": "execute_result"
    }
   ],
   "source": [
    "last_batch"
   ]
  },
  {
   "cell_type": "code",
   "execution_count": 6,
   "metadata": {},
   "outputs": [],
   "source": [
    "train_images = [ix['img'] for ix in train]\n",
    "val_images = [ix['img'] for ix in val]"
   ]
  },
  {
   "cell_type": "code",
   "execution_count": null,
   "metadata": {},
   "outputs": [],
   "source": [
    "[pt for pt in train_patients if pt in val_patients]"
   ]
  },
  {
   "cell_type": "code",
   "execution_count": 7,
   "metadata": {},
   "outputs": [
    {
     "data": {
      "text/plain": [
       "['/mnt/c/Users/user/data/dl_radiomics/dim-2_size-256_method-crop_roi_size-150/amphia/PREM_AM_001_0.nii.gz',\n",
       " '/mnt/c/Users/user/data/dl_radiomics/dim-2_size-256_method-crop_roi_size-150/amphia/PREM_AM_001_1.nii.gz',\n",
       " '/mnt/c/Users/user/data/dl_radiomics/dim-2_size-256_method-crop_roi_size-150/amphia/PREM_AM_001_2.nii.gz',\n",
       " '/mnt/c/Users/user/data/dl_radiomics/dim-2_size-256_method-crop_roi_size-150/amphia/PREM_AM_003_0.nii.gz',\n",
       " '/mnt/c/Users/user/data/dl_radiomics/dim-2_size-256_method-crop_roi_size-150/amphia/PREM_AM_003_1.nii.gz',\n",
       " '/mnt/c/Users/user/data/dl_radiomics/dim-2_size-256_method-crop_roi_size-150/amphia/PREM_AM_003_2.nii.gz',\n",
       " '/mnt/c/Users/user/data/dl_radiomics/dim-2_size-256_method-crop_roi_size-150/amphia/PREM_AM_003_3.nii.gz',\n",
       " '/mnt/c/Users/user/data/dl_radiomics/dim-2_size-256_method-crop_roi_size-150/amphia/PREM_AM_003_4.nii.gz',\n",
       " '/mnt/c/Users/user/data/dl_radiomics/dim-2_size-256_method-crop_roi_size-150/amphia/PREM_AM_005_0.nii.gz',\n",
       " '/mnt/c/Users/user/data/dl_radiomics/dim-2_size-256_method-crop_roi_size-150/amphia/PREM_AM_005_1.nii.gz',\n",
       " '/mnt/c/Users/user/data/dl_radiomics/dim-2_size-256_method-crop_roi_size-150/amphia/PREM_AM_005_2.nii.gz',\n",
       " '/mnt/c/Users/user/data/dl_radiomics/dim-2_size-256_method-crop_roi_size-150/amphia/PREM_AM_005_3.nii.gz',\n",
       " '/mnt/c/Users/user/data/dl_radiomics/dim-2_size-256_method-crop_roi_size-150/amphia/PREM_AM_005_4.nii.gz',\n",
       " '/mnt/c/Users/user/data/dl_radiomics/dim-2_size-256_method-crop_roi_size-150/amphia/PREM_AM_008_0.nii.gz',\n",
       " '/mnt/c/Users/user/data/dl_radiomics/dim-2_size-256_method-crop_roi_size-150/amphia/PREM_AM_008_1.nii.gz',\n",
       " '/mnt/c/Users/user/data/dl_radiomics/dim-2_size-256_method-crop_roi_size-150/amphia/PREM_AM_018_0.nii.gz',\n",
       " '/mnt/c/Users/user/data/dl_radiomics/dim-2_size-256_method-crop_roi_size-150/amphia/PREM_AM_018_1.nii.gz',\n",
       " '/mnt/c/Users/user/data/dl_radiomics/dim-2_size-256_method-crop_roi_size-150/amphia/PREM_AM_018_2.nii.gz',\n",
       " '/mnt/c/Users/user/data/dl_radiomics/dim-2_size-256_method-crop_roi_size-150/amphia/PREM_AM_018_3.nii.gz',\n",
       " '/mnt/c/Users/user/data/dl_radiomics/dim-2_size-256_method-crop_roi_size-150/amphia/PREM_AM_018_4.nii.gz',\n",
       " '/mnt/c/Users/user/data/dl_radiomics/dim-2_size-256_method-crop_roi_size-150/amphia/PREM_AM_029_0.nii.gz',\n",
       " '/mnt/c/Users/user/data/dl_radiomics/dim-2_size-256_method-crop_roi_size-150/amphia/PREM_AM_029_1.nii.gz',\n",
       " '/mnt/c/Users/user/data/dl_radiomics/dim-2_size-256_method-crop_roi_size-150/amphia/PREM_AM_047_0.nii.gz',\n",
       " '/mnt/c/Users/user/data/dl_radiomics/dim-2_size-256_method-crop_roi_size-150/amphia/PREM_AM_047_1.nii.gz',\n",
       " '/mnt/c/Users/user/data/dl_radiomics/dim-2_size-256_method-crop_roi_size-150/amphia/PREM_AM_047_2.nii.gz',\n",
       " '/mnt/c/Users/user/data/dl_radiomics/dim-2_size-256_method-crop_roi_size-150/amphia/PREM_AM_047_3.nii.gz',\n",
       " '/mnt/c/Users/user/data/dl_radiomics/dim-2_size-256_method-crop_roi_size-150/amphia/PREM_AM_054_0.nii.gz',\n",
       " '/mnt/c/Users/user/data/dl_radiomics/dim-2_size-256_method-crop_roi_size-150/amphia/PREM_AM_054_1.nii.gz',\n",
       " '/mnt/c/Users/user/data/dl_radiomics/dim-2_size-256_method-crop_roi_size-150/amphia/PREM_AM_054_2.nii.gz',\n",
       " '/mnt/c/Users/user/data/dl_radiomics/dim-2_size-256_method-crop_roi_size-150/amphia/PREM_AM_056_0.nii.gz',\n",
       " '/mnt/c/Users/user/data/dl_radiomics/dim-2_size-256_method-crop_roi_size-150/amphia/PREM_AM_056_1.nii.gz',\n",
       " '/mnt/c/Users/user/data/dl_radiomics/dim-2_size-256_method-crop_roi_size-150/amphia/PREM_AM_056_2.nii.gz',\n",
       " '/mnt/c/Users/user/data/dl_radiomics/dim-2_size-256_method-crop_roi_size-150/amphia/PREM_AM_056_3.nii.gz',\n",
       " '/mnt/c/Users/user/data/dl_radiomics/dim-2_size-256_method-crop_roi_size-150/amphia/PREM_AM_063_0.nii.gz',\n",
       " '/mnt/c/Users/user/data/dl_radiomics/dim-2_size-256_method-crop_roi_size-150/amphia/PREM_AM_063_1.nii.gz',\n",
       " '/mnt/c/Users/user/data/dl_radiomics/dim-2_size-256_method-crop_roi_size-150/amphia/PREM_AM_063_2.nii.gz',\n",
       " '/mnt/c/Users/user/data/dl_radiomics/dim-2_size-256_method-crop_roi_size-150/amphia/PREM_AM_067_0.nii.gz',\n",
       " '/mnt/c/Users/user/data/dl_radiomics/dim-2_size-256_method-crop_roi_size-150/amphia/PREM_AM_067_1.nii.gz',\n",
       " '/mnt/c/Users/user/data/dl_radiomics/dim-2_size-256_method-crop_roi_size-150/amphia/PREM_AM_067_2.nii.gz',\n",
       " '/mnt/c/Users/user/data/dl_radiomics/dim-2_size-256_method-crop_roi_size-150/amphia/PREM_AM_067_3.nii.gz',\n",
       " '/mnt/c/Users/user/data/dl_radiomics/dim-2_size-256_method-crop_roi_size-150/amphia/PREM_AM_068_0.nii.gz',\n",
       " '/mnt/c/Users/user/data/dl_radiomics/dim-2_size-256_method-crop_roi_size-150/amphia/PREM_AM_068_1.nii.gz',\n",
       " '/mnt/c/Users/user/data/dl_radiomics/dim-2_size-256_method-crop_roi_size-150/amphia/PREM_AM_068_2.nii.gz',\n",
       " '/mnt/c/Users/user/data/dl_radiomics/dim-2_size-256_method-crop_roi_size-150/amphia/PREM_AM_071_0.nii.gz',\n",
       " '/mnt/c/Users/user/data/dl_radiomics/dim-2_size-256_method-crop_roi_size-150/amphia/PREM_AM_071_1.nii.gz',\n",
       " '/mnt/c/Users/user/data/dl_radiomics/dim-2_size-256_method-crop_roi_size-150/amphia/PREM_AM_071_2.nii.gz',\n",
       " '/mnt/c/Users/user/data/dl_radiomics/dim-2_size-256_method-crop_roi_size-150/amphia/PREM_AM_071_3.nii.gz',\n",
       " '/mnt/c/Users/user/data/dl_radiomics/dim-2_size-256_method-crop_roi_size-150/amphia/PREM_AM_071_4.nii.gz',\n",
       " '/mnt/c/Users/user/data/dl_radiomics/dim-2_size-256_method-crop_roi_size-150/amphia/PREM_AM_073_0.nii.gz',\n",
       " '/mnt/c/Users/user/data/dl_radiomics/dim-2_size-256_method-crop_roi_size-150/amphia/PREM_AM_073_1.nii.gz',\n",
       " '/mnt/c/Users/user/data/dl_radiomics/dim-2_size-256_method-crop_roi_size-150/amphia/PREM_AM_073_2.nii.gz',\n",
       " '/mnt/c/Users/user/data/dl_radiomics/dim-2_size-256_method-crop_roi_size-150/amphia/PREM_AM_073_3.nii.gz',\n",
       " '/mnt/c/Users/user/data/dl_radiomics/dim-2_size-256_method-crop_roi_size-150/amphia/PREM_AM_073_4.nii.gz',\n",
       " '/mnt/c/Users/user/data/dl_radiomics/dim-2_size-256_method-crop_roi_size-150/amphia/PREM_AM_082_0.nii.gz',\n",
       " '/mnt/c/Users/user/data/dl_radiomics/dim-2_size-256_method-crop_roi_size-150/amphia/PREM_AM_082_1.nii.gz',\n",
       " '/mnt/c/Users/user/data/dl_radiomics/dim-2_size-256_method-crop_roi_size-150/amphia/PREM_AM_082_2.nii.gz',\n",
       " '/mnt/c/Users/user/data/dl_radiomics/dim-2_size-256_method-crop_roi_size-150/amphia/PREM_AM_082_3.nii.gz',\n",
       " '/mnt/c/Users/user/data/dl_radiomics/dim-2_size-256_method-crop_roi_size-150/amphia/PREM_AM_082_4.nii.gz',\n",
       " '/mnt/c/Users/user/data/dl_radiomics/dim-2_size-256_method-crop_roi_size-150/amphia/PREM_AM_084_0.nii.gz',\n",
       " '/mnt/c/Users/user/data/dl_radiomics/dim-2_size-256_method-crop_roi_size-150/amphia/PREM_AM_084_1.nii.gz',\n",
       " '/mnt/c/Users/user/data/dl_radiomics/dim-2_size-256_method-crop_roi_size-150/amphia/PREM_AM_084_2.nii.gz',\n",
       " '/mnt/c/Users/user/data/dl_radiomics/dim-2_size-256_method-crop_roi_size-150/amphia/PREM_AM_084_3.nii.gz',\n",
       " '/mnt/c/Users/user/data/dl_radiomics/dim-2_size-256_method-crop_roi_size-150/amphia/PREM_AM_084_4.nii.gz',\n",
       " '/mnt/c/Users/user/data/dl_radiomics/dim-2_size-256_method-crop_roi_size-150/amphia/PREM_AM_093_0.nii.gz',\n",
       " '/mnt/c/Users/user/data/dl_radiomics/dim-2_size-256_method-crop_roi_size-150/amphia/PREM_AM_093_1.nii.gz',\n",
       " '/mnt/c/Users/user/data/dl_radiomics/dim-2_size-256_method-crop_roi_size-150/amphia/PREM_AM_093_2.nii.gz',\n",
       " '/mnt/c/Users/user/data/dl_radiomics/dim-2_size-256_method-crop_roi_size-150/amphia/PREM_AM_093_3.nii.gz',\n",
       " '/mnt/c/Users/user/data/dl_radiomics/dim-2_size-256_method-crop_roi_size-150/amphia/PREM_AM_095_0.nii.gz',\n",
       " '/mnt/c/Users/user/data/dl_radiomics/dim-2_size-256_method-crop_roi_size-150/amphia/PREM_AM_095_1.nii.gz',\n",
       " '/mnt/c/Users/user/data/dl_radiomics/dim-2_size-256_method-crop_roi_size-150/amphia/PREM_AM_095_2.nii.gz',\n",
       " '/mnt/c/Users/user/data/dl_radiomics/dim-2_size-256_method-crop_roi_size-150/amphia/PREM_AM_095_3.nii.gz',\n",
       " '/mnt/c/Users/user/data/dl_radiomics/dim-2_size-256_method-crop_roi_size-150/amphia/PREM_AM_095_4.nii.gz',\n",
       " '/mnt/c/Users/user/data/dl_radiomics/dim-2_size-256_method-crop_roi_size-150/amphia/PREM_AM_101_0.nii.gz',\n",
       " '/mnt/c/Users/user/data/dl_radiomics/dim-2_size-256_method-crop_roi_size-150/amphia/PREM_AM_101_1.nii.gz',\n",
       " '/mnt/c/Users/user/data/dl_radiomics/dim-2_size-256_method-crop_roi_size-150/amphia/PREM_AM_107_0.nii.gz',\n",
       " '/mnt/c/Users/user/data/dl_radiomics/dim-2_size-256_method-crop_roi_size-150/amphia/PREM_AM_107_1.nii.gz',\n",
       " '/mnt/c/Users/user/data/dl_radiomics/dim-2_size-256_method-crop_roi_size-150/amphia/PREM_AM_107_2.nii.gz',\n",
       " '/mnt/c/Users/user/data/dl_radiomics/dim-2_size-256_method-crop_roi_size-150/amphia/PREM_AM_107_3.nii.gz',\n",
       " '/mnt/c/Users/user/data/dl_radiomics/dim-2_size-256_method-crop_roi_size-150/amphia/PREM_AM_107_4.nii.gz',\n",
       " '/mnt/c/Users/user/data/dl_radiomics/dim-2_size-256_method-crop_roi_size-150/amphia/PREM_AM_108_0.nii.gz',\n",
       " '/mnt/c/Users/user/data/dl_radiomics/dim-2_size-256_method-crop_roi_size-150/amphia/PREM_AM_108_1.nii.gz',\n",
       " '/mnt/c/Users/user/data/dl_radiomics/dim-2_size-256_method-crop_roi_size-150/amphia/PREM_AM_108_2.nii.gz',\n",
       " '/mnt/c/Users/user/data/dl_radiomics/dim-2_size-256_method-crop_roi_size-150/amphia/PREM_AM_108_3.nii.gz',\n",
       " '/mnt/c/Users/user/data/dl_radiomics/dim-2_size-256_method-crop_roi_size-150/amphia/PREM_AM_115_0.nii.gz',\n",
       " '/mnt/c/Users/user/data/dl_radiomics/dim-2_size-256_method-crop_roi_size-150/amphia/PREM_AM_115_1.nii.gz',\n",
       " '/mnt/c/Users/user/data/dl_radiomics/dim-2_size-256_method-crop_roi_size-150/amphia/PREM_AM_115_2.nii.gz',\n",
       " '/mnt/c/Users/user/data/dl_radiomics/dim-2_size-256_method-crop_roi_size-150/amphia/PREM_AM_115_3.nii.gz',\n",
       " '/mnt/c/Users/user/data/dl_radiomics/dim-2_size-256_method-crop_roi_size-150/amphia/PREM_AM_115_4.nii.gz',\n",
       " '/mnt/c/Users/user/data/dl_radiomics/dim-2_size-256_method-crop_roi_size-150/amphia/PREM_AM_117_0.nii.gz',\n",
       " '/mnt/c/Users/user/data/dl_radiomics/dim-2_size-256_method-crop_roi_size-150/amphia/PREM_AM_117_1.nii.gz',\n",
       " '/mnt/c/Users/user/data/dl_radiomics/dim-2_size-256_method-crop_roi_size-150/amphia/PREM_AM_121_0.nii.gz',\n",
       " '/mnt/c/Users/user/data/dl_radiomics/dim-2_size-256_method-crop_roi_size-150/amphia/PREM_AM_121_1.nii.gz',\n",
       " '/mnt/c/Users/user/data/dl_radiomics/dim-2_size-256_method-crop_roi_size-150/amphia/PREM_AM_121_2.nii.gz',\n",
       " '/mnt/c/Users/user/data/dl_radiomics/dim-2_size-256_method-crop_roi_size-150/amphia/PREM_AM_121_4.nii.gz',\n",
       " '/mnt/c/Users/user/data/dl_radiomics/dim-2_size-256_method-crop_roi_size-150/amphia/PREM_AM_122_0.nii.gz',\n",
       " '/mnt/c/Users/user/data/dl_radiomics/dim-2_size-256_method-crop_roi_size-150/amphia/PREM_AM_122_1.nii.gz',\n",
       " '/mnt/c/Users/user/data/dl_radiomics/dim-2_size-256_method-crop_roi_size-150/amphia/PREM_AM_123_0.nii.gz',\n",
       " '/mnt/c/Users/user/data/dl_radiomics/dim-2_size-256_method-crop_roi_size-150/amphia/PREM_AM_123_1.nii.gz',\n",
       " '/mnt/c/Users/user/data/dl_radiomics/dim-2_size-256_method-crop_roi_size-150/amphia/PREM_AM_123_2.nii.gz',\n",
       " '/mnt/c/Users/user/data/dl_radiomics/dim-2_size-256_method-crop_roi_size-150/amphia/PREM_AM_123_3.nii.gz',\n",
       " '/mnt/c/Users/user/data/dl_radiomics/dim-2_size-256_method-crop_roi_size-150/amphia/PREM_AM_123_4.nii.gz',\n",
       " '/mnt/c/Users/user/data/dl_radiomics/dim-2_size-256_method-crop_roi_size-150/isala/PREM_IS_001_0.nii.gz',\n",
       " '/mnt/c/Users/user/data/dl_radiomics/dim-2_size-256_method-crop_roi_size-150/isala/PREM_IS_001_1.nii.gz',\n",
       " '/mnt/c/Users/user/data/dl_radiomics/dim-2_size-256_method-crop_roi_size-150/isala/PREM_IS_001_2.nii.gz',\n",
       " '/mnt/c/Users/user/data/dl_radiomics/dim-2_size-256_method-crop_roi_size-150/isala/PREM_IS_001_3.nii.gz',\n",
       " '/mnt/c/Users/user/data/dl_radiomics/dim-2_size-256_method-crop_roi_size-150/isala/PREM_IS_001_4.nii.gz',\n",
       " '/mnt/c/Users/user/data/dl_radiomics/dim-2_size-256_method-crop_roi_size-150/isala/PREM_IS_004_0.nii.gz',\n",
       " '/mnt/c/Users/user/data/dl_radiomics/dim-2_size-256_method-crop_roi_size-150/isala/PREM_IS_004_1.nii.gz',\n",
       " '/mnt/c/Users/user/data/dl_radiomics/dim-2_size-256_method-crop_roi_size-150/isala/PREM_IS_004_2.nii.gz',\n",
       " '/mnt/c/Users/user/data/dl_radiomics/dim-2_size-256_method-crop_roi_size-150/isala/PREM_IS_004_3.nii.gz',\n",
       " '/mnt/c/Users/user/data/dl_radiomics/dim-2_size-256_method-crop_roi_size-150/isala/PREM_IS_009_0.nii.gz',\n",
       " '/mnt/c/Users/user/data/dl_radiomics/dim-2_size-256_method-crop_roi_size-150/isala/PREM_IS_009_1.nii.gz',\n",
       " '/mnt/c/Users/user/data/dl_radiomics/dim-2_size-256_method-crop_roi_size-150/isala/PREM_IS_009_2.nii.gz',\n",
       " '/mnt/c/Users/user/data/dl_radiomics/dim-2_size-256_method-crop_roi_size-150/isala/PREM_IS_009_3.nii.gz',\n",
       " '/mnt/c/Users/user/data/dl_radiomics/dim-2_size-256_method-crop_roi_size-150/isala/PREM_IS_009_4.nii.gz',\n",
       " '/mnt/c/Users/user/data/dl_radiomics/dim-2_size-256_method-crop_roi_size-150/isala/PREM_IS_012_0.nii.gz',\n",
       " '/mnt/c/Users/user/data/dl_radiomics/dim-2_size-256_method-crop_roi_size-150/isala/PREM_IS_012_1.nii.gz',\n",
       " '/mnt/c/Users/user/data/dl_radiomics/dim-2_size-256_method-crop_roi_size-150/isala/PREM_IS_012_2.nii.gz',\n",
       " '/mnt/c/Users/user/data/dl_radiomics/dim-2_size-256_method-crop_roi_size-150/isala/PREM_IS_012_3.nii.gz',\n",
       " '/mnt/c/Users/user/data/dl_radiomics/dim-2_size-256_method-crop_roi_size-150/isala/PREM_IS_012_4.nii.gz',\n",
       " '/mnt/c/Users/user/data/dl_radiomics/dim-2_size-256_method-crop_roi_size-150/isala/PREM_IS_020_0.nii.gz',\n",
       " '/mnt/c/Users/user/data/dl_radiomics/dim-2_size-256_method-crop_roi_size-150/isala/PREM_IS_020_1.nii.gz',\n",
       " '/mnt/c/Users/user/data/dl_radiomics/dim-2_size-256_method-crop_roi_size-150/isala/PREM_IS_020_2.nii.gz',\n",
       " '/mnt/c/Users/user/data/dl_radiomics/dim-2_size-256_method-crop_roi_size-150/isala/PREM_IS_020_3.nii.gz',\n",
       " '/mnt/c/Users/user/data/dl_radiomics/dim-2_size-256_method-crop_roi_size-150/isala/PREM_IS_020_4.nii.gz',\n",
       " '/mnt/c/Users/user/data/dl_radiomics/dim-2_size-256_method-crop_roi_size-150/isala/PREM_IS_021_0.nii.gz',\n",
       " '/mnt/c/Users/user/data/dl_radiomics/dim-2_size-256_method-crop_roi_size-150/isala/PREM_IS_021_1.nii.gz',\n",
       " '/mnt/c/Users/user/data/dl_radiomics/dim-2_size-256_method-crop_roi_size-150/isala/PREM_IS_027_0.nii.gz',\n",
       " '/mnt/c/Users/user/data/dl_radiomics/dim-2_size-256_method-crop_roi_size-150/isala/PREM_IS_027_1.nii.gz',\n",
       " '/mnt/c/Users/user/data/dl_radiomics/dim-2_size-256_method-crop_roi_size-150/isala/PREM_IS_027_2.nii.gz',\n",
       " '/mnt/c/Users/user/data/dl_radiomics/dim-2_size-256_method-crop_roi_size-150/isala/PREM_IS_027_3.nii.gz',\n",
       " '/mnt/c/Users/user/data/dl_radiomics/dim-2_size-256_method-crop_roi_size-150/isala/PREM_IS_027_4.nii.gz',\n",
       " '/mnt/c/Users/user/data/dl_radiomics/dim-2_size-256_method-crop_roi_size-150/isala/PREM_IS_033_0.nii.gz',\n",
       " '/mnt/c/Users/user/data/dl_radiomics/dim-2_size-256_method-crop_roi_size-150/isala/PREM_IS_033_1.nii.gz',\n",
       " '/mnt/c/Users/user/data/dl_radiomics/dim-2_size-256_method-crop_roi_size-150/isala/PREM_IS_033_2.nii.gz',\n",
       " '/mnt/c/Users/user/data/dl_radiomics/dim-2_size-256_method-crop_roi_size-150/isala/PREM_IS_037_0.nii.gz',\n",
       " '/mnt/c/Users/user/data/dl_radiomics/dim-2_size-256_method-crop_roi_size-150/isala/PREM_IS_037_1.nii.gz',\n",
       " '/mnt/c/Users/user/data/dl_radiomics/dim-2_size-256_method-crop_roi_size-150/isala/PREM_IS_037_2.nii.gz',\n",
       " '/mnt/c/Users/user/data/dl_radiomics/dim-2_size-256_method-crop_roi_size-150/isala/PREM_IS_037_3.nii.gz',\n",
       " '/mnt/c/Users/user/data/dl_radiomics/dim-2_size-256_method-crop_roi_size-150/isala/PREM_IS_037_4.nii.gz',\n",
       " '/mnt/c/Users/user/data/dl_radiomics/dim-2_size-256_method-crop_roi_size-150/isala/PREM_IS_044_0.nii.gz',\n",
       " '/mnt/c/Users/user/data/dl_radiomics/dim-2_size-256_method-crop_roi_size-150/isala/PREM_IS_044_1.nii.gz',\n",
       " '/mnt/c/Users/user/data/dl_radiomics/dim-2_size-256_method-crop_roi_size-150/isala/PREM_IS_044_2.nii.gz',\n",
       " '/mnt/c/Users/user/data/dl_radiomics/dim-2_size-256_method-crop_roi_size-150/isala/PREM_IS_046_0.nii.gz',\n",
       " '/mnt/c/Users/user/data/dl_radiomics/dim-2_size-256_method-crop_roi_size-150/isala/PREM_IS_046_1.nii.gz',\n",
       " '/mnt/c/Users/user/data/dl_radiomics/dim-2_size-256_method-crop_roi_size-150/isala/PREM_IS_047_0.nii.gz',\n",
       " '/mnt/c/Users/user/data/dl_radiomics/dim-2_size-256_method-crop_roi_size-150/isala/PREM_IS_047_2.nii.gz',\n",
       " '/mnt/c/Users/user/data/dl_radiomics/dim-2_size-256_method-crop_roi_size-150/isala/PREM_IS_047_3.nii.gz',\n",
       " '/mnt/c/Users/user/data/dl_radiomics/dim-2_size-256_method-crop_roi_size-150/isala/PREM_IS_047_4.nii.gz',\n",
       " '/mnt/c/Users/user/data/dl_radiomics/dim-2_size-256_method-crop_roi_size-150/isala/PREM_IS_049_0.nii.gz',\n",
       " '/mnt/c/Users/user/data/dl_radiomics/dim-2_size-256_method-crop_roi_size-150/isala/PREM_IS_049_1.nii.gz',\n",
       " '/mnt/c/Users/user/data/dl_radiomics/dim-2_size-256_method-crop_roi_size-150/isala/PREM_IS_049_2.nii.gz',\n",
       " '/mnt/c/Users/user/data/dl_radiomics/dim-2_size-256_method-crop_roi_size-150/isala/PREM_IS_049_3.nii.gz',\n",
       " '/mnt/c/Users/user/data/dl_radiomics/dim-2_size-256_method-crop_roi_size-150/isala/PREM_IS_049_4.nii.gz',\n",
       " '/mnt/c/Users/user/data/dl_radiomics/dim-2_size-256_method-crop_roi_size-150/isala/PREM_IS_051_0.nii.gz',\n",
       " '/mnt/c/Users/user/data/dl_radiomics/dim-2_size-256_method-crop_roi_size-150/isala/PREM_IS_051_1.nii.gz',\n",
       " '/mnt/c/Users/user/data/dl_radiomics/dim-2_size-256_method-crop_roi_size-150/isala/PREM_IS_051_2.nii.gz',\n",
       " '/mnt/c/Users/user/data/dl_radiomics/dim-2_size-256_method-crop_roi_size-150/isala/PREM_IS_051_3.nii.gz',\n",
       " '/mnt/c/Users/user/data/dl_radiomics/dim-2_size-256_method-crop_roi_size-150/isala/PREM_IS_051_4.nii.gz',\n",
       " '/mnt/c/Users/user/data/dl_radiomics/dim-2_size-256_method-crop_roi_size-150/isala/PREM_IS_054_0.nii.gz',\n",
       " '/mnt/c/Users/user/data/dl_radiomics/dim-2_size-256_method-crop_roi_size-150/isala/PREM_IS_054_1.nii.gz',\n",
       " '/mnt/c/Users/user/data/dl_radiomics/dim-2_size-256_method-crop_roi_size-150/isala/PREM_IS_054_2.nii.gz',\n",
       " '/mnt/c/Users/user/data/dl_radiomics/dim-2_size-256_method-crop_roi_size-150/isala/PREM_IS_054_3.nii.gz',\n",
       " '/mnt/c/Users/user/data/dl_radiomics/dim-2_size-256_method-crop_roi_size-150/isala/PREM_IS_060_0.nii.gz',\n",
       " '/mnt/c/Users/user/data/dl_radiomics/dim-2_size-256_method-crop_roi_size-150/isala/PREM_IS_060_1.nii.gz',\n",
       " '/mnt/c/Users/user/data/dl_radiomics/dim-2_size-256_method-crop_roi_size-150/isala/PREM_IS_060_2.nii.gz',\n",
       " '/mnt/c/Users/user/data/dl_radiomics/dim-2_size-256_method-crop_roi_size-150/isala/PREM_IS_060_3.nii.gz',\n",
       " '/mnt/c/Users/user/data/dl_radiomics/dim-2_size-256_method-crop_roi_size-150/isala/PREM_IS_060_4.nii.gz',\n",
       " '/mnt/c/Users/user/data/dl_radiomics/dim-2_size-256_method-crop_roi_size-150/isala/PREM_IS_063_0.nii.gz',\n",
       " '/mnt/c/Users/user/data/dl_radiomics/dim-2_size-256_method-crop_roi_size-150/isala/PREM_IS_063_1.nii.gz',\n",
       " '/mnt/c/Users/user/data/dl_radiomics/dim-2_size-256_method-crop_roi_size-150/isala/PREM_IS_063_2.nii.gz',\n",
       " '/mnt/c/Users/user/data/dl_radiomics/dim-2_size-256_method-crop_roi_size-150/isala/PREM_IS_063_3.nii.gz',\n",
       " '/mnt/c/Users/user/data/dl_radiomics/dim-2_size-256_method-crop_roi_size-150/isala/PREM_IS_063_4.nii.gz',\n",
       " '/mnt/c/Users/user/data/dl_radiomics/dim-2_size-256_method-crop_roi_size-150/isala/PREM_IS_064_0.nii.gz',\n",
       " '/mnt/c/Users/user/data/dl_radiomics/dim-2_size-256_method-crop_roi_size-150/isala/PREM_IS_064_1.nii.gz',\n",
       " '/mnt/c/Users/user/data/dl_radiomics/dim-2_size-256_method-crop_roi_size-150/isala/PREM_IS_066_0.nii.gz',\n",
       " '/mnt/c/Users/user/data/dl_radiomics/dim-2_size-256_method-crop_roi_size-150/isala/PREM_IS_066_1.nii.gz',\n",
       " '/mnt/c/Users/user/data/dl_radiomics/dim-2_size-256_method-crop_roi_size-150/isala/PREM_IS_067_0.nii.gz',\n",
       " '/mnt/c/Users/user/data/dl_radiomics/dim-2_size-256_method-crop_roi_size-150/isala/PREM_IS_067_1.nii.gz',\n",
       " '/mnt/c/Users/user/data/dl_radiomics/dim-2_size-256_method-crop_roi_size-150/isala/PREM_IS_067_2.nii.gz',\n",
       " '/mnt/c/Users/user/data/dl_radiomics/dim-2_size-256_method-crop_roi_size-150/isala/PREM_IS_067_3.nii.gz',\n",
       " '/mnt/c/Users/user/data/dl_radiomics/dim-2_size-256_method-crop_roi_size-150/isala/PREM_IS_070_0.nii.gz',\n",
       " '/mnt/c/Users/user/data/dl_radiomics/dim-2_size-256_method-crop_roi_size-150/isala/PREM_IS_070_1.nii.gz',\n",
       " '/mnt/c/Users/user/data/dl_radiomics/dim-2_size-256_method-crop_roi_size-150/isala/PREM_IS_070_2.nii.gz',\n",
       " '/mnt/c/Users/user/data/dl_radiomics/dim-2_size-256_method-crop_roi_size-150/isala/PREM_IS_075_0.nii.gz',\n",
       " '/mnt/c/Users/user/data/dl_radiomics/dim-2_size-256_method-crop_roi_size-150/isala/PREM_IS_075_1.nii.gz',\n",
       " '/mnt/c/Users/user/data/dl_radiomics/dim-2_size-256_method-crop_roi_size-150/isala/PREM_IS_075_2.nii.gz',\n",
       " '/mnt/c/Users/user/data/dl_radiomics/dim-2_size-256_method-crop_roi_size-150/isala/PREM_IS_075_3.nii.gz',\n",
       " '/mnt/c/Users/user/data/dl_radiomics/dim-2_size-256_method-crop_roi_size-150/isala/PREM_IS_075_4.nii.gz',\n",
       " '/mnt/c/Users/user/data/dl_radiomics/dim-2_size-256_method-crop_roi_size-150/isala/PREM_IS_078_0.nii.gz',\n",
       " '/mnt/c/Users/user/data/dl_radiomics/dim-2_size-256_method-crop_roi_size-150/isala/PREM_IS_078_1.nii.gz',\n",
       " '/mnt/c/Users/user/data/dl_radiomics/dim-2_size-256_method-crop_roi_size-150/isala/PREM_IS_078_2.nii.gz',\n",
       " '/mnt/c/Users/user/data/dl_radiomics/dim-2_size-256_method-crop_roi_size-150/isala/PREM_IS_078_3.nii.gz',\n",
       " '/mnt/c/Users/user/data/dl_radiomics/dim-2_size-256_method-crop_roi_size-150/isala/PREM_IS_078_4.nii.gz',\n",
       " '/mnt/c/Users/user/data/dl_radiomics/dim-2_size-256_method-crop_roi_size-150/isala/PREM_IS_079_0.nii.gz',\n",
       " '/mnt/c/Users/user/data/dl_radiomics/dim-2_size-256_method-crop_roi_size-150/isala/PREM_IS_079_1.nii.gz',\n",
       " '/mnt/c/Users/user/data/dl_radiomics/dim-2_size-256_method-crop_roi_size-150/isala/PREM_IS_079_2.nii.gz',\n",
       " '/mnt/c/Users/user/data/dl_radiomics/dim-2_size-256_method-crop_roi_size-150/isala/PREM_IS_082_0.nii.gz',\n",
       " '/mnt/c/Users/user/data/dl_radiomics/dim-2_size-256_method-crop_roi_size-150/isala/PREM_IS_082_1.nii.gz',\n",
       " '/mnt/c/Users/user/data/dl_radiomics/dim-2_size-256_method-crop_roi_size-150/isala/PREM_IS_082_2.nii.gz',\n",
       " '/mnt/c/Users/user/data/dl_radiomics/dim-2_size-256_method-crop_roi_size-150/isala/PREM_IS_083_0.nii.gz',\n",
       " '/mnt/c/Users/user/data/dl_radiomics/dim-2_size-256_method-crop_roi_size-150/isala/PREM_IS_083_1.nii.gz',\n",
       " '/mnt/c/Users/user/data/dl_radiomics/dim-2_size-256_method-crop_roi_size-150/isala/PREM_IS_083_2.nii.gz',\n",
       " '/mnt/c/Users/user/data/dl_radiomics/dim-2_size-256_method-crop_roi_size-150/isala/PREM_IS_083_3.nii.gz',\n",
       " '/mnt/c/Users/user/data/dl_radiomics/dim-2_size-256_method-crop_roi_size-150/isala/PREM_IS_083_4.nii.gz',\n",
       " '/mnt/c/Users/user/data/dl_radiomics/dim-2_size-256_method-crop_roi_size-150/isala/PREM_IS_084_0.nii.gz',\n",
       " '/mnt/c/Users/user/data/dl_radiomics/dim-2_size-256_method-crop_roi_size-150/isala/PREM_IS_084_1.nii.gz',\n",
       " '/mnt/c/Users/user/data/dl_radiomics/dim-2_size-256_method-crop_roi_size-150/isala/PREM_IS_084_2.nii.gz',\n",
       " '/mnt/c/Users/user/data/dl_radiomics/dim-2_size-256_method-crop_roi_size-150/isala/PREM_IS_084_3.nii.gz',\n",
       " '/mnt/c/Users/user/data/dl_radiomics/dim-2_size-256_method-crop_roi_size-150/isala/PREM_IS_084_4.nii.gz',\n",
       " '/mnt/c/Users/user/data/dl_radiomics/dim-2_size-256_method-crop_roi_size-150/isala/PREM_IS_101_0.nii.gz',\n",
       " '/mnt/c/Users/user/data/dl_radiomics/dim-2_size-256_method-crop_roi_size-150/isala/PREM_IS_101_1.nii.gz',\n",
       " '/mnt/c/Users/user/data/dl_radiomics/dim-2_size-256_method-crop_roi_size-150/isala/PREM_IS_101_2.nii.gz',\n",
       " '/mnt/c/Users/user/data/dl_radiomics/dim-2_size-256_method-crop_roi_size-150/isala/PREM_IS_101_3.nii.gz',\n",
       " '/mnt/c/Users/user/data/dl_radiomics/dim-2_size-256_method-crop_roi_size-150/isala/PREM_IS_103_0.nii.gz',\n",
       " '/mnt/c/Users/user/data/dl_radiomics/dim-2_size-256_method-crop_roi_size-150/isala/PREM_IS_103_1.nii.gz',\n",
       " '/mnt/c/Users/user/data/dl_radiomics/dim-2_size-256_method-crop_roi_size-150/isala/PREM_IS_103_2.nii.gz',\n",
       " '/mnt/c/Users/user/data/dl_radiomics/dim-2_size-256_method-crop_roi_size-150/isala/PREM_IS_103_3.nii.gz',\n",
       " '/mnt/c/Users/user/data/dl_radiomics/dim-2_size-256_method-crop_roi_size-150/isala/PREM_IS_103_4.nii.gz',\n",
       " '/mnt/c/Users/user/data/dl_radiomics/dim-2_size-256_method-crop_roi_size-150/isala/PREM_IS_105_0.nii.gz',\n",
       " '/mnt/c/Users/user/data/dl_radiomics/dim-2_size-256_method-crop_roi_size-150/isala/PREM_IS_105_1.nii.gz',\n",
       " '/mnt/c/Users/user/data/dl_radiomics/dim-2_size-256_method-crop_roi_size-150/isala/PREM_IS_105_2.nii.gz',\n",
       " '/mnt/c/Users/user/data/dl_radiomics/dim-2_size-256_method-crop_roi_size-150/isala/PREM_IS_105_3.nii.gz',\n",
       " '/mnt/c/Users/user/data/dl_radiomics/dim-2_size-256_method-crop_roi_size-150/isala/PREM_IS_105_4.nii.gz',\n",
       " '/mnt/c/Users/user/data/dl_radiomics/dim-2_size-256_method-crop_roi_size-150/isala/PREM_IS_114_0.nii.gz',\n",
       " '/mnt/c/Users/user/data/dl_radiomics/dim-2_size-256_method-crop_roi_size-150/isala/PREM_IS_114_1.nii.gz',\n",
       " '/mnt/c/Users/user/data/dl_radiomics/dim-2_size-256_method-crop_roi_size-150/isala/PREM_IS_114_2.nii.gz',\n",
       " '/mnt/c/Users/user/data/dl_radiomics/dim-2_size-256_method-crop_roi_size-150/isala/PREM_IS_114_3.nii.gz',\n",
       " '/mnt/c/Users/user/data/dl_radiomics/dim-2_size-256_method-crop_roi_size-150/isala/PREM_IS_114_4.nii.gz',\n",
       " '/mnt/c/Users/user/data/dl_radiomics/dim-2_size-256_method-crop_roi_size-150/isala/PREM_IS_115_0.nii.gz',\n",
       " '/mnt/c/Users/user/data/dl_radiomics/dim-2_size-256_method-crop_roi_size-150/isala/PREM_IS_115_1.nii.gz',\n",
       " '/mnt/c/Users/user/data/dl_radiomics/dim-2_size-256_method-crop_roi_size-150/isala/PREM_IS_115_2.nii.gz',\n",
       " '/mnt/c/Users/user/data/dl_radiomics/dim-2_size-256_method-crop_roi_size-150/isala/PREM_IS_115_3.nii.gz',\n",
       " '/mnt/c/Users/user/data/dl_radiomics/dim-2_size-256_method-crop_roi_size-150/isala/PREM_IS_115_4.nii.gz',\n",
       " '/mnt/c/Users/user/data/dl_radiomics/dim-2_size-256_method-crop_roi_size-150/isala/PREM_IS_116_0.nii.gz',\n",
       " '/mnt/c/Users/user/data/dl_radiomics/dim-2_size-256_method-crop_roi_size-150/isala/PREM_IS_116_1.nii.gz',\n",
       " '/mnt/c/Users/user/data/dl_radiomics/dim-2_size-256_method-crop_roi_size-150/isala/PREM_IS_116_2.nii.gz',\n",
       " '/mnt/c/Users/user/data/dl_radiomics/dim-2_size-256_method-crop_roi_size-150/isala/PREM_IS_118_0.nii.gz',\n",
       " '/mnt/c/Users/user/data/dl_radiomics/dim-2_size-256_method-crop_roi_size-150/isala/PREM_IS_118_1.nii.gz',\n",
       " '/mnt/c/Users/user/data/dl_radiomics/dim-2_size-256_method-crop_roi_size-150/isala/PREM_IS_118_2.nii.gz',\n",
       " '/mnt/c/Users/user/data/dl_radiomics/dim-2_size-256_method-crop_roi_size-150/isala/PREM_IS_118_3.nii.gz',\n",
       " '/mnt/c/Users/user/data/dl_radiomics/dim-2_size-256_method-crop_roi_size-150/isala/PREM_IS_118_4.nii.gz',\n",
       " '/mnt/c/Users/user/data/dl_radiomics/dim-2_size-256_method-crop_roi_size-150/isala/PREM_IS_122_0.nii.gz',\n",
       " '/mnt/c/Users/user/data/dl_radiomics/dim-2_size-256_method-crop_roi_size-150/isala/PREM_IS_122_1.nii.gz',\n",
       " '/mnt/c/Users/user/data/dl_radiomics/dim-2_size-256_method-crop_roi_size-150/isala/PREM_IS_122_2.nii.gz',\n",
       " '/mnt/c/Users/user/data/dl_radiomics/dim-2_size-256_method-crop_roi_size-150/isala/PREM_IS_122_3.nii.gz',\n",
       " '/mnt/c/Users/user/data/dl_radiomics/dim-2_size-256_method-crop_roi_size-150/isala/PREM_IS_131_0.nii.gz',\n",
       " '/mnt/c/Users/user/data/dl_radiomics/dim-2_size-256_method-crop_roi_size-150/isala/PREM_IS_131_1.nii.gz',\n",
       " '/mnt/c/Users/user/data/dl_radiomics/dim-2_size-256_method-crop_roi_size-150/isala/PREM_IS_131_2.nii.gz',\n",
       " '/mnt/c/Users/user/data/dl_radiomics/dim-2_size-256_method-crop_roi_size-150/isala/PREM_IS_131_3.nii.gz',\n",
       " '/mnt/c/Users/user/data/dl_radiomics/dim-2_size-256_method-crop_roi_size-150/isala/PREM_IS_131_4.nii.gz',\n",
       " '/mnt/c/Users/user/data/dl_radiomics/dim-2_size-256_method-crop_roi_size-150/isala/PREM_IS_138_0.nii.gz',\n",
       " '/mnt/c/Users/user/data/dl_radiomics/dim-2_size-256_method-crop_roi_size-150/isala/PREM_IS_138_1.nii.gz',\n",
       " '/mnt/c/Users/user/data/dl_radiomics/dim-2_size-256_method-crop_roi_size-150/isala/PREM_IS_138_2.nii.gz',\n",
       " '/mnt/c/Users/user/data/dl_radiomics/dim-2_size-256_method-crop_roi_size-150/isala/PREM_IS_138_3.nii.gz',\n",
       " '/mnt/c/Users/user/data/dl_radiomics/dim-2_size-256_method-crop_roi_size-150/isala/PREM_IS_138_4.nii.gz',\n",
       " '/mnt/c/Users/user/data/dl_radiomics/dim-2_size-256_method-crop_roi_size-150/isala/PREM_IS_139_0.nii.gz',\n",
       " '/mnt/c/Users/user/data/dl_radiomics/dim-2_size-256_method-crop_roi_size-150/isala/PREM_IS_139_1.nii.gz',\n",
       " '/mnt/c/Users/user/data/dl_radiomics/dim-2_size-256_method-crop_roi_size-150/isala/PREM_IS_140_0.nii.gz',\n",
       " '/mnt/c/Users/user/data/dl_radiomics/dim-2_size-256_method-crop_roi_size-150/isala/PREM_IS_140_1.nii.gz',\n",
       " '/mnt/c/Users/user/data/dl_radiomics/dim-2_size-256_method-crop_roi_size-150/isala/PREM_IS_140_2.nii.gz',\n",
       " '/mnt/c/Users/user/data/dl_radiomics/dim-2_size-256_method-crop_roi_size-150/isala/PREM_IS_141_0.nii.gz',\n",
       " '/mnt/c/Users/user/data/dl_radiomics/dim-2_size-256_method-crop_roi_size-150/isala/PREM_IS_141_1.nii.gz',\n",
       " '/mnt/c/Users/user/data/dl_radiomics/dim-2_size-256_method-crop_roi_size-150/isala/PREM_IS_141_2.nii.gz',\n",
       " '/mnt/c/Users/user/data/dl_radiomics/dim-2_size-256_method-crop_roi_size-150/isala/PREM_IS_141_3.nii.gz',\n",
       " '/mnt/c/Users/user/data/dl_radiomics/dim-2_size-256_method-crop_roi_size-150/isala/PREM_IS_141_4.nii.gz',\n",
       " '/mnt/c/Users/user/data/dl_radiomics/dim-2_size-256_method-crop_roi_size-150/isala/PREM_IS_142_0.nii.gz',\n",
       " '/mnt/c/Users/user/data/dl_radiomics/dim-2_size-256_method-crop_roi_size-150/isala/PREM_IS_142_1.nii.gz',\n",
       " '/mnt/c/Users/user/data/dl_radiomics/dim-2_size-256_method-crop_roi_size-150/isala/PREM_IS_142_2.nii.gz',\n",
       " '/mnt/c/Users/user/data/dl_radiomics/dim-2_size-256_method-crop_roi_size-150/isala/PREM_IS_142_3.nii.gz',\n",
       " '/mnt/c/Users/user/data/dl_radiomics/dim-2_size-256_method-crop_roi_size-150/isala/PREM_IS_142_4.nii.gz',\n",
       " '/mnt/c/Users/user/data/dl_radiomics/dim-2_size-256_method-crop_roi_size-150/lumc/PREM_LU_009_0.nii.gz',\n",
       " '/mnt/c/Users/user/data/dl_radiomics/dim-2_size-256_method-crop_roi_size-150/lumc/PREM_LU_009_1.nii.gz',\n",
       " '/mnt/c/Users/user/data/dl_radiomics/dim-2_size-256_method-crop_roi_size-150/lumc/PREM_LU_009_2.nii.gz',\n",
       " '/mnt/c/Users/user/data/dl_radiomics/dim-2_size-256_method-crop_roi_size-150/lumc/PREM_LU_009_3.nii.gz',\n",
       " '/mnt/c/Users/user/data/dl_radiomics/dim-2_size-256_method-crop_roi_size-150/lumc/PREM_LU_009_4.nii.gz',\n",
       " '/mnt/c/Users/user/data/dl_radiomics/dim-2_size-256_method-crop_roi_size-150/lumc/PREM_LU_051_0.nii.gz',\n",
       " '/mnt/c/Users/user/data/dl_radiomics/dim-2_size-256_method-crop_roi_size-150/lumc/PREM_LU_051_1.nii.gz',\n",
       " '/mnt/c/Users/user/data/dl_radiomics/dim-2_size-256_method-crop_roi_size-150/lumc/PREM_LU_051_2.nii.gz',\n",
       " '/mnt/c/Users/user/data/dl_radiomics/dim-2_size-256_method-crop_roi_size-150/lumc/PREM_LU_051_3.nii.gz',\n",
       " '/mnt/c/Users/user/data/dl_radiomics/dim-2_size-256_method-crop_roi_size-150/lumc/PREM_LU_051_4.nii.gz',\n",
       " '/mnt/c/Users/user/data/dl_radiomics/dim-2_size-256_method-crop_roi_size-150/lumc/PREM_LU_073_0.nii.gz',\n",
       " '/mnt/c/Users/user/data/dl_radiomics/dim-2_size-256_method-crop_roi_size-150/lumc/PREM_LU_073_1.nii.gz',\n",
       " '/mnt/c/Users/user/data/dl_radiomics/dim-2_size-256_method-crop_roi_size-150/lumc/PREM_LU_073_2.nii.gz',\n",
       " '/mnt/c/Users/user/data/dl_radiomics/dim-2_size-256_method-crop_roi_size-150/lumc/PREM_LU_073_3.nii.gz',\n",
       " '/mnt/c/Users/user/data/dl_radiomics/dim-2_size-256_method-crop_roi_size-150/lumc/PREM_LU_073_4.nii.gz',\n",
       " '/mnt/c/Users/user/data/dl_radiomics/dim-2_size-256_method-crop_roi_size-150/lumc/PREM_LU_087_0.nii.gz',\n",
       " '/mnt/c/Users/user/data/dl_radiomics/dim-2_size-256_method-crop_roi_size-150/lumc/PREM_LU_087_1.nii.gz',\n",
       " '/mnt/c/Users/user/data/dl_radiomics/dim-2_size-256_method-crop_roi_size-150/lumc/PREM_LU_087_2.nii.gz',\n",
       " '/mnt/c/Users/user/data/dl_radiomics/dim-2_size-256_method-crop_roi_size-150/lumc/PREM_LU_087_3.nii.gz',\n",
       " '/mnt/c/Users/user/data/dl_radiomics/dim-2_size-256_method-crop_roi_size-150/lumc/PREM_LU_087_4.nii.gz',\n",
       " '/mnt/c/Users/user/data/dl_radiomics/dim-2_size-256_method-crop_roi_size-150/lumc/PREM_LU_101_1.nii.gz',\n",
       " '/mnt/c/Users/user/data/dl_radiomics/dim-2_size-256_method-crop_roi_size-150/lumc/PREM_LU_101_2.nii.gz',\n",
       " '/mnt/c/Users/user/data/dl_radiomics/dim-2_size-256_method-crop_roi_size-150/lumc/PREM_LU_101_3.nii.gz',\n",
       " '/mnt/c/Users/user/data/dl_radiomics/dim-2_size-256_method-crop_roi_size-150/lumc/PREM_LU_102_0.nii.gz',\n",
       " '/mnt/c/Users/user/data/dl_radiomics/dim-2_size-256_method-crop_roi_size-150/lumc/PREM_LU_102_1.nii.gz',\n",
       " '/mnt/c/Users/user/data/dl_radiomics/dim-2_size-256_method-crop_roi_size-150/lumc/PREM_LU_102_2.nii.gz',\n",
       " '/mnt/c/Users/user/data/dl_radiomics/dim-2_size-256_method-crop_roi_size-150/lumc/PREM_LU_102_3.nii.gz',\n",
       " '/mnt/c/Users/user/data/dl_radiomics/dim-2_size-256_method-crop_roi_size-150/lumc/PREM_LU_102_4.nii.gz',\n",
       " '/mnt/c/Users/user/data/dl_radiomics/dim-2_size-256_method-crop_roi_size-150/lumc/PREM_LU_137_0.nii.gz',\n",
       " '/mnt/c/Users/user/data/dl_radiomics/dim-2_size-256_method-crop_roi_size-150/lumc/PREM_LU_137_1.nii.gz',\n",
       " '/mnt/c/Users/user/data/dl_radiomics/dim-2_size-256_method-crop_roi_size-150/lumc/PREM_LU_137_2.nii.gz',\n",
       " '/mnt/c/Users/user/data/dl_radiomics/dim-2_size-256_method-crop_roi_size-150/lumc/PREM_LU_137_3.nii.gz',\n",
       " '/mnt/c/Users/user/data/dl_radiomics/dim-2_size-256_method-crop_roi_size-150/lumc/PREM_LU_137_4.nii.gz',\n",
       " '/mnt/c/Users/user/data/dl_radiomics/dim-2_size-256_method-crop_roi_size-150/lumc/PREM_LU_183_0.nii.gz',\n",
       " '/mnt/c/Users/user/data/dl_radiomics/dim-2_size-256_method-crop_roi_size-150/lumc/PREM_LU_183_1.nii.gz',\n",
       " '/mnt/c/Users/user/data/dl_radiomics/dim-2_size-256_method-crop_roi_size-150/lumc/PREM_LU_183_2.nii.gz',\n",
       " '/mnt/c/Users/user/data/dl_radiomics/dim-2_size-256_method-crop_roi_size-150/lumc/PREM_LU_183_3.nii.gz',\n",
       " '/mnt/c/Users/user/data/dl_radiomics/dim-2_size-256_method-crop_roi_size-150/lumc/PREM_LU_183_4.nii.gz',\n",
       " '/mnt/c/Users/user/data/dl_radiomics/dim-2_size-256_method-crop_roi_size-150/lumc/PREM_LU_258_0.nii.gz',\n",
       " '/mnt/c/Users/user/data/dl_radiomics/dim-2_size-256_method-crop_roi_size-150/lumc/PREM_LU_258_1.nii.gz',\n",
       " '/mnt/c/Users/user/data/dl_radiomics/dim-2_size-256_method-crop_roi_size-150/lumc/PREM_LU_306_0.nii.gz',\n",
       " '/mnt/c/Users/user/data/dl_radiomics/dim-2_size-256_method-crop_roi_size-150/lumc/PREM_LU_306_1.nii.gz',\n",
       " '/mnt/c/Users/user/data/dl_radiomics/dim-2_size-256_method-crop_roi_size-150/lumc/PREM_LU_306_2.nii.gz',\n",
       " '/mnt/c/Users/user/data/dl_radiomics/dim-2_size-256_method-crop_roi_size-150/lumc/PREM_LU_306_3.nii.gz',\n",
       " '/mnt/c/Users/user/data/dl_radiomics/dim-2_size-256_method-crop_roi_size-150/lumc/PREM_LU_306_4.nii.gz',\n",
       " '/mnt/c/Users/user/data/dl_radiomics/dim-2_size-256_method-crop_roi_size-150/lumc/PREM_LU_313_0.nii.gz',\n",
       " '/mnt/c/Users/user/data/dl_radiomics/dim-2_size-256_method-crop_roi_size-150/lumc/PREM_LU_313_1.nii.gz',\n",
       " '/mnt/c/Users/user/data/dl_radiomics/dim-2_size-256_method-crop_roi_size-150/lumc/PREM_LU_313_2.nii.gz',\n",
       " '/mnt/c/Users/user/data/dl_radiomics/dim-2_size-256_method-crop_roi_size-150/lumc/PREM_LU_313_3.nii.gz',\n",
       " '/mnt/c/Users/user/data/dl_radiomics/dim-2_size-256_method-crop_roi_size-150/lumc/PREM_LU_313_4.nii.gz',\n",
       " '/mnt/c/Users/user/data/dl_radiomics/dim-2_size-256_method-crop_roi_size-150/lumc/PREM_LU_330_0.nii.gz',\n",
       " '/mnt/c/Users/user/data/dl_radiomics/dim-2_size-256_method-crop_roi_size-150/lumc/PREM_LU_330_1.nii.gz',\n",
       " '/mnt/c/Users/user/data/dl_radiomics/dim-2_size-256_method-crop_roi_size-150/lumc/PREM_LU_330_2.nii.gz',\n",
       " '/mnt/c/Users/user/data/dl_radiomics/dim-2_size-256_method-crop_roi_size-150/lumc/PREM_LU_330_3.nii.gz',\n",
       " '/mnt/c/Users/user/data/dl_radiomics/dim-2_size-256_method-crop_roi_size-150/lumc/PREM_LU_330_4.nii.gz',\n",
       " '/mnt/c/Users/user/data/dl_radiomics/dim-2_size-256_method-crop_roi_size-150/lumc/PREM_LU_364_0.nii.gz',\n",
       " '/mnt/c/Users/user/data/dl_radiomics/dim-2_size-256_method-crop_roi_size-150/lumc/PREM_LU_364_1.nii.gz',\n",
       " '/mnt/c/Users/user/data/dl_radiomics/dim-2_size-256_method-crop_roi_size-150/lumc/PREM_LU_364_2.nii.gz',\n",
       " '/mnt/c/Users/user/data/dl_radiomics/dim-2_size-256_method-crop_roi_size-150/lumc/PREM_LU_364_3.nii.gz',\n",
       " '/mnt/c/Users/user/data/dl_radiomics/dim-2_size-256_method-crop_roi_size-150/lumc/PREM_LU_364_4.nii.gz',\n",
       " '/mnt/c/Users/user/data/dl_radiomics/dim-2_size-256_method-crop_roi_size-150/lumc/PREM_LU_402_0.nii.gz',\n",
       " '/mnt/c/Users/user/data/dl_radiomics/dim-2_size-256_method-crop_roi_size-150/lumc/PREM_LU_402_2.nii.gz',\n",
       " '/mnt/c/Users/user/data/dl_radiomics/dim-2_size-256_method-crop_roi_size-150/lumc/PREM_LU_402_3.nii.gz',\n",
       " '/mnt/c/Users/user/data/dl_radiomics/dim-2_size-256_method-crop_roi_size-150/lumc/PREM_LU_402_4.nii.gz',\n",
       " '/mnt/c/Users/user/data/dl_radiomics/dim-2_size-256_method-crop_roi_size-150/lumc/PREM_LU_440_0.nii.gz',\n",
       " '/mnt/c/Users/user/data/dl_radiomics/dim-2_size-256_method-crop_roi_size-150/lumc/PREM_LU_440_1.nii.gz',\n",
       " '/mnt/c/Users/user/data/dl_radiomics/dim-2_size-256_method-crop_roi_size-150/lumc/PREM_LU_440_2.nii.gz',\n",
       " '/mnt/c/Users/user/data/dl_radiomics/dim-2_size-256_method-crop_roi_size-150/lumc/PREM_LU_440_3.nii.gz',\n",
       " '/mnt/c/Users/user/data/dl_radiomics/dim-2_size-256_method-crop_roi_size-150/lumc/PREM_LU_440_4.nii.gz',\n",
       " '/mnt/c/Users/user/data/dl_radiomics/dim-2_size-256_method-crop_roi_size-150/lumc/PREM_LU_448_0.nii.gz',\n",
       " '/mnt/c/Users/user/data/dl_radiomics/dim-2_size-256_method-crop_roi_size-150/lumc/PREM_LU_448_1.nii.gz',\n",
       " '/mnt/c/Users/user/data/dl_radiomics/dim-2_size-256_method-crop_roi_size-150/lumc/PREM_LU_448_2.nii.gz',\n",
       " '/mnt/c/Users/user/data/dl_radiomics/dim-2_size-256_method-crop_roi_size-150/lumc/PREM_LU_448_3.nii.gz',\n",
       " '/mnt/c/Users/user/data/dl_radiomics/dim-2_size-256_method-crop_roi_size-150/lumc/PREM_LU_448_4.nii.gz',\n",
       " '/mnt/c/Users/user/data/dl_radiomics/dim-2_size-256_method-crop_roi_size-150/lumc/PREM_LU_452_0.nii.gz',\n",
       " '/mnt/c/Users/user/data/dl_radiomics/dim-2_size-256_method-crop_roi_size-150/lumc/PREM_LU_452_1.nii.gz',\n",
       " '/mnt/c/Users/user/data/dl_radiomics/dim-2_size-256_method-crop_roi_size-150/lumc/PREM_LU_452_2.nii.gz',\n",
       " '/mnt/c/Users/user/data/dl_radiomics/dim-2_size-256_method-crop_roi_size-150/lumc/PREM_LU_452_3.nii.gz',\n",
       " '/mnt/c/Users/user/data/dl_radiomics/dim-2_size-256_method-crop_roi_size-150/lumc/PREM_LU_452_4.nii.gz',\n",
       " '/mnt/c/Users/user/data/dl_radiomics/dim-2_size-256_method-crop_roi_size-150/lumc/PREM_LU_466_0.nii.gz',\n",
       " '/mnt/c/Users/user/data/dl_radiomics/dim-2_size-256_method-crop_roi_size-150/lumc/PREM_LU_466_1.nii.gz',\n",
       " '/mnt/c/Users/user/data/dl_radiomics/dim-2_size-256_method-crop_roi_size-150/lumc/PREM_LU_466_2.nii.gz',\n",
       " '/mnt/c/Users/user/data/dl_radiomics/dim-2_size-256_method-crop_roi_size-150/lumc/PREM_LU_466_3.nii.gz',\n",
       " '/mnt/c/Users/user/data/dl_radiomics/dim-2_size-256_method-crop_roi_size-150/lumc/PREM_LU_466_4.nii.gz',\n",
       " '/mnt/c/Users/user/data/dl_radiomics/dim-2_size-256_method-crop_roi_size-150/lumc/PREM_LU_503_0.nii.gz',\n",
       " '/mnt/c/Users/user/data/dl_radiomics/dim-2_size-256_method-crop_roi_size-150/lumc/PREM_LU_503_1.nii.gz',\n",
       " '/mnt/c/Users/user/data/dl_radiomics/dim-2_size-256_method-crop_roi_size-150/lumc/PREM_LU_503_2.nii.gz',\n",
       " '/mnt/c/Users/user/data/dl_radiomics/dim-2_size-256_method-crop_roi_size-150/lumc/PREM_LU_503_3.nii.gz',\n",
       " '/mnt/c/Users/user/data/dl_radiomics/dim-2_size-256_method-crop_roi_size-150/lumc/PREM_LU_503_4.nii.gz',\n",
       " '/mnt/c/Users/user/data/dl_radiomics/dim-2_size-256_method-crop_roi_size-150/lumc/PREM_LU_515_0.nii.gz',\n",
       " '/mnt/c/Users/user/data/dl_radiomics/dim-2_size-256_method-crop_roi_size-150/lumc/PREM_LU_515_1.nii.gz',\n",
       " '/mnt/c/Users/user/data/dl_radiomics/dim-2_size-256_method-crop_roi_size-150/lumc/PREM_LU_515_2.nii.gz',\n",
       " '/mnt/c/Users/user/data/dl_radiomics/dim-2_size-256_method-crop_roi_size-150/lumc/PREM_LU_515_3.nii.gz',\n",
       " '/mnt/c/Users/user/data/dl_radiomics/dim-2_size-256_method-crop_roi_size-150/lumc/PREM_LU_515_4.nii.gz',\n",
       " '/mnt/c/Users/user/data/dl_radiomics/dim-2_size-256_method-crop_roi_size-150/lumc/PREM_LU_516_0.nii.gz',\n",
       " '/mnt/c/Users/user/data/dl_radiomics/dim-2_size-256_method-crop_roi_size-150/lumc/PREM_LU_516_1.nii.gz',\n",
       " '/mnt/c/Users/user/data/dl_radiomics/dim-2_size-256_method-crop_roi_size-150/lumc/PREM_LU_516_2.nii.gz',\n",
       " '/mnt/c/Users/user/data/dl_radiomics/dim-2_size-256_method-crop_roi_size-150/lumc/PREM_LU_516_3.nii.gz',\n",
       " '/mnt/c/Users/user/data/dl_radiomics/dim-2_size-256_method-crop_roi_size-150/lumc/PREM_LU_521_0.nii.gz',\n",
       " '/mnt/c/Users/user/data/dl_radiomics/dim-2_size-256_method-crop_roi_size-150/lumc/PREM_LU_521_1.nii.gz',\n",
       " '/mnt/c/Users/user/data/dl_radiomics/dim-2_size-256_method-crop_roi_size-150/lumc/PREM_LU_521_2.nii.gz',\n",
       " '/mnt/c/Users/user/data/dl_radiomics/dim-2_size-256_method-crop_roi_size-150/lumc/PREM_LU_521_3.nii.gz',\n",
       " '/mnt/c/Users/user/data/dl_radiomics/dim-2_size-256_method-crop_roi_size-150/lumc/PREM_LU_521_4.nii.gz',\n",
       " '/mnt/c/Users/user/data/dl_radiomics/dim-2_size-256_method-crop_roi_size-150/lumc/PREM_LU_535_0.nii.gz',\n",
       " '/mnt/c/Users/user/data/dl_radiomics/dim-2_size-256_method-crop_roi_size-150/lumc/PREM_LU_535_1.nii.gz',\n",
       " '/mnt/c/Users/user/data/dl_radiomics/dim-2_size-256_method-crop_roi_size-150/lumc/PREM_LU_535_2.nii.gz',\n",
       " '/mnt/c/Users/user/data/dl_radiomics/dim-2_size-256_method-crop_roi_size-150/lumc/PREM_LU_535_3.nii.gz',\n",
       " '/mnt/c/Users/user/data/dl_radiomics/dim-2_size-256_method-crop_roi_size-150/lumc/PREM_LU_535_4.nii.gz',\n",
       " '/mnt/c/Users/user/data/dl_radiomics/dim-2_size-256_method-crop_roi_size-150/lumc/PREM_LU_536_0.nii.gz',\n",
       " '/mnt/c/Users/user/data/dl_radiomics/dim-2_size-256_method-crop_roi_size-150/lumc/PREM_LU_536_1.nii.gz',\n",
       " '/mnt/c/Users/user/data/dl_radiomics/dim-2_size-256_method-crop_roi_size-150/lumc/PREM_LU_536_2.nii.gz',\n",
       " '/mnt/c/Users/user/data/dl_radiomics/dim-2_size-256_method-crop_roi_size-150/lumc/PREM_LU_536_3.nii.gz',\n",
       " '/mnt/c/Users/user/data/dl_radiomics/dim-2_size-256_method-crop_roi_size-150/lumc/PREM_LU_536_4.nii.gz',\n",
       " '/mnt/c/Users/user/data/dl_radiomics/dim-2_size-256_method-crop_roi_size-150/lumc/PREM_LU_572_0.nii.gz',\n",
       " '/mnt/c/Users/user/data/dl_radiomics/dim-2_size-256_method-crop_roi_size-150/lumc/PREM_LU_572_1.nii.gz',\n",
       " '/mnt/c/Users/user/data/dl_radiomics/dim-2_size-256_method-crop_roi_size-150/lumc/PREM_LU_572_2.nii.gz',\n",
       " '/mnt/c/Users/user/data/dl_radiomics/dim-2_size-256_method-crop_roi_size-150/lumc/PREM_LU_572_3.nii.gz',\n",
       " '/mnt/c/Users/user/data/dl_radiomics/dim-2_size-256_method-crop_roi_size-150/lumc/PREM_LU_572_4.nii.gz',\n",
       " '/mnt/c/Users/user/data/dl_radiomics/dim-2_size-256_method-crop_roi_size-150/lumc/PREM_LU_587_0.nii.gz',\n",
       " '/mnt/c/Users/user/data/dl_radiomics/dim-2_size-256_method-crop_roi_size-150/lumc/PREM_LU_587_1.nii.gz',\n",
       " '/mnt/c/Users/user/data/dl_radiomics/dim-2_size-256_method-crop_roi_size-150/lumc/PREM_LU_587_2.nii.gz',\n",
       " '/mnt/c/Users/user/data/dl_radiomics/dim-2_size-256_method-crop_roi_size-150/lumc/PREM_LU_587_3.nii.gz',\n",
       " '/mnt/c/Users/user/data/dl_radiomics/dim-2_size-256_method-crop_roi_size-150/lumc/PREM_LU_587_4.nii.gz',\n",
       " '/mnt/c/Users/user/data/dl_radiomics/dim-2_size-256_method-crop_roi_size-150/lumc/PREM_LU_594_0.nii.gz',\n",
       " '/mnt/c/Users/user/data/dl_radiomics/dim-2_size-256_method-crop_roi_size-150/lumc/PREM_LU_594_1.nii.gz',\n",
       " '/mnt/c/Users/user/data/dl_radiomics/dim-2_size-256_method-crop_roi_size-150/lumc/PREM_LU_594_2.nii.gz',\n",
       " '/mnt/c/Users/user/data/dl_radiomics/dim-2_size-256_method-crop_roi_size-150/lumc/PREM_LU_667_0.nii.gz',\n",
       " '/mnt/c/Users/user/data/dl_radiomics/dim-2_size-256_method-crop_roi_size-150/lumc/PREM_LU_667_1.nii.gz',\n",
       " '/mnt/c/Users/user/data/dl_radiomics/dim-2_size-256_method-crop_roi_size-150/lumc/PREM_LU_667_2.nii.gz',\n",
       " '/mnt/c/Users/user/data/dl_radiomics/dim-2_size-256_method-crop_roi_size-150/lumc/PREM_LU_667_3.nii.gz',\n",
       " '/mnt/c/Users/user/data/dl_radiomics/dim-2_size-256_method-crop_roi_size-150/lumc/PREM_LU_667_4.nii.gz',\n",
       " '/mnt/c/Users/user/data/dl_radiomics/dim-2_size-256_method-crop_roi_size-150/lumc/PREM_LU_714_0.nii.gz',\n",
       " '/mnt/c/Users/user/data/dl_radiomics/dim-2_size-256_method-crop_roi_size-150/lumc/PREM_LU_714_1.nii.gz',\n",
       " '/mnt/c/Users/user/data/dl_radiomics/dim-2_size-256_method-crop_roi_size-150/lumc/PREM_LU_714_2.nii.gz',\n",
       " '/mnt/c/Users/user/data/dl_radiomics/dim-2_size-256_method-crop_roi_size-150/lumc/PREM_LU_714_3.nii.gz',\n",
       " '/mnt/c/Users/user/data/dl_radiomics/dim-2_size-256_method-crop_roi_size-150/lumc/PREM_LU_714_4.nii.gz',\n",
       " '/mnt/c/Users/user/data/dl_radiomics/dim-2_size-256_method-crop_roi_size-150/lumc/PREM_LU_750_0.nii.gz',\n",
       " '/mnt/c/Users/user/data/dl_radiomics/dim-2_size-256_method-crop_roi_size-150/lumc/PREM_LU_750_1.nii.gz',\n",
       " '/mnt/c/Users/user/data/dl_radiomics/dim-2_size-256_method-crop_roi_size-150/lumc/PREM_LU_750_2.nii.gz',\n",
       " '/mnt/c/Users/user/data/dl_radiomics/dim-2_size-256_method-crop_roi_size-150/lumc/PREM_LU_750_3.nii.gz',\n",
       " '/mnt/c/Users/user/data/dl_radiomics/dim-2_size-256_method-crop_roi_size-150/lumc/PREM_LU_750_4.nii.gz',\n",
       " '/mnt/c/Users/user/data/dl_radiomics/dim-2_size-256_method-crop_roi_size-150/lumc/PREM_LU_768_0.nii.gz',\n",
       " '/mnt/c/Users/user/data/dl_radiomics/dim-2_size-256_method-crop_roi_size-150/lumc/PREM_LU_768_1.nii.gz',\n",
       " '/mnt/c/Users/user/data/dl_radiomics/dim-2_size-256_method-crop_roi_size-150/lumc/PREM_LU_768_2.nii.gz',\n",
       " '/mnt/c/Users/user/data/dl_radiomics/dim-2_size-256_method-crop_roi_size-150/lumc/PREM_LU_768_3.nii.gz',\n",
       " '/mnt/c/Users/user/data/dl_radiomics/dim-2_size-256_method-crop_roi_size-150/lumc/PREM_LU_768_4.nii.gz',\n",
       " '/mnt/c/Users/user/data/dl_radiomics/dim-2_size-256_method-crop_roi_size-150/lumc/PREM_LU_797_0.nii.gz',\n",
       " '/mnt/c/Users/user/data/dl_radiomics/dim-2_size-256_method-crop_roi_size-150/lumc/PREM_LU_797_1.nii.gz',\n",
       " '/mnt/c/Users/user/data/dl_radiomics/dim-2_size-256_method-crop_roi_size-150/lumc/PREM_LU_797_2.nii.gz',\n",
       " '/mnt/c/Users/user/data/dl_radiomics/dim-2_size-256_method-crop_roi_size-150/lumc/PREM_LU_797_3.nii.gz',\n",
       " '/mnt/c/Users/user/data/dl_radiomics/dim-2_size-256_method-crop_roi_size-150/lumc/PREM_LU_797_4.nii.gz',\n",
       " '/mnt/c/Users/user/data/dl_radiomics/dim-2_size-256_method-crop_roi_size-150/maxima/MAX_012_0.nii.gz',\n",
       " '/mnt/c/Users/user/data/dl_radiomics/dim-2_size-256_method-crop_roi_size-150/maxima/MAX_012_1.nii.gz',\n",
       " '/mnt/c/Users/user/data/dl_radiomics/dim-2_size-256_method-crop_roi_size-150/maxima/MAX_012_2.nii.gz',\n",
       " '/mnt/c/Users/user/data/dl_radiomics/dim-2_size-256_method-crop_roi_size-150/maxima/MAX_012_3.nii.gz',\n",
       " '/mnt/c/Users/user/data/dl_radiomics/dim-2_size-256_method-crop_roi_size-150/maxima/MAX_012_4.nii.gz',\n",
       " '/mnt/c/Users/user/data/dl_radiomics/dim-2_size-256_method-crop_roi_size-150/maxima/MAX_015_0.nii.gz',\n",
       " '/mnt/c/Users/user/data/dl_radiomics/dim-2_size-256_method-crop_roi_size-150/maxima/MAX_015_1.nii.gz',\n",
       " '/mnt/c/Users/user/data/dl_radiomics/dim-2_size-256_method-crop_roi_size-150/maxima/MAX_015_2.nii.gz',\n",
       " '/mnt/c/Users/user/data/dl_radiomics/dim-2_size-256_method-crop_roi_size-150/maxima/MAX_015_3.nii.gz',\n",
       " '/mnt/c/Users/user/data/dl_radiomics/dim-2_size-256_method-crop_roi_size-150/maxima/MAX_015_4.nii.gz',\n",
       " '/mnt/c/Users/user/data/dl_radiomics/dim-2_size-256_method-crop_roi_size-150/maxima/MAX_017_0.nii.gz',\n",
       " '/mnt/c/Users/user/data/dl_radiomics/dim-2_size-256_method-crop_roi_size-150/maxima/MAX_017_1.nii.gz',\n",
       " '/mnt/c/Users/user/data/dl_radiomics/dim-2_size-256_method-crop_roi_size-150/maxima/MAX_017_2.nii.gz',\n",
       " '/mnt/c/Users/user/data/dl_radiomics/dim-2_size-256_method-crop_roi_size-150/maxima/MAX_017_3.nii.gz',\n",
       " '/mnt/c/Users/user/data/dl_radiomics/dim-2_size-256_method-crop_roi_size-150/maxima/MAX_017_4.nii.gz',\n",
       " '/mnt/c/Users/user/data/dl_radiomics/dim-2_size-256_method-crop_roi_size-150/maxima/MAX_025_0.nii.gz',\n",
       " '/mnt/c/Users/user/data/dl_radiomics/dim-2_size-256_method-crop_roi_size-150/maxima/MAX_025_1.nii.gz',\n",
       " '/mnt/c/Users/user/data/dl_radiomics/dim-2_size-256_method-crop_roi_size-150/maxima/MAX_025_2.nii.gz',\n",
       " '/mnt/c/Users/user/data/dl_radiomics/dim-2_size-256_method-crop_roi_size-150/maxima/MAX_025_3.nii.gz',\n",
       " '/mnt/c/Users/user/data/dl_radiomics/dim-2_size-256_method-crop_roi_size-150/maxima/MAX_029_0.nii.gz',\n",
       " '/mnt/c/Users/user/data/dl_radiomics/dim-2_size-256_method-crop_roi_size-150/maxima/MAX_029_1.nii.gz',\n",
       " '/mnt/c/Users/user/data/dl_radiomics/dim-2_size-256_method-crop_roi_size-150/maxima/MAX_029_2.nii.gz',\n",
       " '/mnt/c/Users/user/data/dl_radiomics/dim-2_size-256_method-crop_roi_size-150/maxima/MAX_029_3.nii.gz',\n",
       " '/mnt/c/Users/user/data/dl_radiomics/dim-2_size-256_method-crop_roi_size-150/maxima/MAX_029_4.nii.gz',\n",
       " '/mnt/c/Users/user/data/dl_radiomics/dim-2_size-256_method-crop_roi_size-150/maxima/MAX_031_0.nii.gz',\n",
       " '/mnt/c/Users/user/data/dl_radiomics/dim-2_size-256_method-crop_roi_size-150/maxima/MAX_031_1.nii.gz',\n",
       " '/mnt/c/Users/user/data/dl_radiomics/dim-2_size-256_method-crop_roi_size-150/maxima/MAX_031_2.nii.gz',\n",
       " '/mnt/c/Users/user/data/dl_radiomics/dim-2_size-256_method-crop_roi_size-150/maxima/MAX_031_3.nii.gz',\n",
       " '/mnt/c/Users/user/data/dl_radiomics/dim-2_size-256_method-crop_roi_size-150/maxima/MAX_031_4.nii.gz',\n",
       " '/mnt/c/Users/user/data/dl_radiomics/dim-2_size-256_method-crop_roi_size-150/maxima/MAX_051_0.nii.gz',\n",
       " '/mnt/c/Users/user/data/dl_radiomics/dim-2_size-256_method-crop_roi_size-150/maxima/MAX_051_1.nii.gz',\n",
       " '/mnt/c/Users/user/data/dl_radiomics/dim-2_size-256_method-crop_roi_size-150/maxima/MAX_051_2.nii.gz',\n",
       " '/mnt/c/Users/user/data/dl_radiomics/dim-2_size-256_method-crop_roi_size-150/maxima/MAX_051_3.nii.gz',\n",
       " '/mnt/c/Users/user/data/dl_radiomics/dim-2_size-256_method-crop_roi_size-150/maxima/MAX_051_4.nii.gz',\n",
       " '/mnt/c/Users/user/data/dl_radiomics/dim-2_size-256_method-crop_roi_size-150/maxima/MAX_052_0.nii.gz',\n",
       " '/mnt/c/Users/user/data/dl_radiomics/dim-2_size-256_method-crop_roi_size-150/maxima/MAX_052_1.nii.gz',\n",
       " '/mnt/c/Users/user/data/dl_radiomics/dim-2_size-256_method-crop_roi_size-150/maxima/MAX_052_2.nii.gz',\n",
       " '/mnt/c/Users/user/data/dl_radiomics/dim-2_size-256_method-crop_roi_size-150/maxima/MAX_052_3.nii.gz',\n",
       " '/mnt/c/Users/user/data/dl_radiomics/dim-2_size-256_method-crop_roi_size-150/maxima/MAX_052_4.nii.gz',\n",
       " '/mnt/c/Users/user/data/dl_radiomics/dim-2_size-256_method-crop_roi_size-150/maxima/MAX_063_0.nii.gz',\n",
       " '/mnt/c/Users/user/data/dl_radiomics/dim-2_size-256_method-crop_roi_size-150/maxima/MAX_063_1.nii.gz',\n",
       " '/mnt/c/Users/user/data/dl_radiomics/dim-2_size-256_method-crop_roi_size-150/maxima/MAX_063_2.nii.gz',\n",
       " '/mnt/c/Users/user/data/dl_radiomics/dim-2_size-256_method-crop_roi_size-150/maxima/MAX_063_3.nii.gz',\n",
       " '/mnt/c/Users/user/data/dl_radiomics/dim-2_size-256_method-crop_roi_size-150/maxima/MAX_063_4.nii.gz',\n",
       " '/mnt/c/Users/user/data/dl_radiomics/dim-2_size-256_method-crop_roi_size-150/maxima/MAX_089_0.nii.gz',\n",
       " '/mnt/c/Users/user/data/dl_radiomics/dim-2_size-256_method-crop_roi_size-150/maxima/MAX_089_1.nii.gz',\n",
       " '/mnt/c/Users/user/data/dl_radiomics/dim-2_size-256_method-crop_roi_size-150/maxima/MAX_089_2.nii.gz',\n",
       " '/mnt/c/Users/user/data/dl_radiomics/dim-2_size-256_method-crop_roi_size-150/maxima/MAX_089_3.nii.gz',\n",
       " '/mnt/c/Users/user/data/dl_radiomics/dim-2_size-256_method-crop_roi_size-150/maxima/MAX_089_4.nii.gz',\n",
       " '/mnt/c/Users/user/data/dl_radiomics/dim-2_size-256_method-crop_roi_size-150/maxima/MAX_090_0.nii.gz',\n",
       " '/mnt/c/Users/user/data/dl_radiomics/dim-2_size-256_method-crop_roi_size-150/maxima/MAX_090_1.nii.gz',\n",
       " '/mnt/c/Users/user/data/dl_radiomics/dim-2_size-256_method-crop_roi_size-150/maxima/MAX_090_2.nii.gz',\n",
       " '/mnt/c/Users/user/data/dl_radiomics/dim-2_size-256_method-crop_roi_size-150/maxima/MAX_090_3.nii.gz',\n",
       " '/mnt/c/Users/user/data/dl_radiomics/dim-2_size-256_method-crop_roi_size-150/maxima/MAX_090_4.nii.gz',\n",
       " '/mnt/c/Users/user/data/dl_radiomics/dim-2_size-256_method-crop_roi_size-150/maxima/MAX_097_0.nii.gz',\n",
       " '/mnt/c/Users/user/data/dl_radiomics/dim-2_size-256_method-crop_roi_size-150/maxima/MAX_097_1.nii.gz',\n",
       " '/mnt/c/Users/user/data/dl_radiomics/dim-2_size-256_method-crop_roi_size-150/maxima/MAX_097_2.nii.gz',\n",
       " '/mnt/c/Users/user/data/dl_radiomics/dim-2_size-256_method-crop_roi_size-150/maxima/MAX_109_0.nii.gz',\n",
       " '/mnt/c/Users/user/data/dl_radiomics/dim-2_size-256_method-crop_roi_size-150/maxima/MAX_109_1.nii.gz',\n",
       " '/mnt/c/Users/user/data/dl_radiomics/dim-2_size-256_method-crop_roi_size-150/maxima/MAX_109_2.nii.gz',\n",
       " '/mnt/c/Users/user/data/dl_radiomics/dim-2_size-256_method-crop_roi_size-150/maxima/MAX_109_3.nii.gz',\n",
       " '/mnt/c/Users/user/data/dl_radiomics/dim-2_size-256_method-crop_roi_size-150/maxima/MAX_109_4.nii.gz',\n",
       " '/mnt/c/Users/user/data/dl_radiomics/dim-2_size-256_method-crop_roi_size-150/maxima/MAX_121_0.nii.gz',\n",
       " '/mnt/c/Users/user/data/dl_radiomics/dim-2_size-256_method-crop_roi_size-150/maxima/MAX_121_1.nii.gz',\n",
       " '/mnt/c/Users/user/data/dl_radiomics/dim-2_size-256_method-crop_roi_size-150/maxima/MAX_121_2.nii.gz',\n",
       " '/mnt/c/Users/user/data/dl_radiomics/dim-2_size-256_method-crop_roi_size-150/maxima/MAX_121_3.nii.gz',\n",
       " '/mnt/c/Users/user/data/dl_radiomics/dim-2_size-256_method-crop_roi_size-150/maxima/MAX_121_4.nii.gz',\n",
       " '/mnt/c/Users/user/data/dl_radiomics/dim-2_size-256_method-crop_roi_size-150/maxima/MAX_134_0.nii.gz',\n",
       " '/mnt/c/Users/user/data/dl_radiomics/dim-2_size-256_method-crop_roi_size-150/maxima/MAX_134_1.nii.gz',\n",
       " '/mnt/c/Users/user/data/dl_radiomics/dim-2_size-256_method-crop_roi_size-150/maxima/MAX_134_2.nii.gz',\n",
       " '/mnt/c/Users/user/data/dl_radiomics/dim-2_size-256_method-crop_roi_size-150/maxima/MAX_164_0.nii.gz',\n",
       " '/mnt/c/Users/user/data/dl_radiomics/dim-2_size-256_method-crop_roi_size-150/maxima/MAX_164_1.nii.gz',\n",
       " '/mnt/c/Users/user/data/dl_radiomics/dim-2_size-256_method-crop_roi_size-150/maxima/MAX_164_2.nii.gz',\n",
       " '/mnt/c/Users/user/data/dl_radiomics/dim-2_size-256_method-crop_roi_size-150/maxima/MAX_186_0.nii.gz',\n",
       " '/mnt/c/Users/user/data/dl_radiomics/dim-2_size-256_method-crop_roi_size-150/maxima/MAX_186_1.nii.gz',\n",
       " '/mnt/c/Users/user/data/dl_radiomics/dim-2_size-256_method-crop_roi_size-150/maxima/MAX_186_2.nii.gz',\n",
       " '/mnt/c/Users/user/data/dl_radiomics/dim-2_size-256_method-crop_roi_size-150/maxima/MAX_186_3.nii.gz',\n",
       " '/mnt/c/Users/user/data/dl_radiomics/dim-2_size-256_method-crop_roi_size-150/maxima/MAX_186_4.nii.gz',\n",
       " '/mnt/c/Users/user/data/dl_radiomics/dim-2_size-256_method-crop_roi_size-150/maxima/MAX_190_0.nii.gz',\n",
       " '/mnt/c/Users/user/data/dl_radiomics/dim-2_size-256_method-crop_roi_size-150/maxima/MAX_190_1.nii.gz',\n",
       " '/mnt/c/Users/user/data/dl_radiomics/dim-2_size-256_method-crop_roi_size-150/maxima/MAX_190_2.nii.gz',\n",
       " '/mnt/c/Users/user/data/dl_radiomics/dim-2_size-256_method-crop_roi_size-150/maxima/MAX_190_3.nii.gz',\n",
       " '/mnt/c/Users/user/data/dl_radiomics/dim-2_size-256_method-crop_roi_size-150/maxima/MAX_190_4.nii.gz',\n",
       " '/mnt/c/Users/user/data/dl_radiomics/dim-2_size-256_method-crop_roi_size-150/maxima/MAX_198_0.nii.gz',\n",
       " '/mnt/c/Users/user/data/dl_radiomics/dim-2_size-256_method-crop_roi_size-150/maxima/MAX_198_1.nii.gz',\n",
       " '/mnt/c/Users/user/data/dl_radiomics/dim-2_size-256_method-crop_roi_size-150/maxima/MAX_198_2.nii.gz',\n",
       " '/mnt/c/Users/user/data/dl_radiomics/dim-2_size-256_method-crop_roi_size-150/maxima/MAX_198_3.nii.gz',\n",
       " '/mnt/c/Users/user/data/dl_radiomics/dim-2_size-256_method-crop_roi_size-150/maxima/MAX_198_4.nii.gz',\n",
       " '/mnt/c/Users/user/data/dl_radiomics/dim-2_size-256_method-crop_roi_size-150/maxima/MAX_201_0.nii.gz',\n",
       " '/mnt/c/Users/user/data/dl_radiomics/dim-2_size-256_method-crop_roi_size-150/maxima/MAX_201_1.nii.gz',\n",
       " '/mnt/c/Users/user/data/dl_radiomics/dim-2_size-256_method-crop_roi_size-150/maxima/MAX_201_2.nii.gz',\n",
       " '/mnt/c/Users/user/data/dl_radiomics/dim-2_size-256_method-crop_roi_size-150/maxima/MAX_201_3.nii.gz',\n",
       " '/mnt/c/Users/user/data/dl_radiomics/dim-2_size-256_method-crop_roi_size-150/maxima/MAX_201_4.nii.gz',\n",
       " '/mnt/c/Users/user/data/dl_radiomics/dim-2_size-256_method-crop_roi_size-150/maxima/MAX_225_0.nii.gz',\n",
       " '/mnt/c/Users/user/data/dl_radiomics/dim-2_size-256_method-crop_roi_size-150/maxima/MAX_225_1.nii.gz',\n",
       " '/mnt/c/Users/user/data/dl_radiomics/dim-2_size-256_method-crop_roi_size-150/maxima/MAX_225_2.nii.gz',\n",
       " '/mnt/c/Users/user/data/dl_radiomics/dim-2_size-256_method-crop_roi_size-150/maxima/MAX_225_3.nii.gz',\n",
       " '/mnt/c/Users/user/data/dl_radiomics/dim-2_size-256_method-crop_roi_size-150/maxima/MAX_225_4.nii.gz',\n",
       " '/mnt/c/Users/user/data/dl_radiomics/dim-2_size-256_method-crop_roi_size-150/maxima/MAX_236_0.nii.gz',\n",
       " '/mnt/c/Users/user/data/dl_radiomics/dim-2_size-256_method-crop_roi_size-150/maxima/MAX_236_1.nii.gz',\n",
       " '/mnt/c/Users/user/data/dl_radiomics/dim-2_size-256_method-crop_roi_size-150/maxima/MAX_236_2.nii.gz',\n",
       " '/mnt/c/Users/user/data/dl_radiomics/dim-2_size-256_method-crop_roi_size-150/maxima/MAX_246_0.nii.gz',\n",
       " '/mnt/c/Users/user/data/dl_radiomics/dim-2_size-256_method-crop_roi_size-150/maxima/MAX_246_1.nii.gz',\n",
       " '/mnt/c/Users/user/data/dl_radiomics/dim-2_size-256_method-crop_roi_size-150/maxima/MAX_246_2.nii.gz',\n",
       " '/mnt/c/Users/user/data/dl_radiomics/dim-2_size-256_method-crop_roi_size-150/maxima/MAX_246_3.nii.gz',\n",
       " '/mnt/c/Users/user/data/dl_radiomics/dim-2_size-256_method-crop_roi_size-150/maxima/MAX_246_4.nii.gz',\n",
       " '/mnt/c/Users/user/data/dl_radiomics/dim-2_size-256_method-crop_roi_size-150/maxima/MAX_254_0.nii.gz',\n",
       " '/mnt/c/Users/user/data/dl_radiomics/dim-2_size-256_method-crop_roi_size-150/maxima/MAX_254_1.nii.gz',\n",
       " '/mnt/c/Users/user/data/dl_radiomics/dim-2_size-256_method-crop_roi_size-150/maxima/MAX_254_2.nii.gz',\n",
       " '/mnt/c/Users/user/data/dl_radiomics/dim-2_size-256_method-crop_roi_size-150/maxima/MAX_254_3.nii.gz',\n",
       " '/mnt/c/Users/user/data/dl_radiomics/dim-2_size-256_method-crop_roi_size-150/maxima/MAX_254_4.nii.gz',\n",
       " '/mnt/c/Users/user/data/dl_radiomics/dim-2_size-256_method-crop_roi_size-150/maxima/MAX_260_0.nii.gz',\n",
       " '/mnt/c/Users/user/data/dl_radiomics/dim-2_size-256_method-crop_roi_size-150/maxima/MAX_260_1.nii.gz',\n",
       " '/mnt/c/Users/user/data/dl_radiomics/dim-2_size-256_method-crop_roi_size-150/maxima/MAX_260_2.nii.gz',\n",
       " '/mnt/c/Users/user/data/dl_radiomics/dim-2_size-256_method-crop_roi_size-150/maxima/MAX_260_3.nii.gz',\n",
       " '/mnt/c/Users/user/data/dl_radiomics/dim-2_size-256_method-crop_roi_size-150/maxima/MAX_260_4.nii.gz',\n",
       " '/mnt/c/Users/user/data/dl_radiomics/dim-2_size-256_method-crop_roi_size-150/maxima/MAX_269_0.nii.gz',\n",
       " '/mnt/c/Users/user/data/dl_radiomics/dim-2_size-256_method-crop_roi_size-150/maxima/MAX_269_1.nii.gz',\n",
       " '/mnt/c/Users/user/data/dl_radiomics/dim-2_size-256_method-crop_roi_size-150/maxima/MAX_269_2.nii.gz',\n",
       " '/mnt/c/Users/user/data/dl_radiomics/dim-2_size-256_method-crop_roi_size-150/maxima/MAX_269_3.nii.gz',\n",
       " '/mnt/c/Users/user/data/dl_radiomics/dim-2_size-256_method-crop_roi_size-150/maxima/MAX_269_4.nii.gz',\n",
       " '/mnt/c/Users/user/data/dl_radiomics/dim-2_size-256_method-crop_roi_size-150/maxima/MAX_296_0.nii.gz',\n",
       " '/mnt/c/Users/user/data/dl_radiomics/dim-2_size-256_method-crop_roi_size-150/maxima/MAX_303_0.nii.gz',\n",
       " '/mnt/c/Users/user/data/dl_radiomics/dim-2_size-256_method-crop_roi_size-150/maxima/MAX_303_1.nii.gz',\n",
       " '/mnt/c/Users/user/data/dl_radiomics/dim-2_size-256_method-crop_roi_size-150/maxima/MAX_303_2.nii.gz',\n",
       " '/mnt/c/Users/user/data/dl_radiomics/dim-2_size-256_method-crop_roi_size-150/maxima/MAX_303_3.nii.gz',\n",
       " '/mnt/c/Users/user/data/dl_radiomics/dim-2_size-256_method-crop_roi_size-150/maxima/MAX_303_4.nii.gz',\n",
       " '/mnt/c/Users/user/data/dl_radiomics/dim-2_size-256_method-crop_roi_size-150/maxima/MAX_306_0.nii.gz',\n",
       " '/mnt/c/Users/user/data/dl_radiomics/dim-2_size-256_method-crop_roi_size-150/maxima/MAX_306_1.nii.gz',\n",
       " '/mnt/c/Users/user/data/dl_radiomics/dim-2_size-256_method-crop_roi_size-150/maxima/MAX_306_2.nii.gz',\n",
       " '/mnt/c/Users/user/data/dl_radiomics/dim-2_size-256_method-crop_roi_size-150/maxima/MAX_306_3.nii.gz',\n",
       " '/mnt/c/Users/user/data/dl_radiomics/dim-2_size-256_method-crop_roi_size-150/maxima/MAX_306_4.nii.gz',\n",
       " '/mnt/c/Users/user/data/dl_radiomics/dim-2_size-256_method-crop_roi_size-150/maxima/MAX_318_0.nii.gz',\n",
       " '/mnt/c/Users/user/data/dl_radiomics/dim-2_size-256_method-crop_roi_size-150/maxima/MAX_318_2.nii.gz',\n",
       " '/mnt/c/Users/user/data/dl_radiomics/dim-2_size-256_method-crop_roi_size-150/maxima/MAX_318_3.nii.gz',\n",
       " '/mnt/c/Users/user/data/dl_radiomics/dim-2_size-256_method-crop_roi_size-150/maxima/MAX_318_4.nii.gz',\n",
       " '/mnt/c/Users/user/data/dl_radiomics/dim-2_size-256_method-crop_roi_size-150/maxima/MAX_322_0.nii.gz',\n",
       " '/mnt/c/Users/user/data/dl_radiomics/dim-2_size-256_method-crop_roi_size-150/maxima/MAX_322_1.nii.gz',\n",
       " '/mnt/c/Users/user/data/dl_radiomics/dim-2_size-256_method-crop_roi_size-150/maxima/MAX_322_2.nii.gz',\n",
       " '/mnt/c/Users/user/data/dl_radiomics/dim-2_size-256_method-crop_roi_size-150/maxima/MAX_322_3.nii.gz',\n",
       " '/mnt/c/Users/user/data/dl_radiomics/dim-2_size-256_method-crop_roi_size-150/maxima/MAX_322_4.nii.gz',\n",
       " '/mnt/c/Users/user/data/dl_radiomics/dim-2_size-256_method-crop_roi_size-150/maxima/MAX_330_0.nii.gz',\n",
       " '/mnt/c/Users/user/data/dl_radiomics/dim-2_size-256_method-crop_roi_size-150/maxima/MAX_330_1.nii.gz',\n",
       " '/mnt/c/Users/user/data/dl_radiomics/dim-2_size-256_method-crop_roi_size-150/maxima/MAX_330_2.nii.gz',\n",
       " '/mnt/c/Users/user/data/dl_radiomics/dim-2_size-256_method-crop_roi_size-150/mst/PREM_MS_011_0.nii.gz',\n",
       " '/mnt/c/Users/user/data/dl_radiomics/dim-2_size-256_method-crop_roi_size-150/mst/PREM_MS_011_1.nii.gz',\n",
       " '/mnt/c/Users/user/data/dl_radiomics/dim-2_size-256_method-crop_roi_size-150/mst/PREM_MS_011_2.nii.gz',\n",
       " '/mnt/c/Users/user/data/dl_radiomics/dim-2_size-256_method-crop_roi_size-150/mst/PREM_MS_011_3.nii.gz',\n",
       " '/mnt/c/Users/user/data/dl_radiomics/dim-2_size-256_method-crop_roi_size-150/mst/PREM_MS_011_4.nii.gz',\n",
       " '/mnt/c/Users/user/data/dl_radiomics/dim-2_size-256_method-crop_roi_size-150/mst/PREM_MS_032_0.nii.gz',\n",
       " '/mnt/c/Users/user/data/dl_radiomics/dim-2_size-256_method-crop_roi_size-150/mst/PREM_MS_032_1.nii.gz',\n",
       " '/mnt/c/Users/user/data/dl_radiomics/dim-2_size-256_method-crop_roi_size-150/mst/PREM_MS_032_2.nii.gz',\n",
       " '/mnt/c/Users/user/data/dl_radiomics/dim-2_size-256_method-crop_roi_size-150/mst/PREM_MS_032_3.nii.gz',\n",
       " '/mnt/c/Users/user/data/dl_radiomics/dim-2_size-256_method-crop_roi_size-150/mst/PREM_MS_038_0.nii.gz',\n",
       " '/mnt/c/Users/user/data/dl_radiomics/dim-2_size-256_method-crop_roi_size-150/mst/PREM_MS_038_1.nii.gz',\n",
       " '/mnt/c/Users/user/data/dl_radiomics/dim-2_size-256_method-crop_roi_size-150/mst/PREM_MS_038_2.nii.gz',\n",
       " '/mnt/c/Users/user/data/dl_radiomics/dim-2_size-256_method-crop_roi_size-150/mst/PREM_MS_038_3.nii.gz',\n",
       " '/mnt/c/Users/user/data/dl_radiomics/dim-2_size-256_method-crop_roi_size-150/mst/PREM_MS_060_0.nii.gz',\n",
       " '/mnt/c/Users/user/data/dl_radiomics/dim-2_size-256_method-crop_roi_size-150/mst/PREM_MS_060_1.nii.gz',\n",
       " '/mnt/c/Users/user/data/dl_radiomics/dim-2_size-256_method-crop_roi_size-150/mst/PREM_MS_060_2.nii.gz',\n",
       " '/mnt/c/Users/user/data/dl_radiomics/dim-2_size-256_method-crop_roi_size-150/mst/PREM_MS_060_3.nii.gz',\n",
       " '/mnt/c/Users/user/data/dl_radiomics/dim-2_size-256_method-crop_roi_size-150/mst/PREM_MS_060_4.nii.gz',\n",
       " '/mnt/c/Users/user/data/dl_radiomics/dim-2_size-256_method-crop_roi_size-150/mst/PREM_MS_094_0.nii.gz',\n",
       " '/mnt/c/Users/user/data/dl_radiomics/dim-2_size-256_method-crop_roi_size-150/mst/PREM_MS_094_1.nii.gz',\n",
       " '/mnt/c/Users/user/data/dl_radiomics/dim-2_size-256_method-crop_roi_size-150/mst/PREM_MS_094_2.nii.gz',\n",
       " '/mnt/c/Users/user/data/dl_radiomics/dim-2_size-256_method-crop_roi_size-150/mst/PREM_MS_094_3.nii.gz',\n",
       " '/mnt/c/Users/user/data/dl_radiomics/dim-2_size-256_method-crop_roi_size-150/mst/PREM_MS_094_4.nii.gz',\n",
       " '/mnt/c/Users/user/data/dl_radiomics/dim-2_size-256_method-crop_roi_size-150/mst/PREM_MS_145_0.nii.gz',\n",
       " '/mnt/c/Users/user/data/dl_radiomics/dim-2_size-256_method-crop_roi_size-150/mst/PREM_MS_145_1.nii.gz',\n",
       " '/mnt/c/Users/user/data/dl_radiomics/dim-2_size-256_method-crop_roi_size-150/mst/PREM_MS_145_2.nii.gz',\n",
       " '/mnt/c/Users/user/data/dl_radiomics/dim-2_size-256_method-crop_roi_size-150/mst/PREM_MS_145_3.nii.gz',\n",
       " '/mnt/c/Users/user/data/dl_radiomics/dim-2_size-256_method-crop_roi_size-150/mst/PREM_MS_195_0.nii.gz',\n",
       " '/mnt/c/Users/user/data/dl_radiomics/dim-2_size-256_method-crop_roi_size-150/mst/PREM_MS_195_1.nii.gz',\n",
       " '/mnt/c/Users/user/data/dl_radiomics/dim-2_size-256_method-crop_roi_size-150/mst/PREM_MS_195_3.nii.gz',\n",
       " '/mnt/c/Users/user/data/dl_radiomics/dim-2_size-256_method-crop_roi_size-150/mst/PREM_MS_197_0.nii.gz',\n",
       " '/mnt/c/Users/user/data/dl_radiomics/dim-2_size-256_method-crop_roi_size-150/mst/PREM_MS_197_1.nii.gz',\n",
       " '/mnt/c/Users/user/data/dl_radiomics/dim-2_size-256_method-crop_roi_size-150/mst/PREM_MS_197_2.nii.gz',\n",
       " '/mnt/c/Users/user/data/dl_radiomics/dim-2_size-256_method-crop_roi_size-150/mst/PREM_MS_197_3.nii.gz',\n",
       " '/mnt/c/Users/user/data/dl_radiomics/dim-2_size-256_method-crop_roi_size-150/mst/PREM_MS_197_4.nii.gz',\n",
       " '/mnt/c/Users/user/data/dl_radiomics/dim-2_size-256_method-crop_roi_size-150/mst/PREM_MS_223_0.nii.gz',\n",
       " '/mnt/c/Users/user/data/dl_radiomics/dim-2_size-256_method-crop_roi_size-150/mst/PREM_MS_223_1.nii.gz',\n",
       " '/mnt/c/Users/user/data/dl_radiomics/dim-2_size-256_method-crop_roi_size-150/mst/PREM_MS_223_2.nii.gz',\n",
       " '/mnt/c/Users/user/data/dl_radiomics/dim-2_size-256_method-crop_roi_size-150/mst/PREM_MS_223_3.nii.gz',\n",
       " '/mnt/c/Users/user/data/dl_radiomics/dim-2_size-256_method-crop_roi_size-150/mst/PREM_MS_223_4.nii.gz',\n",
       " '/mnt/c/Users/user/data/dl_radiomics/dim-2_size-256_method-crop_roi_size-150/mst/PREM_MS_237_0.nii.gz',\n",
       " '/mnt/c/Users/user/data/dl_radiomics/dim-2_size-256_method-crop_roi_size-150/mst/PREM_MS_237_1.nii.gz',\n",
       " '/mnt/c/Users/user/data/dl_radiomics/dim-2_size-256_method-crop_roi_size-150/mst/PREM_MS_237_2.nii.gz',\n",
       " '/mnt/c/Users/user/data/dl_radiomics/dim-2_size-256_method-crop_roi_size-150/mst/PREM_MS_237_3.nii.gz',\n",
       " '/mnt/c/Users/user/data/dl_radiomics/dim-2_size-256_method-crop_roi_size-150/umcu/IM_001_0.nii.gz',\n",
       " '/mnt/c/Users/user/data/dl_radiomics/dim-2_size-256_method-crop_roi_size-150/umcu/IM_001_1.nii.gz',\n",
       " '/mnt/c/Users/user/data/dl_radiomics/dim-2_size-256_method-crop_roi_size-150/umcu/IM_001_2.nii.gz',\n",
       " '/mnt/c/Users/user/data/dl_radiomics/dim-2_size-256_method-crop_roi_size-150/umcu/IM_001_3.nii.gz',\n",
       " '/mnt/c/Users/user/data/dl_radiomics/dim-2_size-256_method-crop_roi_size-150/umcu/IM_001_4.nii.gz',\n",
       " '/mnt/c/Users/user/data/dl_radiomics/dim-2_size-256_method-crop_roi_size-150/umcu/IM_002_0.nii.gz',\n",
       " '/mnt/c/Users/user/data/dl_radiomics/dim-2_size-256_method-crop_roi_size-150/umcu/IM_002_1.nii.gz',\n",
       " '/mnt/c/Users/user/data/dl_radiomics/dim-2_size-256_method-crop_roi_size-150/umcu/IM_021_0.nii.gz',\n",
       " '/mnt/c/Users/user/data/dl_radiomics/dim-2_size-256_method-crop_roi_size-150/umcu/IM_021_1.nii.gz',\n",
       " '/mnt/c/Users/user/data/dl_radiomics/dim-2_size-256_method-crop_roi_size-150/umcu/IM_021_2.nii.gz',\n",
       " '/mnt/c/Users/user/data/dl_radiomics/dim-2_size-256_method-crop_roi_size-150/umcu/IM_023_0.nii.gz',\n",
       " '/mnt/c/Users/user/data/dl_radiomics/dim-2_size-256_method-crop_roi_size-150/umcu/IM_023_1.nii.gz',\n",
       " '/mnt/c/Users/user/data/dl_radiomics/dim-2_size-256_method-crop_roi_size-150/umcu/IM_023_2.nii.gz',\n",
       " '/mnt/c/Users/user/data/dl_radiomics/dim-2_size-256_method-crop_roi_size-150/umcu/IM_023_3.nii.gz',\n",
       " '/mnt/c/Users/user/data/dl_radiomics/dim-2_size-256_method-crop_roi_size-150/umcu/IM_023_4.nii.gz',\n",
       " '/mnt/c/Users/user/data/dl_radiomics/dim-2_size-256_method-crop_roi_size-150/umcu/IM_032abdomen_0.nii.gz',\n",
       " '/mnt/c/Users/user/data/dl_radiomics/dim-2_size-256_method-crop_roi_size-150/umcu/IM_032abdomen_1.nii.gz',\n",
       " '/mnt/c/Users/user/data/dl_radiomics/dim-2_size-256_method-crop_roi_size-150/umcu/IM_042_0.nii.gz',\n",
       " '/mnt/c/Users/user/data/dl_radiomics/dim-2_size-256_method-crop_roi_size-150/umcu/IM_042_1.nii.gz',\n",
       " '/mnt/c/Users/user/data/dl_radiomics/dim-2_size-256_method-crop_roi_size-150/umcu/IM_042_2.nii.gz',\n",
       " '/mnt/c/Users/user/data/dl_radiomics/dim-2_size-256_method-crop_roi_size-150/umcu/IM_042_3.nii.gz',\n",
       " '/mnt/c/Users/user/data/dl_radiomics/dim-2_size-256_method-crop_roi_size-150/umcu/IM_042_4.nii.gz',\n",
       " '/mnt/c/Users/user/data/dl_radiomics/dim-2_size-256_method-crop_roi_size-150/umcu/IM_059_0.nii.gz',\n",
       " '/mnt/c/Users/user/data/dl_radiomics/dim-2_size-256_method-crop_roi_size-150/umcu/IM_059_1.nii.gz',\n",
       " '/mnt/c/Users/user/data/dl_radiomics/dim-2_size-256_method-crop_roi_size-150/umcu/IM_059_2.nii.gz',\n",
       " '/mnt/c/Users/user/data/dl_radiomics/dim-2_size-256_method-crop_roi_size-150/umcu/IM_059_3.nii.gz',\n",
       " '/mnt/c/Users/user/data/dl_radiomics/dim-2_size-256_method-crop_roi_size-150/umcu/IM_059_4.nii.gz',\n",
       " '/mnt/c/Users/user/data/dl_radiomics/dim-2_size-256_method-crop_roi_size-150/umcu/IM_062_0.nii.gz',\n",
       " '/mnt/c/Users/user/data/dl_radiomics/dim-2_size-256_method-crop_roi_size-150/umcu/IM_062_1.nii.gz',\n",
       " '/mnt/c/Users/user/data/dl_radiomics/dim-2_size-256_method-crop_roi_size-150/umcu/IM_062_2.nii.gz',\n",
       " '/mnt/c/Users/user/data/dl_radiomics/dim-2_size-256_method-crop_roi_size-150/umcu/IM_062_3.nii.gz',\n",
       " '/mnt/c/Users/user/data/dl_radiomics/dim-2_size-256_method-crop_roi_size-150/umcu/IM_062_4.nii.gz',\n",
       " '/mnt/c/Users/user/data/dl_radiomics/dim-2_size-256_method-crop_roi_size-150/umcu/IM_075_0.nii.gz',\n",
       " '/mnt/c/Users/user/data/dl_radiomics/dim-2_size-256_method-crop_roi_size-150/umcu/IM_075_1.nii.gz',\n",
       " '/mnt/c/Users/user/data/dl_radiomics/dim-2_size-256_method-crop_roi_size-150/umcu/IM_075_2.nii.gz',\n",
       " '/mnt/c/Users/user/data/dl_radiomics/dim-2_size-256_method-crop_roi_size-150/umcu/IM_075_3.nii.gz',\n",
       " '/mnt/c/Users/user/data/dl_radiomics/dim-2_size-256_method-crop_roi_size-150/umcu/IM_155_0.nii.gz',\n",
       " '/mnt/c/Users/user/data/dl_radiomics/dim-2_size-256_method-crop_roi_size-150/umcu/IM_155_1.nii.gz',\n",
       " '/mnt/c/Users/user/data/dl_radiomics/dim-2_size-256_method-crop_roi_size-150/umcu/IM_155_2.nii.gz',\n",
       " '/mnt/c/Users/user/data/dl_radiomics/dim-2_size-256_method-crop_roi_size-150/umcu/IM_155_3.nii.gz',\n",
       " '/mnt/c/Users/user/data/dl_radiomics/dim-2_size-256_method-crop_roi_size-150/umcu/IM_155_4.nii.gz',\n",
       " '/mnt/c/Users/user/data/dl_radiomics/dim-2_size-256_method-crop_roi_size-150/umcu/IM_156_0.nii.gz',\n",
       " '/mnt/c/Users/user/data/dl_radiomics/dim-2_size-256_method-crop_roi_size-150/umcu/IM_156_1.nii.gz',\n",
       " '/mnt/c/Users/user/data/dl_radiomics/dim-2_size-256_method-crop_roi_size-150/umcu/IM_156_2.nii.gz',\n",
       " '/mnt/c/Users/user/data/dl_radiomics/dim-2_size-256_method-crop_roi_size-150/umcu/IM_156_3.nii.gz',\n",
       " '/mnt/c/Users/user/data/dl_radiomics/dim-2_size-256_method-crop_roi_size-150/umcu/IM_156_4.nii.gz',\n",
       " '/mnt/c/Users/user/data/dl_radiomics/dim-2_size-256_method-crop_roi_size-150/umcu/IM_157thorax_0.nii.gz',\n",
       " '/mnt/c/Users/user/data/dl_radiomics/dim-2_size-256_method-crop_roi_size-150/umcu/IM_157thorax_1.nii.gz',\n",
       " '/mnt/c/Users/user/data/dl_radiomics/dim-2_size-256_method-crop_roi_size-150/umcu/IM_161_0.nii.gz',\n",
       " '/mnt/c/Users/user/data/dl_radiomics/dim-2_size-256_method-crop_roi_size-150/umcu/IM_161_1.nii.gz',\n",
       " '/mnt/c/Users/user/data/dl_radiomics/dim-2_size-256_method-crop_roi_size-150/umcu/IM_192_0.nii.gz',\n",
       " '/mnt/c/Users/user/data/dl_radiomics/dim-2_size-256_method-crop_roi_size-150/umcu/IM_192_1.nii.gz',\n",
       " '/mnt/c/Users/user/data/dl_radiomics/dim-2_size-256_method-crop_roi_size-150/umcu/IM_199thorax_0.nii.gz',\n",
       " '/mnt/c/Users/user/data/dl_radiomics/dim-2_size-256_method-crop_roi_size-150/umcu/IM_199thorax_1.nii.gz',\n",
       " '/mnt/c/Users/user/data/dl_radiomics/dim-2_size-256_method-crop_roi_size-150/umcu/IM_201thorax_0.nii.gz',\n",
       " '/mnt/c/Users/user/data/dl_radiomics/dim-2_size-256_method-crop_roi_size-150/umcu/IM_201thorax_1.nii.gz',\n",
       " '/mnt/c/Users/user/data/dl_radiomics/dim-2_size-256_method-crop_roi_size-150/umcu/IM_201thorax_2.nii.gz',\n",
       " '/mnt/c/Users/user/data/dl_radiomics/dim-2_size-256_method-crop_roi_size-150/umcu/IM_201thorax_3.nii.gz',\n",
       " '/mnt/c/Users/user/data/dl_radiomics/dim-2_size-256_method-crop_roi_size-150/umcu/IM_205_0.nii.gz',\n",
       " '/mnt/c/Users/user/data/dl_radiomics/dim-2_size-256_method-crop_roi_size-150/umcu/IM_205_1.nii.gz',\n",
       " '/mnt/c/Users/user/data/dl_radiomics/dim-2_size-256_method-crop_roi_size-150/umcu/IM_205_2.nii.gz',\n",
       " '/mnt/c/Users/user/data/dl_radiomics/dim-2_size-256_method-crop_roi_size-150/umcu/IM_205_3.nii.gz',\n",
       " '/mnt/c/Users/user/data/dl_radiomics/dim-2_size-256_method-crop_roi_size-150/umcu/IM_205_4.nii.gz',\n",
       " '/mnt/c/Users/user/data/dl_radiomics/dim-2_size-256_method-crop_roi_size-150/umcu/IM_206_0.nii.gz',\n",
       " '/mnt/c/Users/user/data/dl_radiomics/dim-2_size-256_method-crop_roi_size-150/umcu/IM_206_1.nii.gz',\n",
       " '/mnt/c/Users/user/data/dl_radiomics/dim-2_size-256_method-crop_roi_size-150/umcu/IM_206_2.nii.gz',\n",
       " '/mnt/c/Users/user/data/dl_radiomics/dim-2_size-256_method-crop_roi_size-150/umcu/IM_206_3.nii.gz',\n",
       " '/mnt/c/Users/user/data/dl_radiomics/dim-2_size-256_method-crop_roi_size-150/umcu/IM_206_4.nii.gz',\n",
       " '/mnt/c/Users/user/data/dl_radiomics/dim-2_size-256_method-crop_roi_size-150/umcu/IM_227_0.nii.gz',\n",
       " '/mnt/c/Users/user/data/dl_radiomics/dim-2_size-256_method-crop_roi_size-150/umcu/IM_227_1.nii.gz',\n",
       " '/mnt/c/Users/user/data/dl_radiomics/dim-2_size-256_method-crop_roi_size-150/umcu/IM_227_2.nii.gz',\n",
       " '/mnt/c/Users/user/data/dl_radiomics/dim-2_size-256_method-crop_roi_size-150/umcu/IM_227_3.nii.gz',\n",
       " '/mnt/c/Users/user/data/dl_radiomics/dim-2_size-256_method-crop_roi_size-150/umcu/IM_227_4.nii.gz',\n",
       " '/mnt/c/Users/user/data/dl_radiomics/dim-2_size-256_method-crop_roi_size-150/umcu/IM_243_0.nii.gz',\n",
       " '/mnt/c/Users/user/data/dl_radiomics/dim-2_size-256_method-crop_roi_size-150/umcu/IM_243_2.nii.gz',\n",
       " '/mnt/c/Users/user/data/dl_radiomics/dim-2_size-256_method-crop_roi_size-150/umcu/IM_243_3.nii.gz',\n",
       " '/mnt/c/Users/user/data/dl_radiomics/dim-2_size-256_method-crop_roi_size-150/umcu/IM_243_4.nii.gz',\n",
       " '/mnt/c/Users/user/data/dl_radiomics/dim-2_size-256_method-crop_roi_size-150/umcu/IM_327_0.nii.gz',\n",
       " '/mnt/c/Users/user/data/dl_radiomics/dim-2_size-256_method-crop_roi_size-150/umcu/IM_327_1.nii.gz',\n",
       " '/mnt/c/Users/user/data/dl_radiomics/dim-2_size-256_method-crop_roi_size-150/umcu/IM_327_2.nii.gz',\n",
       " '/mnt/c/Users/user/data/dl_radiomics/dim-2_size-256_method-crop_roi_size-150/umcu/IM_327_3.nii.gz',\n",
       " '/mnt/c/Users/user/data/dl_radiomics/dim-2_size-256_method-crop_roi_size-150/umcu/M_010_0.nii.gz',\n",
       " '/mnt/c/Users/user/data/dl_radiomics/dim-2_size-256_method-crop_roi_size-150/umcu/M_010_1.nii.gz',\n",
       " '/mnt/c/Users/user/data/dl_radiomics/dim-2_size-256_method-crop_roi_size-150/umcu/M_010_2.nii.gz',\n",
       " '/mnt/c/Users/user/data/dl_radiomics/dim-2_size-256_method-crop_roi_size-150/umcu/M_010_3.nii.gz',\n",
       " '/mnt/c/Users/user/data/dl_radiomics/dim-2_size-256_method-crop_roi_size-150/umcu/M_010_4.nii.gz',\n",
       " '/mnt/c/Users/user/data/dl_radiomics/dim-2_size-256_method-crop_roi_size-150/umcu/M_011_0.nii.gz',\n",
       " '/mnt/c/Users/user/data/dl_radiomics/dim-2_size-256_method-crop_roi_size-150/umcu/M_011_1.nii.gz',\n",
       " '/mnt/c/Users/user/data/dl_radiomics/dim-2_size-256_method-crop_roi_size-150/umcu/M_011_2.nii.gz',\n",
       " '/mnt/c/Users/user/data/dl_radiomics/dim-2_size-256_method-crop_roi_size-150/umcu/M_011_3.nii.gz',\n",
       " '/mnt/c/Users/user/data/dl_radiomics/dim-2_size-256_method-crop_roi_size-150/umcu/M_011_4.nii.gz',\n",
       " '/mnt/c/Users/user/data/dl_radiomics/dim-2_size-256_method-crop_roi_size-150/umcu/M_016_0.nii.gz',\n",
       " '/mnt/c/Users/user/data/dl_radiomics/dim-2_size-256_method-crop_roi_size-150/umcu/M_016_1.nii.gz',\n",
       " '/mnt/c/Users/user/data/dl_radiomics/dim-2_size-256_method-crop_roi_size-150/umcu/M_016_2.nii.gz',\n",
       " '/mnt/c/Users/user/data/dl_radiomics/dim-2_size-256_method-crop_roi_size-150/umcu/M_016_3.nii.gz',\n",
       " '/mnt/c/Users/user/data/dl_radiomics/dim-2_size-256_method-crop_roi_size-150/umcu/M_016_4.nii.gz',\n",
       " '/mnt/c/Users/user/data/dl_radiomics/dim-2_size-256_method-crop_roi_size-150/umcu/PREM_UMCU_008_0.nii.gz',\n",
       " '/mnt/c/Users/user/data/dl_radiomics/dim-2_size-256_method-crop_roi_size-150/umcu/PREM_UMCU_008_1.nii.gz',\n",
       " '/mnt/c/Users/user/data/dl_radiomics/dim-2_size-256_method-crop_roi_size-150/umcu/PREM_UMCU_008_2.nii.gz',\n",
       " '/mnt/c/Users/user/data/dl_radiomics/dim-2_size-256_method-crop_roi_size-150/umcu/PREM_UMCU_012_0.nii.gz',\n",
       " '/mnt/c/Users/user/data/dl_radiomics/dim-2_size-256_method-crop_roi_size-150/umcu/PREM_UMCU_012_1.nii.gz',\n",
       " '/mnt/c/Users/user/data/dl_radiomics/dim-2_size-256_method-crop_roi_size-150/umcu/PREM_UMCU_012_2.nii.gz',\n",
       " '/mnt/c/Users/user/data/dl_radiomics/dim-2_size-256_method-crop_roi_size-150/umcu/PREM_UMCU_012_3.nii.gz',\n",
       " '/mnt/c/Users/user/data/dl_radiomics/dim-2_size-256_method-crop_roi_size-150/umcu/PREM_UMCU_012_4.nii.gz',\n",
       " '/mnt/c/Users/user/data/dl_radiomics/dim-2_size-256_method-crop_roi_size-150/umcu/PREM_UMCU_025_0.nii.gz',\n",
       " '/mnt/c/Users/user/data/dl_radiomics/dim-2_size-256_method-crop_roi_size-150/umcu/PREM_UMCU_025_1.nii.gz',\n",
       " '/mnt/c/Users/user/data/dl_radiomics/dim-2_size-256_method-crop_roi_size-150/umcu/PREM_UMCU_025_2.nii.gz',\n",
       " '/mnt/c/Users/user/data/dl_radiomics/dim-2_size-256_method-crop_roi_size-150/umcu/PREM_UMCU_025_3.nii.gz',\n",
       " '/mnt/c/Users/user/data/dl_radiomics/dim-2_size-256_method-crop_roi_size-150/umcu/PREM_UMCU_025_4.nii.gz',\n",
       " '/mnt/c/Users/user/data/dl_radiomics/dim-2_size-256_method-crop_roi_size-150/umcu/PREM_UMCU_037_0.nii.gz',\n",
       " '/mnt/c/Users/user/data/dl_radiomics/dim-2_size-256_method-crop_roi_size-150/umcu/PREM_UMCU_037_1.nii.gz',\n",
       " '/mnt/c/Users/user/data/dl_radiomics/dim-2_size-256_method-crop_roi_size-150/umcu/UNI_024_0.nii.gz',\n",
       " '/mnt/c/Users/user/data/dl_radiomics/dim-2_size-256_method-crop_roi_size-150/umcu/UNI_024_1.nii.gz',\n",
       " '/mnt/c/Users/user/data/dl_radiomics/dim-2_size-256_method-crop_roi_size-150/umcu/UNI_024_2.nii.gz',\n",
       " '/mnt/c/Users/user/data/dl_radiomics/dim-2_size-256_method-crop_roi_size-150/umcu/UNI_024_3.nii.gz',\n",
       " '/mnt/c/Users/user/data/dl_radiomics/dim-2_size-256_method-crop_roi_size-150/umcu/UNI_024_4.nii.gz',\n",
       " '/mnt/c/Users/user/data/dl_radiomics/dim-2_size-256_method-crop_roi_size-150/umcu/UNI_027_0.nii.gz',\n",
       " '/mnt/c/Users/user/data/dl_radiomics/dim-2_size-256_method-crop_roi_size-150/umcu/UNI_027_1.nii.gz',\n",
       " '/mnt/c/Users/user/data/dl_radiomics/dim-2_size-256_method-crop_roi_size-150/umcu/UNI_027_2.nii.gz',\n",
       " '/mnt/c/Users/user/data/dl_radiomics/dim-2_size-256_method-crop_roi_size-150/umcu/UNI_027_3.nii.gz',\n",
       " '/mnt/c/Users/user/data/dl_radiomics/dim-2_size-256_method-crop_roi_size-150/umcu/UNI_027_4.nii.gz',\n",
       " '/mnt/c/Users/user/data/dl_radiomics/dim-2_size-256_method-crop_roi_size-150/umcu/UNI_067thorax_0.nii.gz',\n",
       " '/mnt/c/Users/user/data/dl_radiomics/dim-2_size-256_method-crop_roi_size-150/umcu/UNI_067thorax_1.nii.gz',\n",
       " '/mnt/c/Users/user/data/dl_radiomics/dim-2_size-256_method-crop_roi_size-150/umcu/UNI_074_0.nii.gz',\n",
       " '/mnt/c/Users/user/data/dl_radiomics/dim-2_size-256_method-crop_roi_size-150/umcu/UNI_074_1.nii.gz',\n",
       " '/mnt/c/Users/user/data/dl_radiomics/dim-2_size-256_method-crop_roi_size-150/umcu/UNI_074_2.nii.gz',\n",
       " '/mnt/c/Users/user/data/dl_radiomics/dim-2_size-256_method-crop_roi_size-150/umcu/UNI_083_0.nii.gz',\n",
       " '/mnt/c/Users/user/data/dl_radiomics/dim-2_size-256_method-crop_roi_size-150/umcu/UNI_083_1.nii.gz',\n",
       " '/mnt/c/Users/user/data/dl_radiomics/dim-2_size-256_method-crop_roi_size-150/umcu/UNI_083_2.nii.gz',\n",
       " '/mnt/c/Users/user/data/dl_radiomics/dim-2_size-256_method-crop_roi_size-150/umcu/UNI_083_3.nii.gz',\n",
       " '/mnt/c/Users/user/data/dl_radiomics/dim-2_size-256_method-crop_roi_size-150/umcu/UNI_083_4.nii.gz',\n",
       " '/mnt/c/Users/user/data/dl_radiomics/dim-2_size-256_method-crop_roi_size-150/umcu/UNI_090_0.nii.gz',\n",
       " '/mnt/c/Users/user/data/dl_radiomics/dim-2_size-256_method-crop_roi_size-150/umcu/UNI_090_1.nii.gz',\n",
       " '/mnt/c/Users/user/data/dl_radiomics/dim-2_size-256_method-crop_roi_size-150/umcu/UNI_090_2.nii.gz',\n",
       " '/mnt/c/Users/user/data/dl_radiomics/dim-2_size-256_method-crop_roi_size-150/umcu/UNI_090_3.nii.gz',\n",
       " '/mnt/c/Users/user/data/dl_radiomics/dim-2_size-256_method-crop_roi_size-150/umcu/UNI_090_4.nii.gz',\n",
       " '/mnt/c/Users/user/data/dl_radiomics/dim-2_size-256_method-crop_roi_size-150/umcu/UNI_092_0.nii.gz',\n",
       " '/mnt/c/Users/user/data/dl_radiomics/dim-2_size-256_method-crop_roi_size-150/umcu/UNI_092_1.nii.gz',\n",
       " '/mnt/c/Users/user/data/dl_radiomics/dim-2_size-256_method-crop_roi_size-150/umcu/UNI_092_2.nii.gz',\n",
       " '/mnt/c/Users/user/data/dl_radiomics/dim-2_size-256_method-crop_roi_size-150/umcu/UNI_092_3.nii.gz',\n",
       " '/mnt/c/Users/user/data/dl_radiomics/dim-2_size-256_method-crop_roi_size-150/umcu/UNI_092_4.nii.gz',\n",
       " '/mnt/c/Users/user/data/dl_radiomics/dim-2_size-256_method-crop_roi_size-150/umcu/UNI_140_0.nii.gz',\n",
       " '/mnt/c/Users/user/data/dl_radiomics/dim-2_size-256_method-crop_roi_size-150/umcu/UNI_140_1.nii.gz',\n",
       " '/mnt/c/Users/user/data/dl_radiomics/dim-2_size-256_method-crop_roi_size-150/umcu/UNI_160_0.nii.gz',\n",
       " '/mnt/c/Users/user/data/dl_radiomics/dim-2_size-256_method-crop_roi_size-150/umcu/UNI_160_1.nii.gz',\n",
       " '/mnt/c/Users/user/data/dl_radiomics/dim-2_size-256_method-crop_roi_size-150/umcu/UNI_160_2.nii.gz',\n",
       " '/mnt/c/Users/user/data/dl_radiomics/dim-2_size-256_method-crop_roi_size-150/umcu/UNI_160_3.nii.gz',\n",
       " '/mnt/c/Users/user/data/dl_radiomics/dim-2_size-256_method-crop_roi_size-150/umcu/UNI_160_4.nii.gz',\n",
       " '/mnt/c/Users/user/data/dl_radiomics/dim-2_size-256_method-crop_roi_size-150/umcu/UNI_173_0.nii.gz',\n",
       " '/mnt/c/Users/user/data/dl_radiomics/dim-2_size-256_method-crop_roi_size-150/umcu/UNI_173_1.nii.gz',\n",
       " '/mnt/c/Users/user/data/dl_radiomics/dim-2_size-256_method-crop_roi_size-150/umcu/UNI_178_0.nii.gz',\n",
       " '/mnt/c/Users/user/data/dl_radiomics/dim-2_size-256_method-crop_roi_size-150/umcu/UNI_178_1.nii.gz',\n",
       " '/mnt/c/Users/user/data/dl_radiomics/dim-2_size-256_method-crop_roi_size-150/umcu/UNI_179abdomen_0.nii.gz',\n",
       " '/mnt/c/Users/user/data/dl_radiomics/dim-2_size-256_method-crop_roi_size-150/umcu/UNI_179abdomen_1.nii.gz',\n",
       " '/mnt/c/Users/user/data/dl_radiomics/dim-2_size-256_method-crop_roi_size-150/umcu/UNI_179abdomen_2.nii.gz',\n",
       " '/mnt/c/Users/user/data/dl_radiomics/dim-2_size-256_method-crop_roi_size-150/umcu/UNI_180thorax_0.nii.gz',\n",
       " '/mnt/c/Users/user/data/dl_radiomics/dim-2_size-256_method-crop_roi_size-150/umcu/UNI_180thorax_1.nii.gz',\n",
       " '/mnt/c/Users/user/data/dl_radiomics/dim-2_size-256_method-crop_roi_size-150/umcu/UNI_185_0.nii.gz',\n",
       " '/mnt/c/Users/user/data/dl_radiomics/dim-2_size-256_method-crop_roi_size-150/umcu/UNI_185_1.nii.gz',\n",
       " '/mnt/c/Users/user/data/dl_radiomics/dim-2_size-256_method-crop_roi_size-150/umcu/UNI_185_2.nii.gz',\n",
       " '/mnt/c/Users/user/data/dl_radiomics/dim-2_size-256_method-crop_roi_size-150/umcu/UNI_185_3.nii.gz',\n",
       " '/mnt/c/Users/user/data/dl_radiomics/dim-2_size-256_method-crop_roi_size-150/umcu/UNI_185_4.nii.gz',\n",
       " '/mnt/c/Users/user/data/dl_radiomics/dim-2_size-256_method-crop_roi_size-150/umcu/UNI_186_0.nii.gz',\n",
       " '/mnt/c/Users/user/data/dl_radiomics/dim-2_size-256_method-crop_roi_size-150/umcu/UNI_186_1.nii.gz',\n",
       " '/mnt/c/Users/user/data/dl_radiomics/dim-2_size-256_method-crop_roi_size-150/umcu/UNI_186_2.nii.gz',\n",
       " '/mnt/c/Users/user/data/dl_radiomics/dim-2_size-256_method-crop_roi_size-150/umcu/UNI_186_3.nii.gz',\n",
       " '/mnt/c/Users/user/data/dl_radiomics/dim-2_size-256_method-crop_roi_size-150/umcu/UNI_186_4.nii.gz',\n",
       " '/mnt/c/Users/user/data/dl_radiomics/dim-2_size-256_method-crop_roi_size-150/umcu/UNI_219_0.nii.gz',\n",
       " '/mnt/c/Users/user/data/dl_radiomics/dim-2_size-256_method-crop_roi_size-150/umcu/UNI_219_1.nii.gz',\n",
       " '/mnt/c/Users/user/data/dl_radiomics/dim-2_size-256_method-crop_roi_size-150/umcu/UNI_219_2.nii.gz',\n",
       " '/mnt/c/Users/user/data/dl_radiomics/dim-2_size-256_method-crop_roi_size-150/vumc/PREM_VU_003_0.nii.gz',\n",
       " '/mnt/c/Users/user/data/dl_radiomics/dim-2_size-256_method-crop_roi_size-150/vumc/PREM_VU_003_1.nii.gz',\n",
       " '/mnt/c/Users/user/data/dl_radiomics/dim-2_size-256_method-crop_roi_size-150/vumc/PREM_VU_008abdomen_0.nii.gz',\n",
       " '/mnt/c/Users/user/data/dl_radiomics/dim-2_size-256_method-crop_roi_size-150/vumc/PREM_VU_008abdomen_1.nii.gz',\n",
       " '/mnt/c/Users/user/data/dl_radiomics/dim-2_size-256_method-crop_roi_size-150/vumc/PREM_VU_008abdomen_2.nii.gz',\n",
       " '/mnt/c/Users/user/data/dl_radiomics/dim-2_size-256_method-crop_roi_size-150/vumc/PREM_VU_025_0.nii.gz',\n",
       " '/mnt/c/Users/user/data/dl_radiomics/dim-2_size-256_method-crop_roi_size-150/vumc/PREM_VU_025_1.nii.gz',\n",
       " '/mnt/c/Users/user/data/dl_radiomics/dim-2_size-256_method-crop_roi_size-150/vumc/PREM_VU_025_2.nii.gz',\n",
       " '/mnt/c/Users/user/data/dl_radiomics/dim-2_size-256_method-crop_roi_size-150/vumc/PREM_VU_025_3.nii.gz',\n",
       " '/mnt/c/Users/user/data/dl_radiomics/dim-2_size-256_method-crop_roi_size-150/vumc/PREM_VU_025_4.nii.gz',\n",
       " '/mnt/c/Users/user/data/dl_radiomics/dim-2_size-256_method-crop_roi_size-150/vumc/PREM_VU_028_0.nii.gz',\n",
       " '/mnt/c/Users/user/data/dl_radiomics/dim-2_size-256_method-crop_roi_size-150/vumc/PREM_VU_028_1.nii.gz',\n",
       " '/mnt/c/Users/user/data/dl_radiomics/dim-2_size-256_method-crop_roi_size-150/vumc/PREM_VU_028_2.nii.gz',\n",
       " '/mnt/c/Users/user/data/dl_radiomics/dim-2_size-256_method-crop_roi_size-150/vumc/PREM_VU_028_3.nii.gz',\n",
       " '/mnt/c/Users/user/data/dl_radiomics/dim-2_size-256_method-crop_roi_size-150/vumc/PREM_VU_028_4.nii.gz',\n",
       " '/mnt/c/Users/user/data/dl_radiomics/dim-2_size-256_method-crop_roi_size-150/vumc/PREM_VU_029thorax_0.nii.gz',\n",
       " '/mnt/c/Users/user/data/dl_radiomics/dim-2_size-256_method-crop_roi_size-150/vumc/PREM_VU_029thorax_1.nii.gz',\n",
       " '/mnt/c/Users/user/data/dl_radiomics/dim-2_size-256_method-crop_roi_size-150/vumc/PREM_VU_029thorax_2.nii.gz',\n",
       " '/mnt/c/Users/user/data/dl_radiomics/dim-2_size-256_method-crop_roi_size-150/vumc/PREM_VU_029thorax_3.nii.gz',\n",
       " '/mnt/c/Users/user/data/dl_radiomics/dim-2_size-256_method-crop_roi_size-150/vumc/PREM_VU_033_0.nii.gz',\n",
       " '/mnt/c/Users/user/data/dl_radiomics/dim-2_size-256_method-crop_roi_size-150/vumc/PREM_VU_033_1.nii.gz',\n",
       " '/mnt/c/Users/user/data/dl_radiomics/dim-2_size-256_method-crop_roi_size-150/vumc/PREM_VU_037_0.nii.gz',\n",
       " '/mnt/c/Users/user/data/dl_radiomics/dim-2_size-256_method-crop_roi_size-150/vumc/PREM_VU_037_1.nii.gz',\n",
       " '/mnt/c/Users/user/data/dl_radiomics/dim-2_size-256_method-crop_roi_size-150/vumc/PREM_VU_037_2.nii.gz',\n",
       " '/mnt/c/Users/user/data/dl_radiomics/dim-2_size-256_method-crop_roi_size-150/vumc/PREM_VU_037_3.nii.gz',\n",
       " '/mnt/c/Users/user/data/dl_radiomics/dim-2_size-256_method-crop_roi_size-150/vumc/PREM_VU_037_4.nii.gz',\n",
       " '/mnt/c/Users/user/data/dl_radiomics/dim-2_size-256_method-crop_roi_size-150/vumc/PREM_VU_038_0.nii.gz',\n",
       " '/mnt/c/Users/user/data/dl_radiomics/dim-2_size-256_method-crop_roi_size-150/vumc/PREM_VU_038_1.nii.gz',\n",
       " '/mnt/c/Users/user/data/dl_radiomics/dim-2_size-256_method-crop_roi_size-150/vumc/PREM_VU_040_0.nii.gz',\n",
       " '/mnt/c/Users/user/data/dl_radiomics/dim-2_size-256_method-crop_roi_size-150/vumc/PREM_VU_040_1.nii.gz',\n",
       " '/mnt/c/Users/user/data/dl_radiomics/dim-2_size-256_method-crop_roi_size-150/vumc/PREM_VU_040_2.nii.gz',\n",
       " '/mnt/c/Users/user/data/dl_radiomics/dim-2_size-256_method-crop_roi_size-150/vumc/PREM_VU_040_4.nii.gz',\n",
       " '/mnt/c/Users/user/data/dl_radiomics/dim-2_size-256_method-crop_roi_size-150/vumc/PREM_VU_041_0.nii.gz',\n",
       " '/mnt/c/Users/user/data/dl_radiomics/dim-2_size-256_method-crop_roi_size-150/vumc/PREM_VU_041_1.nii.gz',\n",
       " '/mnt/c/Users/user/data/dl_radiomics/dim-2_size-256_method-crop_roi_size-150/vumc/PREM_VU_041_2.nii.gz',\n",
       " '/mnt/c/Users/user/data/dl_radiomics/dim-2_size-256_method-crop_roi_size-150/vumc/PREM_VU_041_3.nii.gz',\n",
       " '/mnt/c/Users/user/data/dl_radiomics/dim-2_size-256_method-crop_roi_size-150/vumc/PREM_VU_042_0.nii.gz',\n",
       " '/mnt/c/Users/user/data/dl_radiomics/dim-2_size-256_method-crop_roi_size-150/vumc/PREM_VU_042_1.nii.gz',\n",
       " '/mnt/c/Users/user/data/dl_radiomics/dim-2_size-256_method-crop_roi_size-150/vumc/PREM_VU_042_2.nii.gz',\n",
       " '/mnt/c/Users/user/data/dl_radiomics/dim-2_size-256_method-crop_roi_size-150/vumc/PREM_VU_042_3.nii.gz',\n",
       " '/mnt/c/Users/user/data/dl_radiomics/dim-2_size-256_method-crop_roi_size-150/vumc/PREM_VU_042_4.nii.gz',\n",
       " '/mnt/c/Users/user/data/dl_radiomics/dim-2_size-256_method-crop_roi_size-150/vumc/PREM_VU_043_0.nii.gz',\n",
       " '/mnt/c/Users/user/data/dl_radiomics/dim-2_size-256_method-crop_roi_size-150/vumc/PREM_VU_043_1.nii.gz',\n",
       " '/mnt/c/Users/user/data/dl_radiomics/dim-2_size-256_method-crop_roi_size-150/vumc/PREM_VU_043_2.nii.gz',\n",
       " '/mnt/c/Users/user/data/dl_radiomics/dim-2_size-256_method-crop_roi_size-150/vumc/PREM_VU_043_3.nii.gz',\n",
       " '/mnt/c/Users/user/data/dl_radiomics/dim-2_size-256_method-crop_roi_size-150/vumc/PREM_VU_043_4.nii.gz',\n",
       " '/mnt/c/Users/user/data/dl_radiomics/dim-2_size-256_method-crop_roi_size-150/vumc/PREM_VU_047_0.nii.gz',\n",
       " '/mnt/c/Users/user/data/dl_radiomics/dim-2_size-256_method-crop_roi_size-150/vumc/PREM_VU_047_1.nii.gz',\n",
       " '/mnt/c/Users/user/data/dl_radiomics/dim-2_size-256_method-crop_roi_size-150/vumc/PREM_VU_047_2.nii.gz',\n",
       " '/mnt/c/Users/user/data/dl_radiomics/dim-2_size-256_method-crop_roi_size-150/vumc/PREM_VU_047_3.nii.gz',\n",
       " '/mnt/c/Users/user/data/dl_radiomics/dim-2_size-256_method-crop_roi_size-150/vumc/PREM_VU_047_4.nii.gz',\n",
       " '/mnt/c/Users/user/data/dl_radiomics/dim-2_size-256_method-crop_roi_size-150/vumc/PREM_VU_049thorax_0.nii.gz',\n",
       " '/mnt/c/Users/user/data/dl_radiomics/dim-2_size-256_method-crop_roi_size-150/vumc/PREM_VU_049thorax_1.nii.gz',\n",
       " '/mnt/c/Users/user/data/dl_radiomics/dim-2_size-256_method-crop_roi_size-150/vumc/PREM_VU_049thorax_2.nii.gz',\n",
       " '/mnt/c/Users/user/data/dl_radiomics/dim-2_size-256_method-crop_roi_size-150/vumc/PREM_VU_050_0.nii.gz',\n",
       " '/mnt/c/Users/user/data/dl_radiomics/dim-2_size-256_method-crop_roi_size-150/vumc/PREM_VU_050_1.nii.gz',\n",
       " '/mnt/c/Users/user/data/dl_radiomics/dim-2_size-256_method-crop_roi_size-150/vumc/PREM_VU_050_2.nii.gz',\n",
       " '/mnt/c/Users/user/data/dl_radiomics/dim-2_size-256_method-crop_roi_size-150/vumc/PREM_VU_050_3.nii.gz',\n",
       " '/mnt/c/Users/user/data/dl_radiomics/dim-2_size-256_method-crop_roi_size-150/vumc/PREM_VU_050_4.nii.gz',\n",
       " '/mnt/c/Users/user/data/dl_radiomics/dim-2_size-256_method-crop_roi_size-150/vumc/PREM_VU_051_0.nii.gz',\n",
       " '/mnt/c/Users/user/data/dl_radiomics/dim-2_size-256_method-crop_roi_size-150/vumc/PREM_VU_051_1.nii.gz',\n",
       " '/mnt/c/Users/user/data/dl_radiomics/dim-2_size-256_method-crop_roi_size-150/vumc/PREM_VU_051_2.nii.gz',\n",
       " '/mnt/c/Users/user/data/dl_radiomics/dim-2_size-256_method-crop_roi_size-150/vumc/PREM_VU_051_3.nii.gz',\n",
       " '/mnt/c/Users/user/data/dl_radiomics/dim-2_size-256_method-crop_roi_size-150/vumc/PREM_VU_051_4.nii.gz',\n",
       " '/mnt/c/Users/user/data/dl_radiomics/dim-2_size-256_method-crop_roi_size-150/vumc/PREM_VU_052_0.nii.gz',\n",
       " '/mnt/c/Users/user/data/dl_radiomics/dim-2_size-256_method-crop_roi_size-150/vumc/PREM_VU_052_1.nii.gz',\n",
       " '/mnt/c/Users/user/data/dl_radiomics/dim-2_size-256_method-crop_roi_size-150/vumc/PREM_VU_052_2.nii.gz',\n",
       " '/mnt/c/Users/user/data/dl_radiomics/dim-2_size-256_method-crop_roi_size-150/vumc/PREM_VU_052_3.nii.gz',\n",
       " '/mnt/c/Users/user/data/dl_radiomics/dim-2_size-256_method-crop_roi_size-150/vumc/PREM_VU_052_4.nii.gz',\n",
       " '/mnt/c/Users/user/data/dl_radiomics/dim-2_size-256_method-crop_roi_size-150/vumc/PREM_VU_054abdomen_0.nii.gz',\n",
       " '/mnt/c/Users/user/data/dl_radiomics/dim-2_size-256_method-crop_roi_size-150/vumc/PREM_VU_054abdomen_1.nii.gz',\n",
       " '/mnt/c/Users/user/data/dl_radiomics/dim-2_size-256_method-crop_roi_size-150/vumc/PREM_VU_054abdomen_2.nii.gz',\n",
       " '/mnt/c/Users/user/data/dl_radiomics/dim-2_size-256_method-crop_roi_size-150/vumc/PREM_VU_054abdomen_3.nii.gz',\n",
       " '/mnt/c/Users/user/data/dl_radiomics/dim-2_size-256_method-crop_roi_size-150/vumc/PREM_VU_054abdomen_4.nii.gz',\n",
       " '/mnt/c/Users/user/data/dl_radiomics/dim-2_size-256_method-crop_roi_size-150/vumc/PREM_VU_068abdomen_0.nii.gz',\n",
       " '/mnt/c/Users/user/data/dl_radiomics/dim-2_size-256_method-crop_roi_size-150/vumc/PREM_VU_068abdomen_1.nii.gz',\n",
       " '/mnt/c/Users/user/data/dl_radiomics/dim-2_size-256_method-crop_roi_size-150/vumc/PREM_VU_068abdomen_2.nii.gz',\n",
       " '/mnt/c/Users/user/data/dl_radiomics/dim-2_size-256_method-crop_roi_size-150/vumc/PREM_VU_073thorax_0.nii.gz',\n",
       " '/mnt/c/Users/user/data/dl_radiomics/dim-2_size-256_method-crop_roi_size-150/vumc/PREM_VU_073thorax_1.nii.gz',\n",
       " '/mnt/c/Users/user/data/dl_radiomics/dim-2_size-256_method-crop_roi_size-150/vumc/PREM_VU_077_1.nii.gz',\n",
       " '/mnt/c/Users/user/data/dl_radiomics/dim-2_size-256_method-crop_roi_size-150/vumc/PREM_VU_077_2.nii.gz',\n",
       " '/mnt/c/Users/user/data/dl_radiomics/dim-2_size-256_method-crop_roi_size-150/vumc/PREM_VU_077_3.nii.gz',\n",
       " '/mnt/c/Users/user/data/dl_radiomics/dim-2_size-256_method-crop_roi_size-150/vumc/PREM_VU_077_4.nii.gz',\n",
       " '/mnt/c/Users/user/data/dl_radiomics/dim-2_size-256_method-crop_roi_size-150/vumc/PREM_VU_081_0.nii.gz',\n",
       " '/mnt/c/Users/user/data/dl_radiomics/dim-2_size-256_method-crop_roi_size-150/vumc/PREM_VU_081_1.nii.gz',\n",
       " '/mnt/c/Users/user/data/dl_radiomics/dim-2_size-256_method-crop_roi_size-150/vumc/PREM_VU_081_2.nii.gz',\n",
       " '/mnt/c/Users/user/data/dl_radiomics/dim-2_size-256_method-crop_roi_size-150/vumc/PREM_VU_081_3.nii.gz',\n",
       " '/mnt/c/Users/user/data/dl_radiomics/dim-2_size-256_method-crop_roi_size-150/vumc/PREM_VU_081_4.nii.gz',\n",
       " '/mnt/c/Users/user/data/dl_radiomics/dim-2_size-256_method-crop_roi_size-150/vumc/PREM_VU_083_0.nii.gz',\n",
       " '/mnt/c/Users/user/data/dl_radiomics/dim-2_size-256_method-crop_roi_size-150/vumc/PREM_VU_083_1.nii.gz',\n",
       " '/mnt/c/Users/user/data/dl_radiomics/dim-2_size-256_method-crop_roi_size-150/vumc/PREM_VU_083_2.nii.gz',\n",
       " '/mnt/c/Users/user/data/dl_radiomics/dim-2_size-256_method-crop_roi_size-150/vumc/PREM_VU_085_0.nii.gz',\n",
       " '/mnt/c/Users/user/data/dl_radiomics/dim-2_size-256_method-crop_roi_size-150/vumc/PREM_VU_085_1.nii.gz',\n",
       " '/mnt/c/Users/user/data/dl_radiomics/dim-2_size-256_method-crop_roi_size-150/vumc/PREM_VU_085_2.nii.gz',\n",
       " '/mnt/c/Users/user/data/dl_radiomics/dim-2_size-256_method-crop_roi_size-150/vumc/PREM_VU_087_0.nii.gz',\n",
       " '/mnt/c/Users/user/data/dl_radiomics/dim-2_size-256_method-crop_roi_size-150/vumc/PREM_VU_087_1.nii.gz',\n",
       " '/mnt/c/Users/user/data/dl_radiomics/dim-2_size-256_method-crop_roi_size-150/vumc/PREM_VU_087_2.nii.gz',\n",
       " '/mnt/c/Users/user/data/dl_radiomics/dim-2_size-256_method-crop_roi_size-150/vumc/PREM_VU_087_3.nii.gz',\n",
       " '/mnt/c/Users/user/data/dl_radiomics/dim-2_size-256_method-crop_roi_size-150/vumc/PREM_VU_089_0.nii.gz',\n",
       " '/mnt/c/Users/user/data/dl_radiomics/dim-2_size-256_method-crop_roi_size-150/vumc/PREM_VU_089_1.nii.gz',\n",
       " '/mnt/c/Users/user/data/dl_radiomics/dim-2_size-256_method-crop_roi_size-150/vumc/PREM_VU_089_2.nii.gz',\n",
       " '/mnt/c/Users/user/data/dl_radiomics/dim-2_size-256_method-crop_roi_size-150/vumc/PREM_VU_089_3.nii.gz',\n",
       " '/mnt/c/Users/user/data/dl_radiomics/dim-2_size-256_method-crop_roi_size-150/vumc/PREM_VU_093_0.nii.gz',\n",
       " '/mnt/c/Users/user/data/dl_radiomics/dim-2_size-256_method-crop_roi_size-150/vumc/PREM_VU_093_1.nii.gz',\n",
       " '/mnt/c/Users/user/data/dl_radiomics/dim-2_size-256_method-crop_roi_size-150/vumc/PREM_VU_093_2.nii.gz',\n",
       " '/mnt/c/Users/user/data/dl_radiomics/dim-2_size-256_method-crop_roi_size-150/vumc/PREM_VU_093_3.nii.gz',\n",
       " '/mnt/c/Users/user/data/dl_radiomics/dim-2_size-256_method-crop_roi_size-150/vumc/PREM_VU_093_4.nii.gz',\n",
       " '/mnt/c/Users/user/data/dl_radiomics/dim-2_size-256_method-crop_roi_size-150/vumc/PREM_VU_096_0.nii.gz',\n",
       " '/mnt/c/Users/user/data/dl_radiomics/dim-2_size-256_method-crop_roi_size-150/vumc/PREM_VU_096_1.nii.gz',\n",
       " '/mnt/c/Users/user/data/dl_radiomics/dim-2_size-256_method-crop_roi_size-150/vumc/PREM_VU_096_2.nii.gz',\n",
       " '/mnt/c/Users/user/data/dl_radiomics/dim-2_size-256_method-crop_roi_size-150/vumc/PREM_VU_096_3.nii.gz',\n",
       " '/mnt/c/Users/user/data/dl_radiomics/dim-2_size-256_method-crop_roi_size-150/vumc/PREM_VU_099_0.nii.gz',\n",
       " '/mnt/c/Users/user/data/dl_radiomics/dim-2_size-256_method-crop_roi_size-150/vumc/PREM_VU_099_1.nii.gz',\n",
       " '/mnt/c/Users/user/data/dl_radiomics/dim-2_size-256_method-crop_roi_size-150/vumc/PREM_VU_099_2.nii.gz',\n",
       " '/mnt/c/Users/user/data/dl_radiomics/dim-2_size-256_method-crop_roi_size-150/vumc/PREM_VU_099_3.nii.gz',\n",
       " '/mnt/c/Users/user/data/dl_radiomics/dim-2_size-256_method-crop_roi_size-150/vumc/PREM_VU_100_0.nii.gz',\n",
       " '/mnt/c/Users/user/data/dl_radiomics/dim-2_size-256_method-crop_roi_size-150/vumc/PREM_VU_100_1.nii.gz',\n",
       " '/mnt/c/Users/user/data/dl_radiomics/dim-2_size-256_method-crop_roi_size-150/vumc/PREM_VU_100_2.nii.gz',\n",
       " '/mnt/c/Users/user/data/dl_radiomics/dim-2_size-256_method-crop_roi_size-150/vumc/PREM_VU_100_3.nii.gz',\n",
       " '/mnt/c/Users/user/data/dl_radiomics/dim-2_size-256_method-crop_roi_size-150/vumc/PREM_VU_100_4.nii.gz',\n",
       " '/mnt/c/Users/user/data/dl_radiomics/dim-2_size-256_method-crop_roi_size-150/vumc/PREM_VU_101abdomen_0.nii.gz',\n",
       " '/mnt/c/Users/user/data/dl_radiomics/dim-2_size-256_method-crop_roi_size-150/vumc/PREM_VU_101abdomen_1.nii.gz',\n",
       " '/mnt/c/Users/user/data/dl_radiomics/dim-2_size-256_method-crop_roi_size-150/vumc/PREM_VU_101abdomen_2.nii.gz',\n",
       " '/mnt/c/Users/user/data/dl_radiomics/dim-2_size-256_method-crop_roi_size-150/vumc/PREM_VU_101abdomen_3.nii.gz',\n",
       " '/mnt/c/Users/user/data/dl_radiomics/dim-2_size-256_method-crop_roi_size-150/vumc/PREM_VU_101abdomen_4.nii.gz',\n",
       " '/mnt/c/Users/user/data/dl_radiomics/dim-2_size-256_method-crop_roi_size-150/vumc/PREM_VU_103_0.nii.gz',\n",
       " '/mnt/c/Users/user/data/dl_radiomics/dim-2_size-256_method-crop_roi_size-150/vumc/PREM_VU_103_1.nii.gz',\n",
       " '/mnt/c/Users/user/data/dl_radiomics/dim-2_size-256_method-crop_roi_size-150/vumc/PREM_VU_103_2.nii.gz',\n",
       " '/mnt/c/Users/user/data/dl_radiomics/dim-2_size-256_method-crop_roi_size-150/vumc/PREM_VU_103_3.nii.gz',\n",
       " '/mnt/c/Users/user/data/dl_radiomics/dim-2_size-256_method-crop_roi_size-150/vumc/PREM_VU_104_0.nii.gz',\n",
       " '/mnt/c/Users/user/data/dl_radiomics/dim-2_size-256_method-crop_roi_size-150/vumc/PREM_VU_104_1.nii.gz',\n",
       " '/mnt/c/Users/user/data/dl_radiomics/dim-2_size-256_method-crop_roi_size-150/vumc/PREM_VU_104_2.nii.gz',\n",
       " '/mnt/c/Users/user/data/dl_radiomics/dim-2_size-256_method-crop_roi_size-150/vumc/PREM_VU_104_3.nii.gz',\n",
       " '/mnt/c/Users/user/data/dl_radiomics/dim-2_size-256_method-crop_roi_size-150/vumc/PREM_VU_105_0.nii.gz',\n",
       " '/mnt/c/Users/user/data/dl_radiomics/dim-2_size-256_method-crop_roi_size-150/vumc/PREM_VU_105_1.nii.gz',\n",
       " '/mnt/c/Users/user/data/dl_radiomics/dim-2_size-256_method-crop_roi_size-150/vumc/PREM_VU_105_2.nii.gz',\n",
       " '/mnt/c/Users/user/data/dl_radiomics/dim-2_size-256_method-crop_roi_size-150/vumc/PREM_VU_105_3.nii.gz',\n",
       " '/mnt/c/Users/user/data/dl_radiomics/dim-2_size-256_method-crop_roi_size-150/vumc/PREM_VU_105_4.nii.gz',\n",
       " '/mnt/c/Users/user/data/dl_radiomics/dim-2_size-256_method-crop_roi_size-150/vumc/PREM_VU_107abdomen_0.nii.gz',\n",
       " '/mnt/c/Users/user/data/dl_radiomics/dim-2_size-256_method-crop_roi_size-150/vumc/PREM_VU_107abdomen_1.nii.gz',\n",
       " '/mnt/c/Users/user/data/dl_radiomics/dim-2_size-256_method-crop_roi_size-150/vumc/PREM_VU_107abdomen_2.nii.gz',\n",
       " '/mnt/c/Users/user/data/dl_radiomics/dim-2_size-256_method-crop_roi_size-150/vumc/PREM_VU_108thorax_0.nii.gz',\n",
       " '/mnt/c/Users/user/data/dl_radiomics/dim-2_size-256_method-crop_roi_size-150/vumc/PREM_VU_108thorax_1.nii.gz',\n",
       " '/mnt/c/Users/user/data/dl_radiomics/dim-2_size-256_method-crop_roi_size-150/vumc/PREM_VU_110_0.nii.gz',\n",
       " '/mnt/c/Users/user/data/dl_radiomics/dim-2_size-256_method-crop_roi_size-150/vumc/PREM_VU_110_1.nii.gz',\n",
       " '/mnt/c/Users/user/data/dl_radiomics/dim-2_size-256_method-crop_roi_size-150/vumc/PREM_VU_110_2.nii.gz',\n",
       " '/mnt/c/Users/user/data/dl_radiomics/dim-2_size-256_method-crop_roi_size-150/vumc/PREM_VU_110_3.nii.gz',\n",
       " '/mnt/c/Users/user/data/dl_radiomics/dim-2_size-256_method-crop_roi_size-150/vumc/PREM_VU_110_4.nii.gz',\n",
       " '/mnt/c/Users/user/data/dl_radiomics/dim-2_size-256_method-crop_roi_size-150/vumc/PREM_VU_115_0.nii.gz',\n",
       " '/mnt/c/Users/user/data/dl_radiomics/dim-2_size-256_method-crop_roi_size-150/vumc/PREM_VU_115_1.nii.gz',\n",
       " '/mnt/c/Users/user/data/dl_radiomics/dim-2_size-256_method-crop_roi_size-150/vumc/PREM_VU_115_2.nii.gz',\n",
       " '/mnt/c/Users/user/data/dl_radiomics/dim-2_size-256_method-crop_roi_size-150/vumc/PREM_VU_115_3.nii.gz',\n",
       " '/mnt/c/Users/user/data/dl_radiomics/dim-2_size-256_method-crop_roi_size-150/vumc/PREM_VU_115_4.nii.gz',\n",
       " '/mnt/c/Users/user/data/dl_radiomics/dim-2_size-256_method-crop_roi_size-150/vumc/PREM_VU_116_0.nii.gz',\n",
       " '/mnt/c/Users/user/data/dl_radiomics/dim-2_size-256_method-crop_roi_size-150/vumc/PREM_VU_116_1.nii.gz',\n",
       " '/mnt/c/Users/user/data/dl_radiomics/dim-2_size-256_method-crop_roi_size-150/vumc/PREM_VU_116_2.nii.gz',\n",
       " '/mnt/c/Users/user/data/dl_radiomics/dim-2_size-256_method-crop_roi_size-150/vumc/PREM_VU_116_3.nii.gz',\n",
       " '/mnt/c/Users/user/data/dl_radiomics/dim-2_size-256_method-crop_roi_size-150/vumc/PREM_VU_116_4.nii.gz',\n",
       " '/mnt/c/Users/user/data/dl_radiomics/dim-2_size-256_method-crop_roi_size-150/vumc/PREM_VU_119thorax_0.nii.gz',\n",
       " '/mnt/c/Users/user/data/dl_radiomics/dim-2_size-256_method-crop_roi_size-150/vumc/PREM_VU_119thorax_1.nii.gz',\n",
       " '/mnt/c/Users/user/data/dl_radiomics/dim-2_size-256_method-crop_roi_size-150/vumc/PREM_VU_119thorax_2.nii.gz',\n",
       " '/mnt/c/Users/user/data/dl_radiomics/dim-2_size-256_method-crop_roi_size-150/vumc/PREM_VU_120_0.nii.gz',\n",
       " '/mnt/c/Users/user/data/dl_radiomics/dim-2_size-256_method-crop_roi_size-150/vumc/PREM_VU_120_1.nii.gz',\n",
       " '/mnt/c/Users/user/data/dl_radiomics/dim-2_size-256_method-crop_roi_size-150/vumc/PREM_VU_120_2.nii.gz',\n",
       " '/mnt/c/Users/user/data/dl_radiomics/dim-2_size-256_method-crop_roi_size-150/vumc/PREM_VU_121_0.nii.gz',\n",
       " '/mnt/c/Users/user/data/dl_radiomics/dim-2_size-256_method-crop_roi_size-150/vumc/PREM_VU_121_1.nii.gz',\n",
       " '/mnt/c/Users/user/data/dl_radiomics/dim-2_size-256_method-crop_roi_size-150/vumc/PREM_VU_121_2.nii.gz',\n",
       " '/mnt/c/Users/user/data/dl_radiomics/dim-2_size-256_method-crop_roi_size-150/vumc/PREM_VU_121_3.nii.gz',\n",
       " '/mnt/c/Users/user/data/dl_radiomics/dim-2_size-256_method-crop_roi_size-150/vumc/PREM_VU_121_4.nii.gz',\n",
       " '/mnt/c/Users/user/data/dl_radiomics/dim-2_size-256_method-crop_roi_size-150/vumc/PREM_VU_122_0.nii.gz',\n",
       " '/mnt/c/Users/user/data/dl_radiomics/dim-2_size-256_method-crop_roi_size-150/vumc/PREM_VU_122_1.nii.gz',\n",
       " '/mnt/c/Users/user/data/dl_radiomics/dim-2_size-256_method-crop_roi_size-150/vumc/PREM_VU_122_2.nii.gz',\n",
       " '/mnt/c/Users/user/data/dl_radiomics/dim-2_size-256_method-crop_roi_size-150/vumc/PREM_VU_122_3.nii.gz',\n",
       " '/mnt/c/Users/user/data/dl_radiomics/dim-2_size-256_method-crop_roi_size-150/vumc/PREM_VU_122_4.nii.gz',\n",
       " '/mnt/c/Users/user/data/dl_radiomics/dim-2_size-256_method-crop_roi_size-150/vumc/PREM_VU_125abdomen_0.nii.gz',\n",
       " '/mnt/c/Users/user/data/dl_radiomics/dim-2_size-256_method-crop_roi_size-150/vumc/PREM_VU_125abdomen_1.nii.gz',\n",
       " '/mnt/c/Users/user/data/dl_radiomics/dim-2_size-256_method-crop_roi_size-150/vumc/PREM_VU_125abdomen_2.nii.gz',\n",
       " '/mnt/c/Users/user/data/dl_radiomics/dim-2_size-256_method-crop_roi_size-150/vumc/PREM_VU_125abdomen_3.nii.gz',\n",
       " '/mnt/c/Users/user/data/dl_radiomics/dim-2_size-256_method-crop_roi_size-150/vumc/PREM_VU_126abdomen_0.nii.gz',\n",
       " '/mnt/c/Users/user/data/dl_radiomics/dim-2_size-256_method-crop_roi_size-150/vumc/PREM_VU_126abdomen_1.nii.gz',\n",
       " '/mnt/c/Users/user/data/dl_radiomics/dim-2_size-256_method-crop_roi_size-150/vumc/PREM_VU_126abdomen_2.nii.gz',\n",
       " '/mnt/c/Users/user/data/dl_radiomics/dim-2_size-256_method-crop_roi_size-150/vumc/PREM_VU_126abdomen_3.nii.gz',\n",
       " '/mnt/c/Users/user/data/dl_radiomics/dim-2_size-256_method-crop_roi_size-150/vumc/PREM_VU_126abdomen_4.nii.gz',\n",
       " '/mnt/c/Users/user/data/dl_radiomics/dim-2_size-256_method-crop_roi_size-150/vumc/PREM_VU_127_0.nii.gz',\n",
       " '/mnt/c/Users/user/data/dl_radiomics/dim-2_size-256_method-crop_roi_size-150/vumc/PREM_VU_127_1.nii.gz',\n",
       " '/mnt/c/Users/user/data/dl_radiomics/dim-2_size-256_method-crop_roi_size-150/vumc/PREM_VU_127_2.nii.gz',\n",
       " '/mnt/c/Users/user/data/dl_radiomics/dim-2_size-256_method-crop_roi_size-150/vumc/PREM_VU_127_3.nii.gz',\n",
       " '/mnt/c/Users/user/data/dl_radiomics/dim-2_size-256_method-crop_roi_size-150/vumc/PREM_VU_127_4.nii.gz',\n",
       " '/mnt/c/Users/user/data/dl_radiomics/dim-2_size-256_method-crop_roi_size-150/vumc/PREM_VU_129abdomen_0.nii.gz',\n",
       " '/mnt/c/Users/user/data/dl_radiomics/dim-2_size-256_method-crop_roi_size-150/vumc/PREM_VU_129abdomen_1.nii.gz',\n",
       " '/mnt/c/Users/user/data/dl_radiomics/dim-2_size-256_method-crop_roi_size-150/vumc/PREM_VU_129abdomen_2.nii.gz',\n",
       " '/mnt/c/Users/user/data/dl_radiomics/dim-2_size-256_method-crop_roi_size-150/vumc/PREM_VU_129abdomen_3.nii.gz',\n",
       " '/mnt/c/Users/user/data/dl_radiomics/dim-2_size-256_method-crop_roi_size-150/vumc/PREM_VU_129abdomen_4.nii.gz',\n",
       " '/mnt/c/Users/user/data/dl_radiomics/dim-2_size-256_method-crop_roi_size-150/vumc/PREM_VU_133thorax_0.nii.gz',\n",
       " '/mnt/c/Users/user/data/dl_radiomics/dim-2_size-256_method-crop_roi_size-150/vumc/PREM_VU_133thorax_1.nii.gz',\n",
       " '/mnt/c/Users/user/data/dl_radiomics/dim-2_size-256_method-crop_roi_size-150/vumc/PREM_VU_133thorax_2.nii.gz',\n",
       " '/mnt/c/Users/user/data/dl_radiomics/dim-2_size-256_method-crop_roi_size-150/vumc/PREM_VU_133thorax_3.nii.gz',\n",
       " '/mnt/c/Users/user/data/dl_radiomics/dim-2_size-256_method-crop_roi_size-150/vumc/PREM_VU_133thorax_4.nii.gz',\n",
       " '/mnt/c/Users/user/data/dl_radiomics/dim-2_size-256_method-crop_roi_size-150/vumc/PREM_VU_137abdomen_0.nii.gz',\n",
       " '/mnt/c/Users/user/data/dl_radiomics/dim-2_size-256_method-crop_roi_size-150/vumc/PREM_VU_137abdomen_1.nii.gz',\n",
       " '/mnt/c/Users/user/data/dl_radiomics/dim-2_size-256_method-crop_roi_size-150/vumc/PREM_VU_137abdomen_2.nii.gz',\n",
       " '/mnt/c/Users/user/data/dl_radiomics/dim-2_size-256_method-crop_roi_size-150/vumc/PREM_VU_137abdomen_3.nii.gz',\n",
       " '/mnt/c/Users/user/data/dl_radiomics/dim-2_size-256_method-crop_roi_size-150/vumc/PREM_VU_137abdomen_4.nii.gz',\n",
       " '/mnt/c/Users/user/data/dl_radiomics/dim-2_size-256_method-crop_roi_size-150/vumc/PREM_VU_142thorax_0.nii.gz',\n",
       " '/mnt/c/Users/user/data/dl_radiomics/dim-2_size-256_method-crop_roi_size-150/vumc/PREM_VU_142thorax_1.nii.gz',\n",
       " '/mnt/c/Users/user/data/dl_radiomics/dim-2_size-256_method-crop_roi_size-150/vumc/PREM_VU_142thorax_2.nii.gz',\n",
       " '/mnt/c/Users/user/data/dl_radiomics/dim-2_size-256_method-crop_roi_size-150/vumc/PREM_VU_142thorax_3.nii.gz',\n",
       " '/mnt/c/Users/user/data/dl_radiomics/dim-2_size-256_method-crop_roi_size-150/vumc/PREM_VU_142thorax_4.nii.gz',\n",
       " '/mnt/c/Users/user/data/dl_radiomics/dim-2_size-256_method-crop_roi_size-150/vumc/PREM_VU_148abdomen_0.nii.gz',\n",
       " '/mnt/c/Users/user/data/dl_radiomics/dim-2_size-256_method-crop_roi_size-150/vumc/PREM_VU_148abdomen_1.nii.gz',\n",
       " '/mnt/c/Users/user/data/dl_radiomics/dim-2_size-256_method-crop_roi_size-150/vumc/PREM_VU_148abdomen_2.nii.gz',\n",
       " '/mnt/c/Users/user/data/dl_radiomics/dim-2_size-256_method-crop_roi_size-150/vumc/PREM_VU_148abdomen_3.nii.gz',\n",
       " '/mnt/c/Users/user/data/dl_radiomics/dim-2_size-256_method-crop_roi_size-150/vumc/PREM_VU_148abdomen_4.nii.gz',\n",
       " '/mnt/c/Users/user/data/dl_radiomics/dim-2_size-256_method-crop_roi_size-150/vumc/PREM_VU_149abdomen_0.nii.gz',\n",
       " '/mnt/c/Users/user/data/dl_radiomics/dim-2_size-256_method-crop_roi_size-150/vumc/PREM_VU_149abdomen_1.nii.gz',\n",
       " '/mnt/c/Users/user/data/dl_radiomics/dim-2_size-256_method-crop_roi_size-150/vumc/PREM_VU_149thorax_0.nii.gz',\n",
       " '/mnt/c/Users/user/data/dl_radiomics/dim-2_size-256_method-crop_roi_size-150/vumc/PREM_VU_149thorax_1.nii.gz',\n",
       " '/mnt/c/Users/user/data/dl_radiomics/dim-2_size-256_method-crop_roi_size-150/vumc/PREM_VU_149thorax_2.nii.gz',\n",
       " '/mnt/c/Users/user/data/dl_radiomics/dim-2_size-256_method-crop_roi_size-150/vumc/PREM_VU_151thorax_0.nii.gz',\n",
       " '/mnt/c/Users/user/data/dl_radiomics/dim-2_size-256_method-crop_roi_size-150/vumc/PREM_VU_151thorax_1.nii.gz',\n",
       " ...]"
      ]
     },
     "execution_count": 7,
     "metadata": {},
     "output_type": "execute_result"
    }
   ],
   "source": [
    "[img for img in val_images if img in train_images]"
   ]
  },
  {
   "cell_type": "code",
   "execution_count": 12,
   "metadata": {},
   "outputs": [
    {
     "data": {
      "text/plain": [
       "[[1.0, 1.0, 1.0, 1.0, 0.0, 0.0, nan, nan],\n",
       " [1.0, 1.0, 1.0, 1.0, 0.0, 0.0, nan, nan],\n",
       " [1.0, 1.0, 1.0, 1.0, 0.0, 0.0, nan, nan],\n",
       " [1.0, 1.0, 1.0, 1.0, 0.0, 0.0, nan, nan],\n",
       " [1.0, 1.0, 1.0, 1.0, 0.0, 0.0, nan, nan],\n",
       " [1.0, 1.0, 1.0, 1.0, 0.0, 0.0, nan, nan],\n",
       " [1.0, 1.0, 1.0, 1.0, 0.0, 0.0, nan, nan],\n",
       " [1.0, 1.0, 1.0, 1.0, 0.0, 0.0, nan, nan],\n",
       " [1.0, 1.0, 1.0, 1.0, 0.0, 0.0, nan, nan],\n",
       " [1.0, 1.0, 1.0, 1.0, 0.0, 0.0, nan, nan],\n",
       " [1.0, 1.0, 1.0, 0.0, 0.0, 0.0, nan, nan],\n",
       " [1.0, 1.0, 1.0, 0.0, 0.0, 0.0, nan, nan],\n",
       " [1.0, 1.0, 1.0, 0.0, 0.0, 0.0, nan, nan],\n",
       " [1.0, 1.0, 1.0, 0.0, 0.0, 0.0, nan, nan],\n",
       " [1.0, 1.0, 1.0, 0.0, 0.0, 0.0, nan, nan],\n",
       " [1.0, 1.0, 1.0, 0.0, 0.0, 0.0, nan, nan],\n",
       " [1.0, 1.0, 1.0, 0.0, 0.0, 0.0, nan, nan],\n",
       " [1.0, 1.0, 1.0, 0.0, 0.0, 0.0, nan, nan],\n",
       " [1.0, 1.0, 1.0, 0.0, 0.0, 0.0, nan, nan],\n",
       " [1.0, 1.0, 1.0, 0.0, 0.0, 0.0, nan, nan],\n",
       " [1.0, 1.0, 1.0, 0.0, 0.0, 0.0, nan, nan],\n",
       " [1.0, 1.0, 1.0, 0.0, 0.0, 0.0, nan, nan],\n",
       " [1.0, 1.0, 1.0, 0.0, 0.0, 0.0, nan, nan],\n",
       " [1.0, 1.0, 1.0, 0.0, 0.0, 0.0, nan, nan],\n",
       " [1.0, 1.0, 1.0, 0.0, 0.0, 0.0, nan, nan],\n",
       " [1.0, 1.0, 1.0, 0.0, 0.0, 0.0, nan, nan],\n",
       " [1.0, 1.0, 1.0, 0.0, 0.0, 0.0, nan, nan],\n",
       " [1.0, 1.0, 1.0, 0.0, 0.0, 0.0, nan, nan],\n",
       " [1.0, 1.0, 1.0, 0.0, 0.0, 0.0, nan, nan],\n",
       " [1.0, 1.0, 1.0, 0.0, 0.0, 0.0, nan, nan],\n",
       " [1.0, 1.0, 1.0, 0.0, 0.0, 0.0, nan, nan],\n",
       " [1.0, 1.0, 1.0, 0.0, 0.0, 0.0, nan, nan],\n",
       " [1.0, 1.0, 1.0, 0.0, 0.0, 0.0, nan, nan],\n",
       " [1.0, 1.0, 1.0, 0.0, 0.0, 0.0, nan, nan],\n",
       " [1.0, 1.0, 1.0, 0.0, 0.0, 0.0, nan, nan],\n",
       " [1.0, 1.0, 1.0, 0.0, 0.0, 0.0, nan, nan],\n",
       " [1.0, 1.0, 1.0, 0.0, 0.0, 0.0, nan, nan],\n",
       " [1.0, 1.0, 1.0, 0.0, 0.0, 0.0, nan, nan],\n",
       " [1.0, 1.0, 1.0, 0.0, 0.0, 0.0, nan, nan],\n",
       " [1.0, 1.0, 1.0, 0.0, 0.0, 0.0, nan, nan],\n",
       " [1.0, 1.0, 1.0, 0.0, 0.0, 0.0, nan, nan],\n",
       " [1.0, 1.0, 1.0, 0.0, 0.0, 0.0, nan, nan],\n",
       " [1.0, 1.0, 1.0, 0.0, 0.0, 0.0, nan, nan],\n",
       " [1.0, 1.0, 1.0, 0.0, 0.0, 0.0, nan, nan],\n",
       " [1.0, 1.0, 1.0, 0.0, 0.0, 0.0, nan, nan],\n",
       " [1.0, 1.0, 1.0, 0.0, 0.0, 0.0, nan, nan],\n",
       " [1.0, 1.0, 1.0, 0.0, 0.0, 0.0, nan, nan],\n",
       " [1.0, 1.0, 1.0, 0.0, 0.0, 0.0, nan, nan],\n",
       " [1.0, 1.0, 1.0, 0.0, 0.0, 0.0, nan, nan],\n",
       " [1.0, 1.0, 1.0, 0.0, 0.0, 0.0, nan, nan],\n",
       " [1.0, 1.0, 1.0, 0.0, 0.0, 0.0, nan, nan],\n",
       " [1.0, 1.0, 1.0, 0.0, 0.0, 0.0, nan, nan],\n",
       " [1.0, 1.0, 1.0, 0.0, 0.0, 0.0, nan, nan],\n",
       " [1.0, 1.0, 1.0, 0.0, 0.0, 0.0, nan, nan],\n",
       " [1.0, 1.0, 1.0, 0.0, 0.0, 0.0, nan, nan],\n",
       " [1.0, 1.0, 1.0, 0.0, 0.0, 0.0, nan, nan],\n",
       " [1.0, 1.0, 1.0, 0.0, 0.0, 0.0, nan, nan],\n",
       " [1.0, 1.0, 1.0, 0.0, 0.0, 0.0, nan, nan],\n",
       " [1.0, 1.0, 1.0, 0.0, 0.0, 0.0, nan, nan],\n",
       " [1.0, 1.0, 1.0, 0.0, 0.0, 0.0, nan, nan],\n",
       " [1.0, 1.0, 1.0, 0.0, 0.0, 0.0, nan, nan],\n",
       " [1.0, 1.0, 1.0, 0.0, 0.0, 0.0, nan, nan],\n",
       " [1.0, 1.0, 1.0, 0.0, 0.0, 0.0, nan, nan],\n",
       " [1.0, 1.0, 1.0, 0.0, 0.0, 0.0, nan, nan],\n",
       " [1.0, 1.0, 1.0, 0.0, 0.0, 0.0, nan, nan],\n",
       " [1.0, 1.0, 1.0, 0.0, 0.0, 0.0, nan, nan],\n",
       " [1.0, 1.0, 1.0, 0.0, 0.0, 0.0, nan, nan],\n",
       " [1.0, 1.0, 1.0, 0.0, 0.0, 0.0, nan, nan],\n",
       " [1.0, 1.0, 1.0, 0.0, 0.0, 0.0, nan, nan],\n",
       " [1.0, 1.0, 1.0, 0.0, 0.0, 0.0, nan, nan],\n",
       " [1.0, 1.0, 1.0, 0.0, 0.0, 0.0, nan, nan],\n",
       " [1.0, 1.0, 1.0, 0.0, 0.0, 0.0, nan, nan],\n",
       " [1.0, 1.0, 1.0, 0.0, 0.0, 0.0, nan, nan],\n",
       " [1.0, 1.0, 1.0, 0.0, 0.0, 0.0, nan, nan],\n",
       " [1.0, 1.0, 1.0, 0.0, 0.0, 0.0, nan, nan],\n",
       " [1.0, 1.0, 1.0, 0.0, 0.0, 0.0, nan, nan],\n",
       " [1.0, 1.0, 1.0, 0.0, 0.0, 0.0, nan, nan],\n",
       " [1.0, 1.0, 1.0, 0.0, 0.0, 0.0, nan, nan],\n",
       " [1.0, 1.0, 1.0, 0.0, 0.0, 0.0, nan, nan],\n",
       " [1.0, 1.0, 1.0, 0.0, 0.0, 0.0, nan, nan],\n",
       " [1.0, 1.0, 1.0, 0.0, 0.0, 0.0, nan, nan],\n",
       " [1.0, 1.0, 1.0, 0.0, 0.0, 0.0, nan, nan],\n",
       " [1.0, 1.0, 1.0, 0.0, 0.0, 0.0, nan, nan],\n",
       " [1.0, 1.0, 1.0, 0.0, 0.0, 0.0, nan, nan],\n",
       " [1.0, 1.0, 1.0, 0.0, 0.0, 0.0, nan, nan],\n",
       " [1.0, 1.0, 1.0, 0.0, 0.0, 0.0, nan, nan],\n",
       " [1.0, 1.0, 1.0, 0.0, 0.0, 0.0, nan, nan],\n",
       " [1.0, 1.0, 1.0, 0.0, 0.0, 0.0, nan, nan],\n",
       " [1.0, 1.0, 1.0, 0.0, 0.0, 0.0, nan, nan],\n",
       " [1.0, 1.0, 1.0, 0.0, 0.0, 0.0, nan, nan],\n",
       " [1.0, 1.0, 1.0, 0.0, 0.0, 0.0, nan, nan],\n",
       " [1.0, 1.0, 1.0, 0.0, 0.0, 0.0, nan, nan],\n",
       " [1.0, 1.0, 1.0, 0.0, 0.0, 0.0, nan, nan],\n",
       " [1.0, 1.0, 1.0, 0.0, 0.0, 0.0, nan, nan],\n",
       " [1.0, 1.0, 1.0, 0.0, 0.0, 0.0, nan, nan],\n",
       " [1.0, 1.0, 1.0, 0.0, 0.0, 0.0, nan, nan],\n",
       " [1.0, 1.0, 1.0, 0.0, 0.0, 0.0, nan, nan],\n",
       " [1.0, 1.0, 1.0, 0.0, 0.0, 0.0, nan, nan],\n",
       " [1.0, 1.0, 1.0, 0.0, 0.0, 0.0, nan, nan],\n",
       " [1.0, 1.0, 1.0, 0.0, 0.0, 0.0, nan, nan],\n",
       " [1.0, 1.0, 1.0, 0.0, 0.0, 0.0, nan, nan],\n",
       " [1.0, 1.0, 1.0, 0.0, 0.0, 0.0, nan, nan],\n",
       " [1.0, 1.0, 1.0, 0.0, 0.0, 0.0, nan, nan],\n",
       " [1.0, 1.0, 1.0, 0.0, 0.0, 0.0, nan, nan],\n",
       " [1.0, 1.0, 1.0, 0.0, 0.0, 0.0, nan, nan],\n",
       " [1.0, 1.0, 1.0, 0.0, 0.0, 0.0, nan, nan],\n",
       " [1.0, 1.0, 1.0, 0.0, 0.0, 0.0, nan, nan],\n",
       " [1.0, 1.0, 1.0, 0.0, 0.0, 0.0, nan, nan],\n",
       " [1.0, 1.0, 1.0, 0.0, 0.0, 0.0, nan, nan],\n",
       " [1.0, 1.0, 1.0, 0.0, 0.0, 0.0, nan, nan],\n",
       " [1.0, 1.0, 1.0, 0.0, 0.0, 0.0, nan, nan],\n",
       " [1.0, 1.0, 1.0, 0.0, 0.0, 0.0, nan, nan],\n",
       " [1.0, 1.0, 1.0, 0.0, 0.0, 0.0, nan, nan],\n",
       " [1.0, 1.0, 1.0, 0.0, 0.0, 0.0, nan, nan],\n",
       " [1.0, 1.0, 1.0, 0.0, 0.0, 0.0, nan, nan],\n",
       " [1.0, 1.0, 1.0, 0.0, 0.0, 0.0, nan, nan],\n",
       " [1.0, 1.0, 1.0, 0.0, 0.0, 0.0, nan, nan],\n",
       " [1.0, 1.0, 1.0, 0.0, 0.0, 0.0, nan, nan],\n",
       " [1.0, 1.0, 1.0, 0.0, 0.0, 0.0, nan, nan],\n",
       " [1.0, 1.0, 1.0, 0.0, 0.0, 0.0, nan, nan],\n",
       " [1.0, 1.0, 1.0, 0.0, 0.0, 0.0, nan, nan],\n",
       " [1.0, 1.0, 1.0, 0.0, 0.0, 0.0, nan, nan],\n",
       " [1.0, 1.0, 1.0, 0.0, 0.0, 0.0, nan, nan],\n",
       " [1.0, 1.0, 1.0, 0.0, 0.0, 0.0, nan, nan],\n",
       " [1.0, 1.0, 1.0, 0.0, 0.0, 0.0, nan, nan],\n",
       " [1.0, 1.0, 1.0, 0.0, 0.0, 0.0, nan, nan],\n",
       " [1.0, 1.0, 1.0, 0.0, 0.0, 0.0, nan, nan],\n",
       " [1.0, 1.0, 1.0, 0.0, 0.0, 0.0, nan, nan],\n",
       " [1.0, 1.0, 1.0, 0.0, 0.0, 0.0, nan, nan],\n",
       " [1.0, 1.0, 1.0, 0.0, 0.0, 0.0, nan, nan],\n",
       " [1.0, 1.0, 1.0, 0.0, 0.0, 0.0, nan, nan],\n",
       " [1.0, 1.0, 1.0, 0.0, 0.0, 0.0, nan, nan],\n",
       " [1.0, 1.0, 1.0, 0.0, 0.0, 0.0, nan, nan],\n",
       " [1.0, 1.0, 1.0, 0.0, 0.0, 0.0, nan, nan],\n",
       " [1.0, 1.0, 1.0, 0.0, 0.0, 0.0, nan, nan],\n",
       " [1.0, 1.0, 1.0, 0.0, 0.0, 0.0, nan, nan],\n",
       " [1.0, 1.0, 1.0, 0.0, 0.0, 0.0, nan, nan],\n",
       " [1.0, 1.0, 1.0, 0.0, 0.0, 0.0, nan, nan],\n",
       " [1.0, 1.0, 1.0, 0.0, 0.0, 0.0, nan, nan],\n",
       " [1.0, 1.0, 1.0, 0.0, 0.0, 0.0, nan, nan],\n",
       " [1.0, 1.0, 1.0, 0.0, 0.0, 0.0, nan, nan],\n",
       " [1.0, 1.0, 1.0, 0.0, 0.0, 0.0, nan, nan],\n",
       " [1.0, 1.0, 1.0, 0.0, 0.0, 0.0, nan, nan],\n",
       " [1.0, 1.0, 1.0, 0.0, 0.0, 0.0, nan, nan],\n",
       " [1.0, 1.0, 1.0, 0.0, 0.0, 0.0, nan, nan],\n",
       " [1.0, 1.0, 1.0, 0.0, 0.0, 0.0, nan, nan],\n",
       " [1.0, 1.0, 1.0, 0.0, 0.0, 0.0, nan, nan],\n",
       " [1.0, 1.0, 1.0, 0.0, 0.0, 0.0, nan, nan],\n",
       " [1.0, 1.0, 1.0, 0.0, 0.0, 0.0, nan, nan],\n",
       " [1.0, 1.0, 1.0, 0.0, 0.0, 0.0, nan, nan],\n",
       " [1.0, 1.0, 1.0, 0.0, 0.0, 0.0, nan, nan],\n",
       " [1.0, 1.0, 1.0, 0.0, 0.0, 0.0, nan, nan],\n",
       " [1.0, 1.0, 1.0, 0.0, 0.0, 0.0, nan, nan],\n",
       " [1.0, 1.0, 1.0, 0.0, 0.0, 0.0, nan, nan],\n",
       " [1.0, 1.0, 1.0, 0.0, 0.0, 0.0, nan, nan],\n",
       " [1.0, 1.0, 1.0, 0.0, 0.0, 0.0, nan, nan],\n",
       " [1.0, 1.0, 1.0, 0.0, 0.0, 0.0, nan, nan],\n",
       " [1.0, 1.0, 1.0, 0.0, 0.0, 0.0, nan, nan],\n",
       " [1.0, 1.0, 1.0, 0.0, 0.0, 0.0, nan, nan],\n",
       " [1.0, 1.0, 1.0, 0.0, 0.0, 0.0, nan, nan],\n",
       " [1.0, 1.0, 1.0, 0.0, 0.0, 0.0, nan, nan],\n",
       " [1.0, 1.0, 1.0, 0.0, 0.0, 0.0, nan, nan],\n",
       " [1.0, 1.0, 1.0, 0.0, 0.0, 0.0, nan, nan],\n",
       " [1.0, 1.0, 1.0, 0.0, 0.0, 0.0, nan, nan],\n",
       " [1.0, 1.0, 1.0, 0.0, 0.0, 0.0, nan, nan],\n",
       " [1.0, 1.0, 1.0, 0.0, 0.0, nan, nan, nan],\n",
       " [1.0, 1.0, 1.0, 0.0, 0.0, nan, nan, nan],\n",
       " [1.0, 1.0, 1.0, 0.0, 0.0, nan, nan, nan],\n",
       " [1.0, 1.0, 1.0, 0.0, 0.0, nan, nan, nan],\n",
       " [1.0, 1.0, 1.0, 0.0, 0.0, nan, nan, nan],\n",
       " [1.0, 1.0, 1.0, 0.0, 0.0, nan, nan, nan],\n",
       " [1.0, 1.0, 1.0, 0.0, 0.0, nan, nan, nan],\n",
       " [1.0, 1.0, 1.0, 0.0, 0.0, nan, nan, nan],\n",
       " [1.0, 1.0, 1.0, 0.0, 0.0, nan, nan, nan],\n",
       " [1.0, 1.0, 1.0, 0.0, 0.0, nan, nan, nan],\n",
       " [1.0, 1.0, 1.0, 0.0, 0.0, nan, nan, nan],\n",
       " [1.0, 1.0, 1.0, 0.0, 0.0, nan, nan, nan],\n",
       " [1.0, 1.0, 1.0, 0.0, 0.0, nan, nan, nan],\n",
       " [1.0, 1.0, 1.0, 0.0, 0.0, nan, nan, nan],\n",
       " [1.0, 1.0, 1.0, 0.0, 0.0, nan, nan, nan],\n",
       " [1.0, 1.0, 1.0, 0.0, 0.0, nan, nan, nan],\n",
       " [1.0, 1.0, 1.0, 0.0, 0.0, nan, nan, nan],\n",
       " [1.0, 1.0, 1.0, 0.0, 0.0, nan, nan, nan],\n",
       " [1.0, 1.0, 1.0, 0.0, 0.0, nan, nan, nan],\n",
       " [1.0, 1.0, 1.0, 0.0, 0.0, nan, nan, nan],\n",
       " [1.0, 1.0, 1.0, 0.0, 0.0, nan, nan, nan],\n",
       " [1.0, 1.0, 1.0, 0.0, 0.0, nan, nan, nan],\n",
       " [1.0, 1.0, 1.0, 0.0, 0.0, nan, nan, nan],\n",
       " [1.0, 1.0, 1.0, 0.0, 0.0, nan, nan, nan],\n",
       " [1.0, 1.0, 1.0, 0.0, 0.0, nan, nan, nan],\n",
       " [1.0, 1.0, 1.0, 0.0, 0.0, nan, nan, nan],\n",
       " [1.0, 1.0, 1.0, 0.0, 0.0, nan, nan, nan],\n",
       " [1.0, 1.0, 1.0, 0.0, 0.0, nan, nan, nan],\n",
       " [1.0, 1.0, 1.0, 0.0, 0.0, nan, nan, nan],\n",
       " [1.0, 1.0, 1.0, 0.0, 0.0, nan, nan, nan],\n",
       " [1.0, 1.0, 1.0, 0.0, 0.0, nan, nan, nan],\n",
       " [1.0, 1.0, 1.0, 0.0, 0.0, nan, nan, nan],\n",
       " [1.0, 1.0, 1.0, 0.0, 0.0, nan, nan, nan],\n",
       " [1.0, 1.0, 1.0, 0.0, 0.0, nan, nan, nan],\n",
       " [1.0, 1.0, 1.0, 0.0, 0.0, nan, nan, nan],\n",
       " [1.0, 1.0, 1.0, 0.0, 0.0, nan, nan, nan],\n",
       " [1.0, 1.0, 1.0, 0.0, 0.0, nan, nan, nan],\n",
       " [1.0, 1.0, 1.0, 0.0, 0.0, nan, nan, nan],\n",
       " [1.0, 1.0, 1.0, 0.0, 0.0, nan, nan, nan],\n",
       " [1.0, 1.0, 1.0, 0.0, 0.0, nan, nan, nan],\n",
       " [1.0, 1.0, 1.0, 0.0, 0.0, nan, nan, nan],\n",
       " [1.0, 1.0, 1.0, 0.0, 0.0, nan, nan, nan],\n",
       " [1.0, 1.0, 1.0, 0.0, 0.0, nan, nan, nan],\n",
       " [1.0, 1.0, 1.0, 0.0, 0.0, nan, nan, nan],\n",
       " [1.0, 1.0, 1.0, 0.0, 0.0, nan, nan, nan],\n",
       " [1.0, 1.0, 1.0, 0.0, 0.0, nan, nan, nan],\n",
       " [1.0, 1.0, 1.0, 0.0, 0.0, nan, nan, nan],\n",
       " [1.0, 1.0, 1.0, 0.0, 0.0, nan, nan, nan],\n",
       " [1.0, 1.0, 1.0, 0.0, 0.0, nan, nan, nan],\n",
       " [1.0, 1.0, 1.0, 0.0, 0.0, nan, nan, nan],\n",
       " [1.0, 1.0, 1.0, 0.0, 0.0, nan, nan, nan],\n",
       " [1.0, 1.0, 1.0, 0.0, 0.0, nan, nan, nan],\n",
       " [1.0, 1.0, 0.0, 0.0, nan, nan, nan]]"
      ]
     },
     "execution_count": 12,
     "metadata": {},
     "output_type": "execute_result"
    }
   ],
   "source": [
    "all_batches"
   ]
  },
  {
   "cell_type": "code",
   "execution_count": 23,
   "metadata": {},
   "outputs": [
    {
     "data": {
      "text/plain": [
       "3.041284403669725"
      ]
     },
     "execution_count": 23,
     "metadata": {},
     "output_type": "execute_result"
    }
   ],
   "source": [
    "batch_size = 8\n",
    "total_batches = np.ceil(len(labels) / batch_size)\n",
    "\n",
    "len(pos_ix) / total_batches"
   ]
  },
  {
   "cell_type": "code",
   "execution_count": 29,
   "metadata": {},
   "outputs": [],
   "source": [
    "pos_batches = np.array_split(pos_ix, total_batches)\n",
    "neg_batches = np.array_split(neg_ix, total_batches)"
   ]
  },
  {
   "cell_type": "code",
   "execution_count": 32,
   "metadata": {},
   "outputs": [
    {
     "data": {
      "text/plain": [
       "3    209\n",
       "4      9\n",
       "dtype: int64"
      ]
     },
     "execution_count": 32,
     "metadata": {},
     "output_type": "execute_result"
    }
   ],
   "source": [
    "pd.Series([len(x) for x in pos_batches]).value_counts()"
   ]
  },
  {
   "cell_type": "code",
   "execution_count": 33,
   "metadata": {},
   "outputs": [
    {
     "data": {
      "text/plain": [
       "3    155\n",
       "2     63\n",
       "dtype: int64"
      ]
     },
     "execution_count": 33,
     "metadata": {},
     "output_type": "execute_result"
    }
   ],
   "source": [
    "pd.Series([len(x) for x in neg_batches]).value_counts()"
   ]
  },
  {
   "cell_type": "code",
   "execution_count": 16,
   "metadata": {},
   "outputs": [
    {
     "data": {
      "application/vnd.jupyter.widget-view+json": {
       "model_id": "b10d0a690bf6410c8bb6ead5431c992e",
       "version_major": 2,
       "version_minor": 0
      },
      "text/plain": [
       "0it [00:00, ?it/s]"
      ]
     },
     "metadata": {},
     "output_type": "display_data"
    },
    {
     "data": {
      "application/vnd.jupyter.widget-view+json": {
       "model_id": "16f31bbcdd2b4de6a8490acef44e1026",
       "version_major": 2,
       "version_minor": 0
      },
      "text/plain": [
       "  0%|          | 0/174 [00:00<?, ?it/s]"
      ]
     },
     "metadata": {},
     "output_type": "display_data"
    },
    {
     "data": {
      "application/vnd.jupyter.widget-view+json": {
       "model_id": "8e8c213c471c47f98cc4dc2742132ffc",
       "version_major": 2,
       "version_minor": 0
      },
      "text/plain": [
       "  0%|          | 0/358 [00:00<?, ?it/s]"
      ]
     },
     "metadata": {},
     "output_type": "display_data"
    },
    {
     "data": {
      "application/vnd.jupyter.widget-view+json": {
       "model_id": "dc95d8d0d1aa4e68b1aedb4e2bbf4118",
       "version_major": 2,
       "version_minor": 0
      },
      "text/plain": [
       "  0%|          | 0/328 [00:00<?, ?it/s]"
      ]
     },
     "metadata": {},
     "output_type": "display_data"
    },
    {
     "data": {
      "application/vnd.jupyter.widget-view+json": {
       "model_id": "710cdd14bbfb4eb8bb759d98ac8ede1c",
       "version_major": 2,
       "version_minor": 0
      },
      "text/plain": [
       "  0%|          | 0/249 [00:00<?, ?it/s]"
      ]
     },
     "metadata": {},
     "output_type": "display_data"
    },
    {
     "data": {
      "application/vnd.jupyter.widget-view+json": {
       "model_id": "a1076d5417614bc3b0687c3b1a684f11",
       "version_major": 2,
       "version_minor": 0
      },
      "text/plain": [
       "  0%|          | 0/110 [00:00<?, ?it/s]"
      ]
     },
     "metadata": {},
     "output_type": "display_data"
    },
    {
     "data": {
      "application/vnd.jupyter.widget-view+json": {
       "model_id": "301dfa90d71141e190124d3ed1fbf480",
       "version_major": 2,
       "version_minor": 0
      },
      "text/plain": [
       "  0%|          | 0/361 [00:00<?, ?it/s]"
      ]
     },
     "metadata": {},
     "output_type": "display_data"
    },
    {
     "data": {
      "application/vnd.jupyter.widget-view+json": {
       "model_id": "c09b0833b52644909276173a3a28394b",
       "version_major": 2,
       "version_minor": 0
      },
      "text/plain": [
       "  0%|          | 0/565 [00:00<?, ?it/s]"
      ]
     },
     "metadata": {},
     "output_type": "display_data"
    },
    {
     "data": {
      "application/vnd.jupyter.widget-view+json": {
       "model_id": "8411d1a255c24b85a3ab972389ffc15b",
       "version_major": 2,
       "version_minor": 0
      },
      "text/plain": [
       "  0%|          | 0/495 [00:00<?, ?it/s]"
      ]
     },
     "metadata": {},
     "output_type": "display_data"
    },
    {
     "data": {
      "application/vnd.jupyter.widget-view+json": {
       "model_id": "555d726994e44328bb18a18b2f1e7e22",
       "version_major": 2,
       "version_minor": 0
      },
      "text/plain": [
       "  0%|          | 0/127 [00:00<?, ?it/s]"
      ]
     },
     "metadata": {},
     "output_type": "display_data"
    }
   ],
   "source": [
    "from pathlib import Path\n",
    "import nibabel as nib\n",
    "import os\n",
    "import numpy as np\n",
    "from tqdm.notebook import tqdm\n",
    "\n",
    "\n",
    "r = Path('/mnt/c/users/User/data/dl_radiomics/dim-3_size-182_method-crop_roi_size-71')\n",
    "for root, _, files in os.walk(r):\n",
    "    for file in tqdm(files):\n",
    "        img = nib.load(Path(root) / file)\n",
    "        new = nib.Nifti1Image(img.get_fdata(), np.eye(4))\n",
    "        nib.save(new, Path(root) / file)\n"
   ]
  },
  {
   "cell_type": "code",
   "execution_count": 17,
   "metadata": {},
   "outputs": [
    {
     "name": "stderr",
     "output_type": "stream",
     "text": [
      "Loading dataset: 100%|██████████| 581/581 [00:00<00:00, 673732.55it/s]\n"
     ]
    }
   ],
   "source": [
    "dm.train_transform = None\n",
    "dm.setup()\n",
    "\n",
    "batch = next(iter(dm.train_dataloader()))"
   ]
  },
  {
   "cell_type": "code",
   "execution_count": null,
   "metadata": {},
   "outputs": [],
   "source": [
    "import matplotlib.pyplot as plt\n",
    "import numpy as np\n",
    "from monai.transforms import (\n",
    "    Compose,\n",
    "    LoadImaged,\n",
    "    EnsureChannelFirstd,\n",
    "    ToTensord,\n",
    "    RandFlipd,\n",
    "    RandRotate90d,\n",
    "    SaveImaged,\n",
    "    RandAffined,\n",
    "    CenterSpatialCropd\n",
    ")\n",
    "from src.transforms import RandMirror\n",
    "\n",
    "transform = Compose([\n",
    "    LoadImaged(keys=[\"img\"]),\n",
    "    EnsureChannelFirstd(keys=[\"img\"]),\n",
    "    # RandMirror(prob=0.5, spatial_axis=0),\n",
    "    # RandMirror(prob=0.5, spatial_axis=1),\n",
    "    # RandMirror(prob=0.5, spatial_axis=2),\n",
    "    RandAffined(keys=['img'], prob=0, rotate_range=[np.pi*2] * 3, padding_mode='zeros'),\n",
    "    CenterSpatialCropd(keys=['img'], roi_size=(128,128,128))\n",
    "])\n",
    "\n",
    "transformed = transform(batch)"
   ]
  },
  {
   "cell_type": "code",
   "execution_count": 19,
   "metadata": {},
   "outputs": [],
   "source": [
    "import nibabel as nib\n",
    "from pathlib import Path\n",
    "\n",
    "imgs = transformed['img']\n",
    "\n",
    "for img, name in zip(transformed['img'], batch['img']):\n",
    "    target = Path(name).parent.parent.parent / 'augmented' / Path(name).name\n",
    "    img = nib.Nifti1Image(img.numpy(), np.eye(4))\n",
    "    nib.save(img, target)"
   ]
  },
  {
   "cell_type": "code",
   "execution_count": 23,
   "metadata": {},
   "outputs": [
    {
     "data": {
      "text/plain": [
       "(45, 128, 128, 128)"
      ]
     },
     "execution_count": 23,
     "metadata": {},
     "output_type": "execute_result"
    }
   ],
   "source": [
    "transformed['img'].shape"
   ]
  },
  {
   "cell_type": "markdown",
   "metadata": {},
   "source": []
  },
  {
   "cell_type": "code",
   "execution_count": 16,
   "metadata": {},
   "outputs": [
    {
     "data": {
      "text/plain": [
       "tensor([[[[0.2229, 0.2258, 0.2286,  ..., 0.1513, 0.1664, 0.1814],\n",
       "          [0.2229, 0.2258, 0.2286,  ..., 0.1513, 0.1664, 0.1814],\n",
       "          [0.2229, 0.2258, 0.2286,  ..., 0.1513, 0.1664, 0.1814],\n",
       "          ...,\n",
       "          [0.2237, 0.2235, 0.2234,  ..., 0.0442, 0.0359, 0.0276],\n",
       "          [0.2237, 0.2235, 0.2234,  ..., 0.0442, 0.0359, 0.0276],\n",
       "          [0.2237, 0.2235, 0.2234,  ..., 0.0442, 0.0359, 0.0276]],\n",
       "\n",
       "         [[0.2223, 0.2248, 0.2274,  ..., 0.1428, 0.1563, 0.1699],\n",
       "          [0.2223, 0.2248, 0.2274,  ..., 0.1428, 0.1563, 0.1699],\n",
       "          [0.2223, 0.2248, 0.2274,  ..., 0.1428, 0.1563, 0.1699],\n",
       "          ...,\n",
       "          [0.2218, 0.2225, 0.2232,  ..., 0.0509, 0.0399, 0.0288],\n",
       "          [0.2218, 0.2225, 0.2232,  ..., 0.0509, 0.0399, 0.0288],\n",
       "          [0.2218, 0.2225, 0.2232,  ..., 0.0509, 0.0399, 0.0288]],\n",
       "\n",
       "         [[0.2217, 0.2239, 0.2261,  ..., 0.1342, 0.1462, 0.1583],\n",
       "          [0.2217, 0.2239, 0.2261,  ..., 0.1342, 0.1462, 0.1583],\n",
       "          [0.2217, 0.2239, 0.2261,  ..., 0.1342, 0.1462, 0.1583],\n",
       "          ...,\n",
       "          [0.2199, 0.2214, 0.2229,  ..., 0.0577, 0.0439, 0.0301],\n",
       "          [0.2199, 0.2214, 0.2229,  ..., 0.0577, 0.0439, 0.0301],\n",
       "          [0.2199, 0.2214, 0.2229,  ..., 0.0577, 0.0439, 0.0301]],\n",
       "\n",
       "         ...,\n",
       "\n",
       "         [[0.2401, 0.2414, 0.2428,  ..., 0.2281, 0.2255, 0.2229],\n",
       "          [0.2401, 0.2414, 0.2428,  ..., 0.2281, 0.2255, 0.2229],\n",
       "          [0.2401, 0.2414, 0.2428,  ..., 0.2281, 0.2255, 0.2229],\n",
       "          ...,\n",
       "          [0.2584, 0.2591, 0.2597,  ..., 0.2269, 0.2258, 0.2247],\n",
       "          [0.2584, 0.2591, 0.2597,  ..., 0.2269, 0.2258, 0.2247],\n",
       "          [0.2584, 0.2591, 0.2597,  ..., 0.2269, 0.2258, 0.2247]],\n",
       "\n",
       "         [[0.2366, 0.2367, 0.2368,  ..., 0.2260, 0.2256, 0.2251],\n",
       "          [0.2366, 0.2367, 0.2368,  ..., 0.2260, 0.2256, 0.2251],\n",
       "          [0.2366, 0.2367, 0.2368,  ..., 0.2260, 0.2256, 0.2251],\n",
       "          ...,\n",
       "          [0.2582, 0.2583, 0.2583,  ..., 0.2270, 0.2258, 0.2245],\n",
       "          [0.2582, 0.2583, 0.2583,  ..., 0.2270, 0.2258, 0.2245],\n",
       "          [0.2582, 0.2583, 0.2583,  ..., 0.2270, 0.2258, 0.2245]],\n",
       "\n",
       "         [[0.2331, 0.2320, 0.2309,  ..., 0.2239, 0.2256, 0.2274],\n",
       "          [0.2331, 0.2320, 0.2309,  ..., 0.2239, 0.2256, 0.2274],\n",
       "          [0.2331, 0.2320, 0.2309,  ..., 0.2239, 0.2256, 0.2274],\n",
       "          ...,\n",
       "          [0.2580, 0.2575, 0.2570,  ..., 0.2271, 0.2258, 0.2244],\n",
       "          [0.2580, 0.2575, 0.2570,  ..., 0.2271, 0.2258, 0.2244],\n",
       "          [0.2580, 0.2575, 0.2570,  ..., 0.2271, 0.2258, 0.2244]]],\n",
       "\n",
       "\n",
       "        [[[0.0000, 0.0000, 0.0000,  ..., 0.0000, 0.0000, 0.0000],\n",
       "          [0.0000, 0.0000, 0.0000,  ..., 0.0000, 0.0000, 0.0000],\n",
       "          [0.0000, 0.0000, 0.0000,  ..., 0.0000, 0.0000, 0.0000],\n",
       "          ...,\n",
       "          [0.0000, 0.0000, 0.0000,  ..., 0.0000, 0.0000, 0.0000],\n",
       "          [0.0000, 0.0000, 0.0000,  ..., 0.0000, 0.0000, 0.0000],\n",
       "          [0.0000, 0.0000, 0.0000,  ..., 0.0000, 0.0000, 0.0000]],\n",
       "\n",
       "         [[0.0000, 0.0000, 0.0000,  ..., 0.0000, 0.0000, 0.0000],\n",
       "          [0.0000, 0.0000, 0.0000,  ..., 0.0000, 0.0000, 0.0000],\n",
       "          [0.0000, 0.0000, 0.0000,  ..., 0.0000, 0.0000, 0.0000],\n",
       "          ...,\n",
       "          [0.0000, 0.0000, 0.0000,  ..., 0.0000, 0.0000, 0.0000],\n",
       "          [0.0000, 0.0000, 0.0000,  ..., 0.0000, 0.0000, 0.0000],\n",
       "          [0.0000, 0.0000, 0.0000,  ..., 0.0000, 0.0000, 0.0000]],\n",
       "\n",
       "         [[0.0000, 0.0000, 0.0000,  ..., 0.0000, 0.0000, 0.0000],\n",
       "          [0.0000, 0.0000, 0.0000,  ..., 0.0000, 0.0000, 0.0000],\n",
       "          [0.0000, 0.0000, 0.0000,  ..., 0.0000, 0.0000, 0.0000],\n",
       "          ...,\n",
       "          [0.0000, 0.0000, 0.0000,  ..., 0.0000, 0.0000, 0.0000],\n",
       "          [0.0000, 0.0000, 0.0000,  ..., 0.0000, 0.0000, 0.0000],\n",
       "          [0.0000, 0.0000, 0.0000,  ..., 0.0000, 0.0000, 0.0000]],\n",
       "\n",
       "         ...,\n",
       "\n",
       "         [[0.2244, 0.2220, 0.2197,  ..., 0.2214, 0.2237, 0.2259],\n",
       "          [0.2244, 0.2220, 0.2197,  ..., 0.2214, 0.2237, 0.2259],\n",
       "          [0.2244, 0.2220, 0.2197,  ..., 0.2214, 0.2237, 0.2259],\n",
       "          ...,\n",
       "          [0.2530, 0.2591, 0.2652,  ..., 0.2294, 0.2295, 0.2296],\n",
       "          [0.2530, 0.2591, 0.2652,  ..., 0.2294, 0.2295, 0.2296],\n",
       "          [0.2530, 0.2591, 0.2652,  ..., 0.2294, 0.2295, 0.2296]],\n",
       "\n",
       "         [[0.2256, 0.2243, 0.2229,  ..., 0.2227, 0.2242, 0.2256],\n",
       "          [0.2256, 0.2243, 0.2229,  ..., 0.2227, 0.2242, 0.2256],\n",
       "          [0.2256, 0.2243, 0.2229,  ..., 0.2227, 0.2242, 0.2256],\n",
       "          ...,\n",
       "          [0.2561, 0.2625, 0.2690,  ..., 0.2286, 0.2293, 0.2300],\n",
       "          [0.2561, 0.2625, 0.2690,  ..., 0.2286, 0.2293, 0.2300],\n",
       "          [0.2561, 0.2625, 0.2690,  ..., 0.2286, 0.2293, 0.2300]],\n",
       "\n",
       "         [[0.2269, 0.2265, 0.2261,  ..., 0.2239, 0.2247, 0.2254],\n",
       "          [0.2269, 0.2265, 0.2261,  ..., 0.2239, 0.2247, 0.2254],\n",
       "          [0.2269, 0.2265, 0.2261,  ..., 0.2239, 0.2247, 0.2254],\n",
       "          ...,\n",
       "          [0.2592, 0.2660, 0.2729,  ..., 0.2279, 0.2291, 0.2304],\n",
       "          [0.2592, 0.2660, 0.2729,  ..., 0.2279, 0.2291, 0.2304],\n",
       "          [0.2592, 0.2660, 0.2729,  ..., 0.2279, 0.2291, 0.2304]]]])\n",
       "Metadata\n",
       "\tsizeof_hdr: 348\n",
       "\textents: 0\n",
       "\tsession_error: 0\n",
       "\tdim_info: 0\n",
       "\tdim: [  3 128 128 128   1   1   1   1]\n",
       "\tintent_p1: 0.0\n",
       "\tintent_p2: 0.0\n",
       "\tintent_p3: 0.0\n",
       "\tintent_code: 0\n",
       "\tdatatype: 64\n",
       "\tbitpix: 64\n",
       "\tslice_start: 0\n",
       "\tpixdim: [1. 1. 1. 1. 1. 1. 1. 1.]\n",
       "\tvox_offset: 0.0\n",
       "\tscl_slope: nan\n",
       "\tscl_inter: nan\n",
       "\tslice_end: 0\n",
       "\tslice_code: 0\n",
       "\txyzt_units: 0\n",
       "\tcal_max: 0.0\n",
       "\tcal_min: 0.0\n",
       "\tslice_duration: 0.0\n",
       "\ttoffset: 0.0\n",
       "\tglmax: 0\n",
       "\tglmin: 0\n",
       "\tqform_code: 0\n",
       "\tsform_code: 2\n",
       "\tquatern_b: 0.0\n",
       "\tquatern_c: 0.0\n",
       "\tquatern_d: 0.0\n",
       "\tqoffset_x: 0.0\n",
       "\tqoffset_y: 0.0\n",
       "\tqoffset_z: 0.0\n",
       "\tsrow_x: [1. 0. 0. 0.]\n",
       "\tsrow_y: [0. 1. 0. 0.]\n",
       "\tsrow_z: [0. 0. 1. 0.]\n",
       "\taffine: tensor([[1., 0., 0., 0.],\n",
       "        [0., 1., 0., 0.],\n",
       "        [0., 0., 1., 0.],\n",
       "        [0., 0., 0., 1.]], dtype=torch.float64)\n",
       "\toriginal_affine: [[1. 0. 0. 0.]\n",
       " [0. 1. 0. 0.]\n",
       " [0. 0. 1. 0.]\n",
       " [0. 0. 0. 1.]]\n",
       "\tas_closest_canonical: False\n",
       "\tspatial_shape: [128 128 128]\n",
       "\tspace: RAS\n",
       "\toriginal_channel_dim: no_channel\n",
       "\tfilename_or_obj: C:\\Users\\user\\data\\dl_radiomics\\dim-3_size-128_method-crop_roi_size-50\\amphia\\PREM_AM_001_0.nii.gz\n",
       "\n",
       "Applied operations\n",
       "[]\n",
       "Is batch?: False"
      ]
     },
     "execution_count": 16,
     "metadata": {},
     "output_type": "execute_result"
    }
   ],
   "source": [
    "x['img'].permute((0,1,3,2))"
   ]
  },
  {
   "cell_type": "code",
   "execution_count": 10,
   "metadata": {},
   "outputs": [],
   "source": [
    "from src.transforms import RandTranspose\n",
    "from monai.transforms import (\n",
    "    Compose,\n",
    "    LoadImaged,\n",
    "    EnsureChannelFirstd,\n",
    "    ToTensord,\n",
    "    RandFlipd,\n",
    "    RandRotate90d,\n",
    ")\n",
    "\n",
    "load = LoadImaged(keys=['img'])\n",
    "\n",
    "x = load(x)\n",
    "\n",
    "augmentation = Compose(\n",
    "    [\n",
    "        # EnsureChannelFirstd(keys=[\"img\"]),\n",
    "        RandFlipd(keys=[\"img\"], prob=0.5, spatial_axis=0),\n",
    "        RandFlipd(keys=[\"img\"], prob=0.5, spatial_axis=1),\n",
    "        RandFlipd(keys=[\"img\"], prob=0.5, spatial_axis=2),\n",
    "        RandTranspose(),\n",
    "    ]\n",
    ")"
   ]
  },
  {
   "cell_type": "code",
   "execution_count": 59,
   "metadata": {},
   "outputs": [
    {
     "data": {
      "text/plain": [
       "{'img': tensor([[[[0.2289, 0.2289, 0.2273,  ..., 0.2655, 0.2637, 0.2637],\n",
       "           [0.2289, 0.2289, 0.2273,  ..., 0.2655, 0.2637, 0.2637],\n",
       "           [0.2286, 0.2286, 0.2271,  ..., 0.2667, 0.2649, 0.2649],\n",
       "           ...,\n",
       "           [0.2619, 0.2619, 0.2601,  ..., 0.2700, 0.2694, 0.2694],\n",
       "           [0.2647, 0.2647, 0.2639,  ..., 0.2680, 0.2671, 0.2671],\n",
       "           [0.2647, 0.2647, 0.2639,  ..., 0.2680, 0.2671, 0.2671]],\n",
       " \n",
       "          [[0.2289, 0.2289, 0.2273,  ..., 0.2655, 0.2637, 0.2637],\n",
       "           [0.2289, 0.2289, 0.2273,  ..., 0.2655, 0.2637, 0.2637],\n",
       "           [0.2286, 0.2286, 0.2271,  ..., 0.2667, 0.2649, 0.2649],\n",
       "           ...,\n",
       "           [0.2619, 0.2619, 0.2601,  ..., 0.2700, 0.2694, 0.2694],\n",
       "           [0.2647, 0.2647, 0.2639,  ..., 0.2680, 0.2671, 0.2671],\n",
       "           [0.2647, 0.2647, 0.2639,  ..., 0.2680, 0.2671, 0.2671]],\n",
       " \n",
       "          [[0.2289, 0.2289, 0.2273,  ..., 0.2655, 0.2637, 0.2637],\n",
       "           [0.2289, 0.2289, 0.2273,  ..., 0.2655, 0.2637, 0.2637],\n",
       "           [0.2286, 0.2286, 0.2271,  ..., 0.2667, 0.2649, 0.2649],\n",
       "           ...,\n",
       "           [0.2619, 0.2619, 0.2601,  ..., 0.2700, 0.2694, 0.2694],\n",
       "           [0.2647, 0.2647, 0.2639,  ..., 0.2680, 0.2671, 0.2671],\n",
       "           [0.2647, 0.2647, 0.2639,  ..., 0.2680, 0.2671, 0.2671]],\n",
       " \n",
       "          ...,\n",
       " \n",
       "          [[0.0142, 0.0142, 0.0103,  ..., 0.2435, 0.2443, 0.2443],\n",
       "           [0.0142, 0.0142, 0.0103,  ..., 0.2435, 0.2443, 0.2443],\n",
       "           [0.0129, 0.0129, 0.0106,  ..., 0.2416, 0.2413, 0.2413],\n",
       "           ...,\n",
       "           [0.0056, 0.0056, 0.0086,  ..., 0.2680, 0.2680, 0.2680],\n",
       "           [0.0047, 0.0047, 0.0075,  ..., 0.2655, 0.2654, 0.2654],\n",
       "           [0.0047, 0.0047, 0.0075,  ..., 0.2655, 0.2654, 0.2654]],\n",
       " \n",
       "          [[0.0142, 0.0142, 0.0103,  ..., 0.2435, 0.2443, 0.2443],\n",
       "           [0.0142, 0.0142, 0.0103,  ..., 0.2435, 0.2443, 0.2443],\n",
       "           [0.0129, 0.0129, 0.0106,  ..., 0.2416, 0.2413, 0.2413],\n",
       "           ...,\n",
       "           [0.0056, 0.0056, 0.0086,  ..., 0.2680, 0.2680, 0.2680],\n",
       "           [0.0047, 0.0047, 0.0075,  ..., 0.2655, 0.2654, 0.2654],\n",
       "           [0.0047, 0.0047, 0.0075,  ..., 0.2655, 0.2654, 0.2654]],\n",
       " \n",
       "          [[0.0142, 0.0142, 0.0103,  ..., 0.2435, 0.2443, 0.2443],\n",
       "           [0.0142, 0.0142, 0.0103,  ..., 0.2435, 0.2443, 0.2443],\n",
       "           [0.0129, 0.0129, 0.0106,  ..., 0.2416, 0.2413, 0.2413],\n",
       "           ...,\n",
       "           [0.0056, 0.0056, 0.0086,  ..., 0.2680, 0.2680, 0.2680],\n",
       "           [0.0047, 0.0047, 0.0075,  ..., 0.2655, 0.2654, 0.2654],\n",
       "           [0.0047, 0.0047, 0.0075,  ..., 0.2655, 0.2654, 0.2654]]],\n",
       " \n",
       " \n",
       "         [[[0.2338, 0.2338, 0.2360,  ..., 0.3326, 0.3248, 0.3248],\n",
       "           [0.2338, 0.2338, 0.2360,  ..., 0.3326, 0.3248, 0.3248],\n",
       "           [0.2331, 0.2331, 0.2355,  ..., 0.3416, 0.3270, 0.3270],\n",
       "           ...,\n",
       "           [0.2435, 0.2435, 0.2420,  ..., 0.2534, 0.2534, 0.2534],\n",
       "           [0.2398, 0.2398, 0.2392,  ..., 0.2542, 0.2570, 0.2570],\n",
       "           [0.2398, 0.2398, 0.2392,  ..., 0.2542, 0.2570, 0.2570]],\n",
       " \n",
       "          [[0.2338, 0.2338, 0.2360,  ..., 0.3326, 0.3248, 0.3248],\n",
       "           [0.2338, 0.2338, 0.2360,  ..., 0.3326, 0.3248, 0.3248],\n",
       "           [0.2331, 0.2331, 0.2355,  ..., 0.3416, 0.3270, 0.3270],\n",
       "           ...,\n",
       "           [0.2435, 0.2435, 0.2420,  ..., 0.2534, 0.2534, 0.2534],\n",
       "           [0.2398, 0.2398, 0.2392,  ..., 0.2542, 0.2570, 0.2570],\n",
       "           [0.2398, 0.2398, 0.2392,  ..., 0.2542, 0.2570, 0.2570]],\n",
       " \n",
       "          [[0.2338, 0.2338, 0.2360,  ..., 0.3326, 0.3248, 0.3248],\n",
       "           [0.2338, 0.2338, 0.2360,  ..., 0.3326, 0.3248, 0.3248],\n",
       "           [0.2331, 0.2331, 0.2355,  ..., 0.3416, 0.3270, 0.3270],\n",
       "           ...,\n",
       "           [0.2435, 0.2435, 0.2420,  ..., 0.2534, 0.2534, 0.2534],\n",
       "           [0.2398, 0.2398, 0.2392,  ..., 0.2542, 0.2570, 0.2570],\n",
       "           [0.2398, 0.2398, 0.2392,  ..., 0.2542, 0.2570, 0.2570]],\n",
       " \n",
       "          ...,\n",
       " \n",
       "          [[0.2413, 0.2413, 0.2514,  ..., 0.2694, 0.2667, 0.2667],\n",
       "           [0.2413, 0.2413, 0.2514,  ..., 0.2694, 0.2667, 0.2667],\n",
       "           [0.2422, 0.2422, 0.2518,  ..., 0.2662, 0.2629, 0.2629],\n",
       "           ...,\n",
       "           [0.2319, 0.2319, 0.2366,  ..., 0.2552, 0.2550, 0.2550],\n",
       "           [0.2324, 0.2324, 0.2393,  ..., 0.2581, 0.2577, 0.2577],\n",
       "           [0.2324, 0.2324, 0.2393,  ..., 0.2581, 0.2577, 0.2577]],\n",
       " \n",
       "          [[0.2413, 0.2413, 0.2514,  ..., 0.2694, 0.2667, 0.2667],\n",
       "           [0.2413, 0.2413, 0.2514,  ..., 0.2694, 0.2667, 0.2667],\n",
       "           [0.2422, 0.2422, 0.2518,  ..., 0.2662, 0.2629, 0.2629],\n",
       "           ...,\n",
       "           [0.2319, 0.2319, 0.2366,  ..., 0.2552, 0.2550, 0.2550],\n",
       "           [0.2324, 0.2324, 0.2393,  ..., 0.2581, 0.2577, 0.2577],\n",
       "           [0.2324, 0.2324, 0.2393,  ..., 0.2581, 0.2577, 0.2577]],\n",
       " \n",
       "          [[0.2413, 0.2413, 0.2514,  ..., 0.2694, 0.2667, 0.2667],\n",
       "           [0.2413, 0.2413, 0.2514,  ..., 0.2694, 0.2667, 0.2667],\n",
       "           [0.2422, 0.2422, 0.2518,  ..., 0.2662, 0.2629, 0.2629],\n",
       "           ...,\n",
       "           [0.2319, 0.2319, 0.2366,  ..., 0.2552, 0.2550, 0.2550],\n",
       "           [0.2324, 0.2324, 0.2393,  ..., 0.2581, 0.2577, 0.2577],\n",
       "           [0.2324, 0.2324, 0.2393,  ..., 0.2581, 0.2577, 0.2577]]],\n",
       " \n",
       " \n",
       "         [[[0.2249, 0.2249, 0.2274,  ..., 0.2473, 0.2465, 0.2465],\n",
       "           [0.2249, 0.2249, 0.2274,  ..., 0.2473, 0.2465, 0.2465],\n",
       "           [0.2289, 0.2289, 0.2309,  ..., 0.2455, 0.2455, 0.2455],\n",
       "           ...,\n",
       "           [0.2573, 0.2573, 0.2640,  ..., 0.3012, 0.2942, 0.2942],\n",
       "           [0.2490, 0.2490, 0.2580,  ..., 0.3019, 0.2955, 0.2955],\n",
       "           [0.2490, 0.2490, 0.2580,  ..., 0.3019, 0.2955, 0.2955]],\n",
       " \n",
       "          [[0.2249, 0.2249, 0.2274,  ..., 0.2473, 0.2465, 0.2465],\n",
       "           [0.2249, 0.2249, 0.2274,  ..., 0.2473, 0.2465, 0.2465],\n",
       "           [0.2289, 0.2289, 0.2309,  ..., 0.2455, 0.2455, 0.2455],\n",
       "           ...,\n",
       "           [0.2573, 0.2573, 0.2640,  ..., 0.3012, 0.2942, 0.2942],\n",
       "           [0.2490, 0.2490, 0.2580,  ..., 0.3019, 0.2955, 0.2955],\n",
       "           [0.2490, 0.2490, 0.2580,  ..., 0.3019, 0.2955, 0.2955]],\n",
       " \n",
       "          [[0.2249, 0.2249, 0.2274,  ..., 0.2473, 0.2465, 0.2465],\n",
       "           [0.2249, 0.2249, 0.2274,  ..., 0.2473, 0.2465, 0.2465],\n",
       "           [0.2289, 0.2289, 0.2309,  ..., 0.2455, 0.2455, 0.2455],\n",
       "           ...,\n",
       "           [0.2573, 0.2573, 0.2640,  ..., 0.3012, 0.2942, 0.2942],\n",
       "           [0.2490, 0.2490, 0.2580,  ..., 0.3019, 0.2955, 0.2955],\n",
       "           [0.2490, 0.2490, 0.2580,  ..., 0.3019, 0.2955, 0.2955]],\n",
       " \n",
       "          ...,\n",
       " \n",
       "          [[0.2753, 0.2753, 0.2772,  ..., 0.2696, 0.2701, 0.2701],\n",
       "           [0.2753, 0.2753, 0.2772,  ..., 0.2696, 0.2701, 0.2701],\n",
       "           [0.2758, 0.2758, 0.2775,  ..., 0.2660, 0.2652, 0.2652],\n",
       "           ...,\n",
       "           [0.2587, 0.2587, 0.2610,  ..., 0.2921, 0.2904, 0.2904],\n",
       "           [0.2597, 0.2597, 0.2623,  ..., 0.2944, 0.2932, 0.2932],\n",
       "           [0.2597, 0.2597, 0.2623,  ..., 0.2944, 0.2932, 0.2932]],\n",
       " \n",
       "          [[0.2753, 0.2753, 0.2772,  ..., 0.2696, 0.2701, 0.2701],\n",
       "           [0.2753, 0.2753, 0.2772,  ..., 0.2696, 0.2701, 0.2701],\n",
       "           [0.2758, 0.2758, 0.2775,  ..., 0.2660, 0.2652, 0.2652],\n",
       "           ...,\n",
       "           [0.2587, 0.2587, 0.2610,  ..., 0.2921, 0.2904, 0.2904],\n",
       "           [0.2597, 0.2597, 0.2623,  ..., 0.2944, 0.2932, 0.2932],\n",
       "           [0.2597, 0.2597, 0.2623,  ..., 0.2944, 0.2932, 0.2932]],\n",
       " \n",
       "          [[0.2753, 0.2753, 0.2772,  ..., 0.2696, 0.2701, 0.2701],\n",
       "           [0.2753, 0.2753, 0.2772,  ..., 0.2696, 0.2701, 0.2701],\n",
       "           [0.2758, 0.2758, 0.2775,  ..., 0.2660, 0.2652, 0.2652],\n",
       "           ...,\n",
       "           [0.2587, 0.2587, 0.2610,  ..., 0.2921, 0.2904, 0.2904],\n",
       "           [0.2597, 0.2597, 0.2623,  ..., 0.2944, 0.2932, 0.2932],\n",
       "           [0.2597, 0.2597, 0.2623,  ..., 0.2944, 0.2932, 0.2932]]],\n",
       " \n",
       " \n",
       "         ...,\n",
       " \n",
       " \n",
       "         [[[0.0624, 0.0624, 0.0504,  ..., 0.2286, 0.1948, 0.1948],\n",
       "           [0.0624, 0.0624, 0.0504,  ..., 0.2286, 0.1948, 0.1948],\n",
       "           [0.0598, 0.0598, 0.0508,  ..., 0.2416, 0.2166, 0.2166],\n",
       "           ...,\n",
       "           [0.2993, 0.2993, 0.2973,  ..., 0.2901, 0.2804, 0.2804],\n",
       "           [0.3009, 0.3009, 0.2986,  ..., 0.2891, 0.2821, 0.2821],\n",
       "           [0.3009, 0.3009, 0.2986,  ..., 0.2891, 0.2821, 0.2821]],\n",
       " \n",
       "          [[0.0563, 0.0563, 0.0462,  ..., 0.2079, 0.1595, 0.1595],\n",
       "           [0.0563, 0.0563, 0.0462,  ..., 0.2079, 0.1595, 0.1595],\n",
       "           [0.0542, 0.0542, 0.0461,  ..., 0.2250, 0.1876, 0.1876],\n",
       "           ...,\n",
       "           [0.3026, 0.3026, 0.2993,  ..., 0.2900, 0.2848, 0.2848],\n",
       "           [0.3002, 0.3002, 0.2975,  ..., 0.2884, 0.2844, 0.2844],\n",
       "           [0.3002, 0.3002, 0.2975,  ..., 0.2884, 0.2844, 0.2844]],\n",
       " \n",
       "          [[0.0457, 0.0457, 0.0391,  ..., 0.1651, 0.0993, 0.0993],\n",
       "           [0.0457, 0.0457, 0.0391,  ..., 0.1651, 0.0993, 0.0993],\n",
       "           [0.0445, 0.0445, 0.0385,  ..., 0.1902, 0.1362, 0.1362],\n",
       "           ...,\n",
       "           [0.3005, 0.3005, 0.2980,  ..., 0.2915, 0.2932, 0.2932],\n",
       "           [0.2965, 0.2965, 0.2953,  ..., 0.2873, 0.2884, 0.2884],\n",
       "           [0.2965, 0.2965, 0.2953,  ..., 0.2873, 0.2884, 0.2884]],\n",
       " \n",
       "          ...,\n",
       " \n",
       "          [[0.0343, 0.0343, 0.0332,  ..., 0.0705, 0.0343, 0.0343],\n",
       "           [0.0343, 0.0343, 0.0332,  ..., 0.0705, 0.0343, 0.0343],\n",
       "           [0.0339, 0.0339, 0.0352,  ..., 0.0942, 0.0473, 0.0473],\n",
       "           ...,\n",
       "           [0.2292, 0.2292, 0.2287,  ..., 0.2929, 0.2948, 0.2948],\n",
       "           [0.2347, 0.2347, 0.2356,  ..., 0.2977, 0.2990, 0.2990],\n",
       "           [0.2347, 0.2347, 0.2356,  ..., 0.2977, 0.2990, 0.2990]],\n",
       " \n",
       "          [[0.0394, 0.0394, 0.0371,  ..., 0.0408, 0.0296, 0.0296],\n",
       "           [0.0394, 0.0394, 0.0371,  ..., 0.0408, 0.0296, 0.0296],\n",
       "           [0.0383, 0.0383, 0.0379,  ..., 0.0537, 0.0333, 0.0333],\n",
       "           ...,\n",
       "           [0.2307, 0.2307, 0.2311,  ..., 0.2909, 0.2913, 0.2913],\n",
       "           [0.2355, 0.2355, 0.2368,  ..., 0.2916, 0.2904, 0.2904],\n",
       "           [0.2355, 0.2355, 0.2368,  ..., 0.2916, 0.2904, 0.2904]],\n",
       " \n",
       "          [[0.0400, 0.0400, 0.0389,  ..., 0.0298, 0.0286, 0.0286],\n",
       "           [0.0400, 0.0400, 0.0389,  ..., 0.0298, 0.0286, 0.0286],\n",
       "           [0.0393, 0.0393, 0.0393,  ..., 0.0385, 0.0309, 0.0309],\n",
       "           ...,\n",
       "           [0.2311, 0.2311, 0.2316,  ..., 0.2911, 0.2930, 0.2930],\n",
       "           [0.2351, 0.2351, 0.2366,  ..., 0.2888, 0.2890, 0.2890],\n",
       "           [0.2351, 0.2351, 0.2366,  ..., 0.2888, 0.2890, 0.2890]]],\n",
       " \n",
       " \n",
       "         [[[0.2289, 0.2289, 0.2362,  ..., 0.0557, 0.0502, 0.0502],\n",
       "           [0.2289, 0.2289, 0.2362,  ..., 0.0557, 0.0502, 0.0502],\n",
       "           [0.2297, 0.2297, 0.2350,  ..., 0.0560, 0.0508, 0.0508],\n",
       "           ...,\n",
       "           [0.0278, 0.0278, 0.0280,  ..., 0.0457, 0.0495, 0.0495],\n",
       "           [0.0261, 0.0261, 0.0258,  ..., 0.0457, 0.0477, 0.0477],\n",
       "           [0.0261, 0.0261, 0.0258,  ..., 0.0457, 0.0477, 0.0477]],\n",
       " \n",
       "          [[0.2324, 0.2324, 0.2387,  ..., 0.0586, 0.0487, 0.0487],\n",
       "           [0.2324, 0.2324, 0.2387,  ..., 0.0586, 0.0487, 0.0487],\n",
       "           [0.2334, 0.2334, 0.2384,  ..., 0.0572, 0.0499, 0.0499],\n",
       "           ...,\n",
       "           [0.0286, 0.0286, 0.0286,  ..., 0.0443, 0.0475, 0.0475],\n",
       "           [0.0271, 0.0271, 0.0262,  ..., 0.0436, 0.0450, 0.0450],\n",
       "           [0.0271, 0.0271, 0.0262,  ..., 0.0436, 0.0450, 0.0450]],\n",
       " \n",
       "          [[0.2407, 0.2407, 0.2419,  ..., 0.0597, 0.0491, 0.0491],\n",
       "           [0.2407, 0.2407, 0.2419,  ..., 0.0597, 0.0491, 0.0491],\n",
       "           [0.2399, 0.2399, 0.2408,  ..., 0.0578, 0.0501, 0.0501],\n",
       "           ...,\n",
       "           [0.0347, 0.0347, 0.0350,  ..., 0.0432, 0.0450, 0.0450],\n",
       "           [0.0303, 0.0303, 0.0306,  ..., 0.0419, 0.0425, 0.0425],\n",
       "           [0.0303, 0.0303, 0.0306,  ..., 0.0419, 0.0425, 0.0425]],\n",
       " \n",
       "          ...,\n",
       " \n",
       "          [[0.2993, 0.2993, 0.2909,  ..., 0.0403, 0.0420, 0.0420],\n",
       "           [0.2993, 0.2993, 0.2909,  ..., 0.0403, 0.0420, 0.0420],\n",
       "           [0.2975, 0.2975, 0.2950,  ..., 0.0469, 0.0489, 0.0489],\n",
       "           ...,\n",
       "           [0.0396, 0.0396, 0.0397,  ..., 0.0372, 0.0394, 0.0394],\n",
       "           [0.0391, 0.0391, 0.0426,  ..., 0.0393, 0.0447, 0.0447],\n",
       "           [0.0391, 0.0391, 0.0426,  ..., 0.0393, 0.0447, 0.0447]],\n",
       " \n",
       "          [[0.2941, 0.2941, 0.2889,  ..., 0.0429, 0.0519, 0.0519],\n",
       "           [0.2941, 0.2941, 0.2889,  ..., 0.0429, 0.0519, 0.0519],\n",
       "           [0.2927, 0.2927, 0.2911,  ..., 0.0471, 0.0535, 0.0535],\n",
       "           ...,\n",
       "           [0.0448, 0.0448, 0.0407,  ..., 0.0356, 0.0385, 0.0385],\n",
       "           [0.0456, 0.0456, 0.0434,  ..., 0.0376, 0.0419, 0.0419],\n",
       "           [0.0456, 0.0456, 0.0434,  ..., 0.0376, 0.0419, 0.0419]],\n",
       " \n",
       "          [[0.2925, 0.2925, 0.2889,  ..., 0.0447, 0.0577, 0.0577],\n",
       "           [0.2925, 0.2925, 0.2889,  ..., 0.0447, 0.0577, 0.0577],\n",
       "           [0.2906, 0.2906, 0.2891,  ..., 0.0473, 0.0564, 0.0564],\n",
       "           ...,\n",
       "           [0.0444, 0.0444, 0.0406,  ..., 0.0357, 0.0383, 0.0383],\n",
       "           [0.0460, 0.0460, 0.0430,  ..., 0.0379, 0.0400, 0.0400],\n",
       "           [0.0460, 0.0460, 0.0430,  ..., 0.0379, 0.0400, 0.0400]]],\n",
       " \n",
       " \n",
       "         [[[0.2947, 0.2947, 0.2929,  ..., 0.2458, 0.2545, 0.2545],\n",
       "           [0.2947, 0.2947, 0.2929,  ..., 0.2458, 0.2545, 0.2545],\n",
       "           [0.2934, 0.2934, 0.2924,  ..., 0.2455, 0.2529, 0.2529],\n",
       "           ...,\n",
       "           [0.2309, 0.2309, 0.2368,  ..., 0.1083, 0.0513, 0.0513],\n",
       "           [0.2229, 0.2229, 0.2289,  ..., 0.1042, 0.0462, 0.0462],\n",
       "           [0.2229, 0.2229, 0.2289,  ..., 0.1042, 0.0462, 0.0462]],\n",
       " \n",
       "          [[0.2967, 0.2967, 0.2929,  ..., 0.2511, 0.2587, 0.2587],\n",
       "           [0.2967, 0.2967, 0.2929,  ..., 0.2511, 0.2587, 0.2587],\n",
       "           [0.2954, 0.2954, 0.2920,  ..., 0.2490, 0.2565, 0.2565],\n",
       "           ...,\n",
       "           [0.2245, 0.2245, 0.2334,  ..., 0.1126, 0.0552, 0.0552],\n",
       "           [0.2125, 0.2125, 0.2232,  ..., 0.1068, 0.0487, 0.0487],\n",
       "           [0.2125, 0.2125, 0.2232,  ..., 0.1068, 0.0487, 0.0487]],\n",
       " \n",
       "          [[0.2934, 0.2934, 0.2895,  ..., 0.2582, 0.2591, 0.2591],\n",
       "           [0.2934, 0.2934, 0.2895,  ..., 0.2582, 0.2591, 0.2591],\n",
       "           [0.2945, 0.2945, 0.2897,  ..., 0.2525, 0.2546, 0.2546],\n",
       "           ...,\n",
       "           [0.2126, 0.2126, 0.2230,  ..., 0.1252, 0.0649, 0.0649],\n",
       "           [0.1948, 0.1948, 0.2098,  ..., 0.1129, 0.0533, 0.0533],\n",
       "           [0.1948, 0.1948, 0.2098,  ..., 0.1129, 0.0533, 0.0533]],\n",
       " \n",
       "          ...,\n",
       " \n",
       "          [[0.2942, 0.2942, 0.2852,  ..., 0.2430, 0.2304, 0.2304],\n",
       "           [0.2942, 0.2942, 0.2852,  ..., 0.2430, 0.2304, 0.2304],\n",
       "           [0.2979, 0.2979, 0.2879,  ..., 0.2288, 0.2107, 0.2107],\n",
       "           ...,\n",
       "           [0.0440, 0.0440, 0.0492,  ..., 0.0336, 0.0311, 0.0311],\n",
       "           [0.0383, 0.0383, 0.0467,  ..., 0.0342, 0.0331, 0.0331],\n",
       "           [0.0383, 0.0383, 0.0467,  ..., 0.0342, 0.0331, 0.0331]],\n",
       " \n",
       "          [[0.2901, 0.2901, 0.2875,  ..., 0.2384, 0.2219, 0.2219],\n",
       "           [0.2901, 0.2901, 0.2875,  ..., 0.2384, 0.2219, 0.2219],\n",
       "           [0.2936, 0.2936, 0.2890,  ..., 0.2223, 0.1994, 0.1994],\n",
       "           ...,\n",
       "           [0.0408, 0.0408, 0.0488,  ..., 0.0353, 0.0335, 0.0335],\n",
       "           [0.0364, 0.0364, 0.0456,  ..., 0.0370, 0.0360, 0.0360],\n",
       "           [0.0364, 0.0364, 0.0456,  ..., 0.0370, 0.0360, 0.0360]],\n",
       " \n",
       "          [[0.2853, 0.2853, 0.2870,  ..., 0.2372, 0.2194, 0.2194],\n",
       "           [0.2853, 0.2853, 0.2870,  ..., 0.2372, 0.2194, 0.2194],\n",
       "           [0.2899, 0.2899, 0.2884,  ..., 0.2199, 0.1945, 0.1945],\n",
       "           ...,\n",
       "           [0.0399, 0.0399, 0.0496,  ..., 0.0362, 0.0352, 0.0352],\n",
       "           [0.0385, 0.0385, 0.0466,  ..., 0.0379, 0.0365, 0.0365],\n",
       "           [0.0385, 0.0385, 0.0466,  ..., 0.0379, 0.0365, 0.0365]]]])\n",
       " Metadata\n",
       " \tsizeof_hdr: 348\n",
       " \textents: 0\n",
       " \tsession_error: 0\n",
       " \tdim_info: 0\n",
       " \tdim: [  3 128 128 128   1   1   1   1]\n",
       " \tintent_p1: 0.0\n",
       " \tintent_p2: 0.0\n",
       " \tintent_p3: 0.0\n",
       " \tintent_code: 0\n",
       " \tdatatype: 64\n",
       " \tbitpix: 64\n",
       " \tslice_start: 0\n",
       " \tpixdim: [1. 1. 1. 1. 1. 1. 1. 1.]\n",
       " \tvox_offset: 0.0\n",
       " \tscl_slope: nan\n",
       " \tscl_inter: nan\n",
       " \tslice_end: 0\n",
       " \tslice_code: 0\n",
       " \txyzt_units: 0\n",
       " \tcal_max: 0.0\n",
       " \tcal_min: 0.0\n",
       " \tslice_duration: 0.0\n",
       " \ttoffset: 0.0\n",
       " \tglmax: 0\n",
       " \tglmin: 0\n",
       " \tqform_code: 0\n",
       " \tsform_code: 2\n",
       " \tquatern_b: 0.0\n",
       " \tquatern_c: 0.0\n",
       " \tquatern_d: 0.0\n",
       " \tqoffset_x: 0.0\n",
       " \tqoffset_y: 0.0\n",
       " \tqoffset_z: 0.0\n",
       " \tsrow_x: [1. 0. 0. 0.]\n",
       " \tsrow_y: [0. 1. 0. 0.]\n",
       " \tsrow_z: [0. 0. 1. 0.]\n",
       " \taffine: tensor([[ -1.,   0.,   0., 127.],\n",
       "         [  0.,   1.,   0.,   0.],\n",
       "         [  0.,   0.,   1.,   0.],\n",
       "         [  0.,   0.,   0.,   1.]], dtype=torch.float64)\n",
       " \toriginal_affine: [[1. 0. 0. 0.]\n",
       "  [0. 1. 0. 0.]\n",
       "  [0. 0. 1. 0.]\n",
       "  [0. 0. 0. 1.]]\n",
       " \tas_closest_canonical: False\n",
       " \tspatial_shape: [128 128 128]\n",
       " \tspace: RAS\n",
       " \toriginal_channel_dim: 0\n",
       " \tfilename_or_obj: C:\\Users\\user\\data\\dl_radiomics\\dim-3_size-128_method-crop_roi_size-50\\isala\\PREM_IS_083_0.nii.gz\n",
       " \n",
       " Applied operations\n",
       " [ { class: 'RandFlipd',\n",
       "     do_transforms: True,\n",
       "     extra_info: {class: 'Flip', id: 1780903113392, orig_size: (128, 128, 128)},\n",
       "     id: 1780903115024,\n",
       "     orig_size: (128, 128, 128)},\n",
       "   {class: 'RandFlipd', do_transforms: False, extra_info: {}, id: 1780903115984, orig_size: (128, 128, 128)},\n",
       "   {class: 'RandFlipd', do_transforms: False, extra_info: {}, id: 1780903115456, orig_size: (128, 128, 128)}]\n",
       " Is batch?: False,\n",
       " 'label': tensor([1., 1., 1., 1., 1., 1., 1., 1., 1., 1., 1., 1., 1., 1., 1., 1., 0., 0.,\n",
       "         1., 1., 1., 0., 0., 0., 0., 0., 1., 1., 1., 1., 1., 1., 1., 1., 0., 0.,\n",
       "         0., 0., 0., 0., 0., 1., 1., 1., 1., 1., 1., 1.], dtype=torch.float64),\n",
       " 'patient': ['PREM_IS_083',\n",
       "  'PREM_IS_083',\n",
       "  'PREM_IS_083',\n",
       "  'PREM_IS_083',\n",
       "  'PREM_IS_083',\n",
       "  'PREM_IS_084',\n",
       "  'PREM_IS_084',\n",
       "  'PREM_IS_084',\n",
       "  'PREM_IS_084',\n",
       "  'PREM_IS_084',\n",
       "  'PREM_IS_086',\n",
       "  'PREM_IS_086',\n",
       "  'PREM_IS_086',\n",
       "  'PREM_IS_088',\n",
       "  'PREM_IS_088',\n",
       "  'PREM_IS_088',\n",
       "  'PREM_IS_090',\n",
       "  'PREM_IS_090',\n",
       "  'PREM_IS_093',\n",
       "  'PREM_IS_096',\n",
       "  'PREM_IS_096',\n",
       "  'PREM_IS_097',\n",
       "  'PREM_IS_097',\n",
       "  'PREM_IS_098',\n",
       "  'PREM_IS_098',\n",
       "  'PREM_IS_099',\n",
       "  'PREM_IS_100',\n",
       "  'PREM_IS_101',\n",
       "  'PREM_IS_101',\n",
       "  'PREM_IS_101',\n",
       "  'PREM_IS_101',\n",
       "  'PREM_IS_103',\n",
       "  'PREM_IS_103',\n",
       "  'PREM_IS_103',\n",
       "  'PREM_IS_103',\n",
       "  'PREM_IS_103',\n",
       "  'PREM_IS_105',\n",
       "  'PREM_IS_105',\n",
       "  'PREM_IS_105',\n",
       "  'PREM_IS_105',\n",
       "  'PREM_IS_105',\n",
       "  'PREM_IS_107',\n",
       "  'PREM_IS_107',\n",
       "  'PREM_IS_107',\n",
       "  'PREM_IS_108',\n",
       "  'PREM_IS_109',\n",
       "  'PREM_IS_109',\n",
       "  'PREM_IS_109'],\n",
       " 'img_meta_dict': {'sizeof_hdr': array(348),\n",
       "  'extents': array(0),\n",
       "  'session_error': array(0, dtype=int16),\n",
       "  'dim_info': array(0, dtype=uint8),\n",
       "  'dim': array([  3, 128, 128, 128,   1,   1,   1,   1], dtype=int16),\n",
       "  'intent_p1': array(0., dtype=float32),\n",
       "  'intent_p2': array(0., dtype=float32),\n",
       "  'intent_p3': array(0., dtype=float32),\n",
       "  'intent_code': array(0, dtype=int16),\n",
       "  'datatype': array(64, dtype=int16),\n",
       "  'bitpix': array(64, dtype=int16),\n",
       "  'slice_start': array(0, dtype=int16),\n",
       "  'pixdim': array([1., 1., 1., 1., 1., 1., 1., 1.], dtype=float32),\n",
       "  'vox_offset': array(0., dtype=float32),\n",
       "  'scl_slope': array(nan, dtype=float32),\n",
       "  'scl_inter': array(nan, dtype=float32),\n",
       "  'slice_end': array(0, dtype=int16),\n",
       "  'slice_code': array(0, dtype=uint8),\n",
       "  'xyzt_units': array(0, dtype=uint8),\n",
       "  'cal_max': array(0., dtype=float32),\n",
       "  'cal_min': array(0., dtype=float32),\n",
       "  'slice_duration': array(0., dtype=float32),\n",
       "  'toffset': array(0., dtype=float32),\n",
       "  'glmax': array(0),\n",
       "  'glmin': array(0),\n",
       "  'qform_code': array(0, dtype=int16),\n",
       "  'sform_code': array(2, dtype=int16),\n",
       "  'quatern_b': array(0., dtype=float32),\n",
       "  'quatern_c': array(0., dtype=float32),\n",
       "  'quatern_d': array(0., dtype=float32),\n",
       "  'qoffset_x': array(0., dtype=float32),\n",
       "  'qoffset_y': array(0., dtype=float32),\n",
       "  'qoffset_z': array(0., dtype=float32),\n",
       "  'srow_x': array([1., 0., 0., 0.], dtype=float32),\n",
       "  'srow_y': array([0., 1., 0., 0.], dtype=float32),\n",
       "  'srow_z': array([0., 0., 1., 0.], dtype=float32),\n",
       "  affine: tensor([[1., 0., 0., 0.],\n",
       "          [0., 1., 0., 0.],\n",
       "          [0., 0., 1., 0.],\n",
       "          [0., 0., 0., 1.]], dtype=torch.float64),\n",
       "  original_affine: array([[1., 0., 0., 0.],\n",
       "         [0., 1., 0., 0.],\n",
       "         [0., 0., 1., 0.],\n",
       "         [0., 0., 0., 1.]]),\n",
       "  'as_closest_canonical': False,\n",
       "  spatial_shape: array([128, 128, 128], dtype=int16),\n",
       "  space: RAS,\n",
       "  original_channel_dim: 0,\n",
       "  'filename_or_obj': 'C:\\\\Users\\\\user\\\\data\\\\dl_radiomics\\\\dim-3_size-128_method-crop_roi_size-50\\\\isala\\\\PREM_IS_083_0.nii.gz'}}"
      ]
     },
     "execution_count": 59,
     "metadata": {},
     "output_type": "execute_result"
    }
   ],
   "source": [
    "augmentation = Compose(\n",
    "        [\n",
    "            RandFlipd(keys=[\"img\"], prob=0.5, spatial_axis=0),\n",
    "            RandFlipd(keys=[\"img\"], prob=0.5, spatial_axis=1),\n",
    "            RandFlipd(keys=[\"img\"], prob=0.5, spatial_axis=2),\n",
    "            RandTranspose(),\n",
    "        ]\n",
    "    )\n",
    "\n",
    "augmentation(loaded)"
   ]
  },
  {
   "cell_type": "code",
   "execution_count": 49,
   "metadata": {},
   "outputs": [
    {
     "data": {
      "application/vnd.jupyter.widget-view+json": {
       "model_id": "8c132119fbff45a984d6a1cd1154c36d",
       "version_major": 2,
       "version_minor": 0
      },
      "text/plain": [
       "  0%|          | 0/12 [00:00<?, ?it/s]"
      ]
     },
     "metadata": {},
     "output_type": "display_data"
    },
    {
     "data": {
      "application/vnd.jupyter.widget-view+json": {
       "model_id": "9761189be2764f1cbc1021cf00aedc4f",
       "version_major": 2,
       "version_minor": 0
      },
      "text/plain": [
       "0it [00:00, ?it/s]"
      ]
     },
     "metadata": {},
     "output_type": "display_data"
    },
    {
     "data": {
      "application/vnd.jupyter.widget-view+json": {
       "model_id": "dbc477017edb4fa9926845f82127ac8a",
       "version_major": 2,
       "version_minor": 0
      },
      "text/plain": [
       "  0%|          | 0/174 [00:00<?, ?it/s]"
      ]
     },
     "metadata": {},
     "output_type": "display_data"
    },
    {
     "data": {
      "application/vnd.jupyter.widget-view+json": {
       "model_id": "2cadf6bdcdbe4f43aa719fbfb03ba2d3",
       "version_major": 2,
       "version_minor": 0
      },
      "text/plain": [
       "  0%|          | 0/358 [00:00<?, ?it/s]"
      ]
     },
     "metadata": {},
     "output_type": "display_data"
    },
    {
     "data": {
      "application/vnd.jupyter.widget-view+json": {
       "model_id": "346d5666a1a2475ea9b90bfed834f877",
       "version_major": 2,
       "version_minor": 0
      },
      "text/plain": [
       "  0%|          | 0/328 [00:00<?, ?it/s]"
      ]
     },
     "metadata": {},
     "output_type": "display_data"
    },
    {
     "data": {
      "application/vnd.jupyter.widget-view+json": {
       "model_id": "8118ff1e2d484dadb1fece2aca9d8131",
       "version_major": 2,
       "version_minor": 0
      },
      "text/plain": [
       "  0%|          | 0/249 [00:00<?, ?it/s]"
      ]
     },
     "metadata": {},
     "output_type": "display_data"
    },
    {
     "data": {
      "application/vnd.jupyter.widget-view+json": {
       "model_id": "2ba012cb782c4e6fb915f118ca09234e",
       "version_major": 2,
       "version_minor": 0
      },
      "text/plain": [
       "  0%|          | 0/110 [00:00<?, ?it/s]"
      ]
     },
     "metadata": {},
     "output_type": "display_data"
    },
    {
     "data": {
      "application/vnd.jupyter.widget-view+json": {
       "model_id": "64bec9e9222d4e4197666516dc973ac3",
       "version_major": 2,
       "version_minor": 0
      },
      "text/plain": [
       "  0%|          | 0/361 [00:00<?, ?it/s]"
      ]
     },
     "metadata": {},
     "output_type": "display_data"
    },
    {
     "data": {
      "application/vnd.jupyter.widget-view+json": {
       "model_id": "949cfadd80c54eeb872b503f3338b90e",
       "version_major": 2,
       "version_minor": 0
      },
      "text/plain": [
       "  0%|          | 0/565 [00:00<?, ?it/s]"
      ]
     },
     "metadata": {},
     "output_type": "display_data"
    },
    {
     "data": {
      "application/vnd.jupyter.widget-view+json": {
       "model_id": "0c28d164b8d249b2b1ec186135d6d59b",
       "version_major": 2,
       "version_minor": 0
      },
      "text/plain": [
       "  0%|          | 0/495 [00:00<?, ?it/s]"
      ]
     },
     "metadata": {},
     "output_type": "display_data"
    },
    {
     "data": {
      "application/vnd.jupyter.widget-view+json": {
       "model_id": "e80f3391e9a048c3879ac747c3c0217e",
       "version_major": 2,
       "version_minor": 0
      },
      "text/plain": [
       "  0%|          | 0/127 [00:00<?, ?it/s]"
      ]
     },
     "metadata": {},
     "output_type": "display_data"
    },
    {
     "data": {
      "application/vnd.jupyter.widget-view+json": {
       "model_id": "e9d407d934f64477b4afc5f66df16cbe",
       "version_major": 2,
       "version_minor": 0
      },
      "text/plain": [
       "0it [00:00, ?it/s]"
      ]
     },
     "metadata": {},
     "output_type": "display_data"
    },
    {
     "data": {
      "application/vnd.jupyter.widget-view+json": {
       "model_id": "0d700330a50840208e241a539d5d779a",
       "version_major": 2,
       "version_minor": 0
      },
      "text/plain": [
       "  0%|          | 0/174 [00:00<?, ?it/s]"
      ]
     },
     "metadata": {},
     "output_type": "display_data"
    },
    {
     "data": {
      "application/vnd.jupyter.widget-view+json": {
       "model_id": "a597f0e1c28e4fe387d2efeb7bcd1eb1",
       "version_major": 2,
       "version_minor": 0
      },
      "text/plain": [
       "  0%|          | 0/358 [00:00<?, ?it/s]"
      ]
     },
     "metadata": {},
     "output_type": "display_data"
    },
    {
     "data": {
      "application/vnd.jupyter.widget-view+json": {
       "model_id": "c55108be42404b83bf4e95be7b80613c",
       "version_major": 2,
       "version_minor": 0
      },
      "text/plain": [
       "  0%|          | 0/328 [00:00<?, ?it/s]"
      ]
     },
     "metadata": {},
     "output_type": "display_data"
    },
    {
     "data": {
      "application/vnd.jupyter.widget-view+json": {
       "model_id": "8d59a02382fe4054a714073f166c26d1",
       "version_major": 2,
       "version_minor": 0
      },
      "text/plain": [
       "  0%|          | 0/249 [00:00<?, ?it/s]"
      ]
     },
     "metadata": {},
     "output_type": "display_data"
    },
    {
     "data": {
      "application/vnd.jupyter.widget-view+json": {
       "model_id": "cd04f8e564f84669b51b920a5174f619",
       "version_major": 2,
       "version_minor": 0
      },
      "text/plain": [
       "  0%|          | 0/110 [00:00<?, ?it/s]"
      ]
     },
     "metadata": {},
     "output_type": "display_data"
    },
    {
     "data": {
      "application/vnd.jupyter.widget-view+json": {
       "model_id": "2664209729694c6db8eefe6f486969a6",
       "version_major": 2,
       "version_minor": 0
      },
      "text/plain": [
       "  0%|          | 0/361 [00:00<?, ?it/s]"
      ]
     },
     "metadata": {},
     "output_type": "display_data"
    },
    {
     "data": {
      "application/vnd.jupyter.widget-view+json": {
       "model_id": "4f4ba52ca1ea4704893bcbb998f23e87",
       "version_major": 2,
       "version_minor": 0
      },
      "text/plain": [
       "  0%|          | 0/565 [00:00<?, ?it/s]"
      ]
     },
     "metadata": {},
     "output_type": "display_data"
    },
    {
     "data": {
      "application/vnd.jupyter.widget-view+json": {
       "model_id": "f5e370261c204f25a3128b3cf48383d7",
       "version_major": 2,
       "version_minor": 0
      },
      "text/plain": [
       "  0%|          | 0/495 [00:00<?, ?it/s]"
      ]
     },
     "metadata": {},
     "output_type": "display_data"
    },
    {
     "data": {
      "application/vnd.jupyter.widget-view+json": {
       "model_id": "ee34feb8a07f482bb9d7a8fef2757f79",
       "version_major": 2,
       "version_minor": 0
      },
      "text/plain": [
       "  0%|          | 0/127 [00:01<?, ?it/s]"
      ]
     },
     "metadata": {},
     "output_type": "display_data"
    },
    {
     "data": {
      "application/vnd.jupyter.widget-view+json": {
       "model_id": "da5015b6239d4ec1ac935be762b18428",
       "version_major": 2,
       "version_minor": 0
      },
      "text/plain": [
       "0it [00:00, ?it/s]"
      ]
     },
     "metadata": {},
     "output_type": "display_data"
    },
    {
     "data": {
      "application/vnd.jupyter.widget-view+json": {
       "model_id": "8a7dbbdfc74349098bf0228225a92454",
       "version_major": 2,
       "version_minor": 0
      },
      "text/plain": [
       "  0%|          | 0/174 [00:00<?, ?it/s]"
      ]
     },
     "metadata": {},
     "output_type": "display_data"
    },
    {
     "data": {
      "application/vnd.jupyter.widget-view+json": {
       "model_id": "e5b7a6e8a9c0479fa3da63b341a946b0",
       "version_major": 2,
       "version_minor": 0
      },
      "text/plain": [
       "  0%|          | 0/358 [00:00<?, ?it/s]"
      ]
     },
     "metadata": {},
     "output_type": "display_data"
    },
    {
     "data": {
      "application/vnd.jupyter.widget-view+json": {
       "model_id": "72e2f37d0d8f415fa38f8414886bbe2b",
       "version_major": 2,
       "version_minor": 0
      },
      "text/plain": [
       "  0%|          | 0/328 [00:00<?, ?it/s]"
      ]
     },
     "metadata": {},
     "output_type": "display_data"
    },
    {
     "data": {
      "application/vnd.jupyter.widget-view+json": {
       "model_id": "63a9df994cba4c849ea1c6f974afbb7f",
       "version_major": 2,
       "version_minor": 0
      },
      "text/plain": [
       "  0%|          | 0/249 [00:00<?, ?it/s]"
      ]
     },
     "metadata": {},
     "output_type": "display_data"
    },
    {
     "data": {
      "application/vnd.jupyter.widget-view+json": {
       "model_id": "559849052a9c4c69b40d026022f26abe",
       "version_major": 2,
       "version_minor": 0
      },
      "text/plain": [
       "  0%|          | 0/110 [00:00<?, ?it/s]"
      ]
     },
     "metadata": {},
     "output_type": "display_data"
    },
    {
     "data": {
      "application/vnd.jupyter.widget-view+json": {
       "model_id": "347b7b4b1fec4039b114491a745ea19b",
       "version_major": 2,
       "version_minor": 0
      },
      "text/plain": [
       "  0%|          | 0/361 [00:00<?, ?it/s]"
      ]
     },
     "metadata": {},
     "output_type": "display_data"
    },
    {
     "data": {
      "application/vnd.jupyter.widget-view+json": {
       "model_id": "035fd3aed16249d39fcdcedab5e29d7f",
       "version_major": 2,
       "version_minor": 0
      },
      "text/plain": [
       "  0%|          | 0/565 [00:00<?, ?it/s]"
      ]
     },
     "metadata": {},
     "output_type": "display_data"
    },
    {
     "data": {
      "application/vnd.jupyter.widget-view+json": {
       "model_id": "1dc78da6c0084b6c857fd6eced6fe04f",
       "version_major": 2,
       "version_minor": 0
      },
      "text/plain": [
       "  0%|          | 0/495 [00:00<?, ?it/s]"
      ]
     },
     "metadata": {},
     "output_type": "display_data"
    },
    {
     "data": {
      "application/vnd.jupyter.widget-view+json": {
       "model_id": "f14eef6671254e9085b9eb6995984ab1",
       "version_major": 2,
       "version_minor": 0
      },
      "text/plain": [
       "  0%|          | 0/127 [00:00<?, ?it/s]"
      ]
     },
     "metadata": {},
     "output_type": "display_data"
    },
    {
     "data": {
      "application/vnd.jupyter.widget-view+json": {
       "model_id": "4ea330ce9b8e483cb31f8862c6df49b1",
       "version_major": 2,
       "version_minor": 0
      },
      "text/plain": [
       "0it [00:00, ?it/s]"
      ]
     },
     "metadata": {},
     "output_type": "display_data"
    },
    {
     "data": {
      "application/vnd.jupyter.widget-view+json": {
       "model_id": "57019e09792a47e39b9ca48285aa8277",
       "version_major": 2,
       "version_minor": 0
      },
      "text/plain": [
       "  0%|          | 0/174 [00:00<?, ?it/s]"
      ]
     },
     "metadata": {},
     "output_type": "display_data"
    },
    {
     "data": {
      "application/vnd.jupyter.widget-view+json": {
       "model_id": "5902db2ea3364f01a4067bfee4b69fb2",
       "version_major": 2,
       "version_minor": 0
      },
      "text/plain": [
       "  0%|          | 0/358 [00:00<?, ?it/s]"
      ]
     },
     "metadata": {},
     "output_type": "display_data"
    },
    {
     "data": {
      "application/vnd.jupyter.widget-view+json": {
       "model_id": "2f18937d958b444fa507349257ab4191",
       "version_major": 2,
       "version_minor": 0
      },
      "text/plain": [
       "  0%|          | 0/328 [00:00<?, ?it/s]"
      ]
     },
     "metadata": {},
     "output_type": "display_data"
    },
    {
     "data": {
      "application/vnd.jupyter.widget-view+json": {
       "model_id": "ce55861136fb4183a5395121fbe7b049",
       "version_major": 2,
       "version_minor": 0
      },
      "text/plain": [
       "  0%|          | 0/249 [00:00<?, ?it/s]"
      ]
     },
     "metadata": {},
     "output_type": "display_data"
    },
    {
     "data": {
      "application/vnd.jupyter.widget-view+json": {
       "model_id": "ea18343ab4914e6dbbd1ca4fcc07b803",
       "version_major": 2,
       "version_minor": 0
      },
      "text/plain": [
       "  0%|          | 0/110 [00:00<?, ?it/s]"
      ]
     },
     "metadata": {},
     "output_type": "display_data"
    },
    {
     "data": {
      "application/vnd.jupyter.widget-view+json": {
       "model_id": "a49e32afe47043f49bd61f6cf27c681e",
       "version_major": 2,
       "version_minor": 0
      },
      "text/plain": [
       "  0%|          | 0/361 [00:00<?, ?it/s]"
      ]
     },
     "metadata": {},
     "output_type": "display_data"
    },
    {
     "data": {
      "application/vnd.jupyter.widget-view+json": {
       "model_id": "3cb3bdaea19d4d87bbcd87d2d43a90cb",
       "version_major": 2,
       "version_minor": 0
      },
      "text/plain": [
       "  0%|          | 0/565 [00:00<?, ?it/s]"
      ]
     },
     "metadata": {},
     "output_type": "display_data"
    },
    {
     "data": {
      "application/vnd.jupyter.widget-view+json": {
       "model_id": "8a855dccf4ca41dcb3d9711c4c2a971c",
       "version_major": 2,
       "version_minor": 0
      },
      "text/plain": [
       "  0%|          | 0/495 [00:00<?, ?it/s]"
      ]
     },
     "metadata": {},
     "output_type": "display_data"
    },
    {
     "data": {
      "application/vnd.jupyter.widget-view+json": {
       "model_id": "0decc6f8fa7a441990bd7c871cc2adcd",
       "version_major": 2,
       "version_minor": 0
      },
      "text/plain": [
       "  0%|          | 0/127 [00:00<?, ?it/s]"
      ]
     },
     "metadata": {},
     "output_type": "display_data"
    },
    {
     "data": {
      "application/vnd.jupyter.widget-view+json": {
       "model_id": "20d8919083244550b70cf85978256a4f",
       "version_major": 2,
       "version_minor": 0
      },
      "text/plain": [
       "0it [00:00, ?it/s]"
      ]
     },
     "metadata": {},
     "output_type": "display_data"
    },
    {
     "data": {
      "application/vnd.jupyter.widget-view+json": {
       "model_id": "5357aaaf136443958b954ab61e3ee618",
       "version_major": 2,
       "version_minor": 0
      },
      "text/plain": [
       "  0%|          | 0/174 [00:00<?, ?it/s]"
      ]
     },
     "metadata": {},
     "output_type": "display_data"
    },
    {
     "data": {
      "application/vnd.jupyter.widget-view+json": {
       "model_id": "912abd044ef1468c8d066dc34372fc97",
       "version_major": 2,
       "version_minor": 0
      },
      "text/plain": [
       "  0%|          | 0/358 [00:00<?, ?it/s]"
      ]
     },
     "metadata": {},
     "output_type": "display_data"
    },
    {
     "data": {
      "application/vnd.jupyter.widget-view+json": {
       "model_id": "58faef161e0a437086c19439dbbf0c5e",
       "version_major": 2,
       "version_minor": 0
      },
      "text/plain": [
       "  0%|          | 0/328 [00:00<?, ?it/s]"
      ]
     },
     "metadata": {},
     "output_type": "display_data"
    },
    {
     "data": {
      "application/vnd.jupyter.widget-view+json": {
       "model_id": "64953a0af9c34670afed23df70282a7b",
       "version_major": 2,
       "version_minor": 0
      },
      "text/plain": [
       "  0%|          | 0/249 [00:00<?, ?it/s]"
      ]
     },
     "metadata": {},
     "output_type": "display_data"
    },
    {
     "data": {
      "application/vnd.jupyter.widget-view+json": {
       "model_id": "85b3a6ebe2ca4de987c0c3e0ecce5be6",
       "version_major": 2,
       "version_minor": 0
      },
      "text/plain": [
       "  0%|          | 0/110 [00:00<?, ?it/s]"
      ]
     },
     "metadata": {},
     "output_type": "display_data"
    },
    {
     "data": {
      "application/vnd.jupyter.widget-view+json": {
       "model_id": "02d5364e0e32495ea7ced701fa455634",
       "version_major": 2,
       "version_minor": 0
      },
      "text/plain": [
       "  0%|          | 0/361 [00:00<?, ?it/s]"
      ]
     },
     "metadata": {},
     "output_type": "display_data"
    },
    {
     "data": {
      "application/vnd.jupyter.widget-view+json": {
       "model_id": "f7da4e3c60374b589e8fc73e0ef12e88",
       "version_major": 2,
       "version_minor": 0
      },
      "text/plain": [
       "  0%|          | 0/565 [00:00<?, ?it/s]"
      ]
     },
     "metadata": {},
     "output_type": "display_data"
    },
    {
     "data": {
      "application/vnd.jupyter.widget-view+json": {
       "model_id": "1a9208ce5800418f92b69644d6b10d42",
       "version_major": 2,
       "version_minor": 0
      },
      "text/plain": [
       "  0%|          | 0/495 [00:00<?, ?it/s]"
      ]
     },
     "metadata": {},
     "output_type": "display_data"
    },
    {
     "data": {
      "application/vnd.jupyter.widget-view+json": {
       "model_id": "bdc81ec2dbf04eca8571bf467e99c7eb",
       "version_major": 2,
       "version_minor": 0
      },
      "text/plain": [
       "  0%|          | 0/127 [00:00<?, ?it/s]"
      ]
     },
     "metadata": {},
     "output_type": "display_data"
    },
    {
     "data": {
      "application/vnd.jupyter.widget-view+json": {
       "model_id": "547f8a0218ba4cdb9902af1ef609633d",
       "version_major": 2,
       "version_minor": 0
      },
      "text/plain": [
       "0it [00:00, ?it/s]"
      ]
     },
     "metadata": {},
     "output_type": "display_data"
    },
    {
     "data": {
      "application/vnd.jupyter.widget-view+json": {
       "model_id": "71635d7bd1254703849ea108830aa9f6",
       "version_major": 2,
       "version_minor": 0
      },
      "text/plain": [
       "  0%|          | 0/174 [00:00<?, ?it/s]"
      ]
     },
     "metadata": {},
     "output_type": "display_data"
    },
    {
     "data": {
      "application/vnd.jupyter.widget-view+json": {
       "model_id": "ef895824ce1f4728bae794bfc71e146e",
       "version_major": 2,
       "version_minor": 0
      },
      "text/plain": [
       "  0%|          | 0/358 [00:00<?, ?it/s]"
      ]
     },
     "metadata": {},
     "output_type": "display_data"
    },
    {
     "data": {
      "application/vnd.jupyter.widget-view+json": {
       "model_id": "d9bc636988984e2aa146448c690df685",
       "version_major": 2,
       "version_minor": 0
      },
      "text/plain": [
       "  0%|          | 0/328 [00:00<?, ?it/s]"
      ]
     },
     "metadata": {},
     "output_type": "display_data"
    },
    {
     "data": {
      "application/vnd.jupyter.widget-view+json": {
       "model_id": "b09a427791c64332b71fb6a9037ccb87",
       "version_major": 2,
       "version_minor": 0
      },
      "text/plain": [
       "  0%|          | 0/249 [00:00<?, ?it/s]"
      ]
     },
     "metadata": {},
     "output_type": "display_data"
    },
    {
     "data": {
      "application/vnd.jupyter.widget-view+json": {
       "model_id": "133bbb3582714eb1aa55d7e611579575",
       "version_major": 2,
       "version_minor": 0
      },
      "text/plain": [
       "  0%|          | 0/110 [00:00<?, ?it/s]"
      ]
     },
     "metadata": {},
     "output_type": "display_data"
    },
    {
     "data": {
      "application/vnd.jupyter.widget-view+json": {
       "model_id": "09c54aa8b2594b43a1b79d914cf8fbeb",
       "version_major": 2,
       "version_minor": 0
      },
      "text/plain": [
       "  0%|          | 0/361 [00:00<?, ?it/s]"
      ]
     },
     "metadata": {},
     "output_type": "display_data"
    },
    {
     "data": {
      "application/vnd.jupyter.widget-view+json": {
       "model_id": "b301d8a3d1b04aba8ad30dee19cbb0b7",
       "version_major": 2,
       "version_minor": 0
      },
      "text/plain": [
       "  0%|          | 0/565 [00:00<?, ?it/s]"
      ]
     },
     "metadata": {},
     "output_type": "display_data"
    },
    {
     "data": {
      "application/vnd.jupyter.widget-view+json": {
       "model_id": "ef7b7b0423024abebce2be8256d096c0",
       "version_major": 2,
       "version_minor": 0
      },
      "text/plain": [
       "  0%|          | 0/495 [00:00<?, ?it/s]"
      ]
     },
     "metadata": {},
     "output_type": "display_data"
    },
    {
     "data": {
      "application/vnd.jupyter.widget-view+json": {
       "model_id": "5799e111189d4094a0b1dbde7eb57dc8",
       "version_major": 2,
       "version_minor": 0
      },
      "text/plain": [
       "  0%|          | 0/127 [00:00<?, ?it/s]"
      ]
     },
     "metadata": {},
     "output_type": "display_data"
    }
   ],
   "source": [
    "from pathlib import Path\n",
    "import nibabel as nib\n",
    "import os\n",
    "from tqdm.notebook import tqdm\n",
    "\n",
    "r = Path(r'C:\\Users\\user\\data\\dl_radiomics')\n",
    "\n",
    "for d in tqdm(list(r.iterdir())):\n",
    "    if d.name.startswith('dim-3'):\n",
    "        for root, _, files in os.walk(d):\n",
    "            for file in tqdm(files, leave=False):\n",
    "                img = nib.load(Path(root) / file)\n",
    "                # print(img.affine)\n",
    "                new = nib.Nifti1Image(img.get_fdata(), np.eye(4))\n",
    "                nib.save(new, Path(root) / file)"
   ]
  },
  {
   "cell_type": "code",
   "execution_count": 48,
   "metadata": {},
   "outputs": [
    {
     "data": {
      "text/plain": [
       "array([[1., 0., 0., 0.],\n",
       "       [0., 1., 0., 0.],\n",
       "       [0., 0., 1., 0.],\n",
       "       [0., 0., 0., 1.]])"
      ]
     },
     "execution_count": 48,
     "metadata": {},
     "output_type": "execute_result"
    }
   ],
   "source": [
    "new.affine"
   ]
  },
  {
   "cell_type": "code",
   "execution_count": 31,
   "metadata": {},
   "outputs": [],
   "source": []
  },
  {
   "cell_type": "code",
   "execution_count": 12,
   "metadata": {},
   "outputs": [],
   "source": [
    "from monai.transforms import LoadImaged, EnsureChannelFirstd, Compose\n",
    "from src.transforms import (\n",
    "    FindCentroid,\n",
    "    GetFixedROISize,\n",
    "    CropToCentroidWithSize,\n",
    "    PadForCrop,\n",
    "    Save,\n",
    "    OrthogonalSlices,\n",
    "    CropToROI,\n",
    "    GetZoomedROI,\n",
    "    PadForZoom,\n",
    ")\n",
    "from pathlib import Path\n",
    "\n",
    "def find_corresponding_scan(segmention_path):\n",
    "    scan_folder = Path(segmention_path).parent.parent / \"scans\"\n",
    "    scan_name = Path(segmention_path).name.split(\".\")[0][:-2] + \".nii.gz\"\n",
    "\n",
    "    return scan_folder / scan_name\n",
    "\n",
    "pipeline = Compose([\n",
    "    LoadImaged(keys=[\"img\", \"seg\"]),\n",
    "    EnsureChannelFirstd(keys=[\"img\", \"seg\"]),\n",
    "])\n",
    "\n",
    "\n",
    "segmentation_path = r'D:\\premium_data\\lumc\\monotherapy\\split_segmentations\\PREM_LU_009_0.nii.gz'\n",
    "scan_path = find_corresponding_scan(segmentation_path)\n",
    "data = {'img':scan_path, 'seg':segmentation_path}\n",
    "\n",
    "output = pipeline(data)\n"
   ]
  },
  {
   "cell_type": "code",
   "execution_count": 13,
   "metadata": {},
   "outputs": [
    {
     "data": {
      "text/plain": [
       "(1, 512, 512, 668)"
      ]
     },
     "execution_count": 13,
     "metadata": {},
     "output_type": "execute_result"
    }
   ],
   "source": [
    "output['img'].shape"
   ]
  },
  {
   "cell_type": "code",
   "execution_count": 14,
   "metadata": {},
   "outputs": [],
   "source": [
    "from src.transforms import GetZoomedROI, PadForZoom, CropToROI\n",
    "\n",
    "select = Compose(\n",
    "    [\n",
    "        GetZoomedROI(0),\n",
    "        # PadForZoom(),\n",
    "        # CropToROI()\n",
    "    ]\n",
    ")\n",
    "\n",
    "roi = select(output)"
   ]
  },
  {
   "cell_type": "code",
   "execution_count": 15,
   "metadata": {},
   "outputs": [
    {
     "data": {
      "text/plain": [
       "array([210, 257, 522])"
      ]
     },
     "execution_count": 15,
     "metadata": {},
     "output_type": "execute_result"
    }
   ],
   "source": [
    "roi['roi_start']"
   ]
  },
  {
   "cell_type": "code",
   "execution_count": 16,
   "metadata": {},
   "outputs": [
    {
     "data": {
      "text/plain": [
       "array([222, 269, 513])"
      ]
     },
     "execution_count": 16,
     "metadata": {},
     "output_type": "execute_result"
    }
   ],
   "source": [
    "roi['roi_end']"
   ]
  },
  {
   "cell_type": "code",
   "execution_count": 22,
   "metadata": {},
   "outputs": [],
   "source": [
    "import numpy as np\n",
    "\n",
    "w = np.where(roi['seg'])[1:]\n",
    "bbox_min_coordinates = np.array([axis.min() for axis in w])\n",
    "bbox_max_coordinates = np.array([axis.max() for axis in w])\n",
    "\n"
   ]
  },
  {
   "cell_type": "code",
   "execution_count": 3,
   "metadata": {},
   "outputs": [],
   "source": [
    "from pathlib import Path\n",
    "import nibabel as nib\n",
    "\n",
    "r  = Path(r'C:\\Users\\user\\data\\dl_radiomics\\dim-2_size-256_method-crop_roi_size-50')\n",
    "\n",
    "for c in r.iterdir():\n",
    "    for f in c.iterdir():\n",
    "        shape = nib.load(f).shape\n",
    "        if not shape == (3,256,256):\n",
    "            print(f.name, shape)"
   ]
  },
  {
   "cell_type": "code",
   "execution_count": null,
   "metadata": {},
   "outputs": [],
   "source": [
    "dm = Data"
   ]
  },
  {
   "cell_type": "code",
   "execution_count": 1,
   "metadata": {},
   "outputs": [
    {
     "name": "stdout",
     "output_type": "stream",
     "text": [
      "2022-11-15 11:38:49,764 - Failed to detect the name of this notebook, you can set it manually with the WANDB_NOTEBOOK_NAME environment variable to enable code saving.\n"
     ]
    },
    {
     "name": "stderr",
     "output_type": "stream",
     "text": [
      "\u001b[34m\u001b[1mwandb\u001b[0m: Currently logged in as: \u001b[33mrenstermaat\u001b[0m. Use \u001b[1m`wandb login --relogin`\u001b[0m to force relogin\n"
     ]
    },
    {
     "data": {
      "text/html": [
       "wandb version 0.13.5 is available!  To upgrade, please run:\n",
       " $ pip install wandb --upgrade"
      ],
      "text/plain": [
       "<IPython.core.display.HTML object>"
      ]
     },
     "metadata": {},
     "output_type": "display_data"
    },
    {
     "data": {
      "text/html": [
       "Tracking run with wandb version 0.13.4"
      ],
      "text/plain": [
       "<IPython.core.display.HTML object>"
      ]
     },
     "metadata": {},
     "output_type": "display_data"
    },
    {
     "data": {
      "text/html": [
       "Run data is saved locally in <code>c:\\Users\\user\\repos\\premium_dl_ct\\wandb\\run-20221115_113852-n5fooink</code>"
      ],
      "text/plain": [
       "<IPython.core.display.HTML object>"
      ]
     },
     "metadata": {},
     "output_type": "display_data"
    },
    {
     "data": {
      "text/html": [
       "Syncing run <strong><a href=\"https://wandb.ai/renstermaat/uncategorized/runs/n5fooink\" target=\"_blank\">valiant-disco-50</a></strong> to <a href=\"https://wandb.ai/renstermaat/uncategorized\" target=\"_blank\">Weights & Biases</a> (<a href=\"https://wandb.me/run\" target=\"_blank\">docs</a>)<br/>"
      ],
      "text/plain": [
       "<IPython.core.display.HTML object>"
      ]
     },
     "metadata": {},
     "output_type": "display_data"
    }
   ],
   "source": [
    "import wandb\n",
    "from pytorch_lightning.loggers import WandbLogger\n",
    "from pytorch_lightning import Trainer, seed_everything\n",
    "from src.model import Model\n",
    "from src.data import DataModule\n",
    "from pytorch_lightning.callbacks import ModelCheckpoint, EarlyStopping\n",
    "\n",
    "wandb.init()\n",
    "\n",
    "wandb.config.aggregation_function = 'max'\n",
    "wandb.config.method = 'crop'\n",
    "wandb.config.dim = 2\n",
    "wandb.config.size = 256\n",
    "wandb.config.roi_size= 50\n",
    "wandb.config.test_center = 'amphia'\n",
    "wandb.config.lesion_target = 'lung'\n",
    "wandb.config.max_batch_size = 12\n",
    "wandb.config.seed = 0\n",
    "wandb.config.max_epochs = 100\n",
    "wandb.config.patience = 20\n",
    "wandb.config.lr = 5e-4,\n",
    "wandb.config.lr_min = 1e-6,\n",
    "wandb.config.t_max = 20,\n",
    "\n",
    "dm = DataModule(\n",
    "    r\"C:\\Users\\user\\data\\dl_radiomics\",\n",
    "    r\"C:\\Users\\user\\data\\tables\\lesion_followup_curated_v5.csv\",\n",
    "    wandb.config\n",
    ")\n",
    "\n",
    "# model = Model(wandb.config)\n",
    "\n",
    "# seed_everything(wandb.config.seed)\n",
    "\n",
    "# logger = WandbLogger(\n",
    "#     name=\"hello5\",\n",
    "#     project=\"project_skeleton_on_lung_lesions\",\n",
    "# )\n",
    "\n",
    "# checkpoint_callback = ModelCheckpoint(\n",
    "#     monitor='valid_patient_auc',\n",
    "#     mode='max'\n",
    "# )\n",
    "\n",
    "# early_stopping = EarlyStopping(monitor='valid_patient_auc', mode='max', patience=wandb.config.patience)\n",
    "\n",
    "# trainer = Trainer(\n",
    "#     max_epochs=wandb.config.max_epochs, gpus=1, deterministic=True, fast_dev_run=False, logger=logger,\n",
    "#     checkpoint_callback=checkpoint_callback,\n",
    "#     callbacks=[\n",
    "#         early_stopping\n",
    "#     ]\n",
    "# )\n",
    "\n",
    "# trainer.fit(model, dm)"
   ]
  },
  {
   "cell_type": "code",
   "execution_count": 3,
   "metadata": {},
   "outputs": [
    {
     "name": "stderr",
     "output_type": "stream",
     "text": [
      "Loading dataset: 100%|██████████| 1617/1617 [00:00<00:00, 808847.89it/s]\n",
      "Loading dataset: 100%|██████████| 539/539 [00:00<00:00, 539682.47it/s]\n",
      "Loading dataset: 100%|██████████| 168/168 [00:00<00:00, 167972.13it/s]\n"
     ]
    }
   ],
   "source": [
    "dm.setup()\n",
    "dl = dm.train_dataloader()\n",
    "\n",
    "for _ in range(len(dl)):\n",
    "    try:\n",
    "        x = next(iter(dl))\n",
    "    except Exception as e:\n",
    "        print(e)\n",
    "        break"
   ]
  },
  {
   "cell_type": "code",
   "execution_count": 4,
   "metadata": {},
   "outputs": [
    {
     "name": "stdout",
     "output_type": "stream",
     "text": [
      "(3, 256, 256)\n",
      "(3, 256, 256)\n",
      "(3, 256, 256)\n",
      "(3, 256, 256)\n",
      "(3, 256, 256)\n",
      "(3, 256, 256)\n",
      "(3, 256, 256)\n",
      "(3, 256, 256)\n",
      "(3, 256, 256)\n",
      "(3, 256, 256)\n",
      "(3, 256, 256)\n",
      "(3, 256, 256)\n",
      "(3, 256, 256)\n",
      "(3, 256, 256)\n",
      "(3, 256, 256)\n",
      "(3, 256, 256)\n",
      "(3, 256, 256)\n",
      "(3, 256, 256)\n",
      "(3, 256, 256)\n",
      "(3, 256, 256)\n",
      "(3, 256, 256)\n",
      "(3, 256, 256)\n",
      "(3, 256, 256)\n",
      "(3, 256, 256)\n",
      "(3, 256, 256)\n",
      "(3, 256, 256)\n",
      "(3, 256, 256)\n",
      "(3, 256, 256)\n",
      "(3, 256, 256)\n",
      "(3, 256, 256)\n",
      "(3, 256, 256)\n",
      "(3, 256, 256)\n",
      "(3, 256, 256)\n",
      "(3, 256, 256)\n",
      "(3, 256, 256)\n",
      "(3, 256, 256)\n",
      "(3, 256, 256)\n",
      "(3, 256, 256)\n",
      "(3, 256, 256)\n",
      "(3, 256, 256)\n",
      "(3, 256, 256)\n",
      "(3, 256, 256)\n",
      "(3, 256, 256)\n",
      "(3, 256, 256)\n",
      "(3, 256, 256)\n",
      "(3, 256, 256)\n",
      "(3, 256, 256)\n",
      "(3, 256, 256)\n",
      "(3, 256, 256)\n",
      "(3, 256, 256)\n",
      "(3, 256, 256)\n",
      "(3, 256, 256)\n",
      "(3, 256, 256)\n",
      "(3, 256, 256)\n",
      "(3, 256, 256)\n",
      "(3, 256, 256)\n",
      "(3, 256, 256)\n",
      "(3, 256, 256)\n",
      "(3, 256, 256)\n",
      "(3, 256, 256)\n",
      "(3, 256, 256)\n",
      "(3, 256, 256)\n",
      "(3, 256, 256)\n",
      "(3, 256, 256)\n",
      "(3, 256, 256)\n",
      "(3, 256, 256)\n",
      "(3, 256, 256)\n",
      "(3, 256, 256)\n",
      "(3, 256, 256)\n",
      "(3, 256, 256)\n",
      "(3, 256, 256)\n",
      "(3, 256, 256)\n",
      "(3, 256, 256)\n",
      "(3, 256, 256)\n",
      "(3, 256, 256)\n",
      "(3, 256, 256)\n",
      "(3, 256, 256)\n",
      "(3, 256, 256)\n",
      "(3, 256, 256)\n",
      "(3, 256, 256)\n",
      "(3, 256, 256)\n",
      "(3, 256, 256)\n",
      "(3, 256, 256)\n",
      "(3, 256, 256)\n",
      "(3, 256, 256)\n",
      "(3, 256, 256)\n",
      "(3, 256, 256)\n",
      "(3, 256, 256)\n",
      "(3, 256, 256)\n",
      "(3, 256, 256)\n",
      "(3, 256, 256)\n",
      "(3, 256, 256)\n",
      "(3, 256, 256)\n",
      "(3, 256, 256)\n",
      "(3, 256, 256)\n",
      "(3, 256, 256)\n",
      "(3, 256, 256)\n",
      "(3, 256, 256)\n",
      "(3, 256, 256)\n",
      "(3, 256, 256)\n",
      "(3, 256, 256)\n",
      "(3, 256, 256)\n",
      "(3, 256, 256)\n",
      "(3, 256, 256)\n",
      "(3, 256, 256)\n",
      "(3, 256, 256)\n",
      "(3, 256, 256)\n",
      "(3, 256, 256)\n",
      "(3, 256, 256)\n",
      "(3, 256, 256)\n",
      "(3, 256, 256)\n",
      "(3, 256, 256)\n",
      "(3, 256, 256)\n",
      "(3, 256, 256)\n",
      "(3, 256, 256)\n",
      "(3, 256, 256)\n",
      "(3, 256, 256)\n",
      "(3, 256, 256)\n",
      "(3, 256, 256)\n",
      "(3, 256, 256)\n",
      "(3, 256, 256)\n",
      "(3, 256, 256)\n",
      "(3, 256, 256)\n",
      "(3, 256, 256)\n",
      "(3, 256, 256)\n",
      "(3, 256, 256)\n",
      "(3, 256, 256)\n",
      "(3, 256, 256)\n",
      "(3, 256, 256)\n",
      "(3, 256, 256)\n",
      "(3, 256, 256)\n",
      "(3, 256, 256)\n",
      "(3, 256, 256)\n",
      "(3, 256, 256)\n",
      "(3, 256, 256)\n",
      "(3, 256, 256)\n",
      "(3, 256, 256)\n",
      "(3, 256, 256)\n",
      "(3, 256, 256)\n",
      "(3, 256, 256)\n",
      "(3, 256, 256)\n",
      "(3, 256, 256)\n",
      "(3, 256, 256)\n",
      "(3, 256, 256)\n",
      "(3, 256, 256)\n",
      "(3, 256, 256)\n",
      "(3, 256, 256)\n",
      "(3, 256, 256)\n",
      "(3, 256, 256)\n",
      "(3, 256, 256)\n",
      "(3, 256, 256)\n",
      "(3, 256, 256)\n",
      "(3, 256, 256)\n",
      "(3, 256, 256)\n",
      "(3, 256, 256)\n",
      "(3, 256, 256)\n",
      "(3, 256, 256)\n",
      "(3, 256, 256)\n",
      "(3, 256, 256)\n",
      "(3, 256, 256)\n",
      "(3, 256, 256)\n",
      "(3, 256, 256)\n",
      "(3, 256, 256)\n",
      "(3, 256, 256)\n",
      "(3, 256, 256)\n",
      "(3, 256, 256)\n",
      "(3, 256, 256)\n",
      "(3, 256, 256)\n",
      "(3, 256, 256)\n",
      "(3, 256, 256)\n",
      "(3, 256, 256)\n",
      "(3, 256, 256)\n",
      "(3, 256, 256)\n",
      "(3, 256, 256)\n",
      "(3, 256, 256)\n",
      "(3, 256, 256)\n",
      "(3, 256, 256)\n",
      "(3, 256, 256)\n",
      "(3, 256, 256)\n",
      "(3, 256, 256)\n",
      "(3, 256, 256)\n",
      "(3, 256, 256)\n",
      "(3, 256, 256)\n",
      "(3, 256, 256)\n",
      "(3, 256, 256)\n",
      "(3, 256, 256)\n",
      "(3, 256, 256)\n",
      "(3, 256, 256)\n",
      "(3, 256, 256)\n",
      "(3, 256, 256)\n",
      "(3, 256, 256)\n",
      "(3, 256, 256)\n",
      "(3, 256, 256)\n",
      "(3, 256, 256)\n",
      "(3, 256, 256)\n",
      "(3, 256, 256)\n",
      "(3, 256, 256)\n",
      "(3, 256, 256)\n",
      "(3, 256, 256)\n",
      "(3, 256, 256)\n"
     ]
    },
    {
     "ename": "KeyboardInterrupt",
     "evalue": "",
     "output_type": "error",
     "traceback": [
      "\u001b[1;31m---------------------------------------------------------------------------\u001b[0m",
      "\u001b[1;31mKeyboardInterrupt\u001b[0m                         Traceback (most recent call last)",
      "\u001b[1;32m<ipython-input-4-f7cb65c95298>\u001b[0m in \u001b[0;36m<module>\u001b[1;34m\u001b[0m\n\u001b[1;32m----> 1\u001b[1;33m \u001b[1;32mfor\u001b[0m \u001b[0mimg\u001b[0m \u001b[1;32min\u001b[0m \u001b[0mdm\u001b[0m\u001b[1;33m.\u001b[0m\u001b[0mtrain_dataset\u001b[0m\u001b[1;33m:\u001b[0m\u001b[1;33m\u001b[0m\u001b[1;33m\u001b[0m\u001b[0m\n\u001b[0m\u001b[0;32m      2\u001b[0m     \u001b[0mprint\u001b[0m\u001b[1;33m(\u001b[0m\u001b[0mimg\u001b[0m\u001b[1;33m[\u001b[0m\u001b[1;34m'img'\u001b[0m\u001b[1;33m]\u001b[0m\u001b[1;33m.\u001b[0m\u001b[0mshape\u001b[0m\u001b[1;33m)\u001b[0m\u001b[1;33m\u001b[0m\u001b[1;33m\u001b[0m\u001b[0m\n",
      "\u001b[1;32mc:\\Users\\user\\anaconda3\\envs\\conda-env\\lib\\site-packages\\monai\\data\\dataset.py\u001b[0m in \u001b[0;36m__getitem__\u001b[1;34m(self, index)\u001b[0m\n\u001b[0;32m    102\u001b[0m             \u001b[1;31m# dataset[[1, 3, 4]]\u001b[0m\u001b[1;33m\u001b[0m\u001b[1;33m\u001b[0m\u001b[1;33m\u001b[0m\u001b[0m\n\u001b[0;32m    103\u001b[0m             \u001b[1;32mreturn\u001b[0m \u001b[0mSubset\u001b[0m\u001b[1;33m(\u001b[0m\u001b[0mdataset\u001b[0m\u001b[1;33m=\u001b[0m\u001b[0mself\u001b[0m\u001b[1;33m,\u001b[0m \u001b[0mindices\u001b[0m\u001b[1;33m=\u001b[0m\u001b[0mindex\u001b[0m\u001b[1;33m)\u001b[0m\u001b[1;33m\u001b[0m\u001b[1;33m\u001b[0m\u001b[0m\n\u001b[1;32m--> 104\u001b[1;33m         \u001b[1;32mreturn\u001b[0m \u001b[0mself\u001b[0m\u001b[1;33m.\u001b[0m\u001b[0m_transform\u001b[0m\u001b[1;33m(\u001b[0m\u001b[0mindex\u001b[0m\u001b[1;33m)\u001b[0m\u001b[1;33m\u001b[0m\u001b[1;33m\u001b[0m\u001b[0m\n\u001b[0m\u001b[0;32m    105\u001b[0m \u001b[1;33m\u001b[0m\u001b[0m\n\u001b[0;32m    106\u001b[0m \u001b[1;33m\u001b[0m\u001b[0m\n",
      "\u001b[1;32mc:\\Users\\user\\anaconda3\\envs\\conda-env\\lib\\site-packages\\monai\\data\\dataset.py\u001b[0m in \u001b[0;36m_transform\u001b[1;34m(self, index)\u001b[0m\n\u001b[0;32m    875\u001b[0m                     \u001b[1;32mif\u001b[0m \u001b[0mself\u001b[0m\u001b[1;33m.\u001b[0m\u001b[0mcopy_cache\u001b[0m\u001b[1;33m:\u001b[0m\u001b[1;33m\u001b[0m\u001b[1;33m\u001b[0m\u001b[0m\n\u001b[0;32m    876\u001b[0m                         \u001b[0mdata\u001b[0m \u001b[1;33m=\u001b[0m \u001b[0mdeepcopy\u001b[0m\u001b[1;33m(\u001b[0m\u001b[0mdata\u001b[0m\u001b[1;33m)\u001b[0m\u001b[1;33m\u001b[0m\u001b[1;33m\u001b[0m\u001b[0m\n\u001b[1;32m--> 877\u001b[1;33m                 \u001b[0mdata\u001b[0m \u001b[1;33m=\u001b[0m \u001b[0mapply_transform\u001b[0m\u001b[1;33m(\u001b[0m\u001b[0m_transform\u001b[0m\u001b[1;33m,\u001b[0m \u001b[0mdata\u001b[0m\u001b[1;33m)\u001b[0m\u001b[1;33m\u001b[0m\u001b[1;33m\u001b[0m\u001b[0m\n\u001b[0m\u001b[0;32m    878\u001b[0m         \u001b[1;32mreturn\u001b[0m \u001b[0mdata\u001b[0m\u001b[1;33m\u001b[0m\u001b[1;33m\u001b[0m\u001b[0m\n\u001b[0;32m    879\u001b[0m \u001b[1;33m\u001b[0m\u001b[0m\n",
      "\u001b[1;32mc:\\Users\\user\\anaconda3\\envs\\conda-env\\lib\\site-packages\\monai\\transforms\\transform.py\u001b[0m in \u001b[0;36mapply_transform\u001b[1;34m(transform, data, map_items, unpack_items, log_stats)\u001b[0m\n\u001b[0;32m     89\u001b[0m         \u001b[1;32mif\u001b[0m \u001b[0misinstance\u001b[0m\u001b[1;33m(\u001b[0m\u001b[0mdata\u001b[0m\u001b[1;33m,\u001b[0m \u001b[1;33m(\u001b[0m\u001b[0mlist\u001b[0m\u001b[1;33m,\u001b[0m \u001b[0mtuple\u001b[0m\u001b[1;33m)\u001b[0m\u001b[1;33m)\u001b[0m \u001b[1;32mand\u001b[0m \u001b[0mmap_items\u001b[0m\u001b[1;33m:\u001b[0m\u001b[1;33m\u001b[0m\u001b[1;33m\u001b[0m\u001b[0m\n\u001b[0;32m     90\u001b[0m             \u001b[1;32mreturn\u001b[0m \u001b[1;33m[\u001b[0m\u001b[0m_apply_transform\u001b[0m\u001b[1;33m(\u001b[0m\u001b[0mtransform\u001b[0m\u001b[1;33m,\u001b[0m \u001b[0mitem\u001b[0m\u001b[1;33m,\u001b[0m \u001b[0munpack_items\u001b[0m\u001b[1;33m)\u001b[0m \u001b[1;32mfor\u001b[0m \u001b[0mitem\u001b[0m \u001b[1;32min\u001b[0m \u001b[0mdata\u001b[0m\u001b[1;33m]\u001b[0m\u001b[1;33m\u001b[0m\u001b[1;33m\u001b[0m\u001b[0m\n\u001b[1;32m---> 91\u001b[1;33m         \u001b[1;32mreturn\u001b[0m \u001b[0m_apply_transform\u001b[0m\u001b[1;33m(\u001b[0m\u001b[0mtransform\u001b[0m\u001b[1;33m,\u001b[0m \u001b[0mdata\u001b[0m\u001b[1;33m,\u001b[0m \u001b[0munpack_items\u001b[0m\u001b[1;33m)\u001b[0m\u001b[1;33m\u001b[0m\u001b[1;33m\u001b[0m\u001b[0m\n\u001b[0m\u001b[0;32m     92\u001b[0m     \u001b[1;32mexcept\u001b[0m \u001b[0mException\u001b[0m \u001b[1;32mas\u001b[0m \u001b[0me\u001b[0m\u001b[1;33m:\u001b[0m\u001b[1;33m\u001b[0m\u001b[1;33m\u001b[0m\u001b[0m\n\u001b[0;32m     93\u001b[0m         \u001b[1;31m# if in debug mode, don't swallow exception so that the breakpoint\u001b[0m\u001b[1;33m\u001b[0m\u001b[1;33m\u001b[0m\u001b[1;33m\u001b[0m\u001b[0m\n",
      "\u001b[1;32mc:\\Users\\user\\anaconda3\\envs\\conda-env\\lib\\site-packages\\monai\\transforms\\transform.py\u001b[0m in \u001b[0;36m_apply_transform\u001b[1;34m(transform, parameters, unpack_parameters)\u001b[0m\n\u001b[0;32m     53\u001b[0m         \u001b[1;32mreturn\u001b[0m \u001b[0mtransform\u001b[0m\u001b[1;33m(\u001b[0m\u001b[1;33m*\u001b[0m\u001b[0mparameters\u001b[0m\u001b[1;33m)\u001b[0m\u001b[1;33m\u001b[0m\u001b[1;33m\u001b[0m\u001b[0m\n\u001b[0;32m     54\u001b[0m \u001b[1;33m\u001b[0m\u001b[0m\n\u001b[1;32m---> 55\u001b[1;33m     \u001b[1;32mreturn\u001b[0m \u001b[0mtransform\u001b[0m\u001b[1;33m(\u001b[0m\u001b[0mparameters\u001b[0m\u001b[1;33m)\u001b[0m\u001b[1;33m\u001b[0m\u001b[1;33m\u001b[0m\u001b[0m\n\u001b[0m\u001b[0;32m     56\u001b[0m \u001b[1;33m\u001b[0m\u001b[0m\n\u001b[0;32m     57\u001b[0m \u001b[1;33m\u001b[0m\u001b[0m\n",
      "\u001b[1;32mc:\\Users\\user\\anaconda3\\envs\\conda-env\\lib\\site-packages\\monai\\transforms\\compose.py\u001b[0m in \u001b[0;36m__call__\u001b[1;34m(self, input_)\u001b[0m\n\u001b[0;32m    172\u001b[0m     \u001b[1;32mdef\u001b[0m \u001b[0m__call__\u001b[0m\u001b[1;33m(\u001b[0m\u001b[0mself\u001b[0m\u001b[1;33m,\u001b[0m \u001b[0minput_\u001b[0m\u001b[1;33m)\u001b[0m\u001b[1;33m:\u001b[0m\u001b[1;33m\u001b[0m\u001b[1;33m\u001b[0m\u001b[0m\n\u001b[0;32m    173\u001b[0m         \u001b[1;32mfor\u001b[0m \u001b[0m_transform\u001b[0m \u001b[1;32min\u001b[0m \u001b[0mself\u001b[0m\u001b[1;33m.\u001b[0m\u001b[0mtransforms\u001b[0m\u001b[1;33m:\u001b[0m\u001b[1;33m\u001b[0m\u001b[1;33m\u001b[0m\u001b[0m\n\u001b[1;32m--> 174\u001b[1;33m             \u001b[0minput_\u001b[0m \u001b[1;33m=\u001b[0m \u001b[0mapply_transform\u001b[0m\u001b[1;33m(\u001b[0m\u001b[0m_transform\u001b[0m\u001b[1;33m,\u001b[0m \u001b[0minput_\u001b[0m\u001b[1;33m,\u001b[0m \u001b[0mself\u001b[0m\u001b[1;33m.\u001b[0m\u001b[0mmap_items\u001b[0m\u001b[1;33m,\u001b[0m \u001b[0mself\u001b[0m\u001b[1;33m.\u001b[0m\u001b[0munpack_items\u001b[0m\u001b[1;33m,\u001b[0m \u001b[0mself\u001b[0m\u001b[1;33m.\u001b[0m\u001b[0mlog_stats\u001b[0m\u001b[1;33m)\u001b[0m\u001b[1;33m\u001b[0m\u001b[1;33m\u001b[0m\u001b[0m\n\u001b[0m\u001b[0;32m    175\u001b[0m         \u001b[1;32mreturn\u001b[0m \u001b[0minput_\u001b[0m\u001b[1;33m\u001b[0m\u001b[1;33m\u001b[0m\u001b[0m\n\u001b[0;32m    176\u001b[0m \u001b[1;33m\u001b[0m\u001b[0m\n",
      "\u001b[1;32mc:\\Users\\user\\anaconda3\\envs\\conda-env\\lib\\site-packages\\monai\\transforms\\transform.py\u001b[0m in \u001b[0;36mapply_transform\u001b[1;34m(transform, data, map_items, unpack_items, log_stats)\u001b[0m\n\u001b[0;32m     89\u001b[0m         \u001b[1;32mif\u001b[0m \u001b[0misinstance\u001b[0m\u001b[1;33m(\u001b[0m\u001b[0mdata\u001b[0m\u001b[1;33m,\u001b[0m \u001b[1;33m(\u001b[0m\u001b[0mlist\u001b[0m\u001b[1;33m,\u001b[0m \u001b[0mtuple\u001b[0m\u001b[1;33m)\u001b[0m\u001b[1;33m)\u001b[0m \u001b[1;32mand\u001b[0m \u001b[0mmap_items\u001b[0m\u001b[1;33m:\u001b[0m\u001b[1;33m\u001b[0m\u001b[1;33m\u001b[0m\u001b[0m\n\u001b[0;32m     90\u001b[0m             \u001b[1;32mreturn\u001b[0m \u001b[1;33m[\u001b[0m\u001b[0m_apply_transform\u001b[0m\u001b[1;33m(\u001b[0m\u001b[0mtransform\u001b[0m\u001b[1;33m,\u001b[0m \u001b[0mitem\u001b[0m\u001b[1;33m,\u001b[0m \u001b[0munpack_items\u001b[0m\u001b[1;33m)\u001b[0m \u001b[1;32mfor\u001b[0m \u001b[0mitem\u001b[0m \u001b[1;32min\u001b[0m \u001b[0mdata\u001b[0m\u001b[1;33m]\u001b[0m\u001b[1;33m\u001b[0m\u001b[1;33m\u001b[0m\u001b[0m\n\u001b[1;32m---> 91\u001b[1;33m         \u001b[1;32mreturn\u001b[0m \u001b[0m_apply_transform\u001b[0m\u001b[1;33m(\u001b[0m\u001b[0mtransform\u001b[0m\u001b[1;33m,\u001b[0m \u001b[0mdata\u001b[0m\u001b[1;33m,\u001b[0m \u001b[0munpack_items\u001b[0m\u001b[1;33m)\u001b[0m\u001b[1;33m\u001b[0m\u001b[1;33m\u001b[0m\u001b[0m\n\u001b[0m\u001b[0;32m     92\u001b[0m     \u001b[1;32mexcept\u001b[0m \u001b[0mException\u001b[0m \u001b[1;32mas\u001b[0m \u001b[0me\u001b[0m\u001b[1;33m:\u001b[0m\u001b[1;33m\u001b[0m\u001b[1;33m\u001b[0m\u001b[0m\n\u001b[0;32m     93\u001b[0m         \u001b[1;31m# if in debug mode, don't swallow exception so that the breakpoint\u001b[0m\u001b[1;33m\u001b[0m\u001b[1;33m\u001b[0m\u001b[1;33m\u001b[0m\u001b[0m\n",
      "\u001b[1;32mc:\\Users\\user\\anaconda3\\envs\\conda-env\\lib\\site-packages\\monai\\transforms\\transform.py\u001b[0m in \u001b[0;36m_apply_transform\u001b[1;34m(transform, parameters, unpack_parameters)\u001b[0m\n\u001b[0;32m     53\u001b[0m         \u001b[1;32mreturn\u001b[0m \u001b[0mtransform\u001b[0m\u001b[1;33m(\u001b[0m\u001b[1;33m*\u001b[0m\u001b[0mparameters\u001b[0m\u001b[1;33m)\u001b[0m\u001b[1;33m\u001b[0m\u001b[1;33m\u001b[0m\u001b[0m\n\u001b[0;32m     54\u001b[0m \u001b[1;33m\u001b[0m\u001b[0m\n\u001b[1;32m---> 55\u001b[1;33m     \u001b[1;32mreturn\u001b[0m \u001b[0mtransform\u001b[0m\u001b[1;33m(\u001b[0m\u001b[0mparameters\u001b[0m\u001b[1;33m)\u001b[0m\u001b[1;33m\u001b[0m\u001b[1;33m\u001b[0m\u001b[0m\n\u001b[0m\u001b[0;32m     56\u001b[0m \u001b[1;33m\u001b[0m\u001b[0m\n\u001b[0;32m     57\u001b[0m \u001b[1;33m\u001b[0m\u001b[0m\n",
      "\u001b[1;32mc:\\Users\\user\\anaconda3\\envs\\conda-env\\lib\\site-packages\\monai\\transforms\\io\\dictionary.py\u001b[0m in \u001b[0;36m__call__\u001b[1;34m(self, data, reader)\u001b[0m\n\u001b[0;32m    152\u001b[0m         \u001b[0md\u001b[0m \u001b[1;33m=\u001b[0m \u001b[0mdict\u001b[0m\u001b[1;33m(\u001b[0m\u001b[0mdata\u001b[0m\u001b[1;33m)\u001b[0m\u001b[1;33m\u001b[0m\u001b[1;33m\u001b[0m\u001b[0m\n\u001b[0;32m    153\u001b[0m         \u001b[1;32mfor\u001b[0m \u001b[0mkey\u001b[0m\u001b[1;33m,\u001b[0m \u001b[0mmeta_key\u001b[0m\u001b[1;33m,\u001b[0m \u001b[0mmeta_key_postfix\u001b[0m \u001b[1;32min\u001b[0m \u001b[0mself\u001b[0m\u001b[1;33m.\u001b[0m\u001b[0mkey_iterator\u001b[0m\u001b[1;33m(\u001b[0m\u001b[0md\u001b[0m\u001b[1;33m,\u001b[0m \u001b[0mself\u001b[0m\u001b[1;33m.\u001b[0m\u001b[0mmeta_keys\u001b[0m\u001b[1;33m,\u001b[0m \u001b[0mself\u001b[0m\u001b[1;33m.\u001b[0m\u001b[0mmeta_key_postfix\u001b[0m\u001b[1;33m)\u001b[0m\u001b[1;33m:\u001b[0m\u001b[1;33m\u001b[0m\u001b[1;33m\u001b[0m\u001b[0m\n\u001b[1;32m--> 154\u001b[1;33m             \u001b[0mdata\u001b[0m \u001b[1;33m=\u001b[0m \u001b[0mself\u001b[0m\u001b[1;33m.\u001b[0m\u001b[0m_loader\u001b[0m\u001b[1;33m(\u001b[0m\u001b[0md\u001b[0m\u001b[1;33m[\u001b[0m\u001b[0mkey\u001b[0m\u001b[1;33m]\u001b[0m\u001b[1;33m,\u001b[0m \u001b[0mreader\u001b[0m\u001b[1;33m)\u001b[0m\u001b[1;33m\u001b[0m\u001b[1;33m\u001b[0m\u001b[0m\n\u001b[0m\u001b[0;32m    155\u001b[0m             \u001b[1;32mif\u001b[0m \u001b[0mself\u001b[0m\u001b[1;33m.\u001b[0m\u001b[0m_loader\u001b[0m\u001b[1;33m.\u001b[0m\u001b[0mimage_only\u001b[0m\u001b[1;33m:\u001b[0m\u001b[1;33m\u001b[0m\u001b[1;33m\u001b[0m\u001b[0m\n\u001b[0;32m    156\u001b[0m                 \u001b[0md\u001b[0m\u001b[1;33m[\u001b[0m\u001b[0mkey\u001b[0m\u001b[1;33m]\u001b[0m \u001b[1;33m=\u001b[0m \u001b[0mdata\u001b[0m\u001b[1;33m\u001b[0m\u001b[1;33m\u001b[0m\u001b[0m\n",
      "\u001b[1;32mc:\\Users\\user\\anaconda3\\envs\\conda-env\\lib\\site-packages\\monai\\transforms\\io\\array.py\u001b[0m in \u001b[0;36m__call__\u001b[1;34m(self, filename, reader)\u001b[0m\n\u001b[0;32m    264\u001b[0m \u001b[1;33m\u001b[0m\u001b[0m\n\u001b[0;32m    265\u001b[0m         \u001b[0mimg_array\u001b[0m\u001b[1;33m:\u001b[0m \u001b[0mNdarrayOrTensor\u001b[0m\u001b[1;33m\u001b[0m\u001b[1;33m\u001b[0m\u001b[0m\n\u001b[1;32m--> 266\u001b[1;33m         \u001b[0mimg_array\u001b[0m\u001b[1;33m,\u001b[0m \u001b[0mmeta_data\u001b[0m \u001b[1;33m=\u001b[0m \u001b[0mreader\u001b[0m\u001b[1;33m.\u001b[0m\u001b[0mget_data\u001b[0m\u001b[1;33m(\u001b[0m\u001b[0mimg\u001b[0m\u001b[1;33m)\u001b[0m\u001b[1;33m\u001b[0m\u001b[1;33m\u001b[0m\u001b[0m\n\u001b[0m\u001b[0;32m    267\u001b[0m         \u001b[0mimg_array\u001b[0m \u001b[1;33m=\u001b[0m \u001b[0mconvert_to_dst_type\u001b[0m\u001b[1;33m(\u001b[0m\u001b[0mimg_array\u001b[0m\u001b[1;33m,\u001b[0m \u001b[0mdst\u001b[0m\u001b[1;33m=\u001b[0m\u001b[0mimg_array\u001b[0m\u001b[1;33m,\u001b[0m \u001b[0mdtype\u001b[0m\u001b[1;33m=\u001b[0m\u001b[0mself\u001b[0m\u001b[1;33m.\u001b[0m\u001b[0mdtype\u001b[0m\u001b[1;33m)\u001b[0m\u001b[1;33m[\u001b[0m\u001b[1;36m0\u001b[0m\u001b[1;33m]\u001b[0m\u001b[1;33m\u001b[0m\u001b[1;33m\u001b[0m\u001b[0m\n\u001b[0;32m    268\u001b[0m         \u001b[1;32mif\u001b[0m \u001b[1;32mnot\u001b[0m \u001b[0misinstance\u001b[0m\u001b[1;33m(\u001b[0m\u001b[0mmeta_data\u001b[0m\u001b[1;33m,\u001b[0m \u001b[0mdict\u001b[0m\u001b[1;33m)\u001b[0m\u001b[1;33m:\u001b[0m\u001b[1;33m\u001b[0m\u001b[1;33m\u001b[0m\u001b[0m\n",
      "\u001b[1;32mc:\\Users\\user\\anaconda3\\envs\\conda-env\\lib\\site-packages\\monai\\data\\image_reader.py\u001b[0m in \u001b[0;36mget_data\u001b[1;34m(self, img)\u001b[0m\n\u001b[0;32m    949\u001b[0m             \u001b[0mheader\u001b[0m\u001b[1;33m[\u001b[0m\u001b[0mMetaKeys\u001b[0m\u001b[1;33m.\u001b[0m\u001b[0mSPATIAL_SHAPE\u001b[0m\u001b[1;33m]\u001b[0m \u001b[1;33m=\u001b[0m \u001b[0mself\u001b[0m\u001b[1;33m.\u001b[0m\u001b[0m_get_spatial_shape\u001b[0m\u001b[1;33m(\u001b[0m\u001b[0mi\u001b[0m\u001b[1;33m)\u001b[0m\u001b[1;33m\u001b[0m\u001b[1;33m\u001b[0m\u001b[0m\n\u001b[0;32m    950\u001b[0m             \u001b[0mheader\u001b[0m\u001b[1;33m[\u001b[0m\u001b[0mMetaKeys\u001b[0m\u001b[1;33m.\u001b[0m\u001b[0mSPACE\u001b[0m\u001b[1;33m]\u001b[0m \u001b[1;33m=\u001b[0m \u001b[0mSpaceKeys\u001b[0m\u001b[1;33m.\u001b[0m\u001b[0mRAS\u001b[0m\u001b[1;33m\u001b[0m\u001b[1;33m\u001b[0m\u001b[0m\n\u001b[1;32m--> 951\u001b[1;33m             \u001b[0mdata\u001b[0m \u001b[1;33m=\u001b[0m \u001b[0mself\u001b[0m\u001b[1;33m.\u001b[0m\u001b[0m_get_array_data\u001b[0m\u001b[1;33m(\u001b[0m\u001b[0mi\u001b[0m\u001b[1;33m)\u001b[0m\u001b[1;33m\u001b[0m\u001b[1;33m\u001b[0m\u001b[0m\n\u001b[0m\u001b[0;32m    952\u001b[0m             \u001b[1;32mif\u001b[0m \u001b[0mself\u001b[0m\u001b[1;33m.\u001b[0m\u001b[0msqueeze_non_spatial_dims\u001b[0m\u001b[1;33m:\u001b[0m\u001b[1;33m\u001b[0m\u001b[1;33m\u001b[0m\u001b[0m\n\u001b[0;32m    953\u001b[0m                 \u001b[1;32mfor\u001b[0m \u001b[0md\u001b[0m \u001b[1;32min\u001b[0m \u001b[0mrange\u001b[0m\u001b[1;33m(\u001b[0m\u001b[0mlen\u001b[0m\u001b[1;33m(\u001b[0m\u001b[0mdata\u001b[0m\u001b[1;33m.\u001b[0m\u001b[0mshape\u001b[0m\u001b[1;33m)\u001b[0m\u001b[1;33m,\u001b[0m \u001b[0mlen\u001b[0m\u001b[1;33m(\u001b[0m\u001b[0mheader\u001b[0m\u001b[1;33m[\u001b[0m\u001b[0mMetaKeys\u001b[0m\u001b[1;33m.\u001b[0m\u001b[0mSPATIAL_SHAPE\u001b[0m\u001b[1;33m]\u001b[0m\u001b[1;33m)\u001b[0m\u001b[1;33m,\u001b[0m \u001b[1;33m-\u001b[0m\u001b[1;36m1\u001b[0m\u001b[1;33m)\u001b[0m\u001b[1;33m:\u001b[0m\u001b[1;33m\u001b[0m\u001b[1;33m\u001b[0m\u001b[0m\n",
      "\u001b[1;32mc:\\Users\\user\\anaconda3\\envs\\conda-env\\lib\\site-packages\\monai\\data\\image_reader.py\u001b[0m in \u001b[0;36m_get_array_data\u001b[1;34m(self, img)\u001b[0m\n\u001b[0;32m   1023\u001b[0m \u001b[1;33m\u001b[0m\u001b[0m\n\u001b[0;32m   1024\u001b[0m         \"\"\"\n\u001b[1;32m-> 1025\u001b[1;33m         \u001b[0m_array\u001b[0m \u001b[1;33m=\u001b[0m \u001b[0mnp\u001b[0m\u001b[1;33m.\u001b[0m\u001b[0marray\u001b[0m\u001b[1;33m(\u001b[0m\u001b[0mimg\u001b[0m\u001b[1;33m.\u001b[0m\u001b[0mget_fdata\u001b[0m\u001b[1;33m(\u001b[0m\u001b[0mdtype\u001b[0m\u001b[1;33m=\u001b[0m\u001b[0mself\u001b[0m\u001b[1;33m.\u001b[0m\u001b[0mdtype\u001b[0m\u001b[1;33m)\u001b[0m\u001b[1;33m)\u001b[0m\u001b[1;33m\u001b[0m\u001b[1;33m\u001b[0m\u001b[0m\n\u001b[0m\u001b[0;32m   1026\u001b[0m         \u001b[0mimg\u001b[0m\u001b[1;33m.\u001b[0m\u001b[0muncache\u001b[0m\u001b[1;33m(\u001b[0m\u001b[1;33m)\u001b[0m\u001b[1;33m\u001b[0m\u001b[1;33m\u001b[0m\u001b[0m\n\u001b[0;32m   1027\u001b[0m         \u001b[1;32mreturn\u001b[0m \u001b[0m_array\u001b[0m\u001b[1;33m\u001b[0m\u001b[1;33m\u001b[0m\u001b[0m\n",
      "\u001b[1;32mc:\\Users\\user\\anaconda3\\envs\\conda-env\\lib\\site-packages\\nibabel\\dataobj_images.py\u001b[0m in \u001b[0;36mget_fdata\u001b[1;34m(self, caching, dtype)\u001b[0m\n\u001b[0;32m    353\u001b[0m         \u001b[1;31m# For array proxies, will attempt to confine data array to dtype\u001b[0m\u001b[1;33m\u001b[0m\u001b[1;33m\u001b[0m\u001b[1;33m\u001b[0m\u001b[0m\n\u001b[0;32m    354\u001b[0m         \u001b[1;31m# during scaling\u001b[0m\u001b[1;33m\u001b[0m\u001b[1;33m\u001b[0m\u001b[1;33m\u001b[0m\u001b[0m\n\u001b[1;32m--> 355\u001b[1;33m         \u001b[0mdata\u001b[0m \u001b[1;33m=\u001b[0m \u001b[0mnp\u001b[0m\u001b[1;33m.\u001b[0m\u001b[0masanyarray\u001b[0m\u001b[1;33m(\u001b[0m\u001b[0mself\u001b[0m\u001b[1;33m.\u001b[0m\u001b[0m_dataobj\u001b[0m\u001b[1;33m,\u001b[0m \u001b[0mdtype\u001b[0m\u001b[1;33m=\u001b[0m\u001b[0mdtype\u001b[0m\u001b[1;33m)\u001b[0m\u001b[1;33m\u001b[0m\u001b[1;33m\u001b[0m\u001b[0m\n\u001b[0m\u001b[0;32m    356\u001b[0m         \u001b[1;32mif\u001b[0m \u001b[0mcaching\u001b[0m \u001b[1;33m==\u001b[0m \u001b[1;34m'fill'\u001b[0m\u001b[1;33m:\u001b[0m\u001b[1;33m\u001b[0m\u001b[1;33m\u001b[0m\u001b[0m\n\u001b[0;32m    357\u001b[0m             \u001b[0mself\u001b[0m\u001b[1;33m.\u001b[0m\u001b[0m_fdata_cache\u001b[0m \u001b[1;33m=\u001b[0m \u001b[0mdata\u001b[0m\u001b[1;33m\u001b[0m\u001b[1;33m\u001b[0m\u001b[0m\n",
      "\u001b[1;32mc:\\Users\\user\\anaconda3\\envs\\conda-env\\lib\\site-packages\\nibabel\\arrayproxy.py\u001b[0m in \u001b[0;36m__array__\u001b[1;34m(self, dtype)\u001b[0m\n\u001b[0;32m    389\u001b[0m             \u001b[0mScaled\u001b[0m \u001b[0mimage\u001b[0m \u001b[0mdata\u001b[0m \u001b[1;32mwith\u001b[0m \u001b[0mtype\u001b[0m\u001b[0;31m \u001b[0m\u001b[0;31m`\u001b[0m\u001b[0mdtype\u001b[0m\u001b[0;31m`\u001b[0m\u001b[1;33m.\u001b[0m\u001b[1;33m\u001b[0m\u001b[1;33m\u001b[0m\u001b[0m\n\u001b[0;32m    390\u001b[0m         \"\"\"\n\u001b[1;32m--> 391\u001b[1;33m         \u001b[0marr\u001b[0m \u001b[1;33m=\u001b[0m \u001b[0mself\u001b[0m\u001b[1;33m.\u001b[0m\u001b[0m_get_scaled\u001b[0m\u001b[1;33m(\u001b[0m\u001b[0mdtype\u001b[0m\u001b[1;33m=\u001b[0m\u001b[0mdtype\u001b[0m\u001b[1;33m,\u001b[0m \u001b[0mslicer\u001b[0m\u001b[1;33m=\u001b[0m\u001b[1;33m(\u001b[0m\u001b[1;33m)\u001b[0m\u001b[1;33m)\u001b[0m\u001b[1;33m\u001b[0m\u001b[1;33m\u001b[0m\u001b[0m\n\u001b[0m\u001b[0;32m    392\u001b[0m         \u001b[1;32mif\u001b[0m \u001b[0mdtype\u001b[0m \u001b[1;32mis\u001b[0m \u001b[1;32mnot\u001b[0m \u001b[1;32mNone\u001b[0m\u001b[1;33m:\u001b[0m\u001b[1;33m\u001b[0m\u001b[1;33m\u001b[0m\u001b[0m\n\u001b[0;32m    393\u001b[0m             \u001b[0marr\u001b[0m \u001b[1;33m=\u001b[0m \u001b[0marr\u001b[0m\u001b[1;33m.\u001b[0m\u001b[0mastype\u001b[0m\u001b[1;33m(\u001b[0m\u001b[0mdtype\u001b[0m\u001b[1;33m,\u001b[0m \u001b[0mcopy\u001b[0m\u001b[1;33m=\u001b[0m\u001b[1;32mFalse\u001b[0m\u001b[1;33m)\u001b[0m\u001b[1;33m\u001b[0m\u001b[1;33m\u001b[0m\u001b[0m\n",
      "\u001b[1;32mc:\\Users\\user\\anaconda3\\envs\\conda-env\\lib\\site-packages\\nibabel\\arrayproxy.py\u001b[0m in \u001b[0;36m_get_scaled\u001b[1;34m(self, dtype, slicer)\u001b[0m\n\u001b[0;32m    356\u001b[0m             \u001b[0mscl_inter\u001b[0m \u001b[1;33m=\u001b[0m \u001b[0mscl_inter\u001b[0m\u001b[1;33m.\u001b[0m\u001b[0mastype\u001b[0m\u001b[1;33m(\u001b[0m\u001b[0muse_dtype\u001b[0m\u001b[1;33m)\u001b[0m\u001b[1;33m\u001b[0m\u001b[1;33m\u001b[0m\u001b[0m\n\u001b[0;32m    357\u001b[0m         \u001b[1;31m# Read array and upcast as necessary for big slopes, intercepts\u001b[0m\u001b[1;33m\u001b[0m\u001b[1;33m\u001b[0m\u001b[1;33m\u001b[0m\u001b[0m\n\u001b[1;32m--> 358\u001b[1;33m         \u001b[0mscaled\u001b[0m \u001b[1;33m=\u001b[0m \u001b[0mapply_read_scaling\u001b[0m\u001b[1;33m(\u001b[0m\u001b[0mself\u001b[0m\u001b[1;33m.\u001b[0m\u001b[0m_get_unscaled\u001b[0m\u001b[1;33m(\u001b[0m\u001b[0mslicer\u001b[0m\u001b[1;33m=\u001b[0m\u001b[0mslicer\u001b[0m\u001b[1;33m)\u001b[0m\u001b[1;33m,\u001b[0m \u001b[0mscl_slope\u001b[0m\u001b[1;33m,\u001b[0m \u001b[0mscl_inter\u001b[0m\u001b[1;33m)\u001b[0m\u001b[1;33m\u001b[0m\u001b[1;33m\u001b[0m\u001b[0m\n\u001b[0m\u001b[0;32m    359\u001b[0m         \u001b[1;32mif\u001b[0m \u001b[0mdtype\u001b[0m \u001b[1;32mis\u001b[0m \u001b[1;32mnot\u001b[0m \u001b[1;32mNone\u001b[0m\u001b[1;33m:\u001b[0m\u001b[1;33m\u001b[0m\u001b[1;33m\u001b[0m\u001b[0m\n\u001b[0;32m    360\u001b[0m             \u001b[0mscaled\u001b[0m \u001b[1;33m=\u001b[0m \u001b[0mscaled\u001b[0m\u001b[1;33m.\u001b[0m\u001b[0mastype\u001b[0m\u001b[1;33m(\u001b[0m\u001b[0mnp\u001b[0m\u001b[1;33m.\u001b[0m\u001b[0mpromote_types\u001b[0m\u001b[1;33m(\u001b[0m\u001b[0mscaled\u001b[0m\u001b[1;33m.\u001b[0m\u001b[0mdtype\u001b[0m\u001b[1;33m,\u001b[0m \u001b[0mdtype\u001b[0m\u001b[1;33m)\u001b[0m\u001b[1;33m,\u001b[0m \u001b[0mcopy\u001b[0m\u001b[1;33m=\u001b[0m\u001b[1;32mFalse\u001b[0m\u001b[1;33m)\u001b[0m\u001b[1;33m\u001b[0m\u001b[1;33m\u001b[0m\u001b[0m\n",
      "\u001b[1;32mc:\\Users\\user\\anaconda3\\envs\\conda-env\\lib\\site-packages\\nibabel\\arrayproxy.py\u001b[0m in \u001b[0;36m_get_unscaled\u001b[1;34m(self, slicer)\u001b[0m\n\u001b[0;32m    329\u001b[0m         \u001b[1;32mif\u001b[0m \u001b[0mcanonical_slicers\u001b[0m\u001b[1;33m(\u001b[0m\u001b[0mslicer\u001b[0m\u001b[1;33m,\u001b[0m \u001b[0mself\u001b[0m\u001b[1;33m.\u001b[0m\u001b[0m_shape\u001b[0m\u001b[1;33m,\u001b[0m \u001b[1;32mFalse\u001b[0m\u001b[1;33m)\u001b[0m \u001b[1;33m==\u001b[0m\u001b[0;31m \u001b[0m\u001b[0;31m\\\u001b[0m\u001b[1;33m\u001b[0m\u001b[1;33m\u001b[0m\u001b[0m\n\u001b[0;32m    330\u001b[0m                 \u001b[0mcanonical_slicers\u001b[0m\u001b[1;33m(\u001b[0m\u001b[1;33m(\u001b[0m\u001b[1;33m)\u001b[0m\u001b[1;33m,\u001b[0m \u001b[0mself\u001b[0m\u001b[1;33m.\u001b[0m\u001b[0m_shape\u001b[0m\u001b[1;33m,\u001b[0m \u001b[1;32mFalse\u001b[0m\u001b[1;33m)\u001b[0m\u001b[1;33m:\u001b[0m\u001b[1;33m\u001b[0m\u001b[1;33m\u001b[0m\u001b[0m\n\u001b[1;32m--> 331\u001b[1;33m             \u001b[1;32mwith\u001b[0m \u001b[0mself\u001b[0m\u001b[1;33m.\u001b[0m\u001b[0m_get_fileobj\u001b[0m\u001b[1;33m(\u001b[0m\u001b[1;33m)\u001b[0m \u001b[1;32mas\u001b[0m \u001b[0mfileobj\u001b[0m\u001b[1;33m,\u001b[0m \u001b[0mself\u001b[0m\u001b[1;33m.\u001b[0m\u001b[0m_lock\u001b[0m\u001b[1;33m:\u001b[0m\u001b[1;33m\u001b[0m\u001b[1;33m\u001b[0m\u001b[0m\n\u001b[0m\u001b[0;32m    332\u001b[0m                 return array_from_file(self._shape,\n\u001b[0;32m    333\u001b[0m                                        \u001b[0mself\u001b[0m\u001b[1;33m.\u001b[0m\u001b[0m_dtype\u001b[0m\u001b[1;33m,\u001b[0m\u001b[1;33m\u001b[0m\u001b[1;33m\u001b[0m\u001b[0m\n",
      "\u001b[1;32mc:\\Users\\user\\anaconda3\\envs\\conda-env\\lib\\contextlib.py\u001b[0m in \u001b[0;36m__enter__\u001b[1;34m(self)\u001b[0m\n\u001b[0;32m    115\u001b[0m         \u001b[1;32mdel\u001b[0m \u001b[0mself\u001b[0m\u001b[1;33m.\u001b[0m\u001b[0margs\u001b[0m\u001b[1;33m,\u001b[0m \u001b[0mself\u001b[0m\u001b[1;33m.\u001b[0m\u001b[0mkwds\u001b[0m\u001b[1;33m,\u001b[0m \u001b[0mself\u001b[0m\u001b[1;33m.\u001b[0m\u001b[0mfunc\u001b[0m\u001b[1;33m\u001b[0m\u001b[1;33m\u001b[0m\u001b[0m\n\u001b[0;32m    116\u001b[0m         \u001b[1;32mtry\u001b[0m\u001b[1;33m:\u001b[0m\u001b[1;33m\u001b[0m\u001b[1;33m\u001b[0m\u001b[0m\n\u001b[1;32m--> 117\u001b[1;33m             \u001b[1;32mreturn\u001b[0m \u001b[0mnext\u001b[0m\u001b[1;33m(\u001b[0m\u001b[0mself\u001b[0m\u001b[1;33m.\u001b[0m\u001b[0mgen\u001b[0m\u001b[1;33m)\u001b[0m\u001b[1;33m\u001b[0m\u001b[1;33m\u001b[0m\u001b[0m\n\u001b[0m\u001b[0;32m    118\u001b[0m         \u001b[1;32mexcept\u001b[0m \u001b[0mStopIteration\u001b[0m\u001b[1;33m:\u001b[0m\u001b[1;33m\u001b[0m\u001b[1;33m\u001b[0m\u001b[0m\n\u001b[0;32m    119\u001b[0m             \u001b[1;32mraise\u001b[0m \u001b[0mRuntimeError\u001b[0m\u001b[1;33m(\u001b[0m\u001b[1;34m\"generator didn't yield\"\u001b[0m\u001b[1;33m)\u001b[0m \u001b[1;32mfrom\u001b[0m \u001b[1;32mNone\u001b[0m\u001b[1;33m\u001b[0m\u001b[1;33m\u001b[0m\u001b[0m\n",
      "\u001b[1;32mc:\\Users\\user\\anaconda3\\envs\\conda-env\\lib\\site-packages\\nibabel\\arrayproxy.py\u001b[0m in \u001b[0;36m_get_fileobj\u001b[1;34m(self)\u001b[0m\n\u001b[0;32m    322\u001b[0m             \u001b[1;32myield\u001b[0m \u001b[0mself\u001b[0m\u001b[1;33m.\u001b[0m\u001b[0m_opener\u001b[0m\u001b[1;33m\u001b[0m\u001b[1;33m\u001b[0m\u001b[0m\n\u001b[0;32m    323\u001b[0m         \u001b[1;32melse\u001b[0m\u001b[1;33m:\u001b[0m\u001b[1;33m\u001b[0m\u001b[1;33m\u001b[0m\u001b[0m\n\u001b[1;32m--> 324\u001b[1;33m             with openers.ImageOpener(\n\u001b[0m\u001b[0;32m    325\u001b[0m                     self.file_like, keep_open=False) as opener:\n\u001b[0;32m    326\u001b[0m                 \u001b[1;32myield\u001b[0m \u001b[0mopener\u001b[0m\u001b[1;33m\u001b[0m\u001b[1;33m\u001b[0m\u001b[0m\n",
      "\u001b[1;32mc:\\Users\\user\\anaconda3\\envs\\conda-env\\lib\\site-packages\\nibabel\\openers.py\u001b[0m in \u001b[0;36m__init__\u001b[1;34m(self, fileish, *args, **kwargs)\u001b[0m\n\u001b[0;32m    111\u001b[0m         \u001b[1;32melse\u001b[0m\u001b[1;33m:\u001b[0m\u001b[1;33m\u001b[0m\u001b[1;33m\u001b[0m\u001b[0m\n\u001b[0;32m    112\u001b[0m             \u001b[0mkwargs\u001b[0m\u001b[1;33m.\u001b[0m\u001b[0mpop\u001b[0m\u001b[1;33m(\u001b[0m\u001b[1;34m'keep_open'\u001b[0m\u001b[1;33m,\u001b[0m \u001b[1;32mNone\u001b[0m\u001b[1;33m)\u001b[0m\u001b[1;33m\u001b[0m\u001b[1;33m\u001b[0m\u001b[0m\n\u001b[1;32m--> 113\u001b[1;33m         \u001b[0mself\u001b[0m\u001b[1;33m.\u001b[0m\u001b[0mfobj\u001b[0m \u001b[1;33m=\u001b[0m \u001b[0mopener\u001b[0m\u001b[1;33m(\u001b[0m\u001b[0mfileish\u001b[0m\u001b[1;33m,\u001b[0m \u001b[1;33m*\u001b[0m\u001b[0margs\u001b[0m\u001b[1;33m,\u001b[0m \u001b[1;33m**\u001b[0m\u001b[0mkwargs\u001b[0m\u001b[1;33m)\u001b[0m\u001b[1;33m\u001b[0m\u001b[1;33m\u001b[0m\u001b[0m\n\u001b[0m\u001b[0;32m    114\u001b[0m         \u001b[0mself\u001b[0m\u001b[1;33m.\u001b[0m\u001b[0m_name\u001b[0m \u001b[1;33m=\u001b[0m \u001b[0mfileish\u001b[0m\u001b[1;33m\u001b[0m\u001b[1;33m\u001b[0m\u001b[0m\n\u001b[0;32m    115\u001b[0m         \u001b[0mself\u001b[0m\u001b[1;33m.\u001b[0m\u001b[0mme_opened\u001b[0m \u001b[1;33m=\u001b[0m \u001b[1;32mTrue\u001b[0m\u001b[1;33m\u001b[0m\u001b[1;33m\u001b[0m\u001b[0m\n",
      "\u001b[1;32mc:\\Users\\user\\anaconda3\\envs\\conda-env\\lib\\site-packages\\nibabel\\openers.py\u001b[0m in \u001b[0;36m_gzip_open\u001b[1;34m(filename, mode, compresslevel, keep_open)\u001b[0m\n\u001b[0;32m     51\u001b[0m     \u001b[1;31m# Fall-back to built-in GzipFile\u001b[0m\u001b[1;33m\u001b[0m\u001b[1;33m\u001b[0m\u001b[1;33m\u001b[0m\u001b[0m\n\u001b[0;32m     52\u001b[0m     \u001b[1;32melse\u001b[0m\u001b[1;33m:\u001b[0m\u001b[1;33m\u001b[0m\u001b[1;33m\u001b[0m\u001b[0m\n\u001b[1;32m---> 53\u001b[1;33m         \u001b[0mgzip_file\u001b[0m \u001b[1;33m=\u001b[0m \u001b[0mgzip\u001b[0m\u001b[1;33m.\u001b[0m\u001b[0mGzipFile\u001b[0m\u001b[1;33m(\u001b[0m\u001b[0mfilename\u001b[0m\u001b[1;33m,\u001b[0m \u001b[0mmode\u001b[0m\u001b[1;33m,\u001b[0m \u001b[0mcompresslevel\u001b[0m\u001b[1;33m)\u001b[0m\u001b[1;33m\u001b[0m\u001b[1;33m\u001b[0m\u001b[0m\n\u001b[0m\u001b[0;32m     54\u001b[0m \u001b[1;33m\u001b[0m\u001b[0m\n\u001b[0;32m     55\u001b[0m     \u001b[1;32mreturn\u001b[0m \u001b[0mgzip_file\u001b[0m\u001b[1;33m\u001b[0m\u001b[1;33m\u001b[0m\u001b[0m\n",
      "\u001b[1;32mc:\\Users\\user\\anaconda3\\envs\\conda-env\\lib\\gzip.py\u001b[0m in \u001b[0;36m__init__\u001b[1;34m(self, filename, mode, compresslevel, fileobj, mtime)\u001b[0m\n\u001b[0;32m    171\u001b[0m             \u001b[0mmode\u001b[0m \u001b[1;33m+=\u001b[0m \u001b[1;34m'b'\u001b[0m\u001b[1;33m\u001b[0m\u001b[1;33m\u001b[0m\u001b[0m\n\u001b[0;32m    172\u001b[0m         \u001b[1;32mif\u001b[0m \u001b[0mfileobj\u001b[0m \u001b[1;32mis\u001b[0m \u001b[1;32mNone\u001b[0m\u001b[1;33m:\u001b[0m\u001b[1;33m\u001b[0m\u001b[1;33m\u001b[0m\u001b[0m\n\u001b[1;32m--> 173\u001b[1;33m             \u001b[0mfileobj\u001b[0m \u001b[1;33m=\u001b[0m \u001b[0mself\u001b[0m\u001b[1;33m.\u001b[0m\u001b[0mmyfileobj\u001b[0m \u001b[1;33m=\u001b[0m \u001b[0mbuiltins\u001b[0m\u001b[1;33m.\u001b[0m\u001b[0mopen\u001b[0m\u001b[1;33m(\u001b[0m\u001b[0mfilename\u001b[0m\u001b[1;33m,\u001b[0m \u001b[0mmode\u001b[0m \u001b[1;32mor\u001b[0m \u001b[1;34m'rb'\u001b[0m\u001b[1;33m)\u001b[0m\u001b[1;33m\u001b[0m\u001b[1;33m\u001b[0m\u001b[0m\n\u001b[0m\u001b[0;32m    174\u001b[0m         \u001b[1;32mif\u001b[0m \u001b[0mfilename\u001b[0m \u001b[1;32mis\u001b[0m \u001b[1;32mNone\u001b[0m\u001b[1;33m:\u001b[0m\u001b[1;33m\u001b[0m\u001b[1;33m\u001b[0m\u001b[0m\n\u001b[0;32m    175\u001b[0m             \u001b[0mfilename\u001b[0m \u001b[1;33m=\u001b[0m \u001b[0mgetattr\u001b[0m\u001b[1;33m(\u001b[0m\u001b[0mfileobj\u001b[0m\u001b[1;33m,\u001b[0m \u001b[1;34m'name'\u001b[0m\u001b[1;33m,\u001b[0m \u001b[1;34m''\u001b[0m\u001b[1;33m)\u001b[0m\u001b[1;33m\u001b[0m\u001b[1;33m\u001b[0m\u001b[0m\n",
      "\u001b[1;31mKeyboardInterrupt\u001b[0m: "
     ]
    }
   ],
   "source": [
    "for img in dm.train_dataset:\n",
    "    print(img['img'].shape)"
   ]
  },
  {
   "cell_type": "code",
   "execution_count": 5,
   "metadata": {},
   "outputs": [],
   "source": [
    "from pathlib import Path\n",
    "import os\n",
    "\n",
    "r = Path(r'D:\\premium_data\\maxima\\monotherapy\\split_segmentations')\n",
    "\n",
    "for file in r.iterdir():\n",
    "    os.rename(file, file.parent / file.name.replace('.seg.nrrd',''))"
   ]
  },
  {
   "cell_type": "code",
   "execution_count": 3,
   "metadata": {},
   "outputs": [
    {
     "data": {
      "text/plain": [
       "[20]"
      ]
     },
     "execution_count": 3,
     "metadata": {},
     "output_type": "execute_result"
    }
   ],
   "source": [
    "wandb.config.t_max"
   ]
  },
  {
   "cell_type": "code",
   "execution_count": null,
   "metadata": {},
   "outputs": [],
   "source": []
  }
 ],
 "metadata": {
  "kernelspec": {
   "display_name": "Python 3.10.8 ('rens')",
   "language": "python",
   "name": "python3"
  },
  "language_info": {
   "codemirror_mode": {
    "name": "ipython",
    "version": 3
   },
   "file_extension": ".py",
   "mimetype": "text/x-python",
   "name": "python",
   "nbconvert_exporter": "python",
   "pygments_lexer": "ipython3",
   "version": "3.10.8"
  },
  "orig_nbformat": 4,
  "vscode": {
   "interpreter": {
    "hash": "f8e58b914173e9e26bec900a798eebdc4c2c2b3000f2ddebd76fb88687c28df0"
   }
  }
 },
 "nbformat": 4,
 "nbformat_minor": 2
}
