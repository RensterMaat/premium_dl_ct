{
 "cells": [
  {
   "cell_type": "code",
   "execution_count": 1,
   "metadata": {},
   "outputs": [],
   "source": [
    "from monai.transforms import LoadImaged, EnsureChannelFirstd, Compose\n",
    "from src.transforms import (\n",
    "    FindCentroid,\n",
    "    GetFixedROISize,\n",
    "    CropToCentroidWithSize,\n",
    "    PadForCrop,\n",
    "    Save,\n",
    "    OrthogonalSlices,\n",
    "    CropToROI,\n",
    "    GetZoomedROI,\n",
    "    PadForZoom,\n",
    ")\n",
    "from pathlib import Path\n",
    "\n",
    "def find_corresponding_scan(segmention_path):\n",
    "    scan_folder = Path(segmention_path).parent.parent / \"scans\"\n",
    "    scan_name = Path(segmention_path).name.split(\".\")[0][:-2] + \".nii.gz\"\n",
    "\n",
    "    return scan_folder / scan_name\n",
    "\n",
    "pipeline = Compose([\n",
    "    LoadImaged(keys=[\"img\", \"seg\"]),\n",
    "    EnsureChannelFirstd(keys=[\"img\", \"seg\"]),\n",
    "])\n",
    "\n",
    "\n",
    "segmentation_path = r'D:\\premium_data\\lumc\\monotherapy\\split_segmentations\\PREM_LU_009_0.nii.gz'\n",
    "scan_path = find_corresponding_scan(segmentation_path)\n",
    "data = {'img':scan_path, 'seg':segmentation_path}\n",
    "\n",
    "output = pipeline(data)\n"
   ]
  },
  {
   "cell_type": "code",
   "execution_count": 5,
   "metadata": {},
   "outputs": [],
   "source": [
    "select = Compose(\n",
    "    [\n",
    "        FindCentroid(),\n",
    "        GetFixedROISize(10),\n",
    "        PadForCrop(),\n",
    "        CropToCentroidWithSize(),\n",
    "    ]\n",
    ")\n",
    "\n",
    "roi = select(output)"
   ]
  },
  {
   "cell_type": "code",
   "execution_count": 6,
   "metadata": {},
   "outputs": [
    {
     "data": {
      "text/plain": [
       "array([222, 269, 522])"
      ]
     },
     "execution_count": 6,
     "metadata": {},
     "output_type": "execute_result"
    }
   ],
   "source": [
    "roi['centroid']"
   ]
  },
  {
   "cell_type": "code",
   "execution_count": 7,
   "metadata": {},
   "outputs": [
    {
     "data": {
      "text/plain": [
       "array([12, 12, 10])"
      ]
     },
     "execution_count": 7,
     "metadata": {},
     "output_type": "execute_result"
    }
   ],
   "source": [
    "roi['roi_size']"
   ]
  },
  {
   "cell_type": "code",
   "execution_count": 8,
   "metadata": {},
   "outputs": [
    {
     "data": {
      "text/plain": [
       "(1, 12, 12, 10)"
      ]
     },
     "execution_count": 8,
     "metadata": {},
     "output_type": "execute_result"
    }
   ],
   "source": [
    "roi['img'].shape"
   ]
  },
  {
   "cell_type": "code",
   "execution_count": 22,
   "metadata": {},
   "outputs": [
    {
     "data": {
      "text/plain": [
       "tensor([[ 0.7810,  0.0000,  0.0000,  0.0000],\n",
       "        [ 0.0000,  0.7810,  0.0000,  0.0000],\n",
       "        [ 0.0000,  0.0000, -1.0000,  0.0000],\n",
       "        [ 0.0000,  0.0000,  0.0000,  1.0000]], dtype=torch.float64)"
      ]
     },
     "execution_count": 22,
     "metadata": {},
     "output_type": "execute_result"
    }
   ],
   "source": [
    "output['img'].affine"
   ]
  },
  {
   "cell_type": "code",
   "execution_count": null,
   "metadata": {},
   "outputs": [],
   "source": []
  }
 ],
 "metadata": {
  "kernelspec": {
   "display_name": "Python 3.9.1 ('conda-env')",
   "language": "python",
   "name": "python3"
  },
  "language_info": {
   "codemirror_mode": {
    "name": "ipython",
    "version": 3
   },
   "file_extension": ".py",
   "mimetype": "text/x-python",
   "name": "python",
   "nbconvert_exporter": "python",
   "pygments_lexer": "ipython3",
   "version": "3.9.1"
  },
  "orig_nbformat": 4,
  "vscode": {
   "interpreter": {
    "hash": "e155a5961ac9a2794d65e1939d0561747c6abc873218f9a8bb36a41ee161e8f8"
   }
  }
 },
 "nbformat": 4,
 "nbformat_minor": 2
}
