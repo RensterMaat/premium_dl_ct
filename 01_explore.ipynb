{
 "cells": [
  {
   "cell_type": "code",
   "execution_count": 21,
   "metadata": {},
   "outputs": [
    {
     "name": "stdout",
     "output_type": "stream",
     "text": [
      "2023-01-16 10:17:49,238 - Created a temporary directory at /tmp/tmpqrniwuaa\n",
      "2023-01-16 10:17:49,240 - Writing /tmp/tmpqrniwuaa/_remote_module_non_scriptable.py\n",
      "2023-01-16 10:17:49,597 - Failed to detect the name of this notebook, you can set it manually with the WANDB_NOTEBOOK_NAME environment variable to enable code saving.\n"
     ]
    },
    {
     "name": "stderr",
     "output_type": "stream",
     "text": [
      "\u001b[34m\u001b[1mwandb\u001b[0m: Currently logged in as: \u001b[33mrenstermaat\u001b[0m (\u001b[33mpremium\u001b[0m). Use \u001b[1m`wandb login --relogin`\u001b[0m to force relogin\n"
     ]
    },
    {
     "data": {
      "text/html": [
       "wandb version 0.13.9 is available!  To upgrade, please run:\n",
       " $ pip install wandb --upgrade"
      ],
      "text/plain": [
       "<IPython.core.display.HTML object>"
      ]
     },
     "metadata": {},
     "output_type": "display_data"
    },
    {
     "data": {
      "text/html": [
       "Tracking run with wandb version 0.13.6"
      ],
      "text/plain": [
       "<IPython.core.display.HTML object>"
      ]
     },
     "metadata": {},
     "output_type": "display_data"
    },
    {
     "data": {
      "text/html": [
       "Run data is saved locally in <code>/home/rens/repos/premium_dl_ct/wandb/run-20230116_101750-2wrad06n</code>"
      ],
      "text/plain": [
       "<IPython.core.display.HTML object>"
      ]
     },
     "metadata": {},
     "output_type": "display_data"
    },
    {
     "data": {
      "text/html": [
       "Syncing run <strong><a href=\"https://wandb.ai/premium/premium_dl_ct/runs/2wrad06n\" target=\"_blank\">warm-wildflower-26</a></strong> to <a href=\"https://wandb.ai/premium/premium_dl_ct\" target=\"_blank\">Weights & Biases</a> (<a href=\"https://wandb.me/run\" target=\"_blank\">docs</a>)<br/>"
      ],
      "text/plain": [
       "<IPython.core.display.HTML object>"
      ]
     },
     "metadata": {},
     "output_type": "display_data"
    }
   ],
   "source": [
    "import wandb\n",
    "from src.data import DataModule\n",
    "from src.config import radiomics_folder, lesion_level_labels_csv\n",
    "\n",
    "\n",
    "wandb.init()\n",
    "wandb.config.roi_selection_method = \"crop\"\n",
    "wandb.config.aggregation_function = \"min\"\n",
    "wandb.config.roi_size = 150\n",
    "wandb.config.optimizer = \"adamw\"\n",
    "wandb.config.weight_decay = 0.00001\n",
    "wandb.config.model = \"SEResNet50\"\n",
    "wandb.config.dropout = 0.07292136035956572\n",
    "wandb.config.momentum = 0\n",
    "wandb.config.pretrained = False\n",
    "wandb.config.learning_rate_max = 0.000023059510738335888\n",
    "wandb.config.sampler = \"stratified\"\n",
    "wandb.config.dim = 2\n",
    "wandb.config.size = 128 if wandb.config.dim == 3 else 256\n",
    "wandb.config.test_center = None  # \"amphia\"\n",
    "wandb.config.lesion_target = \"lesion_response\"\n",
    "wandb.config.patient_target = \"response\"\n",
    "wandb.config.max_batch_size = 6 if wandb.config.dim == 3 else 32\n",
    "wandb.config.seed = 0\n",
    "wandb.config.max_epochs = 100\n",
    "wandb.config.patience = 10\n",
    "wandb.config.lr_min = 1e-7\n",
    "wandb.config.T_0 = 10\n",
    "\n",
    "dm = DataModule(\n",
    "    radiomics_folder,\n",
    "    lesion_level_labels_csv,\n",
    "    wandb.config,\n",
    ")"
   ]
  },
  {
   "cell_type": "code",
   "execution_count": 22,
   "metadata": {},
   "outputs": [],
   "source": [
    "dm.setup()"
   ]
  },
  {
   "cell_type": "code",
   "execution_count": 23,
   "metadata": {},
   "outputs": [
    {
     "name": "stderr",
     "output_type": "stream",
     "text": [
      "Loading dataset: 100%|██████████| 1332/1332 [00:00<00:00, 1000503.75it/s]\n"
     ]
    }
   ],
   "source": [
    "dl = dm.train_dataloader()\n",
    "\n",
    "batches = []\n",
    "for batch in dl:\n",
    "    batches.append(\n",
    "        list(zip(batch['patient'], batch['label'].numpy().tolist()))\n",
    "    )"
   ]
  },
  {
   "cell_type": "code",
   "execution_count": 24,
   "metadata": {},
   "outputs": [
    {
     "name": "stderr",
     "output_type": "stream",
     "text": [
      "Loading dataset: 100%|██████████| 568/568 [00:00<00:00, 596485.90it/s]\n"
     ]
    }
   ],
   "source": [
    "val_dl = dm.val_dataloader()\n",
    "\n",
    "val_batches = []\n",
    "for batch in val_dl:\n",
    "    val_batches.append(\n",
    "        list(zip(batch['patient'], batch['label'].numpy().tolist()))\n",
    "    )"
   ]
  },
  {
   "cell_type": "code",
   "execution_count": 43,
   "metadata": {},
   "outputs": [],
   "source": [
    "from collections import defaultdict\n",
    "\n",
    "def count_per_patient(batches):\n",
    "    count = defaultdict(int)\n",
    "    for batch in batches:\n",
    "        for case in batch:\n",
    "            count[case[0]] += 1\n",
    "\n",
    "    assert max(list(count.values())) <= 5\n",
    "\n",
    "def no_overlap(train, val):\n",
    "    train_patients = set()\n",
    "    for batch in train:\n",
    "        for case in batch:\n",
    "            train_patients.add(case[0])\n",
    "\n",
    "    val_patients = set()\n",
    "    for batch in val:\n",
    "        for case in batch:\n",
    "            val_patients.add(case[0])\n",
    "\n",
    "    assert train_patients.isdisjoint(val_patients)\n",
    "\n",
    "count_per_patient(batches)\n",
    "no_overlap(batches, val_batches)"
   ]
  }
 ],
 "metadata": {
  "kernelspec": {
   "display_name": "rens",
   "language": "python",
   "name": "python3"
  },
  "language_info": {
   "codemirror_mode": {
    "name": "ipython",
    "version": 3
   },
   "file_extension": ".py",
   "mimetype": "text/x-python",
   "name": "python",
   "nbconvert_exporter": "python",
   "pygments_lexer": "ipython3",
   "version": "3.10.8"
  },
  "orig_nbformat": 4,
  "vscode": {
   "interpreter": {
    "hash": "f8e58b914173e9e26bec900a798eebdc4c2c2b3000f2ddebd76fb88687c28df0"
   }
  }
 },
 "nbformat": 4,
 "nbformat_minor": 2
}
