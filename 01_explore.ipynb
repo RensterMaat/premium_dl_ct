{
 "cells": [
  {
   "cell_type": "code",
   "execution_count": 6,
   "metadata": {},
   "outputs": [
    {
     "data": {
      "text/html": [
       "Finishing last run (ID:1vi5e913) before initializing another..."
      ],
      "text/plain": [
       "<IPython.core.display.HTML object>"
      ]
     },
     "metadata": {},
     "output_type": "display_data"
    },
    {
     "data": {
      "text/html": [
       "Waiting for W&B process to finish... <strong style=\"color:green\">(success).</strong>"
      ],
      "text/plain": [
       "<IPython.core.display.HTML object>"
      ]
     },
     "metadata": {},
     "output_type": "display_data"
    },
    {
     "data": {
      "application/vnd.jupyter.widget-view+json": {
       "model_id": "bd5b3094f6874580854e93120adcffdf",
       "version_major": 2,
       "version_minor": 0
      },
      "text/plain": [
       "VBox(children=(Label(value='0.010 MB of 0.010 MB uploaded (0.000 MB deduped)\\r'), FloatProgress(value=1.0, max…"
      ]
     },
     "metadata": {},
     "output_type": "display_data"
    },
    {
     "data": {
      "text/html": [
       "Synced <strong style=\"color:#cdcd00\">usual-cosmos-27</strong>: <a href=\"https://wandb.ai/premium/premium_dl_ct/runs/1vi5e913\" target=\"_blank\">https://wandb.ai/premium/premium_dl_ct/runs/1vi5e913</a><br/>Synced 6 W&B file(s), 0 media file(s), 0 artifact file(s) and 0 other file(s)"
      ],
      "text/plain": [
       "<IPython.core.display.HTML object>"
      ]
     },
     "metadata": {},
     "output_type": "display_data"
    },
    {
     "data": {
      "text/html": [
       "Find logs at: <code>./wandb/run-20230117_084400-1vi5e913/logs</code>"
      ],
      "text/plain": [
       "<IPython.core.display.HTML object>"
      ]
     },
     "metadata": {},
     "output_type": "display_data"
    },
    {
     "data": {
      "text/html": [
       "Successfully finished last run (ID:1vi5e913). Initializing new run:<br/>"
      ],
      "text/plain": [
       "<IPython.core.display.HTML object>"
      ]
     },
     "metadata": {},
     "output_type": "display_data"
    },
    {
     "data": {
      "application/vnd.jupyter.widget-view+json": {
       "model_id": "b3298ee1a4834a99a64b5d14a21aba3d",
       "version_major": 2,
       "version_minor": 0
      },
      "text/plain": [
       "VBox(children=(Label(value='Waiting for wandb.init()...\\r'), FloatProgress(value=0.01666902984919337, max=1.0)…"
      ]
     },
     "metadata": {},
     "output_type": "display_data"
    },
    {
     "data": {
      "text/html": [
       "wandb version 0.13.9 is available!  To upgrade, please run:\n",
       " $ pip install wandb --upgrade"
      ],
      "text/plain": [
       "<IPython.core.display.HTML object>"
      ]
     },
     "metadata": {},
     "output_type": "display_data"
    },
    {
     "data": {
      "text/html": [
       "Tracking run with wandb version 0.13.6"
      ],
      "text/plain": [
       "<IPython.core.display.HTML object>"
      ]
     },
     "metadata": {},
     "output_type": "display_data"
    },
    {
     "data": {
      "text/html": [
       "Run data is saved locally in <code>/home/rens/repos/premium_dl_ct/wandb/run-20230117_084623-fq2pi64u</code>"
      ],
      "text/plain": [
       "<IPython.core.display.HTML object>"
      ]
     },
     "metadata": {},
     "output_type": "display_data"
    },
    {
     "data": {
      "text/html": [
       "Syncing run <strong><a href=\"https://wandb.ai/premium/premium_dl_ct/runs/fq2pi64u\" target=\"_blank\">classic-oath-28</a></strong> to <a href=\"https://wandb.ai/premium/premium_dl_ct\" target=\"_blank\">Weights & Biases</a> (<a href=\"https://wandb.me/run\" target=\"_blank\">docs</a>)<br/>"
      ],
      "text/plain": [
       "<IPython.core.display.HTML object>"
      ]
     },
     "metadata": {},
     "output_type": "display_data"
    }
   ],
   "source": [
    "import wandb\n",
    "from src.data import DataModule\n",
    "from src.config import radiomics_folder, lesion_level_labels_csv\n",
    "\n",
    "\n",
    "wandb.init()\n",
    "wandb.config.roi_selection_method = \"crop\"\n",
    "wandb.config.aggregation_function = \"min\"\n",
    "wandb.config.roi_size = 150\n",
    "wandb.config.optimizer = \"adamw\"\n",
    "wandb.config.weight_decay = 0.00001\n",
    "wandb.config.model = \"SEResNet50\"\n",
    "wandb.config.dropout = 0.07292136035956572\n",
    "wandb.config.momentum = 0\n",
    "wandb.config.pretrained = False\n",
    "wandb.config.learning_rate_max = 0.000023059510738335888\n",
    "wandb.config.sampler = \"stratified\"\n",
    "wandb.config.dim = 2\n",
    "wandb.config.size = 128 if wandb.config.dim == 3 else 256\n",
    "wandb.config.test_center = None  # \"amphia\"\n",
    "wandb.config.lesion_target = \"lesion_response\"\n",
    "wandb.config.patient_target = \"response\"\n",
    "wandb.config.max_batch_size = 6 if wandb.config.dim == 3 else 32\n",
    "wandb.config.seed = 0\n",
    "wandb.config.max_epochs = 100\n",
    "wandb.config.patience = 10\n",
    "wandb.config.lr_min = 1e-7\n",
    "wandb.config.T_0 = 10\n",
    "\n",
    "dm = DataModule(\n",
    "    radiomics_folder,\n",
    "    lesion_level_labels_csv,\n",
    "    wandb.config,\n",
    ")"
   ]
  },
  {
   "cell_type": "code",
   "execution_count": 7,
   "metadata": {},
   "outputs": [],
   "source": [
    "dm.setup()"
   ]
  },
  {
   "cell_type": "code",
   "execution_count": 8,
   "metadata": {},
   "outputs": [
    {
     "name": "stderr",
     "output_type": "stream",
     "text": [
      "Loading dataset: 100%|██████████| 1338/1338 [00:00<00:00, 1061467.52it/s]\n"
     ]
    }
   ],
   "source": [
    "dl = dm.train_dataloader()\n",
    "x = next(iter(dl))"
   ]
  },
  {
   "cell_type": "code",
   "execution_count": 9,
   "metadata": {},
   "outputs": [
    {
     "data": {
      "text/plain": [
       "(32, 3, 256, 256)"
      ]
     },
     "execution_count": 9,
     "metadata": {},
     "output_type": "execute_result"
    }
   ],
   "source": [
    "x['img'].shape"
   ]
  },
  {
   "cell_type": "code",
   "execution_count": 23,
   "metadata": {},
   "outputs": [
    {
     "name": "stderr",
     "output_type": "stream",
     "text": [
      "Loading dataset: 100%|██████████| 1332/1332 [00:00<00:00, 1000503.75it/s]\n"
     ]
    }
   ],
   "source": [
    "dl = dm.train_dataloader()\n",
    "\n",
    "batches = []\n",
    "for batch in dl:\n",
    "    batches.append(\n",
    "        list(zip(batch['patient'], batch['label'].numpy().tolist()))\n",
    "    )"
   ]
  },
  {
   "cell_type": "code",
   "execution_count": 24,
   "metadata": {},
   "outputs": [
    {
     "name": "stderr",
     "output_type": "stream",
     "text": [
      "Loading dataset: 100%|██████████| 568/568 [00:00<00:00, 596485.90it/s]\n"
     ]
    }
   ],
   "source": [
    "val_dl = dm.val_dataloader()\n",
    "\n",
    "val_batches = []\n",
    "for batch in val_dl:\n",
    "    val_batches.append(\n",
    "        list(zip(batch['patient'], batch['label'].numpy().tolist()))\n",
    "    )"
   ]
  },
  {
   "cell_type": "code",
   "execution_count": 43,
   "metadata": {},
   "outputs": [],
   "source": [
    "from collections import defaultdict\n",
    "\n",
    "def count_per_patient(batches):\n",
    "    count = defaultdict(int)\n",
    "    for batch in batches:\n",
    "        for case in batch:\n",
    "            count[case[0]] += 1\n",
    "\n",
    "    assert max(list(count.values())) <= 5\n",
    "\n",
    "def no_overlap(train, val):\n",
    "    train_patients = set()\n",
    "    for batch in train:\n",
    "        for case in batch:\n",
    "            train_patients.add(case[0])\n",
    "\n",
    "    val_patients = set()\n",
    "    for batch in val:\n",
    "        for case in batch:\n",
    "            val_patients.add(case[0])\n",
    "\n",
    "    assert train_patients.isdisjoint(val_patients)\n",
    "\n",
    "count_per_patient(batches)\n",
    "no_overlap(batches, val_batches)"
   ]
  }
 ],
 "metadata": {
  "kernelspec": {
   "display_name": "rens",
   "language": "python",
   "name": "python3"
  },
  "language_info": {
   "codemirror_mode": {
    "name": "ipython",
    "version": 3
   },
   "file_extension": ".py",
   "mimetype": "text/x-python",
   "name": "python",
   "nbconvert_exporter": "python",
   "pygments_lexer": "ipython3",
   "version": "3.10.8"
  },
  "orig_nbformat": 4,
  "vscode": {
   "interpreter": {
    "hash": "f8e58b914173e9e26bec900a798eebdc4c2c2b3000f2ddebd76fb88687c28df0"
   }
  }
 },
 "nbformat": 4,
 "nbformat_minor": 2
}
