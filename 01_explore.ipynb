{
 "cells": [
  {
   "cell_type": "code",
   "execution_count": 1,
   "metadata": {},
   "outputs": [],
   "source": [
    "import matplotlib.pyplot as plt\n",
    "from src.prepare_data import CropPreprocessor, ZoomPreprocessor, find_corresponding_scan\n",
    "\n",
    "zp = ZoomPreprocessor(\n",
    "    output_folder = r'C:\\Users\\user\\data\\dl_radiomics\\zoom010_2d',\n",
    "    output_dim=2,\n",
    "    output_size=256,\n",
    "    margin=10\n",
    ")\n",
    "\n",
    "segmentation_path = r'D:\\premium_data\\amphia\\monotherapy\\split_segmentations\\PREM_AM_001_0.nii.gz'\n",
    "scan_path = find_corresponding_scan(segmentation_path)\n",
    "data = {\"img\": str(scan_path), \"seg\": str(segmentation_path)}\n",
    "\n",
    "# output = zp(data)\n",
    "\n",
    "# fig, ax = plt.subplots(1,3, figsize=(12,4))\n",
    "# for ix in range(3):\n",
    "#     ax[ix].imshow(output['img'][ix])\n",
    "# fig.show()"
   ]
  },
  {
   "cell_type": "code",
   "execution_count": 2,
   "metadata": {},
   "outputs": [
    {
     "name": "stdout",
     "output_type": "stream",
     "text": [
      "2022-10-28 15:38:19,733 INFO image_writer.py:193 - writing: C:\\Users\\user\\data\\dl_radiomics\\crop050_3d\\PREM_AM_001_0.nii.gz\n"
     ]
    }
   ],
   "source": [
    "cp = CropPreprocessor(\n",
    "    output_folder = r'C:\\Users\\user\\data\\dl_radiomics\\crop050_3d',\n",
    "    output_dim=3,\n",
    "    output_size=128,\n",
    "    roi_size=50\n",
    ")\n",
    "\n",
    "output = cp(data)"
   ]
  },
  {
   "cell_type": "code",
   "execution_count": 7,
   "metadata": {},
   "outputs": [],
   "source": [
    "import os\n",
    "from pathlib import Path\n",
    "\n",
    "class DataPipeline:\n",
    "    def __init__(self, input_folders, output_root, output_dim, output_size, method, **kwargs):\n",
    "        self.input_folders = input_folders\n",
    "\n",
    "        output_folder_name = (f'dim-{output_dim}_size-{output_size}_method-{method}_' + '_'.join([f'{k}-{v}' for (k,v) in kwargs.items()]))\n",
    "        self.output_folder = Path(output_root) / output_folder_name\n",
    "        os.makedirs(self.output_folder, exist_ok=True)\n",
    "\n",
    "        if method=='crop':\n",
    "            self.processor = CropPreprocessor(None, output_dim, output_size, **kwargs)\n",
    "        elif method == 'zoom':\n",
    "            self.processor = ZoomPreprocessor(None, output_dim, output_size, **kwargs)\n",
    "\n",
    "    def run(self):\n",
    "        for input_folder in self.input_folders:\n",
    "            input_folder = Path(input_folder)\n",
    "            center = input_folder.parent.parent.name\n",
    "\n",
    "            target_folder = self.output_folder / center\n",
    "            os.makedirs(target_folder, exist_ok=True)\n",
    "\n",
    "            self.processor.set_output_folder(target_folder)\n",
    "\n",
    "            for segmentation_file in input_folder.iterdir():\n",
    "                scan_file = self.find_corresponding_scan(segmentation_file)\n",
    "                data = {'img':scan_file, 'seg':segmentation_file}\n",
    "                self.processor(data)\n",
    "\n",
    "    def find_corresponding_scan(self, segmention_path):\n",
    "        scan_folder = Path(segmention_path).parent.parent / \"scans\"\n",
    "        scan_name = Path(segmention_path).name.split(\".\")[0][:-2] + \".nii.gz\"\n",
    "\n",
    "        return scan_folder / scan_name\n",
    "\n",
    "\n",
    "\n",
    "\n",
    "dp = DataPipeline(\n",
    "    [r\"D:\\premium_data\\amphia\\monotherapy\\split_segmentations\"], \n",
    "    r'C:\\Users\\user\\data\\dl_radiomics', 3, 128, method='crop', roi_size=10)"
   ]
  },
  {
   "cell_type": "code",
   "execution_count": 9,
   "metadata": {},
   "outputs": [],
   "source": [
    "CENTERS = [\n",
    "    'amphia',\n",
    "    'isala',\n",
    "    'lumc',\n",
    "    'maxima',\n",
    "    'mst'\n",
    "    'radboud',\n",
    "    'umcu',\n",
    "    'vumc',\n",
    "    'zuyderland'\n",
    "]"
   ]
  },
  {
   "cell_type": "code",
   "execution_count": 11,
   "metadata": {},
   "outputs": [],
   "source": [
    "\n",
    "\n"
   ]
  },
  {
   "cell_type": "code",
   "execution_count": null,
   "metadata": {},
   "outputs": [],
   "source": []
  }
 ],
 "metadata": {
  "kernelspec": {
   "display_name": "Python 3.9.1 ('conda-env')",
   "language": "python",
   "name": "python3"
  },
  "language_info": {
   "codemirror_mode": {
    "name": "ipython",
    "version": 3
   },
   "file_extension": ".py",
   "mimetype": "text/x-python",
   "name": "python",
   "nbconvert_exporter": "python",
   "pygments_lexer": "ipython3",
   "version": "3.9.1"
  },
  "orig_nbformat": 4,
  "vscode": {
   "interpreter": {
    "hash": "e155a5961ac9a2794d65e1939d0561747c6abc873218f9a8bb36a41ee161e8f8"
   }
  }
 },
 "nbformat": 4,
 "nbformat_minor": 2
}
