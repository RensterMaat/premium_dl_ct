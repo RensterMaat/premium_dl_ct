{
 "cells": [
  {
   "cell_type": "code",
   "execution_count": 1,
   "metadata": {},
   "outputs": [
    {
     "name": "stderr",
     "output_type": "stream",
     "text": [
      "Loading dataset: 100%|██████████| 41/41 [00:04<00:00,  9.03it/s]\n",
      "Loading dataset: 100%|██████████| 124/124 [00:13<00:00,  9.16it/s]\n",
      "Loading dataset: 100%|██████████| 56/56 [00:09<00:00,  5.79it/s]\n"
     ]
    }
   ],
   "source": [
    "from src.data import DataModule\n",
    "\n",
    "dm = DataModule(\n",
    "    r\"C:\\Users\\user\\data\\dl_radiomics\\preprocessed_3d\",\n",
    "    r\"C:\\Users\\user\\data\\tables\\lesion_followup_curated_v4.csv\",\n",
    "    \"lung\",\n",
    "    \"mst\",\n",
    ")"
   ]
  },
  {
   "cell_type": "code",
   "execution_count": 3,
   "metadata": {},
   "outputs": [
    {
     "name": "stderr",
     "output_type": "stream",
     "text": [
      "Global seed set to 0\n"
     ]
    },
    {
     "name": "stdout",
     "output_type": "stream",
     "text": [
      "2022-10-26 11:56:50,922 - Global seed set to 0\n"
     ]
    },
    {
     "name": "stderr",
     "output_type": "stream",
     "text": [
      "GPU available: True, used: True\n"
     ]
    },
    {
     "name": "stdout",
     "output_type": "stream",
     "text": [
      "2022-10-26 11:56:50,924 - GPU available: True, used: True\n"
     ]
    },
    {
     "name": "stderr",
     "output_type": "stream",
     "text": [
      "TPU available: None, using: 0 TPU cores\n"
     ]
    },
    {
     "name": "stdout",
     "output_type": "stream",
     "text": [
      "2022-10-26 11:56:50,925 - TPU available: None, using: 0 TPU cores\n",
      "2022-10-26 11:56:50,927 - LOCAL_RANK: 0 - CUDA_VISIBLE_DEVICES: [0]\n"
     ]
    },
    {
     "name": "stderr",
     "output_type": "stream",
     "text": [
      "\n",
      "  | Name  | Type        | Params\n",
      "--------------------------------------\n",
      "0 | model | DenseNet121 | 11.2 M\n",
      "--------------------------------------\n",
      "11.2 M    Trainable params\n",
      "0         Non-trainable params\n",
      "11.2 M    Total params\n",
      "44.975    Total estimated model params size (MB)\n"
     ]
    },
    {
     "name": "stdout",
     "output_type": "stream",
     "text": [
      "2022-10-26 11:56:51,169 - \n",
      "  | Name  | Type        | Params\n",
      "--------------------------------------\n",
      "0 | model | DenseNet121 | 11.2 M\n",
      "--------------------------------------\n",
      "11.2 M    Trainable params\n",
      "0         Non-trainable params\n",
      "11.2 M    Total params\n",
      "44.975    Total estimated model params size (MB)\n",
      "Epoch 149: 100%|██████████| 6/6 [00:12<00:00,  2.14s/it, loss=0.321, v_num=0]\n"
     ]
    },
    {
     "data": {
      "text/plain": [
       "1"
      ]
     },
     "execution_count": 3,
     "metadata": {},
     "output_type": "execute_result"
    }
   ],
   "source": [
    "import torch\n",
    "import torch.nn as nn\n",
    "from pytorch_lightning import LightningModule, Trainer, seed_everything\n",
    "from monai.networks.nets.densenet import DenseNet121\n",
    "\n",
    "class Model(LightningModule):\n",
    "    def __init__(self):\n",
    "        super().__init__()\n",
    "        self.model = DenseNet121(spatial_dims=3, in_channels=1, out_channels=1)\n",
    "\n",
    "    def forward(self, x):\n",
    "        return self.model(x)\n",
    "\n",
    "    def configure_optimizers(self):\n",
    "        optimizer = torch.optim.SGD(self.model.parameters(), lr=1e-3)\n",
    "\n",
    "        return optimizer\n",
    "\n",
    "    def training_step(self, batch, batch_idx):\n",
    "        x, y = batch['img'], batch['label']\n",
    "        y_hat = torch.sigmoid(self.model(x))\n",
    "\n",
    "        loss = nn.BCELoss()(y_hat.squeeze(), y.float())\n",
    "\n",
    "        return loss\n",
    "\n",
    "    def validation_step(self, batch, batch_idx):\n",
    "        x, y = batch['img'], batch['label']\n",
    "        y_hat = torch.sigmoid(self.model(x))\n",
    "\n",
    "        loss = nn.BCELoss()(y_hat.squeeze(), y.float())\n",
    "\n",
    "        return loss\n",
    "\n",
    "\n",
    "model = Model()\n",
    "\n",
    "seed_everything(0)\n",
    "\n",
    "trainer = Trainer(\n",
    "    max_epochs=150,\n",
    "    gpus=1,\n",
    "    deterministic=True,\n",
    "    fast_dev_run=False\n",
    ")\n",
    "        \n",
    "trainer.fit(model, dm)\n",
    "\n",
    "    \n"
   ]
  },
  {
   "cell_type": "code",
   "execution_count": null,
   "metadata": {},
   "outputs": [],
   "source": []
  }
 ],
 "metadata": {
  "kernelspec": {
   "display_name": "Python 3.9.1 ('conda-env')",
   "language": "python",
   "name": "python3"
  },
  "language_info": {
   "codemirror_mode": {
    "name": "ipython",
    "version": 3
   },
   "file_extension": ".py",
   "mimetype": "text/x-python",
   "name": "python",
   "nbconvert_exporter": "python",
   "pygments_lexer": "ipython3",
   "version": "3.9.1"
  },
  "orig_nbformat": 4,
  "vscode": {
   "interpreter": {
    "hash": "e155a5961ac9a2794d65e1939d0561747c6abc873218f9a8bb36a41ee161e8f8"
   }
  }
 },
 "nbformat": 4,
 "nbformat_minor": 2
}
