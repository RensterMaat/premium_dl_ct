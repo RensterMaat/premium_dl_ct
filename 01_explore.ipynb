{
 "cells": [
  {
   "cell_type": "code",
   "execution_count": 29,
   "metadata": {},
   "outputs": [
    {
     "data": {
      "text/html": [
       "Finishing last run (ID:n9qbfvz2) before initializing another..."
      ],
      "text/plain": [
       "<IPython.core.display.HTML object>"
      ]
     },
     "metadata": {},
     "output_type": "display_data"
    },
    {
     "data": {
      "text/html": [
       "Waiting for W&B process to finish... <strong style=\"color:green\">(success).</strong>"
      ],
      "text/plain": [
       "<IPython.core.display.HTML object>"
      ]
     },
     "metadata": {},
     "output_type": "display_data"
    },
    {
     "data": {
      "application/vnd.jupyter.widget-view+json": {
       "model_id": "cc1af0cc0e5e4bc3b0a13985771266ad",
       "version_major": 2,
       "version_minor": 0
      },
      "text/plain": [
       "VBox(children=(Label(value='0.003 MB of 0.010 MB uploaded (0.000 MB deduped)\\r'), FloatProgress(value=0.315127…"
      ]
     },
     "metadata": {},
     "output_type": "display_data"
    },
    {
     "data": {
      "text/html": [
       "Synced <strong style=\"color:#cdcd00\">vital-glitter-42</strong>: <a href=\"https://wandb.ai/premium/premium_dl_ct/runs/n9qbfvz2\" target=\"_blank\">https://wandb.ai/premium/premium_dl_ct/runs/n9qbfvz2</a><br/>Synced 6 W&B file(s), 0 media file(s), 0 artifact file(s) and 0 other file(s)"
      ],
      "text/plain": [
       "<IPython.core.display.HTML object>"
      ]
     },
     "metadata": {},
     "output_type": "display_data"
    },
    {
     "data": {
      "text/html": [
       "Find logs at: <code>./wandb/run-20230117_130421-n9qbfvz2/logs</code>"
      ],
      "text/plain": [
       "<IPython.core.display.HTML object>"
      ]
     },
     "metadata": {},
     "output_type": "display_data"
    },
    {
     "data": {
      "text/html": [
       "Successfully finished last run (ID:n9qbfvz2). Initializing new run:<br/>"
      ],
      "text/plain": [
       "<IPython.core.display.HTML object>"
      ]
     },
     "metadata": {},
     "output_type": "display_data"
    },
    {
     "data": {
      "application/vnd.jupyter.widget-view+json": {
       "model_id": "7141e579cfc946d5910a5b2365ecc3c0",
       "version_major": 2,
       "version_minor": 0
      },
      "text/plain": [
       "VBox(children=(Label(value='Waiting for wandb.init()...\\r'), FloatProgress(value=0.016669379849918186, max=1.0…"
      ]
     },
     "metadata": {},
     "output_type": "display_data"
    },
    {
     "data": {
      "text/html": [
       "wandb version 0.13.9 is available!  To upgrade, please run:\n",
       " $ pip install wandb --upgrade"
      ],
      "text/plain": [
       "<IPython.core.display.HTML object>"
      ]
     },
     "metadata": {},
     "output_type": "display_data"
    },
    {
     "data": {
      "text/html": [
       "Tracking run with wandb version 0.13.6"
      ],
      "text/plain": [
       "<IPython.core.display.HTML object>"
      ]
     },
     "metadata": {},
     "output_type": "display_data"
    },
    {
     "data": {
      "text/html": [
       "Run data is saved locally in <code>/home/rens/repos/premium_dl_ct/wandb/run-20230117_130536-363ua2mq</code>"
      ],
      "text/plain": [
       "<IPython.core.display.HTML object>"
      ]
     },
     "metadata": {},
     "output_type": "display_data"
    },
    {
     "data": {
      "text/html": [
       "Syncing run <strong><a href=\"https://wandb.ai/premium/premium_dl_ct/runs/363ua2mq\" target=\"_blank\">silvery-snowflake-43</a></strong> to <a href=\"https://wandb.ai/premium/premium_dl_ct\" target=\"_blank\">Weights & Biases</a> (<a href=\"https://wandb.me/run\" target=\"_blank\">docs</a>)<br/>"
      ],
      "text/plain": [
       "<IPython.core.display.HTML object>"
      ]
     },
     "metadata": {},
     "output_type": "display_data"
    },
    {
     "name": "stderr",
     "output_type": "stream",
     "text": [
      "/home/rens/repos/premium_dl_ct/src/model.py:25: DtypeWarning: Columns (27,29,175,224,249,259,275,281,313,318,351,393,440,466,538,547,550,585,591,654,656,657,658,673,739,923,931) have mixed types. Specify dtype option on import or set low_memory=False.\n",
      "  self.patient_labels = pd.read_csv(dmtr_csv).set_index(\"id\")[\n"
     ]
    }
   ],
   "source": [
    "import wandb\n",
    "from src.data import DataModule\n",
    "from src.model import Model\n",
    "from src.config import radiomics_folder, lesion_level_labels_csv\n",
    "\n",
    "\n",
    "wandb.init()\n",
    "wandb.config.roi_selection_method = \"crop\"\n",
    "wandb.config.aggregation_function = \"min\"\n",
    "wandb.config.roi_size = 150\n",
    "wandb.config.optimizer = \"adamw\"\n",
    "wandb.config.weight_decay = 0.00001\n",
    "wandb.config.model = \"SEResNet50\"\n",
    "wandb.config.dropout = 0.07292136035956572\n",
    "wandb.config.momentum = 0\n",
    "wandb.config.pretrained = False\n",
    "wandb.config.learning_rate_max = 0.000023059510738335888\n",
    "wandb.config.sampler = \"label_organ_stratified\"\n",
    "wandb.config.dim = 2\n",
    "wandb.config.size = 128 if wandb.config.dim == 3 else 256\n",
    "wandb.config.test_center = None  # \"amphia\"\n",
    "wandb.config.lesion_target = \"lesion_response\"\n",
    "wandb.config.patient_target = \"response\"\n",
    "wandb.config.max_batch_size = 6 if wandb.config.dim == 3 else 32\n",
    "wandb.config.seed = 0\n",
    "wandb.config.max_epochs = 100\n",
    "wandb.config.patience = 10\n",
    "wandb.config.lr_min = 1e-7\n",
    "wandb.config.T_0 = 10\n",
    "\n",
    "dm = DataModule(\n",
    "    radiomics_folder,\n",
    "    lesion_level_labels_csv,\n",
    "    wandb.config,\n",
    ")\n",
    "\n",
    "dm.setup()\n",
    "\n",
    "model = Model(wandb.config)"
   ]
  },
  {
   "cell_type": "code",
   "execution_count": 30,
   "metadata": {},
   "outputs": [
    {
     "name": "stderr",
     "output_type": "stream",
     "text": [
      "Loading dataset: 100%|██████████| 1339/1339 [00:00<00:00, 1035430.14it/s]\n"
     ]
    }
   ],
   "source": [
    "batch = next(iter(dm.train_dataloader()))"
   ]
  },
  {
   "cell_type": "code",
   "execution_count": 31,
   "metadata": {},
   "outputs": [
    {
     "data": {
      "text/plain": [
       "False"
      ]
     },
     "execution_count": 31,
     "metadata": {},
     "output_type": "execute_result"
    }
   ],
   "source": [
    "import torch\n",
    "import numpy as np\n",
    "import torch.nn as nn\n",
    "from pytorch_lightning import seed_everything\n",
    "\n",
    "model.eval()\n",
    "model.zero_grad()\n",
    "\n",
    "x, y = batch['img'], batch['label']\n",
    "\n",
    "y_hat = torch.sigmoid(model(x))\n",
    "\n",
    "loss = nn.BCELoss()(y_hat.squeeze(), y.float())\n",
    "loss.backward()\n",
    "\n",
    "original_grad = model._modules['model']._modules['layer0']._modules['conv1']._parameters['weight'].grad.numpy().copy()\n",
    "\n",
    "model.zero_grad()\n",
    "\n",
    "image_preds = []\n",
    "for image in x:\n",
    "    image_preds.append(torch.sigmoid(model(image.unsqueeze(0))))\n",
    "\n",
    "y_hat2 = torch.concatenate(image_preds)\n",
    "\n",
    "loss = nn.BCELoss()(y_hat2.squeeze(), y.float())\n",
    "loss.backward()\n",
    "\n",
    "new_grad = model._modules['model']._modules['layer0']._modules['conv1']._parameters['weight'].grad.numpy().copy()\n",
    "\n",
    "np.all(new_grad == original_grad)"
   ]
  },
  {
   "cell_type": "code",
   "execution_count": 48,
   "metadata": {},
   "outputs": [
    {
     "name": "stdout",
     "output_type": "stream",
     "text": [
      "[ 0  1  2  3  4  5  6  7  8  9 10 11 12 13 14 15 16 17 18 19 20 21 22 23\n",
      " 24 25 26 27 28 29 30 31]\n"
     ]
    }
   ],
   "source": [
    "batch = np.array(list(range(32)))\n",
    "\n",
    "\n",
    "mini_batch_size =32\n",
    "for ix in range(0, len(batch), mini_batch_size):\n",
    "    print(batch[ix:ix+mini_batch_size])"
   ]
  },
  {
   "cell_type": "code",
   "execution_count": 50,
   "metadata": {},
   "outputs": [
    {
     "data": {
      "text/plain": [
       "32"
      ]
     },
     "execution_count": 50,
     "metadata": {},
     "output_type": "execute_result"
    }
   ],
   "source": [
    "len(x)"
   ]
  },
  {
   "cell_type": "code",
   "execution_count": 23,
   "metadata": {},
   "outputs": [
    {
     "data": {
      "text/plain": [
       "array([-9.4738527e-05, -1.0190648e-04, -1.3707948e-04, -1.4512578e-04,\n",
       "       -1.3249271e-04, -5.2837066e-05, -3.5660356e-05], dtype=float32)"
      ]
     },
     "execution_count": 23,
     "metadata": {},
     "output_type": "execute_result"
    }
   ],
   "source": [
    "new_grad[0,0,0]"
   ]
  },
  {
   "cell_type": "code",
   "execution_count": 24,
   "metadata": {},
   "outputs": [
    {
     "data": {
      "text/plain": [
       "array([-9.4678675e-05, -1.0183325e-04, -1.3698640e-04, -1.4505384e-04,\n",
       "       -1.3245209e-04, -5.2787924e-05, -3.5580433e-05], dtype=float32)"
      ]
     },
     "execution_count": 24,
     "metadata": {},
     "output_type": "execute_result"
    }
   ],
   "source": [
    "original_grad[0,0,0]"
   ]
  },
  {
   "cell_type": "code",
   "execution_count": 21,
   "metadata": {},
   "outputs": [
    {
     "data": {
      "text/plain": [
       "array([[0.34611627],\n",
       "       [0.34112442],\n",
       "       [0.40652257],\n",
       "       [0.39151615],\n",
       "       [0.3430734 ],\n",
       "       [0.3531861 ]], dtype=float32)"
      ]
     },
     "execution_count": 21,
     "metadata": {},
     "output_type": "execute_result"
    }
   ],
   "source": [
    "y_hat.detach().numpy()"
   ]
  },
  {
   "cell_type": "code",
   "execution_count": 22,
   "metadata": {},
   "outputs": [
    {
     "data": {
      "text/plain": [
       "array([[0.34611627],\n",
       "       [0.34112436],\n",
       "       [0.4065227 ],\n",
       "       [0.39151615],\n",
       "       [0.34307343],\n",
       "       [0.35318622]], dtype=float32)"
      ]
     },
     "execution_count": 22,
     "metadata": {},
     "output_type": "execute_result"
    }
   ],
   "source": [
    "y_hat2.detach().numpy()"
   ]
  },
  {
   "cell_type": "code",
   "execution_count": 35,
   "metadata": {},
   "outputs": [
    {
     "name": "stderr",
     "output_type": "stream",
     "text": [
      "Loading dataset: 100%|██████████| 576/576 [00:00<00:00, 550072.66it/s]\n"
     ]
    }
   ],
   "source": [
    "from pathlib import Path\n",
    "import numpy as np\n",
    "\n",
    "dl = dm.val_dataloader()\n",
    "\n",
    "batches = []\n",
    "for batch in dl:\n",
    "    batches.append(np.stack([\n",
    "        batch['label'].numpy(),\n",
    "        batch['organ'],\n",
    "        [Path(f).name for f in batch['img_meta_dict']['filename_or_obj']]\n",
    "    ], axis=1))"
   ]
  },
  {
   "cell_type": "code",
   "execution_count": 32,
   "metadata": {},
   "outputs": [],
   "source": [
    "possible = [case['img'].split('/')[-1] for case in dm.train_data]"
   ]
  },
  {
   "cell_type": "code",
   "execution_count": 20,
   "metadata": {},
   "outputs": [
    {
     "data": {
      "text/plain": [
       "['adrenal',\n",
       " 'bone',\n",
       " 'liver',\n",
       " 'liver',\n",
       " 'liver',\n",
       " 'lung',\n",
       " 'lung',\n",
       " 'lung',\n",
       " 'lymph',\n",
       " 'lymph',\n",
       " 'lymph',\n",
       " 'lymph',\n",
       " 'other',\n",
       " 'abdomen',\n",
       " 'abdomen',\n",
       " 'bone',\n",
       " 'liver',\n",
       " 'lung',\n",
       " 'lung',\n",
       " 'lung',\n",
       " 'lung',\n",
       " 'lung',\n",
       " 'lung',\n",
       " 'lung',\n",
       " 'lymph',\n",
       " 'lymph',\n",
       " 'lymph',\n",
       " 'lymph',\n",
       " 'lymph',\n",
       " 'other',\n",
       " 'subcutis',\n",
       " 'subcutis']"
      ]
     },
     "execution_count": 20,
     "metadata": {},
     "output_type": "execute_result"
    }
   ],
   "source": [
    "batch['organ']"
   ]
  },
  {
   "cell_type": "code",
   "execution_count": 5,
   "metadata": {},
   "outputs": [
    {
     "name": "stderr",
     "output_type": "stream",
     "text": [
      "/tmp/ipykernel_19073/2195945971.py:4: DtypeWarning: Columns (27,29,175,234,249,259,275,281,313,318,351,393,440,538,547,550,578,585,591,654,660,662,663,664,666,667,669,670,671,676,677,679,680,681,682,685,794,797,805,808,809,818,819,821,822,823,828,851,852,854,855,856,863,864,866,867,868,869,870,872,873,874,875,876,878,879,880,881,882,884,885,886,899,900,902,903,904,905,906,908,909,910,911,912,914,915,916,917,918,920,921,922,924) have mixed types. Specify dtype option on import or set low_memory=False.\n",
      "  dmtr = pd.read_csv(dmtr_csv)\n"
     ]
    }
   ],
   "source": [
    "from src.config import lesion_level_labels_csv, dmtr_csv\n",
    "import pandas as pd\n",
    "\n",
    "dmtr = pd.read_csv(dmtr_csv)\n",
    "lesion_fu = pd.read_csv(lesion_level_labels_csv, sep=';')"
   ]
  },
  {
   "cell_type": "code",
   "execution_count": 11,
   "metadata": {},
   "outputs": [
    {
     "data": {
      "text/plain": [
       "array(['UMCG_118', 'UMCG_382', 'UMCG_400', 'UMCG_448', 'UMCG_457',\n",
       "       'UMCG_469', 'UMCG_548', 'UMCG_650'], dtype='<U8')"
      ]
     },
     "execution_count": 11,
     "metadata": {},
     "output_type": "execute_result"
    }
   ],
   "source": [
    "import numpy as np\n",
    "\n",
    "np.unique([pt for pt in lesion_fu.patient if not pt in dmtr.id.values])"
   ]
  },
  {
   "cell_type": "code",
   "execution_count": 12,
   "metadata": {},
   "outputs": [],
   "source": [
    "umcg = pd.read_excel('/mnt/c/Users/user/repos/PREMIUM/code/radiomics_paper/data/raw_dmtr/umcg.xlsx')"
   ]
  },
  {
   "cell_type": "code",
   "execution_count": 24,
   "metadata": {},
   "outputs": [
    {
     "data": {
      "text/plain": [
       "26385    1.0\n",
       "26386    1.0\n",
       "26387    1.0\n",
       "26388    1.0\n",
       "26389    1.0\n",
       "        ... \n",
       "26836    1.0\n",
       "26837    1.0\n",
       "26838    1.0\n",
       "26839    1.0\n",
       "26840    1.0\n",
       "Name: ptloc, Length: 456, dtype: float64"
      ]
     },
     "execution_count": 24,
     "metadata": {},
     "output_type": "execute_result"
    }
   ],
   "source": [
    "umcg[umcg.upn == 'UMCG_656'].ptloc"
   ]
  },
  {
   "cell_type": "code",
   "execution_count": 53,
   "metadata": {},
   "outputs": [],
   "source": [
    "import pandas as pd\n",
    "\n",
    "df = pd.read_csv(\"/mnt/d/premium_data/umcg/umcg_followup (1).csv\", sep=';')"
   ]
  },
  {
   "cell_type": "code",
   "execution_count": 55,
   "metadata": {},
   "outputs": [],
   "source": [
    "df['delta1'] = df['fu1'] / df['baseline']\n",
    "df['delta2'] = df['fu2'] / df['baseline']\n",
    "df['delta3'] = df['fu3'] / df['baseline']"
   ]
  },
  {
   "cell_type": "code",
   "execution_count": 63,
   "metadata": {},
   "outputs": [],
   "source": [
    "last_fus = []\n",
    "for _, lesion in df.iterrows():\n",
    "    last_fu = float('nan')\n",
    "    if not pd.isna(lesion.delta1):\n",
    "        last_fu = lesion.delta1\n",
    "    if not pd.isna(lesion.delta2):\n",
    "        last_fu = lesion.delta2\n",
    "    if not pd.isna(lesion.delta3):\n",
    "        last_fu = lesion.delta3\n",
    "    last_fus.append(last_fu)\n",
    "\n",
    "df['last_fu'] = last_fus"
   ]
  },
  {
   "cell_type": "code",
   "execution_count": 67,
   "metadata": {},
   "outputs": [],
   "source": [
    "lesion_response, lesion_benefit = [],[]\n",
    "for _, lesion in df.iterrows():\n",
    "    if pd.isna(lesion.last_fu):\n",
    "        lesion_response.append(float('nan'))\n",
    "        lesion_benefit.append(float('nan'))\n",
    "        continue\n",
    "\n",
    "    if lesion.last_fu < 0.7:\n",
    "        lesion_response.append(1)\n",
    "    else: \n",
    "        lesion_response.append(0)\n",
    "\n",
    "    if lesion.last_fu < 1.2:\n",
    "        lesion_benefit.append(1)\n",
    "    else: \n",
    "        lesion_benefit.append(0)\n",
    "\n",
    "df['lesion_response'] = lesion_response\n",
    "df['lesion_benefit'] = lesion_benefit"
   ]
  },
  {
   "cell_type": "code",
   "execution_count": 68,
   "metadata": {},
   "outputs": [
    {
     "data": {
      "text/html": [
       "<div>\n",
       "<style scoped>\n",
       "    .dataframe tbody tr th:only-of-type {\n",
       "        vertical-align: middle;\n",
       "    }\n",
       "\n",
       "    .dataframe tbody tr th {\n",
       "        vertical-align: top;\n",
       "    }\n",
       "\n",
       "    .dataframe thead th {\n",
       "        text-align: right;\n",
       "    }\n",
       "</style>\n",
       "<table border=\"1\" class=\"dataframe\">\n",
       "  <thead>\n",
       "    <tr style=\"text-align: right;\">\n",
       "      <th></th>\n",
       "      <th>lesion</th>\n",
       "      <th>name</th>\n",
       "      <th>patient</th>\n",
       "      <th>start_date</th>\n",
       "      <th>scan_date</th>\n",
       "      <th>baseline</th>\n",
       "      <th>fu1</th>\n",
       "      <th>fu2</th>\n",
       "      <th>fu3</th>\n",
       "      <th>delta1</th>\n",
       "      <th>delta2</th>\n",
       "      <th>delta3</th>\n",
       "      <th>last_fu</th>\n",
       "      <th>lesion_response</th>\n",
       "      <th>lesion_benefit</th>\n",
       "    </tr>\n",
       "  </thead>\n",
       "  <tbody>\n",
       "    <tr>\n",
       "      <th>0</th>\n",
       "      <td>UMCG_004abdomen_0.nii.gz</td>\n",
       "      <td>softtissue1</td>\n",
       "      <td>UMCG_004</td>\n",
       "      <td>17-10-2016</td>\n",
       "      <td>30-9-2016</td>\n",
       "      <td>97.0</td>\n",
       "      <td>85.0</td>\n",
       "      <td>NaN</td>\n",
       "      <td>NaN</td>\n",
       "      <td>0.876289</td>\n",
       "      <td>NaN</td>\n",
       "      <td>NaN</td>\n",
       "      <td>0.876289</td>\n",
       "      <td>0.0</td>\n",
       "      <td>1.0</td>\n",
       "    </tr>\n",
       "    <tr>\n",
       "      <th>1</th>\n",
       "      <td>UMCG_004abdomen_1.nii.gz</td>\n",
       "      <td>lymph1</td>\n",
       "      <td>UMCG_004</td>\n",
       "      <td>17-10-2016</td>\n",
       "      <td>30-9-2016</td>\n",
       "      <td>20.0</td>\n",
       "      <td>16.0</td>\n",
       "      <td>NaN</td>\n",
       "      <td>NaN</td>\n",
       "      <td>0.800000</td>\n",
       "      <td>NaN</td>\n",
       "      <td>NaN</td>\n",
       "      <td>0.800000</td>\n",
       "      <td>0.0</td>\n",
       "      <td>1.0</td>\n",
       "    </tr>\n",
       "    <tr>\n",
       "      <th>2</th>\n",
       "      <td>UMCG_004abdomen_2.nii.gz</td>\n",
       "      <td>lymph2</td>\n",
       "      <td>UMCG_004</td>\n",
       "      <td>17-10-2016</td>\n",
       "      <td>30-9-2016</td>\n",
       "      <td>27.0</td>\n",
       "      <td>49.0</td>\n",
       "      <td>NaN</td>\n",
       "      <td>NaN</td>\n",
       "      <td>1.814815</td>\n",
       "      <td>NaN</td>\n",
       "      <td>NaN</td>\n",
       "      <td>1.814815</td>\n",
       "      <td>0.0</td>\n",
       "      <td>0.0</td>\n",
       "    </tr>\n",
       "    <tr>\n",
       "      <th>3</th>\n",
       "      <td>UMCG_004thorax_0.nii.gz</td>\n",
       "      <td>lung1</td>\n",
       "      <td>UMCG_004</td>\n",
       "      <td>17-10-2016</td>\n",
       "      <td>30-9-2016</td>\n",
       "      <td>29.0</td>\n",
       "      <td>32.0</td>\n",
       "      <td>NaN</td>\n",
       "      <td>NaN</td>\n",
       "      <td>1.103448</td>\n",
       "      <td>NaN</td>\n",
       "      <td>NaN</td>\n",
       "      <td>1.103448</td>\n",
       "      <td>0.0</td>\n",
       "      <td>1.0</td>\n",
       "    </tr>\n",
       "    <tr>\n",
       "      <th>4</th>\n",
       "      <td>UMCG_004thorax_1.nii.gz</td>\n",
       "      <td>lymph1</td>\n",
       "      <td>UMCG_004</td>\n",
       "      <td>17-10-2016</td>\n",
       "      <td>30-9-2016</td>\n",
       "      <td>44.0</td>\n",
       "      <td>11.0</td>\n",
       "      <td>NaN</td>\n",
       "      <td>NaN</td>\n",
       "      <td>0.250000</td>\n",
       "      <td>NaN</td>\n",
       "      <td>NaN</td>\n",
       "      <td>0.250000</td>\n",
       "      <td>1.0</td>\n",
       "      <td>1.0</td>\n",
       "    </tr>\n",
       "    <tr>\n",
       "      <th>...</th>\n",
       "      <td>...</td>\n",
       "      <td>...</td>\n",
       "      <td>...</td>\n",
       "      <td>...</td>\n",
       "      <td>...</td>\n",
       "      <td>...</td>\n",
       "      <td>...</td>\n",
       "      <td>...</td>\n",
       "      <td>...</td>\n",
       "      <td>...</td>\n",
       "      <td>...</td>\n",
       "      <td>...</td>\n",
       "      <td>...</td>\n",
       "      <td>...</td>\n",
       "      <td>...</td>\n",
       "    </tr>\n",
       "    <tr>\n",
       "      <th>458</th>\n",
       "      <td>UMCG_738abdomen_0.nii.gz</td>\n",
       "      <td>subcutis1</td>\n",
       "      <td>UMCG_738</td>\n",
       "      <td>11-4-2017</td>\n",
       "      <td>15-3-2017</td>\n",
       "      <td>10.0</td>\n",
       "      <td>13.0</td>\n",
       "      <td>12.0</td>\n",
       "      <td>9.0</td>\n",
       "      <td>1.300000</td>\n",
       "      <td>1.200000</td>\n",
       "      <td>0.900</td>\n",
       "      <td>0.900000</td>\n",
       "      <td>0.0</td>\n",
       "      <td>1.0</td>\n",
       "    </tr>\n",
       "    <tr>\n",
       "      <th>459</th>\n",
       "      <td>UMCG_738abdomen_1.nii.gz</td>\n",
       "      <td>lymph1</td>\n",
       "      <td>UMCG_738</td>\n",
       "      <td>11-4-2017</td>\n",
       "      <td>15-3-2017</td>\n",
       "      <td>21.0</td>\n",
       "      <td>21.0</td>\n",
       "      <td>0.0</td>\n",
       "      <td>NaN</td>\n",
       "      <td>1.000000</td>\n",
       "      <td>0.000000</td>\n",
       "      <td>NaN</td>\n",
       "      <td>0.000000</td>\n",
       "      <td>1.0</td>\n",
       "      <td>1.0</td>\n",
       "    </tr>\n",
       "    <tr>\n",
       "      <th>460</th>\n",
       "      <td>UMCG_738abdomen_2.nii.gz</td>\n",
       "      <td>lymph2</td>\n",
       "      <td>UMCG_738</td>\n",
       "      <td>11-4-2017</td>\n",
       "      <td>15-3-2017</td>\n",
       "      <td>19.0</td>\n",
       "      <td>18.0</td>\n",
       "      <td>0.0</td>\n",
       "      <td>NaN</td>\n",
       "      <td>0.947368</td>\n",
       "      <td>0.000000</td>\n",
       "      <td>NaN</td>\n",
       "      <td>0.000000</td>\n",
       "      <td>1.0</td>\n",
       "      <td>1.0</td>\n",
       "    </tr>\n",
       "    <tr>\n",
       "      <th>461</th>\n",
       "      <td>UMCG_738abdomen_3.nii.gz</td>\n",
       "      <td>subcutis2</td>\n",
       "      <td>UMCG_738</td>\n",
       "      <td>11-4-2017</td>\n",
       "      <td>15-3-2017</td>\n",
       "      <td>8.0</td>\n",
       "      <td>7.0</td>\n",
       "      <td>6.0</td>\n",
       "      <td>5.0</td>\n",
       "      <td>0.875000</td>\n",
       "      <td>0.750000</td>\n",
       "      <td>0.625</td>\n",
       "      <td>0.625000</td>\n",
       "      <td>1.0</td>\n",
       "      <td>1.0</td>\n",
       "    </tr>\n",
       "    <tr>\n",
       "      <th>462</th>\n",
       "      <td>UMCG_738thorax_0.nii.gz</td>\n",
       "      <td>lung1</td>\n",
       "      <td>UMCG_738</td>\n",
       "      <td>11-4-2017</td>\n",
       "      <td>15-3-2017</td>\n",
       "      <td>7.0</td>\n",
       "      <td>8.0</td>\n",
       "      <td>8.0</td>\n",
       "      <td>7.0</td>\n",
       "      <td>1.142857</td>\n",
       "      <td>1.142857</td>\n",
       "      <td>1.000</td>\n",
       "      <td>1.000000</td>\n",
       "      <td>0.0</td>\n",
       "      <td>1.0</td>\n",
       "    </tr>\n",
       "  </tbody>\n",
       "</table>\n",
       "<p>463 rows × 15 columns</p>\n",
       "</div>"
      ],
      "text/plain": [
       "                       lesion         name   patient  start_date  scan_date  \\\n",
       "0    UMCG_004abdomen_0.nii.gz  softtissue1  UMCG_004  17-10-2016  30-9-2016   \n",
       "1    UMCG_004abdomen_1.nii.gz       lymph1  UMCG_004  17-10-2016  30-9-2016   \n",
       "2    UMCG_004abdomen_2.nii.gz       lymph2  UMCG_004  17-10-2016  30-9-2016   \n",
       "3     UMCG_004thorax_0.nii.gz        lung1  UMCG_004  17-10-2016  30-9-2016   \n",
       "4     UMCG_004thorax_1.nii.gz       lymph1  UMCG_004  17-10-2016  30-9-2016   \n",
       "..                        ...          ...       ...         ...        ...   \n",
       "458  UMCG_738abdomen_0.nii.gz    subcutis1  UMCG_738   11-4-2017  15-3-2017   \n",
       "459  UMCG_738abdomen_1.nii.gz       lymph1  UMCG_738   11-4-2017  15-3-2017   \n",
       "460  UMCG_738abdomen_2.nii.gz       lymph2  UMCG_738   11-4-2017  15-3-2017   \n",
       "461  UMCG_738abdomen_3.nii.gz    subcutis2  UMCG_738   11-4-2017  15-3-2017   \n",
       "462   UMCG_738thorax_0.nii.gz        lung1  UMCG_738   11-4-2017  15-3-2017   \n",
       "\n",
       "     baseline   fu1   fu2  fu3    delta1    delta2  delta3   last_fu  \\\n",
       "0        97.0  85.0   NaN  NaN  0.876289       NaN     NaN  0.876289   \n",
       "1        20.0  16.0   NaN  NaN  0.800000       NaN     NaN  0.800000   \n",
       "2        27.0  49.0   NaN  NaN  1.814815       NaN     NaN  1.814815   \n",
       "3        29.0  32.0   NaN  NaN  1.103448       NaN     NaN  1.103448   \n",
       "4        44.0  11.0   NaN  NaN  0.250000       NaN     NaN  0.250000   \n",
       "..        ...   ...   ...  ...       ...       ...     ...       ...   \n",
       "458      10.0  13.0  12.0  9.0  1.300000  1.200000   0.900  0.900000   \n",
       "459      21.0  21.0   0.0  NaN  1.000000  0.000000     NaN  0.000000   \n",
       "460      19.0  18.0   0.0  NaN  0.947368  0.000000     NaN  0.000000   \n",
       "461       8.0   7.0   6.0  5.0  0.875000  0.750000   0.625  0.625000   \n",
       "462       7.0   8.0   8.0  7.0  1.142857  1.142857   1.000  1.000000   \n",
       "\n",
       "     lesion_response  lesion_benefit  \n",
       "0                0.0             1.0  \n",
       "1                0.0             1.0  \n",
       "2                0.0             0.0  \n",
       "3                0.0             1.0  \n",
       "4                1.0             1.0  \n",
       "..               ...             ...  \n",
       "458              0.0             1.0  \n",
       "459              1.0             1.0  \n",
       "460              1.0             1.0  \n",
       "461              1.0             1.0  \n",
       "462              0.0             1.0  \n",
       "\n",
       "[463 rows x 15 columns]"
      ]
     },
     "execution_count": 68,
     "metadata": {},
     "output_type": "execute_result"
    }
   ],
   "source": [
    "df"
   ]
  },
  {
   "cell_type": "code",
   "execution_count": 69,
   "metadata": {},
   "outputs": [],
   "source": [
    "organ_synonyms = {\n",
    "    'lung':['lung','pleur','pulm'],\n",
    "    'liver':['liver'],\n",
    "    'lymph':['lymph', 'lymoh', 'inguin', 'supraclav'],\n",
    "    'subcutis':['subcut'],\n",
    "    'adrenal':['adren'],\n",
    "    'abdomen':['abd', 'mesent', 'intest', 'perit','mesent','adbom'],\n",
    "    'bone':['bone', 'os', 'th5', 'ileum'],\n",
    "    'spleen':['spleen']\n",
    "}\n",
    "\n",
    "organs = []\n",
    "for name in df['name'].tolist():\n",
    "    name = name.lower()\n",
    "\n",
    "    found = False\n",
    "    for organ, synonyms in organ_synonyms.items():\n",
    "        if any([synonym in name for synonym in synonyms]):\n",
    "            organs.append(organ)\n",
    "            found = True\n",
    "            break\n",
    "\n",
    "    if not found:\n",
    "        organs.append('other')\n",
    "        \n",
    "df['organ'] = organs"
   ]
  },
  {
   "cell_type": "code",
   "execution_count": 71,
   "metadata": {},
   "outputs": [],
   "source": [
    "df.to_csv('/mnt/d/premium_data/umcg/lesion_followup_curated.csv')"
   ]
  },
  {
   "cell_type": "code",
   "execution_count": 38,
   "metadata": {},
   "outputs": [],
   "source": [
    "df.drop(columns=['Unnamed: 0']).to_csv(\"/mnt/c/Users/user/data/tables/lesion_followup_curated_master.csv\")"
   ]
  },
  {
   "cell_type": "code",
   "execution_count": 24,
   "metadata": {},
   "outputs": [
    {
     "name": "stderr",
     "output_type": "stream",
     "text": [
      "Loading dataset: 100%|██████████| 568/568 [00:00<00:00, 596485.90it/s]\n"
     ]
    }
   ],
   "source": [
    "val_dl = dm.val_dataloader()\n",
    "\n",
    "val_batches = []\n",
    "for batch in val_dl:\n",
    "    val_batches.append(\n",
    "        list(zip(batch['patient'], batch['label'].numpy().tolist()))\n",
    "    )"
   ]
  },
  {
   "cell_type": "code",
   "execution_count": 43,
   "metadata": {},
   "outputs": [],
   "source": [
    "from collections import defaultdict\n",
    "\n",
    "def count_per_patient(batches):\n",
    "    count = defaultdict(int)\n",
    "    for batch in batches:\n",
    "        for case in batch:\n",
    "            count[case[0]] += 1\n",
    "\n",
    "    assert max(list(count.values())) <= 5\n",
    "\n",
    "def no_overlap(train, val):\n",
    "    train_patients = set()\n",
    "    for batch in train:\n",
    "        for case in batch:\n",
    "            train_patients.add(case[0])\n",
    "\n",
    "    val_patients = set()\n",
    "    for batch in val:\n",
    "        for case in batch:\n",
    "            val_patients.add(case[0])\n",
    "\n",
    "    assert train_patients.isdisjoint(val_patients)\n",
    "\n",
    "count_per_patient(batches)\n",
    "no_overlap(batches, val_batches)"
   ]
  }
 ],
 "metadata": {
  "kernelspec": {
   "display_name": "rens",
   "language": "python",
   "name": "python3"
  },
  "language_info": {
   "codemirror_mode": {
    "name": "ipython",
    "version": 3
   },
   "file_extension": ".py",
   "mimetype": "text/x-python",
   "name": "python",
   "nbconvert_exporter": "python",
   "pygments_lexer": "ipython3",
   "version": "3.10.8"
  },
  "orig_nbformat": 4,
  "vscode": {
   "interpreter": {
    "hash": "f8e58b914173e9e26bec900a798eebdc4c2c2b3000f2ddebd76fb88687c28df0"
   }
  }
 },
 "nbformat": 4,
 "nbformat_minor": 2
}
