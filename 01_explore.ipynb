{
 "cells": [
  {
   "cell_type": "code",
   "execution_count": 3,
   "metadata": {},
   "outputs": [
    {
     "name": "stderr",
     "output_type": "stream",
     "text": [
      "Loading dataset: 100%|██████████| 123/123 [00:11<00:00, 10.26it/s]\n",
      "Loading dataset: 100%|██████████| 42/42 [00:04<00:00,  9.71it/s]\n",
      "Loading dataset: 100%|██████████| 56/56 [00:05<00:00, 10.21it/s]\n"
     ]
    }
   ],
   "source": [
    "from src.data import DataModule\n",
    "\n",
    "dm = DataModule(\n",
    "    r\"C:\\Users\\user\\data\\dl_radiomics\\preprocessed_3d\",\n",
    "    r\"C:\\Users\\user\\data\\tables\\lesion_followup_curated_v4.csv\",\n",
    "    \"lung\",\n",
    "    \"mst\",\n",
    ")\n",
    "dm.setup()"
   ]
  },
  {
   "cell_type": "code",
   "execution_count": 4,
   "metadata": {},
   "outputs": [],
   "source": [
    "import torch\n",
    "import torch.nn as nn\n",
    "import wandb\n",
    "from torchmetrics.classification import BinaryAUROC, Accuracy\n",
    "from pytorch_lightning.loggers import WandbLogger\n",
    "from pytorch_lightning import LightningModule, Trainer, seed_everything\n",
    "from monai.networks.nets.densenet import DenseNet121\n",
    "\n",
    "\n",
    "class Model(LightningModule):\n",
    "    def __init__(self):\n",
    "        super().__init__()\n",
    "        self.model = DenseNet121(spatial_dims=3, in_channels=1, out_channels=1)\n",
    "        self.train_auc = BinaryAUROC(pos_label=1)\n",
    "        self.val_auc = BinaryAUROC(pos_label=1)\n",
    "\n",
    "    def forward(self, x):\n",
    "        return self.model(x)\n",
    "\n",
    "    def configure_optimizers(self):\n",
    "        optimizer = torch.optim.SGD(self.model.parameters(), lr=1e-2)\n",
    "\n",
    "        return optimizer\n",
    "\n",
    "    def training_step(self, batch, batch_idx):\n",
    "        x, y = batch[\"img\"], batch[\"label\"]\n",
    "        y_hat = torch.sigmoid(self.model(x))\n",
    "\n",
    "        loss = nn.BCELoss()(y_hat.squeeze(), y.float())\n",
    "        self.train_auc.update(y_hat.squeeze(), y.int())\n",
    "\n",
    "        self.log_dict(\n",
    "            {\"train_loss\": loss, 'train_auc': self.train_auc.compute()},\n",
    "            on_step=False,\n",
    "            on_epoch=True,\n",
    "            prog_bar=True,\n",
    "            logger=True,\n",
    "        )\n",
    "\n",
    "        return loss\n",
    "\n",
    "    def validation_step(self, batch, batch_idx):\n",
    "        x, y = batch[\"img\"], batch[\"label\"]\n",
    "        y_hat = torch.sigmoid(self.model(x))\n",
    "\n",
    "        loss = nn.BCELoss()(y_hat.squeeze(), y.float())\n",
    "        self.val_auc.update(y_hat.squeeze(), y.int())\n",
    "\n",
    "        self.log_dict(\n",
    "            {\"valid_loss\": loss, 'valid_auc': self.val_auc.compute()},\n",
    "            on_step=False,\n",
    "            on_epoch=True,\n",
    "            prog_bar=True,\n",
    "            logger=True,\n",
    "        )\n",
    "\n",
    "        return loss\n",
    "\n",
    "model = Model()"
   ]
  },
  {
   "cell_type": "code",
   "execution_count": 6,
   "metadata": {},
   "outputs": [
    {
     "name": "stderr",
     "output_type": "stream",
     "text": [
      "Global seed set to 0\n"
     ]
    },
    {
     "name": "stdout",
     "output_type": "stream",
     "text": [
      "2022-10-27 17:17:14,813 - Global seed set to 0\n"
     ]
    },
    {
     "name": "stderr",
     "output_type": "stream",
     "text": [
      "GPU available: True, used: True\n"
     ]
    },
    {
     "name": "stdout",
     "output_type": "stream",
     "text": [
      "2022-10-27 17:17:14,815 - GPU available: True, used: True\n"
     ]
    },
    {
     "name": "stderr",
     "output_type": "stream",
     "text": [
      "TPU available: None, using: 0 TPU cores\n"
     ]
    },
    {
     "name": "stdout",
     "output_type": "stream",
     "text": [
      "2022-10-27 17:17:14,816 - TPU available: None, using: 0 TPU cores\n",
      "2022-10-27 17:17:14,820 - LOCAL_RANK: 0 - CUDA_VISIBLE_DEVICES: [0]\n"
     ]
    },
    {
     "data": {
      "text/html": [
       "Tracking run with wandb version 0.13.4"
      ],
      "text/plain": [
       "<IPython.core.display.HTML object>"
      ]
     },
     "metadata": {},
     "output_type": "display_data"
    },
    {
     "data": {
      "text/html": [
       "Run data is saved locally in <code>c:\\Users\\user\\repos\\premium_dl_ct\\wandb\\run-20221027_171714-2h53wocf</code>"
      ],
      "text/plain": [
       "<IPython.core.display.HTML object>"
      ]
     },
     "metadata": {},
     "output_type": "display_data"
    },
    {
     "data": {
      "text/html": [
       "Syncing run <strong><a href=\"https://wandb.ai/renstermaat/project_skeleton_on_lung_lesions/runs/2h53wocf\" target=\"_blank\">hello1</a></strong> to <a href=\"https://wandb.ai/renstermaat/project_skeleton_on_lung_lesions\" target=\"_blank\">Weights & Biases</a> (<a href=\"https://wandb.me/run\" target=\"_blank\">docs</a>)<br/>"
      ],
      "text/plain": [
       "<IPython.core.display.HTML object>"
      ]
     },
     "metadata": {},
     "output_type": "display_data"
    },
    {
     "name": "stderr",
     "output_type": "stream",
     "text": [
      "\n",
      "  | Name      | Type        | Params\n",
      "------------------------------------------\n",
      "0 | model     | DenseNet121 | 11.2 M\n",
      "1 | train_auc | BinaryAUROC | 0     \n",
      "2 | val_auc   | BinaryAUROC | 0     \n",
      "------------------------------------------\n",
      "11.2 M    Trainable params\n",
      "0         Non-trainable params\n",
      "11.2 M    Total params\n",
      "44.975    Total estimated model params size (MB)\n"
     ]
    },
    {
     "name": "stdout",
     "output_type": "stream",
     "text": [
      "2022-10-27 17:17:15,627 - \n",
      "  | Name      | Type        | Params\n",
      "------------------------------------------\n",
      "0 | model     | DenseNet121 | 11.2 M\n",
      "1 | train_auc | BinaryAUROC | 0     \n",
      "2 | val_auc   | BinaryAUROC | 0     \n",
      "------------------------------------------\n",
      "11.2 M    Trainable params\n",
      "0         Non-trainable params\n",
      "11.2 M    Total params\n",
      "44.975    Total estimated model params size (MB)\n",
      "Epoch 49: 100%|██████████| 12/12 [00:06<00:00,  1.83it/s, loss=0.0164, v_num=wocf, valid_loss=0.432, valid_auc=0.869, train_loss=0.0155, train_auc=0.995]\n"
     ]
    },
    {
     "data": {
      "text/html": [
       "Waiting for W&B process to finish... <strong style=\"color:green\">(success).</strong>"
      ],
      "text/plain": [
       "<IPython.core.display.HTML object>"
      ]
     },
     "metadata": {},
     "output_type": "display_data"
    },
    {
     "data": {
      "text/html": [
       "<style>\n",
       "    table.wandb td:nth-child(1) { padding: 0 10px; text-align: left ; width: auto;} td:nth-child(2) {text-align: left ; width: 100%}\n",
       "    .wandb-row { display: flex; flex-direction: row; flex-wrap: wrap; justify-content: flex-start; width: 100% }\n",
       "    .wandb-col { display: flex; flex-direction: column; flex-basis: 100%; flex: 1; padding: 10px; }\n",
       "    </style>\n",
       "<div class=\"wandb-row\"><div class=\"wandb-col\"><h3>Run history:</h3><br/><table class=\"wandb\"><tr><td>epoch</td><td>▁▁▁▁▂▂▂▂▂▃▃▃▃▃▃▄▄▄▄▄▅▅▅▅▅▅▆▆▆▆▆▆▇▇▇▇▇███</td></tr><tr><td>train_auc</td><td>▁▂▃▄▅▅▆▆▆▇▇▇▇▇▇▇████████████████████████</td></tr><tr><td>train_loss</td><td>█▇▇▆▅▅▅▄▄▄▃▃▃▃▂▂▂▂▂▂▂▂▁▁▁▁▁▁▁▁▁▁▁▁▁▁▁▁▁▁</td></tr><tr><td>valid_auc</td><td>▁▂▃▃▅▅▅▆▆▆▆▇▇▇▇▇▇▇▇▇████████████████████</td></tr><tr><td>valid_loss</td><td>█▆▅▄▃▃▂▂▂▂▁▂▁▂▁▁▁▂▁▂▁▂▂▂▂▂▂▂▂▂▂▃▃▃▃▃▃▃▃▄</td></tr></table><br/></div><div class=\"wandb-col\"><h3>Run summary:</h3><br/><table class=\"wandb\"><tr><td>epoch</td><td>49</td></tr><tr><td>train_auc</td><td>0.99476</td></tr><tr><td>train_loss</td><td>0.01546</td></tr><tr><td>valid_auc</td><td>0.86924</td></tr><tr><td>valid_loss</td><td>0.43165</td></tr></table><br/></div></div>"
      ],
      "text/plain": [
       "<IPython.core.display.HTML object>"
      ]
     },
     "metadata": {},
     "output_type": "display_data"
    },
    {
     "data": {
      "text/html": [
       "Synced <strong style=\"color:#cdcd00\">hello1</strong>: <a href=\"https://wandb.ai/renstermaat/project_skeleton_on_lung_lesions/runs/2h53wocf\" target=\"_blank\">https://wandb.ai/renstermaat/project_skeleton_on_lung_lesions/runs/2h53wocf</a><br/>Synced 5 W&B file(s), 0 media file(s), 0 artifact file(s) and 1 other file(s)"
      ],
      "text/plain": [
       "<IPython.core.display.HTML object>"
      ]
     },
     "metadata": {},
     "output_type": "display_data"
    },
    {
     "data": {
      "text/html": [
       "Find logs at: <code>.\\wandb\\run-20221027_171714-2h53wocf\\logs</code>"
      ],
      "text/plain": [
       "<IPython.core.display.HTML object>"
      ]
     },
     "metadata": {},
     "output_type": "display_data"
    }
   ],
   "source": [
    "import wandb\n",
    "from pytorch_lightning.loggers import WandbLogger\n",
    "from pytorch_lightning import Trainer, seed_everything\n",
    "\n",
    "\n",
    "seed_everything(0)\n",
    "\n",
    "logger = WandbLogger(\n",
    "    name='hello1',\n",
    "    project='project_skeleton_on_lung_lesions',\n",
    ")\n",
    "\n",
    "trainer = Trainer(\n",
    "    max_epochs=50,\n",
    "    gpus=1,\n",
    "    deterministic=True,\n",
    "    fast_dev_run=False,\n",
    "    logger=logger\n",
    ")\n",
    "        \n",
    "trainer.fit(model, dm)\n",
    "\n",
    "wandb.finish()"
   ]
  },
  {
   "cell_type": "code",
   "execution_count": 17,
   "metadata": {},
   "outputs": [],
   "source": [
    "wandb.finish()"
   ]
  },
  {
   "cell_type": "code",
   "execution_count": null,
   "metadata": {},
   "outputs": [],
   "source": []
  }
 ],
 "metadata": {
  "kernelspec": {
   "display_name": "Python 3.9.1 ('conda-env')",
   "language": "python",
   "name": "python3"
  },
  "language_info": {
   "codemirror_mode": {
    "name": "ipython",
    "version": 3
   },
   "file_extension": ".py",
   "mimetype": "text/x-python",
   "name": "python",
   "nbconvert_exporter": "python",
   "pygments_lexer": "ipython3",
   "version": "3.9.1"
  },
  "orig_nbformat": 4,
  "vscode": {
   "interpreter": {
    "hash": "e155a5961ac9a2794d65e1939d0561747c6abc873218f9a8bb36a41ee161e8f8"
   }
  }
 },
 "nbformat": 4,
 "nbformat_minor": 2
}
