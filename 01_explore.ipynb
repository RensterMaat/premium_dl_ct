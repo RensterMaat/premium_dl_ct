{
 "cells": [
  {
   "cell_type": "code",
   "execution_count": 1,
   "metadata": {},
   "outputs": [],
   "source": [
    "from pathlib import Path\n",
    "\n",
    "def find_corresponding_scan(segmention_path):\n",
    "    scan_folder = Path(segmention_path).parent.parent / \"scans\"\n",
    "    scan_name = Path(segmention_path).name.split(\".\")[0][:-2] + \".nii.gz\"\n",
    "\n",
    "    return scan_folder / scan_name\n",
    "\n",
    "\n",
    "segmentation_path = r\"D:\\premium_data\\amphia\\monotherapy\\split_segmentations\\PREM_AM_001_0.nii.gz\"\n",
    "scan_path = find_corresponding_scan(segmentation_path)\n",
    "\n",
    "data = {\"img\": str(scan_path), \"seg\": str(segmentation_path)}"
   ]
  },
  {
   "cell_type": "code",
   "execution_count": 5,
   "metadata": {},
   "outputs": [],
   "source": [
    "from src.transforms import (\n",
    "    FindCentroid,\n",
    "    GetFixedROISize,\n",
    "    CropToCentroidWithSize,\n",
    "    PadForCrop,\n",
    "    Save,\n",
    "    OrthogonalSlices,\n",
    "    CropToROI,\n",
    "    GetZoomedROI,\n",
    "    PadForZoom\n",
    ")\n",
    "\n",
    "from monai.transforms import Identityd, Compose, LoadImaged, EnsureChannelFirstd, Resized, ScaleIntensityRanged\n",
    "\n",
    "class CropPreprocessor:\n",
    "    def __init__(self, output_root_folder, roi_size, output_size, output_dim):\n",
    "        self.output_root_folder = output_root_folder\n",
    "        self.roi_size = roi_size\n",
    "        self.output_size = output_size\n",
    "\n",
    "        assert output_dim in [2,3]\n",
    "        self.output_dim = output_dim\n",
    "\n",
    "        self.make_pipeline()\n",
    "\n",
    "    def make_pipeline(self):\n",
    "        self.pipeline = Compose([\n",
    "            LoadImaged(keys=[\"img\", \"seg\"]),\n",
    "            EnsureChannelFirstd(keys=[\"img\", \"seg\"]),\n",
    "            self.get_roi_selection_pipeline(),\n",
    "            Resized(keys=[\"img\"], spatial_size=[self.output_size] * 3),\n",
    "            ScaleIntensityRanged(\n",
    "                keys=[\"img\"], a_min=-1024, a_max=3000, b_min=0, b_max=1, clip=True\n",
    "            ),\n",
    "            self.get_dimensionality_selection(),\n",
    "            Save(output_dir=self.output_root_folder),\n",
    "        ])\n",
    "\n",
    "    # def get_roi_selection_pipeline(self):\n",
    "    #     return Compose([\n",
    "    #         FindCentroid(),\n",
    "    #         GetFixedROISize(self.roi_size),\n",
    "    #         CropPad(),\n",
    "    #         CropToROI(),\n",
    "    #     ])\n",
    "\n",
    "    def get_roi_selection_pipeline(self):\n",
    "        return Compose([\n",
    "            GetZoomedROI(0),\n",
    "            PadForZoom(),\n",
    "            CropToROI()\n",
    "        ])\n",
    "\n",
    "    def get_dimensionality_selection(self):\n",
    "        if self.output_dim == 2:\n",
    "            return OrthogonalSlices()\n",
    "        else:\n",
    "            return Identityd(keys=['img','seg'])\n",
    "\n",
    "    def __call__(self, data):\n",
    "        return self.pipeline(data)"
   ]
  },
  {
   "cell_type": "code",
   "execution_count": null,
   "metadata": {},
   "outputs": [],
   "source": [
    "class Preprocessor:\n",
    "    def __init__(self, output_folder, output_dim, output_size):\n",
    "        self.output_folder = output_folder\n",
    "        self.output_size = output_size\n",
    "\n",
    "        assert output_dim in [2,3]\n",
    "        self.output_dim = output_dim\n",
    "\n",
    "    def make_pipeline(self):\n",
    "        self.pipeline = Compose([\n",
    "            LoadImaged(keys=[\"img\", \"seg\"]),\n",
    "            EnsureChannelFirstd(keys=[\"img\", \"seg\"]),\n",
    "            self.roi_selection_pipeline,\n",
    "            Resized(keys=[\"img\"], spatial_size=[self.output_size] * 3),\n",
    "            ScaleIntensityRanged(\n",
    "                keys=[\"img\"], a_min=-1024, a_max=3000, b_min=0, b_max=1, clip=True\n",
    "            ),\n",
    "            self.get_dimensionality_selection(),\n",
    "            Save(output_dir=self.output_root_folder),\n",
    "        ])\n",
    "\n",
    "    def get_roi_selection_pipeline():\n",
    "        pass\n",
    "\n",
    "    def get_dimensionality_selection(self):\n",
    "        if self.output_dim == 2:\n",
    "            return OrthogonalSlices()\n",
    "        else:\n",
    "            return Identityd(keys=['img','seg'])\n",
    "\n",
    "    def __call__(self, data):\n",
    "        return self.pipeline(data)\n",
    "\n",
    "\n",
    "class CropPreprocessor(Preprocessor):\n",
    "    def __init__(self, output_folder, output_dim, output_size, roi_size):\n",
    "        super().__init__(output_folder, output_dim, output_size)\n",
    "\n",
    "        self.roi_selection_pipeline = Compose([\n",
    "            FindCentroid(),\n",
    "            GetFixedROISize(roi_size),\n",
    "            CropPad(),\n",
    "            CropToROI(),\n",
    "        ])\n",
    "\n",
    "class ZoomPreprocessor(Preprocessor):\n",
    "    def __init__(self, output_folder, output_dim, output_size, margin):\n",
    "        super().__init__(output_folder, output_dim, output_size)\n",
    "        self.margin = margin\n",
    "\n",
    "        self.roi_selection_pipeline = Compose([\n",
    "            GetZoomedROI(margin),\n",
    "            PadForZoom(),\n",
    "            CropToROI()\n",
    "        ])"
   ]
  },
  {
   "cell_type": "code",
   "execution_count": 6,
   "metadata": {},
   "outputs": [],
   "source": [
    "pipeline = CropPreprocessor(None, None, 128, 2)\n",
    "output = pipeline(data)"
   ]
  },
  {
   "cell_type": "code",
   "execution_count": 7,
   "metadata": {},
   "outputs": [
    {
     "name": "stderr",
     "output_type": "stream",
     "text": [
      "Matplotlib is currently using module://ipykernel.pylab.backend_inline, which is a non-GUI backend, so cannot show the figure.\n"
     ]
    },
    {
     "data": {
      "image/png": "[encoded data removed]",
      "text/plain": [
       "<Figure size 864x288 with 3 Axes>"
      ]
     },
     "metadata": {
      "needs_background": "light"
     },
     "output_type": "display_data"
    }
   ],
   "source": [
    "import matplotlib.pyplot as plt\n",
    "\n",
    "fig, ax = plt.subplots(1,3, figsize=(12,4))\n",
    "for ix in range(3):\n",
    "    ax[ix].imshow(output['img'][ix])\n",
    "fig.show()"
   ]
  },
  {
   "cell_type": "code",
   "execution_count": null,
   "metadata": {},
   "outputs": [],
   "source": []
  },
  {
   "cell_type": "code",
   "execution_count": 76,
   "metadata": {},
   "outputs": [],
   "source": [
    "import torch\n",
    "\n",
    "where = torch.where(output['seg'])[1:]\n",
    "bbox_min_coordinates = np.array([axis.min() for axis in where])\n",
    "bbox_max_coordinates = np.array([axis.max() for axis in where])\n",
    "bbox_dim = bbox_max_coordinates - bbox_min_coordinates\n",
    "\n",
    "pix_size = output['seg'].affine.diag().numpy()[:-1]\n",
    "bbox_size = bbox_dim * pix_size\n",
    "\n",
    "margin = 5\n",
    "roi_size = bbox_size.max() + margin\n",
    "\n",
    "roi_dim = roi_size / pix_dim\n",
    "margin_to_add = (roi_dim - bbox_dim) / 2\n",
    "roi_min_coordinates = (bbox_min_coordinates - margin_to_add).astype(int)\n",
    "roi_max_coordinates = (bbox_max_coordinates + margin_to_add).astype(int)"
   ]
  },
  {
   "cell_type": "code",
   "execution_count": 79,
   "metadata": {},
   "outputs": [
    {
     "data": {
      "text/plain": [
       "array([21.97265625, 21.97265625, 24.        ])"
      ]
     },
     "execution_count": 79,
     "metadata": {},
     "output_type": "execute_result"
    }
   ],
   "source": [
    "class GetZoomedROI(Transform):\n",
    "    def __init__(self, margin=10):\n",
    "        super().__init__()\n",
    "        self.margin = margin\n",
    "\n",
    "    def __call__(self, data):\n",
    "        where = torch.where(data['seg'])[1:]\n",
    "        bbox_min_coordinates = np.array([axis.min() for axis in where])\n",
    "        bbox_max_coordinates = np.array([axis.max() for axis in where])\n",
    "        bbox_dim = bbox_max_coordinates - bbox_min_coordinates\n",
    "\n",
    "        pix_size = data['seg'].affine.diag().numpy()[:-1]\n",
    "        bbox_size = bbox_dim * pix_size\n",
    "\n",
    "        margin = 5\n",
    "        roi_size = bbox_size.max() + margin\n",
    "\n",
    "        roi_dim = roi_size / pix_dim\n",
    "        margin_to_add = (roi_dim - bbox_dim) / 2\n",
    "        roi_min_coordinates = (bbox_min_coordinates - margin_to_add).astype(int)\n",
    "        roi_max_coordinates = (bbox_max_coordinates + margin_to_add).astype(int)\n",
    "\n",
    "        data['roi_start'] = roi_min_coordinates\n",
    "        data['roi_stop'] = roi_max_coordinates\n",
    "        data['pix_margin'] = np.ceil(margin_to_add).astype(int)\n",
    "\n",
    "        return data\n",
    "        \n",
    "\n",
    "class PadForZoom(Transform):\n",
    "    def __call__(self, data):\n",
    "        padder = BorderPad(data['pix_margin'], value=-1024)\n",
    "        data['img'] = padder(data['img'])\n",
    "        data['roi_start'] = data['roi_start'] + data['pix_margin']\n",
    "        data['roi_stop'] = data['roi_stop'] + data['pix_margin']\n",
    "\n",
    "        return data\n",
    "\n",
    "        "
   ]
  },
  {
   "cell_type": "code",
   "execution_count": 74,
   "metadata": {},
   "outputs": [
    {
     "ename": "NameError",
     "evalue": "name 'bbox_min_coordinates' is not defined",
     "output_type": "error",
     "traceback": [
      "\u001b[1;31m---------------------------------------------------------------------------\u001b[0m",
      "\u001b[1;31mNameError\u001b[0m                                 Traceback (most recent call last)",
      "\u001b[1;32m<ipython-input-74-0baef54f1f54>\u001b[0m in \u001b[0;36m<module>\u001b[1;34m\u001b[0m\n\u001b[0;32m      1\u001b[0m \u001b[0mmargin_to_add\u001b[0m \u001b[1;33m=\u001b[0m \u001b[1;33m(\u001b[0m\u001b[0mroi_dim\u001b[0m \u001b[1;33m-\u001b[0m \u001b[0mbbox_dim\u001b[0m\u001b[1;33m)\u001b[0m \u001b[1;33m/\u001b[0m \u001b[1;36m2\u001b[0m\u001b[1;33m\u001b[0m\u001b[1;33m\u001b[0m\u001b[0m\n\u001b[0;32m      2\u001b[0m \u001b[1;33m\u001b[0m\u001b[0m\n\u001b[1;32m----> 3\u001b[1;33m \u001b[0mroi_min_coordinates\u001b[0m \u001b[1;33m=\u001b[0m \u001b[1;33m(\u001b[0m\u001b[0mbbox_min_coordinates\u001b[0m \u001b[1;33m-\u001b[0m \u001b[0mmargin_to_add\u001b[0m\u001b[1;33m)\u001b[0m\u001b[1;33m.\u001b[0m\u001b[0mastype\u001b[0m\u001b[1;33m(\u001b[0m\u001b[0mint\u001b[0m\u001b[1;33m)\u001b[0m\u001b[1;33m\u001b[0m\u001b[1;33m\u001b[0m\u001b[0m\n\u001b[0m\u001b[0;32m      4\u001b[0m \u001b[0mroi_max_coordinates\u001b[0m \u001b[1;33m=\u001b[0m \u001b[1;33m(\u001b[0m\u001b[0mbbox_max_coordinates\u001b[0m \u001b[1;33m+\u001b[0m \u001b[0mmargin_to_add\u001b[0m\u001b[1;33m)\u001b[0m\u001b[1;33m.\u001b[0m\u001b[0mastype\u001b[0m\u001b[1;33m(\u001b[0m\u001b[0mint\u001b[0m\u001b[1;33m)\u001b[0m\u001b[1;33m\u001b[0m\u001b[1;33m\u001b[0m\u001b[0m\n",
      "\u001b[1;31mNameError\u001b[0m: name 'bbox_min_coordinates' is not defined"
     ]
    }
   ],
   "source": [
    "\n"
   ]
  },
  {
   "cell_type": "code",
   "execution_count": null,
   "metadata": {},
   "outputs": [],
   "source": []
  },
  {
   "cell_type": "code",
   "execution_count": 52,
   "metadata": {},
   "outputs": [
    {
     "data": {
      "text/plain": [
       "array([16.84570312, 16.84570312,  9.        ])"
      ]
     },
     "execution_count": 52,
     "metadata": {},
     "output_type": "execute_result"
    }
   ],
   "source": [
    "np.array([xmin, xmax, ymin, ymax, zmin, zmax])\n",
    "\n",
    "pix_dim = np.array([\n",
    "    xmax-xmin,\n",
    "    ymax-ymin,\n",
    "    zmax-zmin\n",
    "])\n",
    "pix_dim * output['seg'].affine.diag().numpy()[:-1]"
   ]
  },
  {
   "cell_type": "code",
   "execution_count": 50,
   "metadata": {},
   "outputs": [
    {
     "data": {
      "text/plain": [
       "tensor([0.7324, 0.7324, 3.0000], dtype=torch.float64)"
      ]
     },
     "execution_count": 50,
     "metadata": {},
     "output_type": "execute_result"
    }
   ],
   "source": [
    "output['seg'].affine.diag()[:-1]"
   ]
  },
  {
   "cell_type": "code",
   "execution_count": 39,
   "metadata": {},
   "outputs": [
    {
     "data": {
      "text/plain": [
       "tensor([[[0.2322, 0.2322, 0.2333,  ..., 0.2795, 0.2826, 0.2826],\n",
       "         [0.2289, 0.2289, 0.2307,  ..., 0.2802, 0.2818, 0.2818],\n",
       "         [0.2270, 0.2270, 0.2292,  ..., 0.2862, 0.2857, 0.2857],\n",
       "         ...,\n",
       "         [0.0518, 0.0518, 0.0566,  ..., 0.1306, 0.1323, 0.1323],\n",
       "         [0.0214, 0.0214, 0.0220,  ..., 0.0304, 0.0306, 0.0306],\n",
       "         [0.0239, 0.0239, 0.0229,  ..., 0.0214, 0.0198, 0.0198]],\n",
       "\n",
       "        [[0.2218, 0.2218, 0.2239,  ..., 0.2344, 0.2208, 0.2208],\n",
       "         [0.2229, 0.2229, 0.2246,  ..., 0.2437, 0.2397, 0.2397],\n",
       "         [0.2222, 0.2222, 0.2227,  ..., 0.2444, 0.2465, 0.2465],\n",
       "         ...,\n",
       "         [0.2273, 0.2273, 0.2250,  ..., 0.2547, 0.2506, 0.2506],\n",
       "         [0.2249, 0.2249, 0.2230,  ..., 0.2539, 0.2517, 0.2517],\n",
       "         [0.2294, 0.2294, 0.2271,  ..., 0.2567, 0.2529, 0.2529]],\n",
       "\n",
       "        [[0.2218, 0.2218, 0.2239,  ..., 0.2344, 0.2208, 0.2208],\n",
       "         [0.2229, 0.2229, 0.2246,  ..., 0.2437, 0.2397, 0.2397],\n",
       "         [0.2222, 0.2222, 0.2227,  ..., 0.2444, 0.2465, 0.2465],\n",
       "         ...,\n",
       "         [0.2273, 0.2273, 0.2250,  ..., 0.2547, 0.2506, 0.2506],\n",
       "         [0.2249, 0.2249, 0.2230,  ..., 0.2539, 0.2517, 0.2517],\n",
       "         [0.2294, 0.2294, 0.2271,  ..., 0.2567, 0.2529, 0.2529]]])\n",
       "Metadata\n",
       "\tsizeof_hdr: 348\n",
       "\textents: 0\n",
       "\tsession_error: 0\n",
       "\tdim_info: 0\n",
       "\tdim: [  3 512 512 263   1   1   1   1]\n",
       "\tintent_p1: 0.0\n",
       "\tintent_p2: 0.0\n",
       "\tintent_p3: 0.0\n",
       "\tintent_code: 0\n",
       "\tdatatype: 4\n",
       "\tbitpix: 16\n",
       "\tslice_start: 0\n",
       "\tpixdim: [1.        0.7324219 0.7324219 3.        1.        1.        1.\n",
       " 1.       ]\n",
       "\tvox_offset: 0.0\n",
       "\tscl_slope: nan\n",
       "\tscl_inter: nan\n",
       "\tslice_end: 0\n",
       "\tslice_code: 0\n",
       "\txyzt_units: 0\n",
       "\tcal_max: 0.0\n",
       "\tcal_min: 0.0\n",
       "\tslice_duration: 0.0\n",
       "\ttoffset: 0.0\n",
       "\tglmax: 0\n",
       "\tglmin: 0\n",
       "\tqform_code: 0\n",
       "\tsform_code: 2\n",
       "\tquatern_b: 0.0\n",
       "\tquatern_c: 0.0\n",
       "\tquatern_d: 0.0\n",
       "\tqoffset_x: 0.0\n",
       "\tqoffset_y: 0.0\n",
       "\tqoffset_z: 0.0\n",
       "\tsrow_x: [0.7324219 0.        0.        0.       ]\n",
       "\tsrow_y: [0.        0.7324219 0.        0.       ]\n",
       "\tsrow_z: [0. 0. 3. 0.]\n",
       "\taffine: tensor([[ 1.0376,  0.0000,  0.0000,  0.1526],\n",
       "        [ 0.0000,  1.0376,  0.0000,  0.1526],\n",
       "        [ 0.0000,  0.0000,  1.0312, -0.9844],\n",
       "        [ 0.0000,  0.0000,  0.0000,  1.0000]], dtype=torch.float64)\n",
       "\toriginal_affine: [[0.73242188 0.         0.         0.        ]\n",
       " [0.         0.73242188 0.         0.        ]\n",
       " [0.         0.         3.         0.        ]\n",
       " [0.         0.         0.         1.        ]]\n",
       "\tas_closest_canonical: False\n",
       "\tspatial_shape: [136 136  33]\n",
       "\tspace: RAS\n",
       "\toriginal_channel_dim: no_channel\n",
       "\tfilename_or_obj: D:\\premium_data\\amphia\\monotherapy\\scans\\PREM_AM_001.nii.gz\n",
       "\n",
       "Applied operations\n",
       "[ { class: 'BorderPad',\n",
       "    extra_info: {'padded': [(0, 0), (68, 68), (68, 68), (17, 17)]},\n",
       "    id: 1285078089632,\n",
       "    orig_size: (512, 512, 263)},\n",
       "  { class: 'SpatialCrop',\n",
       "    extra_info: {'cropped': [104, 408, 441, 71, 115, 149]},\n",
       "    id: 1285078089632,\n",
       "    orig_size: (648, 648, 297)},\n",
       "  { class: 'Resize',\n",
       "    extra_info: {'align_corners': none, 'mode': area, 'new_dim': 0},\n",
       "    id: 1285078022800,\n",
       "    orig_size: (136, 136, 33)}]\n",
       "Is batch?: False"
      ]
     },
     "execution_count": 39,
     "metadata": {},
     "output_type": "execute_result"
    }
   ],
   "source": []
  },
  {
   "cell_type": "code",
   "execution_count": null,
   "metadata": {},
   "outputs": [],
   "source": []
  }
 ],
 "metadata": {
  "kernelspec": {
   "display_name": "Python 3.9.1 ('conda-env')",
   "language": "python",
   "name": "python3"
  },
  "language_info": {
   "codemirror_mode": {
    "name": "ipython",
    "version": 3
   },
   "file_extension": ".py",
   "mimetype": "text/x-python",
   "name": "python",
   "nbconvert_exporter": "python",
   "pygments_lexer": "ipython3",
   "version": "3.9.1"
  },
  "orig_nbformat": 4,
  "vscode": {
   "interpreter": {
    "hash": "e155a5961ac9a2794d65e1939d0561747c6abc873218f9a8bb36a41ee161e8f8"
   }
  }
 },
 "nbformat": 4,
 "nbformat_minor": 2
}
