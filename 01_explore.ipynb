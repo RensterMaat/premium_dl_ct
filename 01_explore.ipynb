{
 "cells": [
  {
   "cell_type": "code",
   "execution_count": 1,
   "metadata": {},
   "outputs": [
    {
     "name": "stderr",
     "output_type": "stream",
     "text": [
      "Loading dataset: 100%|██████████| 123/123 [00:12<00:00,  9.90it/s]\n",
      "Loading dataset: 100%|██████████| 42/42 [00:04<00:00, 10.14it/s]\n",
      "Loading dataset: 100%|██████████| 56/56 [00:05<00:00,  9.91it/s]\n"
     ]
    }
   ],
   "source": [
    "from src.data import DataModule\n",
    "\n",
    "dm = DataModule(\n",
    "    r\"C:\\Users\\user\\data\\dl_radiomics\\preprocessed_3d\",\n",
    "    r\"C:\\Users\\user\\data\\tables\\lesion_followup_curated_v4.csv\",\n",
    "    \"lung\",\n",
    "    \"mst\",\n",
    ")\n",
    "dm.setup()"
   ]
  },
  {
   "cell_type": "code",
   "execution_count": 2,
   "metadata": {},
   "outputs": [
    {
     "name": "stderr",
     "output_type": "stream",
     "text": [
      "Columns (28,33,186,190,236,248,252,371,376,433,470,480,525,532,535,543,544,546,549,551,552,553,573,574,575,576,581,585,655,706,752,761) have mixed types.Specify dtype option on import or set low_memory=False.\n"
     ]
    }
   ],
   "source": [
    "import torch\n",
    "import numpy as np\n",
    "import pandas as pd\n",
    "import torch.nn as nn\n",
    "import wandb\n",
    "from torchmetrics.classification import BinaryAUROC, Accuracy\n",
    "from pytorch_lightning.loggers import WandbLogger\n",
    "from pytorch_lightning import LightningModule, Trainer, seed_everything\n",
    "from monai.networks.nets.densenet import DenseNet121\n",
    "\n",
    "\n",
    "class Model(LightningModule):\n",
    "    def __init__(self, aggregation_function='mean'):\n",
    "        super().__init__()\n",
    "        self.model = DenseNet121(spatial_dims=3, in_channels=1, out_channels=1)\n",
    "        self.aggregation_function = aggregation_function\n",
    "\n",
    "        self.train_auc = BinaryAUROC(pos_label=1)\n",
    "        self.val_auc = BinaryAUROC(pos_label=1)\n",
    "\n",
    "        self.train_patient_auc = BinaryAUROC(pos_label=1)\n",
    "        self.val_patient_auc = BinaryAUROC(pos_label=1)\n",
    "\n",
    "        self.patient_labels = pd.read_csv(r'C:\\Users\\user\\data\\tables\\dmtr.csv').set_index('id')['locafmetlong'].fillna(0)\n",
    "\n",
    "    def forward(self, x):\n",
    "        return self.model(x)\n",
    "\n",
    "    def configure_optimizers(self):\n",
    "        optimizer = torch.optim.SGD(self.model.parameters(), lr=1e-2)\n",
    "\n",
    "        return optimizer\n",
    "\n",
    "    def training_step(self, batch, batch_idx):\n",
    "        x, y = batch[\"img\"], batch[\"label\"]\n",
    "        y_hat = torch.sigmoid(self.model(x))\n",
    "\n",
    "        loss = nn.BCELoss()(y_hat.squeeze(), y.float())\n",
    "        self.train_auc.update(y_hat.squeeze(), y.int())\n",
    "\n",
    "        patient_level_preds = self.get_patient_level_preds(y_hat, batch['patient'])\n",
    "        patient_level_labels = self.get_corresponding_patient_level_labels(patient_level_preds.index)\n",
    "\n",
    "        self.train_patient_auc.update(\n",
    "            torch.tensor(patient_level_preds.values), \n",
    "            patient_level_labels\n",
    "        )\n",
    "\n",
    "        self.log_dict(\n",
    "            {\"train_loss\": loss, 'train_auc': self.train_auc.compute(), 'train_patient_auc':self.train_patient_auc.compute()},\n",
    "            on_step=False,\n",
    "            on_epoch=True,\n",
    "            prog_bar=True,\n",
    "            logger=True,\n",
    "        )\n",
    "\n",
    "        return loss\n",
    "\n",
    "    def validation_step(self, batch, batch_idx):\n",
    "        x, y = batch[\"img\"], batch[\"label\"]\n",
    "        y_hat = torch.sigmoid(self.model(x))\n",
    "\n",
    "        loss = nn.BCELoss()(y_hat.squeeze(), y.float())\n",
    "        self.val_auc.update(y_hat.squeeze(), y.int())\n",
    "\n",
    "        patient_level_preds = self.get_patient_level_preds(y_hat, batch['patient'])\n",
    "        patient_level_labels = self.get_corresponding_patient_level_labels(patient_level_preds.index)\n",
    "\n",
    "        self.val_patient_auc.update(\n",
    "            torch.tensor(patient_level_preds.values), \n",
    "            patient_level_labels\n",
    "        )\n",
    "\n",
    "        self.log_dict(\n",
    "            {\"valid_loss\": loss, 'valid_auc': self.val_auc.compute(), 'valid_patient_auc':self.val_patient_auc.compute()},\n",
    "            on_step=False,\n",
    "            on_epoch=True,\n",
    "            prog_bar=True,\n",
    "            logger=True,\n",
    "        )\n",
    "\n",
    "        return loss\n",
    "\n",
    "    def get_patient_level_preds(self, preds, patients):\n",
    "        results = pd.DataFrame([patients, preds.squeeze()], index=['patient','preds']).transpose()\n",
    "        patient_level_preds = results.groupby('patient').preds.apply(self.get_aggregation_function()).apply(np.array)\n",
    "\n",
    "        return patient_level_preds\n",
    "\n",
    "    def get_corresponding_patient_level_labels(self, patients):\n",
    "        return torch.tensor(self.patient_labels.loc[patients].values)\n",
    "\n",
    "    def get_aggregation_function(self):\n",
    "        if self.aggregation_function == 'mean':\n",
    "            return np.mean\n",
    "        elif self.aggregation_function == 'max':\n",
    "            return np.max\n",
    "        elif self.aggregation_function == 'min':\n",
    "            return np.min\n",
    "\n",
    "model = Model()"
   ]
  },
  {
   "cell_type": "code",
   "execution_count": 3,
   "metadata": {},
   "outputs": [
    {
     "name": "stderr",
     "output_type": "stream",
     "text": [
      "Global seed set to 0\n"
     ]
    },
    {
     "name": "stdout",
     "output_type": "stream",
     "text": [
      "2022-10-28 08:16:03,480 - Global seed set to 0\n"
     ]
    },
    {
     "name": "stderr",
     "output_type": "stream",
     "text": [
      "GPU available: True, used: True\n"
     ]
    },
    {
     "name": "stdout",
     "output_type": "stream",
     "text": [
      "2022-10-28 08:16:03,527 - GPU available: True, used: True\n"
     ]
    },
    {
     "name": "stderr",
     "output_type": "stream",
     "text": [
      "TPU available: None, using: 0 TPU cores\n"
     ]
    },
    {
     "name": "stdout",
     "output_type": "stream",
     "text": [
      "2022-10-28 08:16:03,528 - TPU available: None, using: 0 TPU cores\n",
      "2022-10-28 08:16:03,532 - LOCAL_RANK: 0 - CUDA_VISIBLE_DEVICES: [0]\n",
      "2022-10-28 08:16:05,322 - Failed to detect the name of this notebook, you can set it manually with the WANDB_NOTEBOOK_NAME environment variable to enable code saving.\n"
     ]
    },
    {
     "name": "stderr",
     "output_type": "stream",
     "text": [
      "\u001b[34m\u001b[1mwandb\u001b[0m: Currently logged in as: \u001b[33mrenstermaat\u001b[0m. Use \u001b[1m`wandb login --relogin`\u001b[0m to force relogin\n"
     ]
    },
    {
     "data": {
      "text/html": [
       "Tracking run with wandb version 0.13.4"
      ],
      "text/plain": [
       "<IPython.core.display.HTML object>"
      ]
     },
     "metadata": {},
     "output_type": "display_data"
    },
    {
     "data": {
      "text/html": [
       "Run data is saved locally in <code>c:\\Users\\user\\repos\\premium_dl_ct\\wandb\\run-20221028_081607-1cvihksk</code>"
      ],
      "text/plain": [
       "<IPython.core.display.HTML object>"
      ]
     },
     "metadata": {},
     "output_type": "display_data"
    },
    {
     "data": {
      "text/html": [
       "Syncing run <strong><a href=\"https://wandb.ai/renstermaat/project_skeleton_on_lung_lesions/runs/1cvihksk\" target=\"_blank\">hello3</a></strong> to <a href=\"https://wandb.ai/renstermaat/project_skeleton_on_lung_lesions\" target=\"_blank\">Weights & Biases</a> (<a href=\"https://wandb.me/run\" target=\"_blank\">docs</a>)<br/>"
      ],
      "text/plain": [
       "<IPython.core.display.HTML object>"
      ]
     },
     "metadata": {},
     "output_type": "display_data"
    },
    {
     "name": "stderr",
     "output_type": "stream",
     "text": [
      "\n",
      "  | Name              | Type        | Params\n",
      "--------------------------------------------------\n",
      "0 | model             | DenseNet121 | 11.2 M\n",
      "1 | train_auc         | BinaryAUROC | 0     \n",
      "2 | val_auc           | BinaryAUROC | 0     \n",
      "3 | train_patient_auc | BinaryAUROC | 0     \n",
      "4 | val_patient_auc   | BinaryAUROC | 0     \n",
      "--------------------------------------------------\n",
      "11.2 M    Trainable params\n",
      "0         Non-trainable params\n",
      "11.2 M    Total params\n",
      "44.975    Total estimated model params size (MB)\n"
     ]
    },
    {
     "name": "stdout",
     "output_type": "stream",
     "text": [
      "2022-10-28 08:16:08,083 - \n",
      "  | Name              | Type        | Params\n",
      "--------------------------------------------------\n",
      "0 | model             | DenseNet121 | 11.2 M\n",
      "1 | train_auc         | BinaryAUROC | 0     \n",
      "2 | val_auc           | BinaryAUROC | 0     \n",
      "3 | train_patient_auc | BinaryAUROC | 0     \n",
      "4 | val_patient_auc   | BinaryAUROC | 0     \n",
      "--------------------------------------------------\n",
      "11.2 M    Trainable params\n",
      "0         Non-trainable params\n",
      "11.2 M    Total params\n",
      "44.975    Total estimated model params size (MB)\n",
      "Epoch 0:   0%|          | 0/12 [00:00<?, ?it/s]                       "
     ]
    },
    {
     "name": "stderr",
     "output_type": "stream",
     "text": [
      "No positive samples in targets, true positive value should be meaningless. Returning zero tensor in true positive score\n"
     ]
    },
    {
     "name": "stdout",
     "output_type": "stream",
     "text": [
      "Epoch 49: 100%|██████████| 12/12 [00:06<00:00,  1.93it/s, loss=0.0176, v_num=hksk, valid_loss=0.394, valid_auc=0.866, valid_patient_auc=0.752, train_loss=0.0168, train_auc=0.994, train_patient_auc=0.855]\n"
     ]
    },
    {
     "data": {
      "text/html": [
       "Waiting for W&B process to finish... <strong style=\"color:green\">(success).</strong>"
      ],
      "text/plain": [
       "<IPython.core.display.HTML object>"
      ]
     },
     "metadata": {},
     "output_type": "display_data"
    },
    {
     "data": {
      "application/vnd.jupyter.widget-view+json": {
       "model_id": "ff86cd1d67cf43aaa6e0e7e6d878fe2b",
       "version_major": 2,
       "version_minor": 0
      },
      "text/plain": [
       "VBox(children=(Label(value='0.000 MB of 0.000 MB uploaded (0.000 MB deduped)\\r'), FloatProgress(value=1.0, max…"
      ]
     },
     "metadata": {},
     "output_type": "display_data"
    },
    {
     "data": {
      "text/html": [
       "<style>\n",
       "    table.wandb td:nth-child(1) { padding: 0 10px; text-align: left ; width: auto;} td:nth-child(2) {text-align: left ; width: 100%}\n",
       "    .wandb-row { display: flex; flex-direction: row; flex-wrap: wrap; justify-content: flex-start; width: 100% }\n",
       "    .wandb-col { display: flex; flex-direction: column; flex-basis: 100%; flex: 1; padding: 10px; }\n",
       "    </style>\n",
       "<div class=\"wandb-row\"><div class=\"wandb-col\"><h3>Run history:</h3><br/><table class=\"wandb\"><tr><td>epoch</td><td>▁▁▁▁▂▂▂▂▂▃▃▃▃▃▃▄▄▄▄▄▅▅▅▅▅▅▆▆▆▆▆▆▇▇▇▇▇███</td></tr><tr><td>train_auc</td><td>▁▂▃▅▆▆▆▇▇▇▇▇▇███████████████████████████</td></tr><tr><td>train_loss</td><td>█▆▆▅▅▄▄▄▃▃▃▃▂▂▂▂▂▂▂▂▁▁▁▁▁▁▁▁▁▁▁▁▁▁▁▁▁▁▁▁</td></tr><tr><td>train_patient_auc</td><td>▁▄▅▆▇▇▇▇████████████████████████████████</td></tr><tr><td>valid_auc</td><td>▁▂▃▃▄▅▅▆▆▆▇▇▇▇▇▇▇▇▇▇████████████████████</td></tr><tr><td>valid_loss</td><td>█▇██▄▃▃▂▂▂▂▁▁▂▁▁▁▃▁▁▁▁▁▁▁▁▂▂▂▁▂▂▂▂▂▂▂▂▂▂</td></tr><tr><td>valid_patient_auc</td><td>▁▂▂▂▂▃▃▄▄▅▅▅▆▆▆▆▆▇▇▇▇▇▇▇▇▇▇▇████████████</td></tr></table><br/></div><div class=\"wandb-col\"><h3>Run summary:</h3><br/><table class=\"wandb\"><tr><td>epoch</td><td>49</td></tr><tr><td>train_auc</td><td>0.99443</td></tr><tr><td>train_loss</td><td>0.01679</td></tr><tr><td>train_patient_auc</td><td>0.85539</td></tr><tr><td>valid_auc</td><td>0.86607</td></tr><tr><td>valid_loss</td><td>0.3943</td></tr><tr><td>valid_patient_auc</td><td>0.7521</td></tr></table><br/></div></div>"
      ],
      "text/plain": [
       "<IPython.core.display.HTML object>"
      ]
     },
     "metadata": {},
     "output_type": "display_data"
    },
    {
     "data": {
      "text/html": [
       "Synced <strong style=\"color:#cdcd00\">hello3</strong>: <a href=\"https://wandb.ai/renstermaat/project_skeleton_on_lung_lesions/runs/1cvihksk\" target=\"_blank\">https://wandb.ai/renstermaat/project_skeleton_on_lung_lesions/runs/1cvihksk</a><br/>Synced 5 W&B file(s), 0 media file(s), 0 artifact file(s) and 1 other file(s)"
      ],
      "text/plain": [
       "<IPython.core.display.HTML object>"
      ]
     },
     "metadata": {},
     "output_type": "display_data"
    },
    {
     "data": {
      "text/html": [
       "Find logs at: <code>.\\wandb\\run-20221028_081607-1cvihksk\\logs</code>"
      ],
      "text/plain": [
       "<IPython.core.display.HTML object>"
      ]
     },
     "metadata": {},
     "output_type": "display_data"
    }
   ],
   "source": [
    "import wandb\n",
    "from pytorch_lightning.loggers import WandbLogger\n",
    "from pytorch_lightning import Trainer, seed_everything\n",
    "\n",
    "\n",
    "seed_everything(0)\n",
    "\n",
    "logger = WandbLogger(\n",
    "    name='hello3',\n",
    "    project='project_skeleton_on_lung_lesions',\n",
    ")\n",
    "\n",
    "trainer = Trainer(\n",
    "    max_epochs=50,\n",
    "    gpus=1,\n",
    "    deterministic=True,\n",
    "    fast_dev_run=False,\n",
    "    logger=logger\n",
    ")\n",
    "        \n",
    "trainer.fit(model, dm)\n",
    "\n",
    "wandb.finish()"
   ]
  },
  {
   "cell_type": "code",
   "execution_count": 20,
   "metadata": {},
   "outputs": [],
   "source": [
    "x = next(iter(dm.train_dataloader()))\n",
    "\n",
    "y_hat = model(x['img'])"
   ]
  },
  {
   "cell_type": "code",
   "execution_count": 21,
   "metadata": {},
   "outputs": [
    {
     "ename": "TypeError",
     "evalue": "can't convert np.ndarray of type numpy.object_. The only supported types are: float64, float32, float16, complex64, complex128, int64, int32, int16, int8, uint8, and bool.",
     "output_type": "error",
     "traceback": [
      "\u001b[1;31m---------------------------------------------------------------------------\u001b[0m",
      "\u001b[1;31mTypeError\u001b[0m                                 Traceback (most recent call last)",
      "\u001b[1;32m<ipython-input-21-20e4aaf38318>\u001b[0m in \u001b[0;36m<module>\u001b[1;34m\u001b[0m\n\u001b[0;32m      1\u001b[0m \u001b[0mresults\u001b[0m \u001b[1;33m=\u001b[0m \u001b[0mpd\u001b[0m\u001b[1;33m.\u001b[0m\u001b[0mDataFrame\u001b[0m\u001b[1;33m(\u001b[0m\u001b[1;33m[\u001b[0m\u001b[0mx\u001b[0m\u001b[1;33m[\u001b[0m\u001b[1;34m'patient'\u001b[0m\u001b[1;33m]\u001b[0m\u001b[1;33m,\u001b[0m \u001b[0my_hat\u001b[0m\u001b[1;33m.\u001b[0m\u001b[0msqueeze\u001b[0m\u001b[1;33m(\u001b[0m\u001b[1;33m)\u001b[0m\u001b[1;33m]\u001b[0m\u001b[1;33m,\u001b[0m \u001b[0mindex\u001b[0m\u001b[1;33m=\u001b[0m\u001b[1;33m[\u001b[0m\u001b[1;34m'patient'\u001b[0m\u001b[1;33m,\u001b[0m\u001b[1;34m'preds'\u001b[0m\u001b[1;33m]\u001b[0m\u001b[1;33m)\u001b[0m\u001b[1;33m.\u001b[0m\u001b[0mtranspose\u001b[0m\u001b[1;33m(\u001b[0m\u001b[1;33m)\u001b[0m\u001b[1;33m\u001b[0m\u001b[1;33m\u001b[0m\u001b[0m\n\u001b[1;32m----> 2\u001b[1;33m \u001b[0mpatient_preds\u001b[0m \u001b[1;33m=\u001b[0m \u001b[0mtorch\u001b[0m\u001b[1;33m.\u001b[0m\u001b[0mtensor\u001b[0m\u001b[1;33m(\u001b[0m\u001b[0mresults\u001b[0m\u001b[1;33m.\u001b[0m\u001b[0mgroupby\u001b[0m\u001b[1;33m(\u001b[0m\u001b[1;34m'patient'\u001b[0m\u001b[1;33m)\u001b[0m\u001b[1;33m.\u001b[0m\u001b[0mpreds\u001b[0m\u001b[1;33m.\u001b[0m\u001b[0mapply\u001b[0m\u001b[1;33m(\u001b[0m\u001b[0mnp\u001b[0m\u001b[1;33m.\u001b[0m\u001b[0mmax\u001b[0m\u001b[1;33m)\u001b[0m\u001b[1;33m.\u001b[0m\u001b[0mvalues\u001b[0m\u001b[1;33m)\u001b[0m\u001b[1;33m\u001b[0m\u001b[1;33m\u001b[0m\u001b[0m\n\u001b[0m",
      "\u001b[1;31mTypeError\u001b[0m: can't convert np.ndarray of type numpy.object_. The only supported types are: float64, float32, float16, complex64, complex128, int64, int32, int16, int8, uint8, and bool."
     ]
    }
   ],
   "source": [
    "results = pd.DataFrame([x['patient'], y_hat.squeeze()], index=['patient','preds']).transpose()\n",
    "patient_preds = torch.tensor(results.groupby('patient').preds.apply(np.max).values)"
   ]
  },
  {
   "cell_type": "code",
   "execution_count": 25,
   "metadata": {},
   "outputs": [
    {
     "data": {
      "text/plain": [
       "patient\n",
       "PREM_ZU_008   -1.273657\n",
       "PREM_ZU_012   -1.483079\n",
       "PREM_ZU_017   -1.594422\n",
       "Name: preds, dtype: float64"
      ]
     },
     "execution_count": 25,
     "metadata": {},
     "output_type": "execute_result"
    }
   ],
   "source": [
    "results.groupby('patient').preds.apply(np.max).apply(np.array)"
   ]
  },
  {
   "cell_type": "code",
   "execution_count": 33,
   "metadata": {},
   "outputs": [],
   "source": [
    "labels = torch.tensor(model.patient_labels.loc[x['patient']].values)"
   ]
  },
  {
   "cell_type": "code",
   "execution_count": 34,
   "metadata": {},
   "outputs": [
    {
     "name": "stderr",
     "output_type": "stream",
     "text": [
      "No positive samples in targets, true positive value should be meaningless. Returning zero tensor in true positive score\n"
     ]
    },
    {
     "data": {
      "text/plain": [
       "tensor(0., dtype=torch.float64)"
      ]
     },
     "execution_count": 34,
     "metadata": {},
     "output_type": "execute_result"
    }
   ],
   "source": [
    "BinaryAUROC(pos_label=1)(patient_preds, labels)"
   ]
  },
  {
   "cell_type": "code",
   "execution_count": 28,
   "metadata": {},
   "outputs": [
    {
     "data": {
      "text/plain": [
       "array([-0.12188261,  0.02286573,  0.0823191 , -0.12367885])"
      ]
     },
     "execution_count": 28,
     "metadata": {},
     "output_type": "execute_result"
    }
   ],
   "source": [
    "patient_preds"
   ]
  },
  {
   "cell_type": "code",
   "execution_count": null,
   "metadata": {},
   "outputs": [],
   "source": []
  }
 ],
 "metadata": {
  "kernelspec": {
   "display_name": "Python 3.9.1 ('conda-env')",
   "language": "python",
   "name": "python3"
  },
  "language_info": {
   "codemirror_mode": {
    "name": "ipython",
    "version": 3
   },
   "file_extension": ".py",
   "mimetype": "text/x-python",
   "name": "python",
   "nbconvert_exporter": "python",
   "pygments_lexer": "ipython3",
   "version": "3.9.1"
  },
  "orig_nbformat": 4,
  "vscode": {
   "interpreter": {
    "hash": "e155a5961ac9a2794d65e1939d0561747c6abc873218f9a8bb36a41ee161e8f8"
   }
  }
 },
 "nbformat": 4,
 "nbformat_minor": 2
}
