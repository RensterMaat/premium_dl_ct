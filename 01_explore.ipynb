{
 "cells": [
  {
   "cell_type": "code",
   "execution_count": 1,
   "metadata": {},
   "outputs": [],
   "source": [
    "from monai.transforms import LoadImaged, EnsureChannelFirstd, Compose\n",
    "from src.transforms import (\n",
    "    FindCentroid,\n",
    "    GetFixedROISize,\n",
    "    CropToCentroidWithSize,\n",
    "    PadForCrop,\n",
    "    Save,\n",
    "    OrthogonalSlices,\n",
    "    CropToROI,\n",
    "    GetZoomedROI,\n",
    "    PadForZoom,\n",
    ")\n",
    "from pathlib import Path\n",
    "\n",
    "def find_corresponding_scan(segmention_path):\n",
    "    scan_folder = Path(segmention_path).parent.parent / \"scans\"\n",
    "    scan_name = Path(segmention_path).name.split(\".\")[0][:-2] + \".nii.gz\"\n",
    "\n",
    "    return scan_folder / scan_name\n",
    "\n",
    "pipeline = Compose([\n",
    "    LoadImaged(keys=[\"img\", \"seg\"]),\n",
    "    EnsureChannelFirstd(keys=[\"img\", \"seg\"]),\n",
    "])\n",
    "\n",
    "\n",
    "segmentation_path = r'D:\\premium_data\\lumc\\monotherapy\\split_segmentations\\PREM_LU_009_0.nii.gz'\n",
    "scan_path = find_corresponding_scan(segmentation_path)\n",
    "data = {'img':scan_path, 'seg':segmentation_path}\n",
    "\n",
    "output = pipeline(data)\n"
   ]
  },
  {
   "cell_type": "code",
   "execution_count": 5,
   "metadata": {},
   "outputs": [],
   "source": [
    "select = Compose(\n",
    "    [\n",
    "        FindCentroid(),\n",
    "        GetFixedROISize(10),\n",
    "        PadForCrop(),\n",
    "        CropToCentroidWithSize(),\n",
    "    ]\n",
    ")\n",
    "\n",
    "roi = select(output)"
   ]
  },
  {
   "cell_type": "code",
   "execution_count": 6,
   "metadata": {},
   "outputs": [
    {
     "data": {
      "text/plain": [
       "array([222, 269, 522])"
      ]
     },
     "execution_count": 6,
     "metadata": {},
     "output_type": "execute_result"
    }
   ],
   "source": [
    "roi['centroid']"
   ]
  },
  {
   "cell_type": "code",
   "execution_count": 9,
   "metadata": {},
   "outputs": [
    {
     "data": {
      "text/html": [
       "Finishing last run (ID:129t2vbn) before initializing another..."
      ],
      "text/plain": [
       "<IPython.core.display.HTML object>"
      ]
     },
     "metadata": {},
     "output_type": "display_data"
    },
    {
     "data": {
      "text/html": [
       "Waiting for W&B process to finish... <strong style=\"color:green\">(success).</strong>"
      ],
      "text/plain": [
       "<IPython.core.display.HTML object>"
      ]
     },
     "metadata": {},
     "output_type": "display_data"
    },
    {
     "data": {
      "text/html": [
       "Synced <strong style=\"color:#cdcd00\">helpful-morning-31</strong>: <a href=\"https://wandb.ai/renstermaat/uncategorized/runs/129t2vbn\" target=\"_blank\">https://wandb.ai/renstermaat/uncategorized/runs/129t2vbn</a><br/>Synced 5 W&B file(s), 0 media file(s), 0 artifact file(s) and 0 other file(s)"
      ],
      "text/plain": [
       "<IPython.core.display.HTML object>"
      ]
     },
     "metadata": {},
     "output_type": "display_data"
    },
    {
     "data": {
      "text/html": [
       "Find logs at: <code>.\\wandb\\run-20221101_074234-129t2vbn\\logs</code>"
      ],
      "text/plain": [
       "<IPython.core.display.HTML object>"
      ]
     },
     "metadata": {},
     "output_type": "display_data"
    },
    {
     "data": {
      "text/html": [
       "Successfully finished last run (ID:129t2vbn). Initializing new run:<br/>"
      ],
      "text/plain": [
       "<IPython.core.display.HTML object>"
      ]
     },
     "metadata": {},
     "output_type": "display_data"
    },
    {
     "data": {
      "application/vnd.jupyter.widget-view+json": {
       "model_id": "a4b7b79a8dda474a84019525b077b7af",
       "version_major": 2,
       "version_minor": 0
      },
      "text/plain": [
       "VBox(children=(Label(value='Waiting for wandb.init()...\\r'), FloatProgress(value=0.01691666666592937, max=1.0)…"
      ]
     },
     "metadata": {},
     "output_type": "display_data"
    },
    {
     "data": {
      "text/html": [
       "Tracking run with wandb version 0.13.4"
      ],
      "text/plain": [
       "<IPython.core.display.HTML object>"
      ]
     },
     "metadata": {},
     "output_type": "display_data"
    },
    {
     "data": {
      "text/html": [
       "Run data is saved locally in <code>c:\\Users\\user\\repos\\premium_dl_ct\\wandb\\run-20221101_074248-4uy8urf3</code>"
      ],
      "text/plain": [
       "<IPython.core.display.HTML object>"
      ]
     },
     "metadata": {},
     "output_type": "display_data"
    },
    {
     "data": {
      "text/html": [
       "Syncing run <strong><a href=\"https://wandb.ai/renstermaat/uncategorized/runs/4uy8urf3\" target=\"_blank\">grateful-silence-32</a></strong> to <a href=\"https://wandb.ai/renstermaat/uncategorized\" target=\"_blank\">Weights & Biases</a> (<a href=\"https://wandb.me/run\" target=\"_blank\">docs</a>)<br/>"
      ],
      "text/plain": [
       "<IPython.core.display.HTML object>"
      ]
     },
     "metadata": {},
     "output_type": "display_data"
    },
    {
     "name": "stderr",
     "output_type": "stream",
     "text": [
      "Global seed set to 0\n"
     ]
    },
    {
     "name": "stdout",
     "output_type": "stream",
     "text": [
      "2022-11-01 07:42:57,740 - Global seed set to 0\n"
     ]
    },
    {
     "name": "stderr",
     "output_type": "stream",
     "text": [
      "GPU available: True, used: True\n"
     ]
    },
    {
     "name": "stdout",
     "output_type": "stream",
     "text": [
      "2022-11-01 07:42:57,744 - GPU available: True, used: True\n"
     ]
    },
    {
     "name": "stderr",
     "output_type": "stream",
     "text": [
      "TPU available: None, using: 0 TPU cores\n"
     ]
    },
    {
     "name": "stdout",
     "output_type": "stream",
     "text": [
      "2022-11-01 07:42:57,745 - TPU available: None, using: 0 TPU cores\n"
     ]
    },
    {
     "name": "stderr",
     "output_type": "stream",
     "text": [
      "Loading dataset: 100%|██████████| 708/708 [00:00<?, ?it/s]\n",
      "Loading dataset: 100%|██████████| 237/237 [00:00<?, ?it/s]\n",
      "Loading dataset: 100%|██████████| 168/168 [00:00<?, ?it/s]"
     ]
    },
    {
     "name": "stdout",
     "output_type": "stream",
     "text": [
      "2022-11-01 07:42:57,887 - LOCAL_RANK: 0 - CUDA_VISIBLE_DEVICES: [0]\n"
     ]
    },
    {
     "name": "stderr",
     "output_type": "stream",
     "text": [
      "\n",
      "\n",
      "  | Name              | Type        | Params\n",
      "--------------------------------------------------\n",
      "0 | model             | DenseNet121 | 11.2 M\n",
      "1 | train_auc         | BinaryAUROC | 0     \n",
      "2 | val_auc           | BinaryAUROC | 0     \n",
      "3 | train_patient_auc | BinaryAUROC | 0     \n",
      "4 | val_patient_auc   | BinaryAUROC | 0     \n",
      "--------------------------------------------------\n",
      "11.2 M    Trainable params\n",
      "0         Non-trainable params\n",
      "11.2 M    Total params\n",
      "44.975    Total estimated model params size (MB)\n"
     ]
    },
    {
     "name": "stdout",
     "output_type": "stream",
     "text": [
      "2022-11-01 07:42:58,019 - \n",
      "  | Name              | Type        | Params\n",
      "--------------------------------------------------\n",
      "0 | model             | DenseNet121 | 11.2 M\n",
      "1 | train_auc         | BinaryAUROC | 0     \n",
      "2 | val_auc           | BinaryAUROC | 0     \n",
      "3 | train_patient_auc | BinaryAUROC | 0     \n",
      "4 | val_patient_auc   | BinaryAUROC | 0     \n",
      "--------------------------------------------------\n",
      "11.2 M    Trainable params\n",
      "0         Non-trainable params\n",
      "11.2 M    Total params\n",
      "44.975    Total estimated model params size (MB)\n",
      "                                                                      \r"
     ]
    }
   ],
   "source": [
    "import wandb\n",
    "from pytorch_lightning.loggers import WandbLogger\n",
    "from pytorch_lightning import Trainer, seed_everything\n",
    "from src.model import Model\n",
    "from src.data import DataModule\n",
    "from pytorch_lightning.callbacks import ModelCheckpoint, EarlyStopping\n",
    "\n",
    "wandb.init()\n",
    "\n",
    "wandb.config.aggregation_function = 'max'\n",
    "wandb.config.method = 'crop'\n",
    "wandb.config.dim = 3\n",
    "wandb.config.size = 128\n",
    "wandb.config.roi_size= 50\n",
    "wandb.config.test_center = 'amphia'\n",
    "wandb.config.lesion_target = 'lung'\n",
    "wandb.config.max_batch_size = 12\n",
    "wandb.config.seed = 0\n",
    "wandb.config.max_epochs = 100\n",
    "wandb.config.patience = 20\n",
    "wandb.config.lr = 5e-4,\n",
    "wandb.config.min_lr = 1e-6,\n",
    "wandb.config.t_max = 20,\n",
    "\n",
    "dm = DataModule(\n",
    "    r\"C:\\Users\\user\\data\\dl_radiomics\",\n",
    "    r\"C:\\Users\\user\\data\\tables\\lesion_followup_curated_v5.csv\",\n",
    "    wandb.config\n",
    ")\n",
    "\n",
    "model = Model(wandb.config)\n",
    "\n",
    "seed_everything(wandb.config.seed)\n",
    "\n",
    "logger = WandbLogger(\n",
    "    name=\"hello4\",\n",
    "    project=\"project_skeleton_on_lung_lesions\",\n",
    ")\n",
    "\n",
    "checkpoint_callback = ModelCheckpoint(\n",
    "    monitor='valid_patient_auc',\n",
    "    mode='max'\n",
    ")\n",
    "\n",
    "early_stopping = EarlyStopping(monitor='valid_patient_auc', patience=wandb.config.patience)\n",
    "\n",
    "trainer = Trainer(\n",
    "    max_epochs=wandb.config.max_epochs, gpus=1, deterministic=True, fast_dev_run=False, logger=logger,\n",
    "    checkpoint_callback=checkpoint_callback,\n",
    "    callbacks=[\n",
    "        early_stopping\n",
    "    ]\n",
    ")\n",
    "\n",
    "trainer.fit(model, dm)"
   ]
  },
  {
   "cell_type": "code",
   "execution_count": 5,
   "metadata": {},
   "outputs": [],
   "source": [
    "from pathlib import Path\n",
    "import os\n",
    "\n",
    "r = Path(r'D:\\premium_data\\maxima\\monotherapy\\split_segmentations')\n",
    "\n",
    "for file in r.iterdir():\n",
    "    os.rename(file, file.parent / file.name.replace('.seg.nrrd',''))"
   ]
  },
  {
   "cell_type": "code",
   "execution_count": null,
   "metadata": {},
   "outputs": [],
   "source": []
  }
 ],
 "metadata": {
  "kernelspec": {
   "display_name": "Python 3.9.1 ('conda-env')",
   "language": "python",
   "name": "python3"
  },
  "language_info": {
   "codemirror_mode": {
    "name": "ipython",
    "version": 3
   },
   "file_extension": ".py",
   "mimetype": "text/x-python",
   "name": "python",
   "nbconvert_exporter": "python",
   "pygments_lexer": "ipython3",
   "version": "3.9.1"
  },
  "orig_nbformat": 4,
  "vscode": {
   "interpreter": {
    "hash": "e155a5961ac9a2794d65e1939d0561747c6abc873218f9a8bb36a41ee161e8f8"
   }
  }
 },
 "nbformat": 4,
 "nbformat_minor": 2
}
