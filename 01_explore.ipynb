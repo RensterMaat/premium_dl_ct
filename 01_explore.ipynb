{
 "cells": [
  {
   "cell_type": "code",
   "execution_count": 1,
   "metadata": {},
   "outputs": [
    {
     "name": "stderr",
     "output_type": "stream",
     "text": [
      "Loading dataset: 100%|██████████| 41/41 [00:03<00:00, 10.51it/s]\n",
      "Loading dataset: 100%|██████████| 124/124 [00:12<00:00, 10.27it/s]\n",
      "Loading dataset: 100%|██████████| 56/56 [00:05<00:00, 10.46it/s]\n"
     ]
    }
   ],
   "source": [
    "from src.data import DataModule\n",
    "\n",
    "dm = DataModule(\n",
    "    r\"C:\\Users\\user\\data\\dl_radiomics\\preprocessed_3d\",\n",
    "    r\"C:\\Users\\user\\data\\tables\\lesion_followup_curated_v4.csv\",\n",
    "    \"lung\",\n",
    "    \"mst\",\n",
    ")\n",
    "dm.setup()"
   ]
  },
  {
   "cell_type": "code",
   "execution_count": 6,
   "metadata": {},
   "outputs": [],
   "source": [
    "dl = dm.val_dataloader()"
   ]
  },
  {
   "cell_type": "code",
   "execution_count": 7,
   "metadata": {},
   "outputs": [],
   "source": [
    "x = next(iter(dl))"
   ]
  },
  {
   "cell_type": "code",
   "execution_count": 8,
   "metadata": {},
   "outputs": [
    {
     "data": {
      "text/plain": [
       "['PREM_AM_065',\n",
       " 'PREM_AM_065',\n",
       " 'PREM_AM_065',\n",
       " 'PREM_AM_071',\n",
       " 'PREM_AM_071',\n",
       " 'PREM_AM_071',\n",
       " 'PREM_AM_071',\n",
       " 'PREM_AM_071',\n",
       " 'PREM_AM_072',\n",
       " 'PREM_AM_076',\n",
       " 'PREM_AM_083',\n",
       " 'PREM_AM_084',\n",
       " 'PREM_AM_084',\n",
       " 'PREM_AM_084',\n",
       " 'PREM_AM_084',\n",
       " 'PREM_AM_084']"
      ]
     },
     "execution_count": 8,
     "metadata": {},
     "output_type": "execute_result"
    }
   ],
   "source": [
    "x ['patient']"
   ]
  },
  {
   "cell_type": "code",
   "execution_count": 9,
   "metadata": {},
   "outputs": [
    {
     "name": "stdout",
     "output_type": "stream",
     "text": [
      "['PREM_AM_065', 'PREM_AM_065', 'PREM_AM_065', 'PREM_AM_071', 'PREM_AM_071', 'PREM_AM_071', 'PREM_AM_071', 'PREM_AM_071', 'PREM_AM_072', 'PREM_AM_076', 'PREM_AM_083', 'PREM_AM_084', 'PREM_AM_084', 'PREM_AM_084', 'PREM_AM_084', 'PREM_AM_084']\n",
      "['PREM_AM_089', 'PREM_AM_089', 'PREM_AM_090', 'PREM_AM_090', 'PREM_AM_090', 'PREM_AM_091', 'PREM_AM_091', 'PREM_AM_091', 'PREM_AM_093', 'PREM_AM_093', 'PREM_AM_093', 'PREM_AM_093']\n",
      "['PREM_AM_095', 'PREM_AM_095', 'PREM_AM_095', 'PREM_AM_095', 'PREM_AM_095', 'PREM_AM_101', 'PREM_AM_101', 'PREM_AM_112', 'PREM_AM_112', 'PREM_AM_112', 'PREM_AM_112', 'PREM_AM_112', 'PREM_AM_113', 'PREM_AM_113']\n",
      "['PREM_AM_115', 'PREM_AM_115', 'PREM_AM_115', 'PREM_AM_115', 'PREM_AM_115', 'PREM_AM_117', 'PREM_AM_117', 'PREM_AM_118', 'PREM_AM_118', 'PREM_AM_118', 'PREM_AM_118', 'PREM_AM_118', 'PREM_ZU_001', 'PREM_ZU_001', 'PREM_ZU_002']\n",
      "['PREM_ZU_004', 'PREM_ZU_004', 'PREM_ZU_004', 'PREM_ZU_004', 'PREM_ZU_004', 'PREM_ZU_008', 'PREM_ZU_008', 'PREM_ZU_008', 'PREM_ZU_008', 'PREM_ZU_008', 'PREM_ZU_012', 'PREM_ZU_012', 'PREM_ZU_012', 'PREM_ZU_012', 'PREM_ZU_012']\n",
      "['PREM_ZU_017', 'PREM_ZU_017', 'PREM_ZU_017', 'PREM_ZU_017', 'PREM_ZU_017', 'PREM_ZU_018', 'PREM_ZU_018', 'PREM_ZU_018', 'PREM_ZU_018', 'PREM_ZU_018', 'PREM_ZU_019', 'PREM_ZU_019', 'PREM_ZU_019', 'PREM_ZU_019']\n",
      "['PREM_ZU_020', 'PREM_ZU_020', 'PREM_ZU_020', 'PREM_ZU_020', 'PREM_ZU_020', 'PREM_ZU_021', 'PREM_ZU_021', 'PREM_ZU_021', 'PREM_ZU_021', 'PREM_ZU_021', 'PREM_ZU_024', 'PREM_ZU_025', 'PREM_ZU_025', 'PREM_ZU_025', 'PREM_ZU_025', 'PREM_ZU_025']\n",
      "['PREM_ZU_027', 'PREM_ZU_027', 'PREM_ZU_027', 'PREM_ZU_027', 'PREM_ZU_027', 'PREM_ZU_028', 'PREM_ZU_028', 'PREM_ZU_028', 'PREM_ZU_028', 'PREM_ZU_030', 'PREM_ZU_030', 'PREM_ZU_031', 'PREM_ZU_031', 'PREM_ZU_031', 'PREM_ZU_031', 'PREM_ZU_031']\n",
      "['PREM_ZU_036', 'PREM_ZU_036', 'PREM_ZU_039', 'PREM_ZU_040', 'PREM_ZU_040', 'PREM_ZU_040']\n"
     ]
    }
   ],
   "source": [
    "for x in iter(dl):\n",
    "    print(x['patient'])"
   ]
  },
  {
   "cell_type": "code",
   "execution_count": 73,
   "metadata": {},
   "outputs": [
    {
     "data": {
      "text/plain": [
       "['PREM_MS_011',\n",
       " 'PREM_MS_011',\n",
       " 'PREM_MS_011',\n",
       " 'PREM_MS_011',\n",
       " 'PREM_MS_011',\n",
       " 'PREM_MS_031',\n",
       " 'PREM_MS_031',\n",
       " 'PREM_MS_031',\n",
       " 'PREM_MS_031',\n",
       " 'PREM_MS_038',\n",
       " 'PREM_MS_038',\n",
       " 'PREM_MS_038',\n",
       " 'PREM_MS_038']"
      ]
     },
     "execution_count": 73,
     "metadata": {},
     "output_type": "execute_result"
    }
   ],
   "source": [
    "x['patient']"
   ]
  },
  {
   "cell_type": "code",
   "execution_count": null,
   "metadata": {},
   "outputs": [],
   "source": []
  }
 ],
 "metadata": {
  "kernelspec": {
   "display_name": "Python 3.9.1 ('conda-env')",
   "language": "python",
   "name": "python3"
  },
  "language_info": {
   "codemirror_mode": {
    "name": "ipython",
    "version": 3
   },
   "file_extension": ".py",
   "mimetype": "text/x-python",
   "name": "python",
   "nbconvert_exporter": "python",
   "pygments_lexer": "ipython3",
   "version": "3.9.1"
  },
  "orig_nbformat": 4,
  "vscode": {
   "interpreter": {
    "hash": "e155a5961ac9a2794d65e1939d0561747c6abc873218f9a8bb36a41ee161e8f8"
   }
  }
 },
 "nbformat": 4,
 "nbformat_minor": 2
}
